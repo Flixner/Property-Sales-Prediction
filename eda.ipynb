{
 "cells": [
  {
   "cell_type": "code",
   "execution_count": 95,
   "metadata": {},
   "outputs": [],
   "source": [
    "import pandas as pd\n",
    "import os\n",
    "import plotly.express as px\n",
    "import numpy as np\n",
    "import matplotlib.pyplot as plt\n",
    "import seaborn as sns\n",
    "from typing import Tuple, Optional\n",
    "from geopy.geocoders import Nominatim"
   ]
  },
  {
   "cell_type": "code",
   "execution_count": 10,
   "metadata": {},
   "outputs": [],
   "source": [
    "DATA_PATH = \"data\"\n",
    "FILE_NAME = \"armslengthsales_2024_valid.csv\""
   ]
  },
  {
   "cell_type": "code",
   "execution_count": 11,
   "metadata": {},
   "outputs": [],
   "source": [
    "file_path = os.path.join(DATA_PATH, FILE_NAME)"
   ]
  },
  {
   "cell_type": "code",
   "execution_count": 12,
   "metadata": {},
   "outputs": [
    {
     "data": {
      "text/plain": [
       "(1417, 20)"
      ]
     },
     "execution_count": 12,
     "metadata": {},
     "output_type": "execute_result"
    }
   ],
   "source": [
    "df = pd.read_csv(file_path)\n",
    "df.shape"
   ]
  },
  {
   "cell_type": "code",
   "execution_count": 13,
   "metadata": {},
   "outputs": [
    {
     "data": {
      "text/html": [
       "<div>\n",
       "<style scoped>\n",
       "    .dataframe tbody tr th:only-of-type {\n",
       "        vertical-align: middle;\n",
       "    }\n",
       "\n",
       "    .dataframe tbody tr th {\n",
       "        vertical-align: top;\n",
       "    }\n",
       "\n",
       "    .dataframe thead th {\n",
       "        text-align: right;\n",
       "    }\n",
       "</style>\n",
       "<table border=\"1\" class=\"dataframe\">\n",
       "  <thead>\n",
       "    <tr style=\"text-align: right;\">\n",
       "      <th></th>\n",
       "      <th>PropertyID</th>\n",
       "      <th>PropType</th>\n",
       "      <th>taxkey</th>\n",
       "      <th>Address</th>\n",
       "      <th>CondoProject</th>\n",
       "      <th>District</th>\n",
       "      <th>nbhd</th>\n",
       "      <th>Style</th>\n",
       "      <th>Extwall</th>\n",
       "      <th>Stories</th>\n",
       "      <th>Year_Built</th>\n",
       "      <th>Rooms</th>\n",
       "      <th>FinishedSqft</th>\n",
       "      <th>Units</th>\n",
       "      <th>Bdrms</th>\n",
       "      <th>Fbath</th>\n",
       "      <th>Hbath</th>\n",
       "      <th>Lotsize</th>\n",
       "      <th>Sale_date</th>\n",
       "      <th>Sale_price</th>\n",
       "    </tr>\n",
       "  </thead>\n",
       "  <tbody>\n",
       "    <tr>\n",
       "      <th>0</th>\n",
       "      <td>98423</td>\n",
       "      <td>Commercial</td>\n",
       "      <td>10021000</td>\n",
       "      <td>9300 N 124TH ST</td>\n",
       "      <td>NaN</td>\n",
       "      <td>9</td>\n",
       "      <td>6202</td>\n",
       "      <td>Warehouse Building - 1 Story</td>\n",
       "      <td>Metal Siding</td>\n",
       "      <td>1.0</td>\n",
       "      <td>2002.0</td>\n",
       "      <td>NaN</td>\n",
       "      <td>5834.0</td>\n",
       "      <td>1</td>\n",
       "      <td>NaN</td>\n",
       "      <td>0</td>\n",
       "      <td>0</td>\n",
       "      <td>392040</td>\n",
       "      <td>2024-01-24</td>\n",
       "      <td>500000.0</td>\n",
       "    </tr>\n",
       "    <tr>\n",
       "      <th>1</th>\n",
       "      <td>98576</td>\n",
       "      <td>Residential</td>\n",
       "      <td>50057000</td>\n",
       "      <td>9311 N 85TH ST</td>\n",
       "      <td>NaN</td>\n",
       "      <td>9</td>\n",
       "      <td>40</td>\n",
       "      <td>Split Level</td>\n",
       "      <td>Aluminum/Vinyl</td>\n",
       "      <td>1.0</td>\n",
       "      <td>1985.0</td>\n",
       "      <td>6.0</td>\n",
       "      <td>1668.0</td>\n",
       "      <td>1</td>\n",
       "      <td>3.0</td>\n",
       "      <td>1</td>\n",
       "      <td>1</td>\n",
       "      <td>12900</td>\n",
       "      <td>2024-03-08</td>\n",
       "      <td>250000.0</td>\n",
       "    </tr>\n",
       "    <tr>\n",
       "      <th>2</th>\n",
       "      <td>98722</td>\n",
       "      <td>Condominium</td>\n",
       "      <td>70043000</td>\n",
       "      <td>9232 N 70TH ST, Unit 7</td>\n",
       "      <td>NORTHRIDGE WOOD LAKE</td>\n",
       "      <td>9</td>\n",
       "      <td>5010</td>\n",
       "      <td>Condo Townhouse</td>\n",
       "      <td>NaN</td>\n",
       "      <td>2.0</td>\n",
       "      <td>1973.0</td>\n",
       "      <td>7.0</td>\n",
       "      <td>1437.0</td>\n",
       "      <td>1</td>\n",
       "      <td>4.0</td>\n",
       "      <td>2</td>\n",
       "      <td>1</td>\n",
       "      <td>0</td>\n",
       "      <td>2024-01-10</td>\n",
       "      <td>120000.0</td>\n",
       "    </tr>\n",
       "    <tr>\n",
       "      <th>3</th>\n",
       "      <td>98901</td>\n",
       "      <td>Condominium</td>\n",
       "      <td>310286000</td>\n",
       "      <td>9103 N 70TH ST</td>\n",
       "      <td>NORTHRIDGE EASTBAY</td>\n",
       "      <td>9</td>\n",
       "      <td>5020</td>\n",
       "      <td>Condo Townhouse</td>\n",
       "      <td>NaN</td>\n",
       "      <td>2.0</td>\n",
       "      <td>1973.0</td>\n",
       "      <td>5.0</td>\n",
       "      <td>1295.0</td>\n",
       "      <td>1</td>\n",
       "      <td>2.0</td>\n",
       "      <td>1</td>\n",
       "      <td>1</td>\n",
       "      <td>1</td>\n",
       "      <td>2024-02-09</td>\n",
       "      <td>124000.0</td>\n",
       "    </tr>\n",
       "    <tr>\n",
       "      <th>4</th>\n",
       "      <td>99216</td>\n",
       "      <td>Residential</td>\n",
       "      <td>330127000</td>\n",
       "      <td>9115 N 86TH ST</td>\n",
       "      <td>NaN</td>\n",
       "      <td>9</td>\n",
       "      <td>40</td>\n",
       "      <td>Ranch</td>\n",
       "      <td>Aluminum/Vinyl</td>\n",
       "      <td>1.0</td>\n",
       "      <td>1978.0</td>\n",
       "      <td>6.0</td>\n",
       "      <td>1467.0</td>\n",
       "      <td>1</td>\n",
       "      <td>3.0</td>\n",
       "      <td>1</td>\n",
       "      <td>1</td>\n",
       "      <td>7808</td>\n",
       "      <td>2024-05-17</td>\n",
       "      <td>305000.0</td>\n",
       "    </tr>\n",
       "  </tbody>\n",
       "</table>\n",
       "</div>"
      ],
      "text/plain": [
       "   PropertyID     PropType     taxkey                 Address  \\\n",
       "0       98423   Commercial   10021000         9300 N 124TH ST   \n",
       "1       98576  Residential   50057000          9311 N 85TH ST   \n",
       "2       98722  Condominium   70043000  9232 N 70TH ST, Unit 7   \n",
       "3       98901  Condominium  310286000          9103 N 70TH ST   \n",
       "4       99216  Residential  330127000          9115 N 86TH ST   \n",
       "\n",
       "           CondoProject  District  nbhd                         Style  \\\n",
       "0                   NaN         9  6202  Warehouse Building - 1 Story   \n",
       "1                   NaN         9    40                   Split Level   \n",
       "2  NORTHRIDGE WOOD LAKE         9  5010               Condo Townhouse   \n",
       "3    NORTHRIDGE EASTBAY         9  5020               Condo Townhouse   \n",
       "4                   NaN         9    40                         Ranch   \n",
       "\n",
       "          Extwall  Stories  Year_Built  Rooms  FinishedSqft  Units  Bdrms  \\\n",
       "0    Metal Siding      1.0      2002.0    NaN        5834.0      1    NaN   \n",
       "1  Aluminum/Vinyl      1.0      1985.0    6.0        1668.0      1    3.0   \n",
       "2             NaN      2.0      1973.0    7.0        1437.0      1    4.0   \n",
       "3             NaN      2.0      1973.0    5.0        1295.0      1    2.0   \n",
       "4  Aluminum/Vinyl      1.0      1978.0    6.0        1467.0      1    3.0   \n",
       "\n",
       "   Fbath  Hbath  Lotsize   Sale_date  Sale_price  \n",
       "0      0      0   392040  2024-01-24    500000.0  \n",
       "1      1      1    12900  2024-03-08    250000.0  \n",
       "2      2      1        0  2024-01-10    120000.0  \n",
       "3      1      1        1  2024-02-09    124000.0  \n",
       "4      1      1     7808  2024-05-17    305000.0  "
      ]
     },
     "execution_count": 13,
     "metadata": {},
     "output_type": "execute_result"
    }
   ],
   "source": [
    "df.head()"
   ]
  },
  {
   "cell_type": "code",
   "execution_count": 14,
   "metadata": {},
   "outputs": [
    {
     "data": {
      "text/plain": [
       "PropertyID         0\n",
       "PropType           0\n",
       "taxkey             0\n",
       "Address            0\n",
       "CondoProject    1247\n",
       "District           0\n",
       "nbhd               0\n",
       "Style              6\n",
       "Extwall          181\n",
       "Stories            5\n",
       "Year_Built         2\n",
       "Rooms             70\n",
       "FinishedSqft       6\n",
       "Units              0\n",
       "Bdrms             70\n",
       "Fbath              0\n",
       "Hbath              0\n",
       "Lotsize            0\n",
       "Sale_date          0\n",
       "Sale_price         0\n",
       "dtype: int64"
      ]
     },
     "execution_count": 14,
     "metadata": {},
     "output_type": "execute_result"
    }
   ],
   "source": [
    "df.isna().sum()"
   ]
  },
  {
   "cell_type": "code",
   "execution_count": 15,
   "metadata": {},
   "outputs": [
    {
     "data": {
      "text/html": [
       "<div>\n",
       "<style scoped>\n",
       "    .dataframe tbody tr th:only-of-type {\n",
       "        vertical-align: middle;\n",
       "    }\n",
       "\n",
       "    .dataframe tbody tr th {\n",
       "        vertical-align: top;\n",
       "    }\n",
       "\n",
       "    .dataframe thead th {\n",
       "        text-align: right;\n",
       "    }\n",
       "</style>\n",
       "<table border=\"1\" class=\"dataframe\">\n",
       "  <thead>\n",
       "    <tr style=\"text-align: right;\">\n",
       "      <th></th>\n",
       "      <th>PropertyID</th>\n",
       "      <th>taxkey</th>\n",
       "      <th>District</th>\n",
       "      <th>nbhd</th>\n",
       "      <th>Stories</th>\n",
       "      <th>Year_Built</th>\n",
       "      <th>Rooms</th>\n",
       "      <th>FinishedSqft</th>\n",
       "      <th>Units</th>\n",
       "      <th>Bdrms</th>\n",
       "      <th>Fbath</th>\n",
       "      <th>Hbath</th>\n",
       "      <th>Lotsize</th>\n",
       "      <th>Sale_price</th>\n",
       "    </tr>\n",
       "  </thead>\n",
       "  <tbody>\n",
       "    <tr>\n",
       "      <th>count</th>\n",
       "      <td>1417.000000</td>\n",
       "      <td>1.417000e+03</td>\n",
       "      <td>1417.000000</td>\n",
       "      <td>1417.000000</td>\n",
       "      <td>1412.000000</td>\n",
       "      <td>1415.000000</td>\n",
       "      <td>1347.000000</td>\n",
       "      <td>1411.000000</td>\n",
       "      <td>1417.000000</td>\n",
       "      <td>1347.000000</td>\n",
       "      <td>1417.000000</td>\n",
       "      <td>1417.000000</td>\n",
       "      <td>1417.000000</td>\n",
       "      <td>1.417000e+03</td>\n",
       "    </tr>\n",
       "    <tr>\n",
       "      <th>mean</th>\n",
       "      <td>173718.090332</td>\n",
       "      <td>3.315496e+09</td>\n",
       "      <td>7.630205</td>\n",
       "      <td>3178.191955</td>\n",
       "      <td>1.401912</td>\n",
       "      <td>1932.996466</td>\n",
       "      <td>7.074239</td>\n",
       "      <td>1831.130404</td>\n",
       "      <td>1.541284</td>\n",
       "      <td>3.512992</td>\n",
       "      <td>1.506704</td>\n",
       "      <td>0.275229</td>\n",
       "      <td>5889.395201</td>\n",
       "      <td>2.381025e+05</td>\n",
       "    </tr>\n",
       "    <tr>\n",
       "      <th>std</th>\n",
       "      <td>46115.051525</td>\n",
       "      <td>1.409884e+09</td>\n",
       "      <td>4.218957</td>\n",
       "      <td>1941.702803</td>\n",
       "      <td>0.458145</td>\n",
       "      <td>118.574916</td>\n",
       "      <td>3.358538</td>\n",
       "      <td>2315.073353</td>\n",
       "      <td>3.435014</td>\n",
       "      <td>1.638713</td>\n",
       "      <td>0.718100</td>\n",
       "      <td>0.494790</td>\n",
       "      <td>12085.632671</td>\n",
       "      <td>2.567695e+05</td>\n",
       "    </tr>\n",
       "    <tr>\n",
       "      <th>min</th>\n",
       "      <td>98423.000000</td>\n",
       "      <td>1.002100e+07</td>\n",
       "      <td>1.000000</td>\n",
       "      <td>40.000000</td>\n",
       "      <td>0.000000</td>\n",
       "      <td>0.000000</td>\n",
       "      <td>0.000000</td>\n",
       "      <td>460.000000</td>\n",
       "      <td>0.000000</td>\n",
       "      <td>0.000000</td>\n",
       "      <td>0.000000</td>\n",
       "      <td>0.000000</td>\n",
       "      <td>0.000000</td>\n",
       "      <td>1.000000e+04</td>\n",
       "    </tr>\n",
       "    <tr>\n",
       "      <th>25%</th>\n",
       "      <td>134568.000000</td>\n",
       "      <td>2.299786e+09</td>\n",
       "      <td>5.000000</td>\n",
       "      <td>1680.000000</td>\n",
       "      <td>1.000000</td>\n",
       "      <td>1920.000000</td>\n",
       "      <td>5.000000</td>\n",
       "      <td>1080.000000</td>\n",
       "      <td>1.000000</td>\n",
       "      <td>3.000000</td>\n",
       "      <td>1.000000</td>\n",
       "      <td>0.000000</td>\n",
       "      <td>3750.000000</td>\n",
       "      <td>1.370000e+05</td>\n",
       "    </tr>\n",
       "    <tr>\n",
       "      <th>50%</th>\n",
       "      <td>167808.000000</td>\n",
       "      <td>3.080497e+09</td>\n",
       "      <td>7.000000</td>\n",
       "      <td>2860.000000</td>\n",
       "      <td>1.500000</td>\n",
       "      <td>1945.000000</td>\n",
       "      <td>6.000000</td>\n",
       "      <td>1404.000000</td>\n",
       "      <td>1.000000</td>\n",
       "      <td>3.000000</td>\n",
       "      <td>1.000000</td>\n",
       "      <td>0.000000</td>\n",
       "      <td>5000.000000</td>\n",
       "      <td>2.030000e+05</td>\n",
       "    </tr>\n",
       "    <tr>\n",
       "      <th>75%</th>\n",
       "      <td>209985.000000</td>\n",
       "      <td>4.320247e+09</td>\n",
       "      <td>11.000000</td>\n",
       "      <td>4520.000000</td>\n",
       "      <td>2.000000</td>\n",
       "      <td>1957.000000</td>\n",
       "      <td>9.000000</td>\n",
       "      <td>1997.000000</td>\n",
       "      <td>2.000000</td>\n",
       "      <td>4.000000</td>\n",
       "      <td>2.000000</td>\n",
       "      <td>1.000000</td>\n",
       "      <td>6450.000000</td>\n",
       "      <td>2.670000e+05</td>\n",
       "    </tr>\n",
       "    <tr>\n",
       "      <th>max</th>\n",
       "      <td>266284.000000</td>\n",
       "      <td>6.909944e+09</td>\n",
       "      <td>15.000000</td>\n",
       "      <td>32906.000000</td>\n",
       "      <td>4.000000</td>\n",
       "      <td>2023.000000</td>\n",
       "      <td>32.000000</td>\n",
       "      <td>47244.000000</td>\n",
       "      <td>109.000000</td>\n",
       "      <td>17.000000</td>\n",
       "      <td>5.000000</td>\n",
       "      <td>3.000000</td>\n",
       "      <td>392040.000000</td>\n",
       "      <td>5.650000e+06</td>\n",
       "    </tr>\n",
       "  </tbody>\n",
       "</table>\n",
       "</div>"
      ],
      "text/plain": [
       "          PropertyID        taxkey     District          nbhd      Stories  \\\n",
       "count    1417.000000  1.417000e+03  1417.000000   1417.000000  1412.000000   \n",
       "mean   173718.090332  3.315496e+09     7.630205   3178.191955     1.401912   \n",
       "std     46115.051525  1.409884e+09     4.218957   1941.702803     0.458145   \n",
       "min     98423.000000  1.002100e+07     1.000000     40.000000     0.000000   \n",
       "25%    134568.000000  2.299786e+09     5.000000   1680.000000     1.000000   \n",
       "50%    167808.000000  3.080497e+09     7.000000   2860.000000     1.500000   \n",
       "75%    209985.000000  4.320247e+09    11.000000   4520.000000     2.000000   \n",
       "max    266284.000000  6.909944e+09    15.000000  32906.000000     4.000000   \n",
       "\n",
       "        Year_Built        Rooms  FinishedSqft        Units        Bdrms  \\\n",
       "count  1415.000000  1347.000000   1411.000000  1417.000000  1347.000000   \n",
       "mean   1932.996466     7.074239   1831.130404     1.541284     3.512992   \n",
       "std     118.574916     3.358538   2315.073353     3.435014     1.638713   \n",
       "min       0.000000     0.000000    460.000000     0.000000     0.000000   \n",
       "25%    1920.000000     5.000000   1080.000000     1.000000     3.000000   \n",
       "50%    1945.000000     6.000000   1404.000000     1.000000     3.000000   \n",
       "75%    1957.000000     9.000000   1997.000000     2.000000     4.000000   \n",
       "max    2023.000000    32.000000  47244.000000   109.000000    17.000000   \n",
       "\n",
       "             Fbath        Hbath        Lotsize    Sale_price  \n",
       "count  1417.000000  1417.000000    1417.000000  1.417000e+03  \n",
       "mean      1.506704     0.275229    5889.395201  2.381025e+05  \n",
       "std       0.718100     0.494790   12085.632671  2.567695e+05  \n",
       "min       0.000000     0.000000       0.000000  1.000000e+04  \n",
       "25%       1.000000     0.000000    3750.000000  1.370000e+05  \n",
       "50%       1.000000     0.000000    5000.000000  2.030000e+05  \n",
       "75%       2.000000     1.000000    6450.000000  2.670000e+05  \n",
       "max       5.000000     3.000000  392040.000000  5.650000e+06  "
      ]
     },
     "execution_count": 15,
     "metadata": {},
     "output_type": "execute_result"
    }
   ],
   "source": [
    "df.describe()"
   ]
  },
  {
   "cell_type": "code",
   "execution_count": 16,
   "metadata": {},
   "outputs": [
    {
     "name": "stdout",
     "output_type": "stream",
     "text": [
      "<class 'pandas.core.frame.DataFrame'>\n",
      "RangeIndex: 1417 entries, 0 to 1416\n",
      "Data columns (total 20 columns):\n",
      " #   Column        Non-Null Count  Dtype  \n",
      "---  ------        --------------  -----  \n",
      " 0   PropertyID    1417 non-null   int64  \n",
      " 1   PropType      1417 non-null   object \n",
      " 2   taxkey        1417 non-null   int64  \n",
      " 3   Address       1417 non-null   object \n",
      " 4   CondoProject  170 non-null    object \n",
      " 5   District      1417 non-null   int64  \n",
      " 6   nbhd          1417 non-null   int64  \n",
      " 7   Style         1411 non-null   object \n",
      " 8   Extwall       1236 non-null   object \n",
      " 9   Stories       1412 non-null   float64\n",
      " 10  Year_Built    1415 non-null   float64\n",
      " 11  Rooms         1347 non-null   float64\n",
      " 12  FinishedSqft  1411 non-null   float64\n",
      " 13  Units         1417 non-null   int64  \n",
      " 14  Bdrms         1347 non-null   float64\n",
      " 15  Fbath         1417 non-null   int64  \n",
      " 16  Hbath         1417 non-null   int64  \n",
      " 17  Lotsize       1417 non-null   int64  \n",
      " 18  Sale_date     1417 non-null   object \n",
      " 19  Sale_price    1417 non-null   float64\n",
      "dtypes: float64(6), int64(8), object(6)\n",
      "memory usage: 221.5+ KB\n"
     ]
    }
   ],
   "source": [
    "df.info()"
   ]
  },
  {
   "cell_type": "code",
   "execution_count": 17,
   "metadata": {},
   "outputs": [
    {
     "data": {
      "text/plain": [
       "PropertyID      1409\n",
       "PropType           5\n",
       "taxkey          1409\n",
       "Address         1409\n",
       "CondoProject      84\n",
       "District          15\n",
       "nbhd             264\n",
       "Style             53\n",
       "Extwall           15\n",
       "Stories            7\n",
       "Year_Built       132\n",
       "Rooms             23\n",
       "FinishedSqft     962\n",
       "Units             16\n",
       "Bdrms             17\n",
       "Fbath              6\n",
       "Hbath              4\n",
       "Lotsize          514\n",
       "Sale_date        130\n",
       "Sale_price       530\n",
       "dtype: int64"
      ]
     },
     "execution_count": 17,
     "metadata": {},
     "output_type": "execute_result"
    }
   ],
   "source": [
    "df.nunique()"
   ]
  },
  {
   "cell_type": "code",
   "execution_count": 34,
   "metadata": {},
   "outputs": [
    {
     "data": {
      "text/plain": [
       "PropertyID      0.99\n",
       "PropType        0.00\n",
       "taxkey          0.99\n",
       "Address         0.99\n",
       "CondoProject    0.06\n",
       "District        0.01\n",
       "nbhd            0.19\n",
       "Style           0.04\n",
       "Extwall         0.01\n",
       "Stories         0.00\n",
       "Year_Built      0.09\n",
       "Rooms           0.02\n",
       "FinishedSqft    0.68\n",
       "Units           0.01\n",
       "Bdrms           0.01\n",
       "Fbath           0.00\n",
       "Hbath           0.00\n",
       "Lotsize         0.36\n",
       "Sale_date       0.09\n",
       "Sale_price      0.37\n",
       "dtype: float64"
      ]
     },
     "execution_count": 34,
     "metadata": {},
     "output_type": "execute_result"
    }
   ],
   "source": [
    "round(df.nunique() / len(df), 2)"
   ]
  },
  {
   "cell_type": "code",
   "execution_count": 33,
   "metadata": {},
   "outputs": [
    {
     "data": {
      "text/plain": [
       "<Axes: >"
      ]
     },
     "execution_count": 33,
     "metadata": {},
     "output_type": "execute_result"
    },
    {
     "data": {
      "image/png": "[encoded data removed]",
      "text/plain": [
       "<Figure size 640x480 with 2 Axes>"
      ]
     },
     "metadata": {},
     "output_type": "display_data"
    }
   ],
   "source": [
    "df_corr = df.select_dtypes(include=np.number).corr().round(1)\n",
    "sns.heatmap(\n",
    "    data=df_corr,\n",
    "    cmap=sns.diverging_palette(220, 10, as_cmap=True),\n",
    "    xticklabels=df_corr.columns.values,\n",
    "    yticklabels=df_corr.columns.values,\n",
    "    vmin=-1,\n",
    "    vmax=1,\n",
    "    square=True,\n",
    ")"
   ]
  },
  {
   "cell_type": "code",
   "execution_count": 77,
   "metadata": {},
   "outputs": [
    {
     "name": "stdout",
     "output_type": "stream",
     "text": [
      "PropertyID: seems like a non categorigal column. Unique values ratio 1409/1417 = 99.44%\n",
      "\n",
      "-----------\n",
      "\n",
      "PropType: has the following unique values (5/5):\n",
      "['Residential' 'Exempt' 'Condominium' 'Commercial' 'Lg Apartment']\n",
      "\n",
      "-----------\n",
      "\n",
      "taxkey: seems like a non categorigal column. Unique values ratio 1409/1417 = 99.44%\n",
      "\n",
      "-----------\n",
      "\n",
      "Address: seems like a non categorigal column. Unique values ratio 1409/1417 = 99.44%\n",
      "\n",
      "-----------\n",
      "\n",
      "CondoProject: has the following unique values (10/84):\n",
      "['KILBOURN ROW' 'WOODSTOCK CONDOMINIUM' 'SHOEWORKS LOFTS' 'NEWPORT WEST'\n",
      " 'BREWERY LOFTS' 'MCCORMICK ON FARWELL' 'FENWICK CONDOMINIUM'\n",
      " 'KNICKERBOCKER ON THE LAKE' 'LAFAYETTE HILL' 'LANDMARK ON THE LAKE']\n",
      "\n",
      "-----------\n",
      "\n",
      "District: has the following unique values (10/15):\n",
      "[ 1  2  4  5  6  7  8  9 10 12]\n",
      "\n",
      "-----------\n",
      "\n",
      "nbhd: has the following unique values (10/264):\n",
      "[ 960  980 2520 2720 2870 4780 5065 5936 6242 6650]\n",
      "\n",
      "-----------\n",
      "\n",
      "Style: has the following unique values (10/53):\n",
      "['Auto Repair' 'Office Building - 1 Story' 'School' 'Cottage'\n",
      " 'Contemporary' 'Ranch' 'Warehouse Building - 1 Story'\n",
      " 'Subsidized/Affordable Housing' 'Milwaukee Bungalow'\n",
      " 'Low Rise 1-3 Stories']\n",
      "\n",
      "-----------\n",
      "\n",
      "Extwall: has the following unique values (10/15):\n",
      "['Masonary Frame' 'Stone' 'Asphalt/Other' 'Stucco' 'Other' 'Block'\n",
      " 'Prem Wood' 'Alum/Vynyl Siding' 'Brick' 'Metal Siding']\n",
      "\n",
      "-----------\n",
      "\n",
      "Stories: has the following unique values (7/7):\n",
      "[0.  1.  1.5 2.  2.5 3.  4. ]\n",
      "\n",
      "-----------\n",
      "\n",
      "Year_Built: has the following unique values (10/132):\n",
      "[1878. 1893. 1896. 1899. 1913. 1940. 1948. 1990. 2010. 2023.]\n",
      "\n",
      "-----------\n",
      "\n",
      "Rooms: has the following unique values (10/23):\n",
      "[ 2.  4.  5.  6.  9. 14. 17. 18. 26. 32.]\n",
      "\n",
      "-----------\n",
      "\n",
      "FinishedSqft: has the following unique values (10/962):\n",
      "[ 666.  952. 1173. 1248. 1897. 2128. 2215. 2434. 2544. 2902.]\n",
      "\n",
      "-----------\n",
      "\n",
      "Units: has the following unique values (10/16):\n",
      "[ 2  3  4  5  6  7 10 16 20 25]\n",
      "\n",
      "-----------\n",
      "\n",
      "Bdrms: has the following unique values (10/17):\n",
      "[ 0.  1.  5.  6.  8. 10. 11. 12. 13. 16.]\n",
      "\n",
      "-----------\n",
      "\n",
      "Fbath: has the following unique values (6/6):\n",
      "[0 1 2 3 4 5]\n",
      "\n",
      "-----------\n",
      "\n",
      "Hbath: has the following unique values (4/4):\n",
      "[0 1 2 3]\n",
      "\n",
      "-----------\n",
      "\n",
      "Lotsize: has the following unique values (10/514):\n",
      "[ 2100  3660  4290  4880  5187  5280  7980 10004 14300 16256]\n",
      "\n",
      "-----------\n",
      "\n",
      "Sale_date: has the following unique values (10/130):\n",
      "['2024-04-03' '2024-04-24' '2024-01-15' '2024-05-08' '2024-03-01'\n",
      " '2024-05-02' '2024-01-24' '2024-06-14' '2024-01-31' '2024-05-30']\n",
      "\n",
      "-----------\n",
      "\n",
      "Sale_price: has the following unique values (10/530):\n",
      "[ 18000. 102200. 131000. 136000. 172000. 215000. 219900. 252000. 426000.\n",
      " 520000.]\n",
      "\n",
      "-----------\n",
      "\n"
     ]
    }
   ],
   "source": [
    "MAX_SHOWED_DATAPOINTS = 10\n",
    "UNIQUE_RATIO_THRESHOLD = 0.95\n",
    "\n",
    "for column in df.columns:\n",
    "    col_series = df[column].dropna()\n",
    "\n",
    "    unique_values = col_series.unique()\n",
    "\n",
    "    if (\n",
    "        unique_values_ratio := len(unique_values) / len(col_series)\n",
    "    ) > UNIQUE_RATIO_THRESHOLD:\n",
    "        print(\n",
    "            f\"{column}: seems like a non categorigal column. Unique values ratio {len(unique_values)}/{len(col_series)} = {unique_values_ratio*100 :.2f}%\"\n",
    "        )\n",
    "    else:\n",
    "        no_showed_points = min(MAX_SHOWED_DATAPOINTS, len(unique_values))\n",
    "        selected_values = np.random.choice(\n",
    "            unique_values, no_showed_points, replace=False\n",
    "        )\n",
    "\n",
    "        if np.issubdtype(selected_values.dtype, np.number):\n",
    "            selected_values = np.sort(selected_values)\n",
    "\n",
    "        print(\n",
    "            f\"{column}: has the following unique values ({no_showed_points}/{len(unique_values)}):\"\n",
    "        )\n",
    "        print(selected_values)\n",
    "\n",
    "    print(\"\\n-----------\\n\")"
   ]
  },
  {
   "cell_type": "code",
   "execution_count": 78,
   "metadata": {},
   "outputs": [],
   "source": [
    "def basis_statistical_values(data: pd.DataFrame, key: str) -> None:\n",
    "    print(\"NA values:\", df[key].isna().sum())\n",
    "    print(f'Unique percentage: {len(df[\"taxkey\"].unique())/len(df)  :.2f}')\n",
    "    print(f\"Unique absolute: {len(df[key].unique())}\")\n",
    "\n",
    "\n",
    "def groupby_threshold(\n",
    "    df: pd.DataFrame, label_name: str, threshold: int\n",
    ") -> pd.DataFrame:\n",
    "    label_counts = df[label_name].value_counts()\n",
    "    df[label_name] = df[label_name].apply(\n",
    "        lambda val: \"RARE\" if val and label_counts[val] < threshold else val\n",
    "    )\n",
    "    return df.groupby(label_name)"
   ]
  },
  {
   "cell_type": "markdown",
   "metadata": {},
   "source": [
    "## Property ID\n",
    "\n",
    "Die PropertyID identifiziert ein Objekt eindeutig. Eine genauere Analyse der PropertyID zeigt, dass sich die PropertyID nicht als eindeutiger Identifyer für jeden verkaufen Eintrag. Anhand dessen liese sich die Wertentwicklung über die Zeit messen. Die erste explorative Analyse zeigt, dass jedes der verkaufen Objekte eine eindeutige ID besitzt. Einige wurden im Jahr 2024 mehrfach verkauft."
   ]
  },
  {
   "cell_type": "code",
   "execution_count": 83,
   "metadata": {},
   "outputs": [
    {
     "name": "stdout",
     "output_type": "stream",
     "text": [
      "NA values: 0\n",
      "Unique percentage: 0.99\n",
      "Unique absolute: 1409\n"
     ]
    }
   ],
   "source": [
    "basis_statistical_values(df, \"PropertyID\")"
   ]
  },
  {
   "cell_type": "code",
   "execution_count": 84,
   "metadata": {},
   "outputs": [
    {
     "data": {
      "text/html": [
       "<div>\n",
       "<style scoped>\n",
       "    .dataframe tbody tr th:only-of-type {\n",
       "        vertical-align: middle;\n",
       "    }\n",
       "\n",
       "    .dataframe tbody tr th {\n",
       "        vertical-align: top;\n",
       "    }\n",
       "\n",
       "    .dataframe thead th {\n",
       "        text-align: right;\n",
       "    }\n",
       "</style>\n",
       "<table border=\"1\" class=\"dataframe\">\n",
       "  <thead>\n",
       "    <tr style=\"text-align: right;\">\n",
       "      <th></th>\n",
       "      <th>PropertyID</th>\n",
       "      <th>PropType</th>\n",
       "      <th>taxkey</th>\n",
       "      <th>Address</th>\n",
       "      <th>CondoProject</th>\n",
       "      <th>District</th>\n",
       "      <th>nbhd</th>\n",
       "      <th>Style</th>\n",
       "      <th>Extwall</th>\n",
       "      <th>Stories</th>\n",
       "      <th>Year_Built</th>\n",
       "      <th>Rooms</th>\n",
       "      <th>FinishedSqft</th>\n",
       "      <th>Units</th>\n",
       "      <th>Bdrms</th>\n",
       "      <th>Fbath</th>\n",
       "      <th>Hbath</th>\n",
       "      <th>Lotsize</th>\n",
       "      <th>Sale_date</th>\n",
       "      <th>Sale_price</th>\n",
       "    </tr>\n",
       "  </thead>\n",
       "  <tbody>\n",
       "    <tr>\n",
       "      <th>325</th>\n",
       "      <td>132147</td>\n",
       "      <td>Residential</td>\n",
       "      <td>2260902000</td>\n",
       "      <td>4414 N 65TH ST</td>\n",
       "      <td>NaN</td>\n",
       "      <td>2</td>\n",
       "      <td>1490</td>\n",
       "      <td>Ranch</td>\n",
       "      <td>Aluminum/Vinyl</td>\n",
       "      <td>1.0</td>\n",
       "      <td>1952.0</td>\n",
       "      <td>4.0</td>\n",
       "      <td>761.0</td>\n",
       "      <td>1</td>\n",
       "      <td>2.0</td>\n",
       "      <td>1</td>\n",
       "      <td>0</td>\n",
       "      <td>5460</td>\n",
       "      <td>2024-05-31</td>\n",
       "      <td>225000.0</td>\n",
       "    </tr>\n",
       "    <tr>\n",
       "      <th>395</th>\n",
       "      <td>138523</td>\n",
       "      <td>Residential</td>\n",
       "      <td>2470819000</td>\n",
       "      <td>4219 N 38TH ST</td>\n",
       "      <td>NaN</td>\n",
       "      <td>7</td>\n",
       "      <td>1680</td>\n",
       "      <td>Cape Cod</td>\n",
       "      <td>Wood</td>\n",
       "      <td>1.5</td>\n",
       "      <td>1950.0</td>\n",
       "      <td>10.0</td>\n",
       "      <td>1336.0</td>\n",
       "      <td>1</td>\n",
       "      <td>6.0</td>\n",
       "      <td>2</td>\n",
       "      <td>1</td>\n",
       "      <td>10777</td>\n",
       "      <td>2024-05-14</td>\n",
       "      <td>225000.0</td>\n",
       "    </tr>\n",
       "    <tr>\n",
       "      <th>398</th>\n",
       "      <td>138724</td>\n",
       "      <td>Residential</td>\n",
       "      <td>2471451000</td>\n",
       "      <td>4326 N 37TH ST</td>\n",
       "      <td>NaN</td>\n",
       "      <td>7</td>\n",
       "      <td>1680</td>\n",
       "      <td>Res O/S 2sty +</td>\n",
       "      <td>Aluminum/Vinyl</td>\n",
       "      <td>2.0</td>\n",
       "      <td>1923.0</td>\n",
       "      <td>7.0</td>\n",
       "      <td>1799.0</td>\n",
       "      <td>1</td>\n",
       "      <td>3.0</td>\n",
       "      <td>1</td>\n",
       "      <td>1</td>\n",
       "      <td>16256</td>\n",
       "      <td>2024-03-20</td>\n",
       "      <td>170000.0</td>\n",
       "    </tr>\n",
       "    <tr>\n",
       "      <th>401</th>\n",
       "      <td>138835</td>\n",
       "      <td>Residential</td>\n",
       "      <td>2479892000</td>\n",
       "      <td>4306 N 41ST ST</td>\n",
       "      <td>NaN</td>\n",
       "      <td>7</td>\n",
       "      <td>1680</td>\n",
       "      <td>Cape Cod</td>\n",
       "      <td>Aluminum/Vinyl</td>\n",
       "      <td>1.5</td>\n",
       "      <td>1945.0</td>\n",
       "      <td>6.0</td>\n",
       "      <td>1562.0</td>\n",
       "      <td>1</td>\n",
       "      <td>2.0</td>\n",
       "      <td>1</td>\n",
       "      <td>1</td>\n",
       "      <td>5120</td>\n",
       "      <td>2024-05-08</td>\n",
       "      <td>198000.0</td>\n",
       "    </tr>\n",
       "    <tr>\n",
       "      <th>480</th>\n",
       "      <td>144999</td>\n",
       "      <td>Residential</td>\n",
       "      <td>2640903000</td>\n",
       "      <td>3776 N 73RD ST</td>\n",
       "      <td>NaN</td>\n",
       "      <td>10</td>\n",
       "      <td>1940</td>\n",
       "      <td>Cape Cod</td>\n",
       "      <td>Aluminum/Vinyl</td>\n",
       "      <td>1.0</td>\n",
       "      <td>1952.0</td>\n",
       "      <td>6.0</td>\n",
       "      <td>1554.0</td>\n",
       "      <td>1</td>\n",
       "      <td>3.0</td>\n",
       "      <td>2</td>\n",
       "      <td>0</td>\n",
       "      <td>5610</td>\n",
       "      <td>2024-05-29</td>\n",
       "      <td>185000.0</td>\n",
       "    </tr>\n",
       "    <tr>\n",
       "      <th>692</th>\n",
       "      <td>166393</td>\n",
       "      <td>Residential</td>\n",
       "      <td>3061625000</td>\n",
       "      <td>5958 W APPLETON AV</td>\n",
       "      <td>NaN</td>\n",
       "      <td>10</td>\n",
       "      <td>1860</td>\n",
       "      <td>Res O/S 1 Story</td>\n",
       "      <td>Stucco</td>\n",
       "      <td>1.0</td>\n",
       "      <td>1920.0</td>\n",
       "      <td>5.0</td>\n",
       "      <td>908.0</td>\n",
       "      <td>1</td>\n",
       "      <td>2.0</td>\n",
       "      <td>1</td>\n",
       "      <td>0</td>\n",
       "      <td>4200</td>\n",
       "      <td>2024-06-14</td>\n",
       "      <td>119630.0</td>\n",
       "    </tr>\n",
       "    <tr>\n",
       "      <th>1230</th>\n",
       "      <td>233967</td>\n",
       "      <td>Residential</td>\n",
       "      <td>5250303113</td>\n",
       "      <td>3133 S 97TH ST</td>\n",
       "      <td>NaN</td>\n",
       "      <td>11</td>\n",
       "      <td>4350</td>\n",
       "      <td>Ranch</td>\n",
       "      <td>Aluminum/Vinyl</td>\n",
       "      <td>1.0</td>\n",
       "      <td>1959.0</td>\n",
       "      <td>5.0</td>\n",
       "      <td>1177.0</td>\n",
       "      <td>1</td>\n",
       "      <td>3.0</td>\n",
       "      <td>1</td>\n",
       "      <td>1</td>\n",
       "      <td>4800</td>\n",
       "      <td>2024-05-29</td>\n",
       "      <td>320000.0</td>\n",
       "    </tr>\n",
       "    <tr>\n",
       "      <th>1297</th>\n",
       "      <td>243582</td>\n",
       "      <td>Residential</td>\n",
       "      <td>5460384000</td>\n",
       "      <td>3717 S ALABAMA AV</td>\n",
       "      <td>NaN</td>\n",
       "      <td>14</td>\n",
       "      <td>4620</td>\n",
       "      <td>Cape Cod</td>\n",
       "      <td>Block</td>\n",
       "      <td>1.5</td>\n",
       "      <td>1952.0</td>\n",
       "      <td>7.0</td>\n",
       "      <td>1744.0</td>\n",
       "      <td>1</td>\n",
       "      <td>4.0</td>\n",
       "      <td>2</td>\n",
       "      <td>0</td>\n",
       "      <td>7200</td>\n",
       "      <td>2024-03-05</td>\n",
       "      <td>400000.0</td>\n",
       "    </tr>\n",
       "  </tbody>\n",
       "</table>\n",
       "</div>"
      ],
      "text/plain": [
       "      PropertyID     PropType      taxkey             Address CondoProject  \\\n",
       "325       132147  Residential  2260902000      4414 N 65TH ST          NaN   \n",
       "395       138523  Residential  2470819000      4219 N 38TH ST          NaN   \n",
       "398       138724  Residential  2471451000      4326 N 37TH ST          NaN   \n",
       "401       138835  Residential  2479892000      4306 N 41ST ST          NaN   \n",
       "480       144999  Residential  2640903000      3776 N 73RD ST          NaN   \n",
       "692       166393  Residential  3061625000  5958 W APPLETON AV          NaN   \n",
       "1230      233967  Residential  5250303113      3133 S 97TH ST          NaN   \n",
       "1297      243582  Residential  5460384000   3717 S ALABAMA AV          NaN   \n",
       "\n",
       "      District  nbhd            Style         Extwall  Stories  Year_Built  \\\n",
       "325          2  1490            Ranch  Aluminum/Vinyl      1.0      1952.0   \n",
       "395          7  1680         Cape Cod            Wood      1.5      1950.0   \n",
       "398          7  1680   Res O/S 2sty +  Aluminum/Vinyl      2.0      1923.0   \n",
       "401          7  1680         Cape Cod  Aluminum/Vinyl      1.5      1945.0   \n",
       "480         10  1940         Cape Cod  Aluminum/Vinyl      1.0      1952.0   \n",
       "692         10  1860  Res O/S 1 Story          Stucco      1.0      1920.0   \n",
       "1230        11  4350            Ranch  Aluminum/Vinyl      1.0      1959.0   \n",
       "1297        14  4620         Cape Cod           Block      1.5      1952.0   \n",
       "\n",
       "      Rooms  FinishedSqft  Units  Bdrms  Fbath  Hbath  Lotsize   Sale_date  \\\n",
       "325     4.0         761.0      1    2.0      1      0     5460  2024-05-31   \n",
       "395    10.0        1336.0      1    6.0      2      1    10777  2024-05-14   \n",
       "398     7.0        1799.0      1    3.0      1      1    16256  2024-03-20   \n",
       "401     6.0        1562.0      1    2.0      1      1     5120  2024-05-08   \n",
       "480     6.0        1554.0      1    3.0      2      0     5610  2024-05-29   \n",
       "692     5.0         908.0      1    2.0      1      0     4200  2024-06-14   \n",
       "1230    5.0        1177.0      1    3.0      1      1     4800  2024-05-29   \n",
       "1297    7.0        1744.0      1    4.0      2      0     7200  2024-03-05   \n",
       "\n",
       "      Sale_price  \n",
       "325     225000.0  \n",
       "395     225000.0  \n",
       "398     170000.0  \n",
       "401     198000.0  \n",
       "480     185000.0  \n",
       "692     119630.0  \n",
       "1230    320000.0  \n",
       "1297    400000.0  "
      ]
     },
     "execution_count": 84,
     "metadata": {},
     "output_type": "execute_result"
    }
   ],
   "source": [
    "duplicated_prop_id = df[df[\"PropertyID\"].duplicated()]\n",
    "duplicated_prop_id"
   ]
  },
  {
   "cell_type": "code",
   "execution_count": 85,
   "metadata": {},
   "outputs": [
    {
     "data": {
      "text/html": [
       "<div>\n",
       "<style scoped>\n",
       "    .dataframe tbody tr th:only-of-type {\n",
       "        vertical-align: middle;\n",
       "    }\n",
       "\n",
       "    .dataframe tbody tr th {\n",
       "        vertical-align: top;\n",
       "    }\n",
       "\n",
       "    .dataframe thead th {\n",
       "        text-align: right;\n",
       "    }\n",
       "</style>\n",
       "<table border=\"1\" class=\"dataframe\">\n",
       "  <thead>\n",
       "    <tr style=\"text-align: right;\">\n",
       "      <th></th>\n",
       "      <th>PropertyID</th>\n",
       "      <th>PropType</th>\n",
       "      <th>taxkey</th>\n",
       "      <th>Address</th>\n",
       "      <th>CondoProject</th>\n",
       "      <th>District</th>\n",
       "      <th>nbhd</th>\n",
       "      <th>Style</th>\n",
       "      <th>Extwall</th>\n",
       "      <th>Stories</th>\n",
       "      <th>Year_Built</th>\n",
       "      <th>Rooms</th>\n",
       "      <th>FinishedSqft</th>\n",
       "      <th>Units</th>\n",
       "      <th>Bdrms</th>\n",
       "      <th>Fbath</th>\n",
       "      <th>Hbath</th>\n",
       "      <th>Lotsize</th>\n",
       "      <th>Sale_date</th>\n",
       "      <th>Sale_price</th>\n",
       "    </tr>\n",
       "  </thead>\n",
       "  <tbody>\n",
       "    <tr>\n",
       "      <th>324</th>\n",
       "      <td>132147</td>\n",
       "      <td>Residential</td>\n",
       "      <td>2260902000</td>\n",
       "      <td>4414 N 65TH ST</td>\n",
       "      <td>NaN</td>\n",
       "      <td>2</td>\n",
       "      <td>1490</td>\n",
       "      <td>Ranch</td>\n",
       "      <td>Aluminum/Vinyl</td>\n",
       "      <td>1.0</td>\n",
       "      <td>1952.0</td>\n",
       "      <td>4.0</td>\n",
       "      <td>761.0</td>\n",
       "      <td>1</td>\n",
       "      <td>2.0</td>\n",
       "      <td>1</td>\n",
       "      <td>0</td>\n",
       "      <td>5460</td>\n",
       "      <td>2024-02-27</td>\n",
       "      <td>105000.0</td>\n",
       "    </tr>\n",
       "    <tr>\n",
       "      <th>325</th>\n",
       "      <td>132147</td>\n",
       "      <td>Residential</td>\n",
       "      <td>2260902000</td>\n",
       "      <td>4414 N 65TH ST</td>\n",
       "      <td>NaN</td>\n",
       "      <td>2</td>\n",
       "      <td>1490</td>\n",
       "      <td>Ranch</td>\n",
       "      <td>Aluminum/Vinyl</td>\n",
       "      <td>1.0</td>\n",
       "      <td>1952.0</td>\n",
       "      <td>4.0</td>\n",
       "      <td>761.0</td>\n",
       "      <td>1</td>\n",
       "      <td>2.0</td>\n",
       "      <td>1</td>\n",
       "      <td>0</td>\n",
       "      <td>5460</td>\n",
       "      <td>2024-05-31</td>\n",
       "      <td>225000.0</td>\n",
       "    </tr>\n",
       "    <tr>\n",
       "      <th>394</th>\n",
       "      <td>138523</td>\n",
       "      <td>Residential</td>\n",
       "      <td>2470819000</td>\n",
       "      <td>4219 N 38TH ST</td>\n",
       "      <td>NaN</td>\n",
       "      <td>7</td>\n",
       "      <td>1680</td>\n",
       "      <td>Cape Cod</td>\n",
       "      <td>Wood</td>\n",
       "      <td>1.5</td>\n",
       "      <td>1950.0</td>\n",
       "      <td>10.0</td>\n",
       "      <td>1336.0</td>\n",
       "      <td>1</td>\n",
       "      <td>6.0</td>\n",
       "      <td>2</td>\n",
       "      <td>1</td>\n",
       "      <td>10777</td>\n",
       "      <td>2024-01-30</td>\n",
       "      <td>86000.0</td>\n",
       "    </tr>\n",
       "    <tr>\n",
       "      <th>395</th>\n",
       "      <td>138523</td>\n",
       "      <td>Residential</td>\n",
       "      <td>2470819000</td>\n",
       "      <td>4219 N 38TH ST</td>\n",
       "      <td>NaN</td>\n",
       "      <td>7</td>\n",
       "      <td>1680</td>\n",
       "      <td>Cape Cod</td>\n",
       "      <td>Wood</td>\n",
       "      <td>1.5</td>\n",
       "      <td>1950.0</td>\n",
       "      <td>10.0</td>\n",
       "      <td>1336.0</td>\n",
       "      <td>1</td>\n",
       "      <td>6.0</td>\n",
       "      <td>2</td>\n",
       "      <td>1</td>\n",
       "      <td>10777</td>\n",
       "      <td>2024-05-14</td>\n",
       "      <td>225000.0</td>\n",
       "    </tr>\n",
       "    <tr>\n",
       "      <th>397</th>\n",
       "      <td>138724</td>\n",
       "      <td>Residential</td>\n",
       "      <td>2471451000</td>\n",
       "      <td>4326 N 37TH ST</td>\n",
       "      <td>NaN</td>\n",
       "      <td>7</td>\n",
       "      <td>1680</td>\n",
       "      <td>Res O/S 2sty +</td>\n",
       "      <td>Aluminum/Vinyl</td>\n",
       "      <td>2.0</td>\n",
       "      <td>1923.0</td>\n",
       "      <td>7.0</td>\n",
       "      <td>1799.0</td>\n",
       "      <td>1</td>\n",
       "      <td>3.0</td>\n",
       "      <td>1</td>\n",
       "      <td>1</td>\n",
       "      <td>16256</td>\n",
       "      <td>2024-03-01</td>\n",
       "      <td>170000.0</td>\n",
       "    </tr>\n",
       "    <tr>\n",
       "      <th>398</th>\n",
       "      <td>138724</td>\n",
       "      <td>Residential</td>\n",
       "      <td>2471451000</td>\n",
       "      <td>4326 N 37TH ST</td>\n",
       "      <td>NaN</td>\n",
       "      <td>7</td>\n",
       "      <td>1680</td>\n",
       "      <td>Res O/S 2sty +</td>\n",
       "      <td>Aluminum/Vinyl</td>\n",
       "      <td>2.0</td>\n",
       "      <td>1923.0</td>\n",
       "      <td>7.0</td>\n",
       "      <td>1799.0</td>\n",
       "      <td>1</td>\n",
       "      <td>3.0</td>\n",
       "      <td>1</td>\n",
       "      <td>1</td>\n",
       "      <td>16256</td>\n",
       "      <td>2024-03-20</td>\n",
       "      <td>170000.0</td>\n",
       "    </tr>\n",
       "    <tr>\n",
       "      <th>400</th>\n",
       "      <td>138835</td>\n",
       "      <td>Residential</td>\n",
       "      <td>2479892000</td>\n",
       "      <td>4306 N 41ST ST</td>\n",
       "      <td>NaN</td>\n",
       "      <td>7</td>\n",
       "      <td>1680</td>\n",
       "      <td>Cape Cod</td>\n",
       "      <td>Aluminum/Vinyl</td>\n",
       "      <td>1.5</td>\n",
       "      <td>1945.0</td>\n",
       "      <td>6.0</td>\n",
       "      <td>1562.0</td>\n",
       "      <td>1</td>\n",
       "      <td>2.0</td>\n",
       "      <td>1</td>\n",
       "      <td>1</td>\n",
       "      <td>5120</td>\n",
       "      <td>2024-01-04</td>\n",
       "      <td>97900.0</td>\n",
       "    </tr>\n",
       "    <tr>\n",
       "      <th>401</th>\n",
       "      <td>138835</td>\n",
       "      <td>Residential</td>\n",
       "      <td>2479892000</td>\n",
       "      <td>4306 N 41ST ST</td>\n",
       "      <td>NaN</td>\n",
       "      <td>7</td>\n",
       "      <td>1680</td>\n",
       "      <td>Cape Cod</td>\n",
       "      <td>Aluminum/Vinyl</td>\n",
       "      <td>1.5</td>\n",
       "      <td>1945.0</td>\n",
       "      <td>6.0</td>\n",
       "      <td>1562.0</td>\n",
       "      <td>1</td>\n",
       "      <td>2.0</td>\n",
       "      <td>1</td>\n",
       "      <td>1</td>\n",
       "      <td>5120</td>\n",
       "      <td>2024-05-08</td>\n",
       "      <td>198000.0</td>\n",
       "    </tr>\n",
       "    <tr>\n",
       "      <th>479</th>\n",
       "      <td>144999</td>\n",
       "      <td>Residential</td>\n",
       "      <td>2640903000</td>\n",
       "      <td>3776 N 73RD ST</td>\n",
       "      <td>NaN</td>\n",
       "      <td>10</td>\n",
       "      <td>1940</td>\n",
       "      <td>Cape Cod</td>\n",
       "      <td>Aluminum/Vinyl</td>\n",
       "      <td>1.0</td>\n",
       "      <td>1952.0</td>\n",
       "      <td>6.0</td>\n",
       "      <td>1554.0</td>\n",
       "      <td>1</td>\n",
       "      <td>3.0</td>\n",
       "      <td>2</td>\n",
       "      <td>0</td>\n",
       "      <td>5610</td>\n",
       "      <td>2024-02-20</td>\n",
       "      <td>130000.0</td>\n",
       "    </tr>\n",
       "    <tr>\n",
       "      <th>480</th>\n",
       "      <td>144999</td>\n",
       "      <td>Residential</td>\n",
       "      <td>2640903000</td>\n",
       "      <td>3776 N 73RD ST</td>\n",
       "      <td>NaN</td>\n",
       "      <td>10</td>\n",
       "      <td>1940</td>\n",
       "      <td>Cape Cod</td>\n",
       "      <td>Aluminum/Vinyl</td>\n",
       "      <td>1.0</td>\n",
       "      <td>1952.0</td>\n",
       "      <td>6.0</td>\n",
       "      <td>1554.0</td>\n",
       "      <td>1</td>\n",
       "      <td>3.0</td>\n",
       "      <td>2</td>\n",
       "      <td>0</td>\n",
       "      <td>5610</td>\n",
       "      <td>2024-05-29</td>\n",
       "      <td>185000.0</td>\n",
       "    </tr>\n",
       "    <tr>\n",
       "      <th>691</th>\n",
       "      <td>166393</td>\n",
       "      <td>Residential</td>\n",
       "      <td>3061625000</td>\n",
       "      <td>5958 W APPLETON AV</td>\n",
       "      <td>NaN</td>\n",
       "      <td>10</td>\n",
       "      <td>1860</td>\n",
       "      <td>Res O/S 1 Story</td>\n",
       "      <td>Stucco</td>\n",
       "      <td>1.0</td>\n",
       "      <td>1920.0</td>\n",
       "      <td>5.0</td>\n",
       "      <td>908.0</td>\n",
       "      <td>1</td>\n",
       "      <td>2.0</td>\n",
       "      <td>1</td>\n",
       "      <td>0</td>\n",
       "      <td>4200</td>\n",
       "      <td>2024-01-29</td>\n",
       "      <td>102200.0</td>\n",
       "    </tr>\n",
       "    <tr>\n",
       "      <th>692</th>\n",
       "      <td>166393</td>\n",
       "      <td>Residential</td>\n",
       "      <td>3061625000</td>\n",
       "      <td>5958 W APPLETON AV</td>\n",
       "      <td>NaN</td>\n",
       "      <td>10</td>\n",
       "      <td>1860</td>\n",
       "      <td>Res O/S 1 Story</td>\n",
       "      <td>Stucco</td>\n",
       "      <td>1.0</td>\n",
       "      <td>1920.0</td>\n",
       "      <td>5.0</td>\n",
       "      <td>908.0</td>\n",
       "      <td>1</td>\n",
       "      <td>2.0</td>\n",
       "      <td>1</td>\n",
       "      <td>0</td>\n",
       "      <td>4200</td>\n",
       "      <td>2024-06-14</td>\n",
       "      <td>119630.0</td>\n",
       "    </tr>\n",
       "    <tr>\n",
       "      <th>1229</th>\n",
       "      <td>233967</td>\n",
       "      <td>Residential</td>\n",
       "      <td>5250303113</td>\n",
       "      <td>3133 S 97TH ST</td>\n",
       "      <td>NaN</td>\n",
       "      <td>11</td>\n",
       "      <td>4350</td>\n",
       "      <td>Ranch</td>\n",
       "      <td>Aluminum/Vinyl</td>\n",
       "      <td>1.0</td>\n",
       "      <td>1959.0</td>\n",
       "      <td>5.0</td>\n",
       "      <td>1177.0</td>\n",
       "      <td>1</td>\n",
       "      <td>3.0</td>\n",
       "      <td>1</td>\n",
       "      <td>1</td>\n",
       "      <td>4800</td>\n",
       "      <td>2024-03-22</td>\n",
       "      <td>244000.0</td>\n",
       "    </tr>\n",
       "    <tr>\n",
       "      <th>1230</th>\n",
       "      <td>233967</td>\n",
       "      <td>Residential</td>\n",
       "      <td>5250303113</td>\n",
       "      <td>3133 S 97TH ST</td>\n",
       "      <td>NaN</td>\n",
       "      <td>11</td>\n",
       "      <td>4350</td>\n",
       "      <td>Ranch</td>\n",
       "      <td>Aluminum/Vinyl</td>\n",
       "      <td>1.0</td>\n",
       "      <td>1959.0</td>\n",
       "      <td>5.0</td>\n",
       "      <td>1177.0</td>\n",
       "      <td>1</td>\n",
       "      <td>3.0</td>\n",
       "      <td>1</td>\n",
       "      <td>1</td>\n",
       "      <td>4800</td>\n",
       "      <td>2024-05-29</td>\n",
       "      <td>320000.0</td>\n",
       "    </tr>\n",
       "    <tr>\n",
       "      <th>1296</th>\n",
       "      <td>243582</td>\n",
       "      <td>Residential</td>\n",
       "      <td>5460384000</td>\n",
       "      <td>3717 S ALABAMA AV</td>\n",
       "      <td>NaN</td>\n",
       "      <td>14</td>\n",
       "      <td>4620</td>\n",
       "      <td>Cape Cod</td>\n",
       "      <td>Block</td>\n",
       "      <td>1.5</td>\n",
       "      <td>1952.0</td>\n",
       "      <td>7.0</td>\n",
       "      <td>1744.0</td>\n",
       "      <td>1</td>\n",
       "      <td>4.0</td>\n",
       "      <td>2</td>\n",
       "      <td>0</td>\n",
       "      <td>7200</td>\n",
       "      <td>2024-01-08</td>\n",
       "      <td>295000.0</td>\n",
       "    </tr>\n",
       "    <tr>\n",
       "      <th>1297</th>\n",
       "      <td>243582</td>\n",
       "      <td>Residential</td>\n",
       "      <td>5460384000</td>\n",
       "      <td>3717 S ALABAMA AV</td>\n",
       "      <td>NaN</td>\n",
       "      <td>14</td>\n",
       "      <td>4620</td>\n",
       "      <td>Cape Cod</td>\n",
       "      <td>Block</td>\n",
       "      <td>1.5</td>\n",
       "      <td>1952.0</td>\n",
       "      <td>7.0</td>\n",
       "      <td>1744.0</td>\n",
       "      <td>1</td>\n",
       "      <td>4.0</td>\n",
       "      <td>2</td>\n",
       "      <td>0</td>\n",
       "      <td>7200</td>\n",
       "      <td>2024-03-05</td>\n",
       "      <td>400000.0</td>\n",
       "    </tr>\n",
       "  </tbody>\n",
       "</table>\n",
       "</div>"
      ],
      "text/plain": [
       "      PropertyID     PropType      taxkey             Address CondoProject  \\\n",
       "324       132147  Residential  2260902000      4414 N 65TH ST          NaN   \n",
       "325       132147  Residential  2260902000      4414 N 65TH ST          NaN   \n",
       "394       138523  Residential  2470819000      4219 N 38TH ST          NaN   \n",
       "395       138523  Residential  2470819000      4219 N 38TH ST          NaN   \n",
       "397       138724  Residential  2471451000      4326 N 37TH ST          NaN   \n",
       "398       138724  Residential  2471451000      4326 N 37TH ST          NaN   \n",
       "400       138835  Residential  2479892000      4306 N 41ST ST          NaN   \n",
       "401       138835  Residential  2479892000      4306 N 41ST ST          NaN   \n",
       "479       144999  Residential  2640903000      3776 N 73RD ST          NaN   \n",
       "480       144999  Residential  2640903000      3776 N 73RD ST          NaN   \n",
       "691       166393  Residential  3061625000  5958 W APPLETON AV          NaN   \n",
       "692       166393  Residential  3061625000  5958 W APPLETON AV          NaN   \n",
       "1229      233967  Residential  5250303113      3133 S 97TH ST          NaN   \n",
       "1230      233967  Residential  5250303113      3133 S 97TH ST          NaN   \n",
       "1296      243582  Residential  5460384000   3717 S ALABAMA AV          NaN   \n",
       "1297      243582  Residential  5460384000   3717 S ALABAMA AV          NaN   \n",
       "\n",
       "      District  nbhd            Style         Extwall  Stories  Year_Built  \\\n",
       "324          2  1490            Ranch  Aluminum/Vinyl      1.0      1952.0   \n",
       "325          2  1490            Ranch  Aluminum/Vinyl      1.0      1952.0   \n",
       "394          7  1680         Cape Cod            Wood      1.5      1950.0   \n",
       "395          7  1680         Cape Cod            Wood      1.5      1950.0   \n",
       "397          7  1680   Res O/S 2sty +  Aluminum/Vinyl      2.0      1923.0   \n",
       "398          7  1680   Res O/S 2sty +  Aluminum/Vinyl      2.0      1923.0   \n",
       "400          7  1680         Cape Cod  Aluminum/Vinyl      1.5      1945.0   \n",
       "401          7  1680         Cape Cod  Aluminum/Vinyl      1.5      1945.0   \n",
       "479         10  1940         Cape Cod  Aluminum/Vinyl      1.0      1952.0   \n",
       "480         10  1940         Cape Cod  Aluminum/Vinyl      1.0      1952.0   \n",
       "691         10  1860  Res O/S 1 Story          Stucco      1.0      1920.0   \n",
       "692         10  1860  Res O/S 1 Story          Stucco      1.0      1920.0   \n",
       "1229        11  4350            Ranch  Aluminum/Vinyl      1.0      1959.0   \n",
       "1230        11  4350            Ranch  Aluminum/Vinyl      1.0      1959.0   \n",
       "1296        14  4620         Cape Cod           Block      1.5      1952.0   \n",
       "1297        14  4620         Cape Cod           Block      1.5      1952.0   \n",
       "\n",
       "      Rooms  FinishedSqft  Units  Bdrms  Fbath  Hbath  Lotsize   Sale_date  \\\n",
       "324     4.0         761.0      1    2.0      1      0     5460  2024-02-27   \n",
       "325     4.0         761.0      1    2.0      1      0     5460  2024-05-31   \n",
       "394    10.0        1336.0      1    6.0      2      1    10777  2024-01-30   \n",
       "395    10.0        1336.0      1    6.0      2      1    10777  2024-05-14   \n",
       "397     7.0        1799.0      1    3.0      1      1    16256  2024-03-01   \n",
       "398     7.0        1799.0      1    3.0      1      1    16256  2024-03-20   \n",
       "400     6.0        1562.0      1    2.0      1      1     5120  2024-01-04   \n",
       "401     6.0        1562.0      1    2.0      1      1     5120  2024-05-08   \n",
       "479     6.0        1554.0      1    3.0      2      0     5610  2024-02-20   \n",
       "480     6.0        1554.0      1    3.0      2      0     5610  2024-05-29   \n",
       "691     5.0         908.0      1    2.0      1      0     4200  2024-01-29   \n",
       "692     5.0         908.0      1    2.0      1      0     4200  2024-06-14   \n",
       "1229    5.0        1177.0      1    3.0      1      1     4800  2024-03-22   \n",
       "1230    5.0        1177.0      1    3.0      1      1     4800  2024-05-29   \n",
       "1296    7.0        1744.0      1    4.0      2      0     7200  2024-01-08   \n",
       "1297    7.0        1744.0      1    4.0      2      0     7200  2024-03-05   \n",
       "\n",
       "      Sale_price  \n",
       "324     105000.0  \n",
       "325     225000.0  \n",
       "394      86000.0  \n",
       "395     225000.0  \n",
       "397     170000.0  \n",
       "398     170000.0  \n",
       "400      97900.0  \n",
       "401     198000.0  \n",
       "479     130000.0  \n",
       "480     185000.0  \n",
       "691     102200.0  \n",
       "692     119630.0  \n",
       "1229    244000.0  \n",
       "1230    320000.0  \n",
       "1296    295000.0  \n",
       "1297    400000.0  "
      ]
     },
     "execution_count": 85,
     "metadata": {},
     "output_type": "execute_result"
    }
   ],
   "source": [
    "df[df[\"PropertyID\"].isin(duplicated_prop_id[\"PropertyID\"])]"
   ]
  },
  {
   "cell_type": "markdown",
   "metadata": {},
   "source": [
    "## PropType\n",
    "\n",
    "Das Attribut PropType beschreibt den Typ des jeweiligen Objektes. Es gibt insgesamt 5 verschiedene Objektarten."
   ]
  },
  {
   "cell_type": "code",
   "execution_count": 86,
   "metadata": {},
   "outputs": [
    {
     "name": "stdout",
     "output_type": "stream",
     "text": [
      "NA values: 0\n",
      "Unique percentage: 0.99\n",
      "Unique absolute: 5\n"
     ]
    }
   ],
   "source": [
    "basis_statistical_values(df, \"PropType\")"
   ]
  },
  {
   "cell_type": "code",
   "execution_count": 87,
   "metadata": {},
   "outputs": [
    {
     "data": {
      "text/plain": [
       "array(['Commercial', 'Residential', 'Condominium', 'Exempt',\n",
       "       'Lg Apartment'], dtype=object)"
      ]
     },
     "execution_count": 87,
     "metadata": {},
     "output_type": "execute_result"
    }
   ],
   "source": [
    "df[\"PropType\"].unique()"
   ]
  },
  {
   "cell_type": "code",
   "execution_count": 88,
   "metadata": {},
   "outputs": [
    {
     "data": {
      "application/vnd.plotly.v1+json": {
       "config": {
        "plotlyServerURL": "https://plot.ly"
       },
       "data": [
        {
         "domain": {
          "x": [
           0,
           1
          ],
          "y": [
           0,
           1
          ]
         },
         "hovertemplate": "PropType=%{label}<br>PropertyID=%{value}<extra></extra>",
         "labels": [
          "Commercial",
          "Condominium",
          "Exempt",
          "Lg Apartment",
          "Residential"
         ],
         "legendgroup": "",
         "name": "",
         "showlegend": true,
         "type": "pie",
         "values": [
          48,
          171,
          4,
          22,
          1172
         ]
        }
       ],
       "layout": {
        "height": 700,
        "legend": {
         "tracegroupgap": 0
        },
        "margin": {
         "t": 60
        },
        "template": {
         "data": {
          "bar": [
           {
            "error_x": {
             "color": "#2a3f5f"
            },
            "error_y": {
             "color": "#2a3f5f"
            },
            "marker": {
             "line": {
              "color": "#E5ECF6",
              "width": 0.5
             },
             "pattern": {
              "fillmode": "overlay",
              "size": 10,
              "solidity": 0.2
             }
            },
            "type": "bar"
           }
          ],
          "barpolar": [
           {
            "marker": {
             "line": {
              "color": "#E5ECF6",
              "width": 0.5
             },
             "pattern": {
              "fillmode": "overlay",
              "size": 10,
              "solidity": 0.2
             }
            },
            "type": "barpolar"
           }
          ],
          "carpet": [
           {
            "aaxis": {
             "endlinecolor": "#2a3f5f",
             "gridcolor": "white",
             "linecolor": "white",
             "minorgridcolor": "white",
             "startlinecolor": "#2a3f5f"
            },
            "baxis": {
             "endlinecolor": "#2a3f5f",
             "gridcolor": "white",
             "linecolor": "white",
             "minorgridcolor": "white",
             "startlinecolor": "#2a3f5f"
            },
            "type": "carpet"
           }
          ],
          "choropleth": [
           {
            "colorbar": {
             "outlinewidth": 0,
             "ticks": ""
            },
            "type": "choropleth"
           }
          ],
          "contour": [
           {
            "colorbar": {
             "outlinewidth": 0,
             "ticks": ""
            },
            "colorscale": [
             [
              0,
              "#0d0887"
             ],
             [
              0.1111111111111111,
              "#46039f"
             ],
             [
              0.2222222222222222,
              "#7201a8"
             ],
             [
              0.3333333333333333,
              "#9c179e"
             ],
             [
              0.4444444444444444,
              "#bd3786"
             ],
             [
              0.5555555555555556,
              "#d8576b"
             ],
             [
              0.6666666666666666,
              "#ed7953"
             ],
             [
              0.7777777777777778,
              "#fb9f3a"
             ],
             [
              0.8888888888888888,
              "#fdca26"
             ],
             [
              1,
              "#f0f921"
             ]
            ],
            "type": "contour"
           }
          ],
          "contourcarpet": [
           {
            "colorbar": {
             "outlinewidth": 0,
             "ticks": ""
            },
            "type": "contourcarpet"
           }
          ],
          "heatmap": [
           {
            "colorbar": {
             "outlinewidth": 0,
             "ticks": ""
            },
            "colorscale": [
             [
              0,
              "#0d0887"
             ],
             [
              0.1111111111111111,
              "#46039f"
             ],
             [
              0.2222222222222222,
              "#7201a8"
             ],
             [
              0.3333333333333333,
              "#9c179e"
             ],
             [
              0.4444444444444444,
              "#bd3786"
             ],
             [
              0.5555555555555556,
              "#d8576b"
             ],
             [
              0.6666666666666666,
              "#ed7953"
             ],
             [
              0.7777777777777778,
              "#fb9f3a"
             ],
             [
              0.8888888888888888,
              "#fdca26"
             ],
             [
              1,
              "#f0f921"
             ]
            ],
            "type": "heatmap"
           }
          ],
          "heatmapgl": [
           {
            "colorbar": {
             "outlinewidth": 0,
             "ticks": ""
            },
            "colorscale": [
             [
              0,
              "#0d0887"
             ],
             [
              0.1111111111111111,
              "#46039f"
             ],
             [
              0.2222222222222222,
              "#7201a8"
             ],
             [
              0.3333333333333333,
              "#9c179e"
             ],
             [
              0.4444444444444444,
              "#bd3786"
             ],
             [
              0.5555555555555556,
              "#d8576b"
             ],
             [
              0.6666666666666666,
              "#ed7953"
             ],
             [
              0.7777777777777778,
              "#fb9f3a"
             ],
             [
              0.8888888888888888,
              "#fdca26"
             ],
             [
              1,
              "#f0f921"
             ]
            ],
            "type": "heatmapgl"
           }
          ],
          "histogram": [
           {
            "marker": {
             "pattern": {
              "fillmode": "overlay",
              "size": 10,
              "solidity": 0.2
             }
            },
            "type": "histogram"
           }
          ],
          "histogram2d": [
           {
            "colorbar": {
             "outlinewidth": 0,
             "ticks": ""
            },
            "colorscale": [
             [
              0,
              "#0d0887"
             ],
             [
              0.1111111111111111,
              "#46039f"
             ],
             [
              0.2222222222222222,
              "#7201a8"
             ],
             [
              0.3333333333333333,
              "#9c179e"
             ],
             [
              0.4444444444444444,
              "#bd3786"
             ],
             [
              0.5555555555555556,
              "#d8576b"
             ],
             [
              0.6666666666666666,
              "#ed7953"
             ],
             [
              0.7777777777777778,
              "#fb9f3a"
             ],
             [
              0.8888888888888888,
              "#fdca26"
             ],
             [
              1,
              "#f0f921"
             ]
            ],
            "type": "histogram2d"
           }
          ],
          "histogram2dcontour": [
           {
            "colorbar": {
             "outlinewidth": 0,
             "ticks": ""
            },
            "colorscale": [
             [
              0,
              "#0d0887"
             ],
             [
              0.1111111111111111,
              "#46039f"
             ],
             [
              0.2222222222222222,
              "#7201a8"
             ],
             [
              0.3333333333333333,
              "#9c179e"
             ],
             [
              0.4444444444444444,
              "#bd3786"
             ],
             [
              0.5555555555555556,
              "#d8576b"
             ],
             [
              0.6666666666666666,
              "#ed7953"
             ],
             [
              0.7777777777777778,
              "#fb9f3a"
             ],
             [
              0.8888888888888888,
              "#fdca26"
             ],
             [
              1,
              "#f0f921"
             ]
            ],
            "type": "histogram2dcontour"
           }
          ],
          "mesh3d": [
           {
            "colorbar": {
             "outlinewidth": 0,
             "ticks": ""
            },
            "type": "mesh3d"
           }
          ],
          "parcoords": [
           {
            "line": {
             "colorbar": {
              "outlinewidth": 0,
              "ticks": ""
             }
            },
            "type": "parcoords"
           }
          ],
          "pie": [
           {
            "automargin": true,
            "type": "pie"
           }
          ],
          "scatter": [
           {
            "fillpattern": {
             "fillmode": "overlay",
             "size": 10,
             "solidity": 0.2
            },
            "type": "scatter"
           }
          ],
          "scatter3d": [
           {
            "line": {
             "colorbar": {
              "outlinewidth": 0,
              "ticks": ""
             }
            },
            "marker": {
             "colorbar": {
              "outlinewidth": 0,
              "ticks": ""
             }
            },
            "type": "scatter3d"
           }
          ],
          "scattercarpet": [
           {
            "marker": {
             "colorbar": {
              "outlinewidth": 0,
              "ticks": ""
             }
            },
            "type": "scattercarpet"
           }
          ],
          "scattergeo": [
           {
            "marker": {
             "colorbar": {
              "outlinewidth": 0,
              "ticks": ""
             }
            },
            "type": "scattergeo"
           }
          ],
          "scattergl": [
           {
            "marker": {
             "colorbar": {
              "outlinewidth": 0,
              "ticks": ""
             }
            },
            "type": "scattergl"
           }
          ],
          "scattermapbox": [
           {
            "marker": {
             "colorbar": {
              "outlinewidth": 0,
              "ticks": ""
             }
            },
            "type": "scattermapbox"
           }
          ],
          "scatterpolar": [
           {
            "marker": {
             "colorbar": {
              "outlinewidth": 0,
              "ticks": ""
             }
            },
            "type": "scatterpolar"
           }
          ],
          "scatterpolargl": [
           {
            "marker": {
             "colorbar": {
              "outlinewidth": 0,
              "ticks": ""
             }
            },
            "type": "scatterpolargl"
           }
          ],
          "scatterternary": [
           {
            "marker": {
             "colorbar": {
              "outlinewidth": 0,
              "ticks": ""
             }
            },
            "type": "scatterternary"
           }
          ],
          "surface": [
           {
            "colorbar": {
             "outlinewidth": 0,
             "ticks": ""
            },
            "colorscale": [
             [
              0,
              "#0d0887"
             ],
             [
              0.1111111111111111,
              "#46039f"
             ],
             [
              0.2222222222222222,
              "#7201a8"
             ],
             [
              0.3333333333333333,
              "#9c179e"
             ],
             [
              0.4444444444444444,
              "#bd3786"
             ],
             [
              0.5555555555555556,
              "#d8576b"
             ],
             [
              0.6666666666666666,
              "#ed7953"
             ],
             [
              0.7777777777777778,
              "#fb9f3a"
             ],
             [
              0.8888888888888888,
              "#fdca26"
             ],
             [
              1,
              "#f0f921"
             ]
            ],
            "type": "surface"
           }
          ],
          "table": [
           {
            "cells": {
             "fill": {
              "color": "#EBF0F8"
             },
             "line": {
              "color": "white"
             }
            },
            "header": {
             "fill": {
              "color": "#C8D4E3"
             },
             "line": {
              "color": "white"
             }
            },
            "type": "table"
           }
          ]
         },
         "layout": {
          "annotationdefaults": {
           "arrowcolor": "#2a3f5f",
           "arrowhead": 0,
           "arrowwidth": 1
          },
          "autotypenumbers": "strict",
          "coloraxis": {
           "colorbar": {
            "outlinewidth": 0,
            "ticks": ""
           }
          },
          "colorscale": {
           "diverging": [
            [
             0,
             "#8e0152"
            ],
            [
             0.1,
             "#c51b7d"
            ],
            [
             0.2,
             "#de77ae"
            ],
            [
             0.3,
             "#f1b6da"
            ],
            [
             0.4,
             "#fde0ef"
            ],
            [
             0.5,
             "#f7f7f7"
            ],
            [
             0.6,
             "#e6f5d0"
            ],
            [
             0.7,
             "#b8e186"
            ],
            [
             0.8,
             "#7fbc41"
            ],
            [
             0.9,
             "#4d9221"
            ],
            [
             1,
             "#276419"
            ]
           ],
           "sequential": [
            [
             0,
             "#0d0887"
            ],
            [
             0.1111111111111111,
             "#46039f"
            ],
            [
             0.2222222222222222,
             "#7201a8"
            ],
            [
             0.3333333333333333,
             "#9c179e"
            ],
            [
             0.4444444444444444,
             "#bd3786"
            ],
            [
             0.5555555555555556,
             "#d8576b"
            ],
            [
             0.6666666666666666,
             "#ed7953"
            ],
            [
             0.7777777777777778,
             "#fb9f3a"
            ],
            [
             0.8888888888888888,
             "#fdca26"
            ],
            [
             1,
             "#f0f921"
            ]
           ],
           "sequentialminus": [
            [
             0,
             "#0d0887"
            ],
            [
             0.1111111111111111,
             "#46039f"
            ],
            [
             0.2222222222222222,
             "#7201a8"
            ],
            [
             0.3333333333333333,
             "#9c179e"
            ],
            [
             0.4444444444444444,
             "#bd3786"
            ],
            [
             0.5555555555555556,
             "#d8576b"
            ],
            [
             0.6666666666666666,
             "#ed7953"
            ],
            [
             0.7777777777777778,
             "#fb9f3a"
            ],
            [
             0.8888888888888888,
             "#fdca26"
            ],
            [
             1,
             "#f0f921"
            ]
           ]
          },
          "colorway": [
           "#636efa",
           "#EF553B",
           "#00cc96",
           "#ab63fa",
           "#FFA15A",
           "#19d3f3",
           "#FF6692",
           "#B6E880",
           "#FF97FF",
           "#FECB52"
          ],
          "font": {
           "color": "#2a3f5f"
          },
          "geo": {
           "bgcolor": "white",
           "lakecolor": "white",
           "landcolor": "#E5ECF6",
           "showlakes": true,
           "showland": true,
           "subunitcolor": "white"
          },
          "hoverlabel": {
           "align": "left"
          },
          "hovermode": "closest",
          "mapbox": {
           "style": "light"
          },
          "paper_bgcolor": "white",
          "plot_bgcolor": "#E5ECF6",
          "polar": {
           "angularaxis": {
            "gridcolor": "white",
            "linecolor": "white",
            "ticks": ""
           },
           "bgcolor": "#E5ECF6",
           "radialaxis": {
            "gridcolor": "white",
            "linecolor": "white",
            "ticks": ""
           }
          },
          "scene": {
           "xaxis": {
            "backgroundcolor": "#E5ECF6",
            "gridcolor": "white",
            "gridwidth": 2,
            "linecolor": "white",
            "showbackground": true,
            "ticks": "",
            "zerolinecolor": "white"
           },
           "yaxis": {
            "backgroundcolor": "#E5ECF6",
            "gridcolor": "white",
            "gridwidth": 2,
            "linecolor": "white",
            "showbackground": true,
            "ticks": "",
            "zerolinecolor": "white"
           },
           "zaxis": {
            "backgroundcolor": "#E5ECF6",
            "gridcolor": "white",
            "gridwidth": 2,
            "linecolor": "white",
            "showbackground": true,
            "ticks": "",
            "zerolinecolor": "white"
           }
          },
          "shapedefaults": {
           "line": {
            "color": "#2a3f5f"
           }
          },
          "ternary": {
           "aaxis": {
            "gridcolor": "white",
            "linecolor": "white",
            "ticks": ""
           },
           "baxis": {
            "gridcolor": "white",
            "linecolor": "white",
            "ticks": ""
           },
           "bgcolor": "#E5ECF6",
           "caxis": {
            "gridcolor": "white",
            "linecolor": "white",
            "ticks": ""
           }
          },
          "title": {
           "x": 0.05
          },
          "xaxis": {
           "automargin": true,
           "gridcolor": "white",
           "linecolor": "white",
           "ticks": "",
           "title": {
            "standoff": 15
           },
           "zerolinecolor": "white",
           "zerolinewidth": 2
          },
          "yaxis": {
           "automargin": true,
           "gridcolor": "white",
           "linecolor": "white",
           "ticks": "",
           "title": {
            "standoff": 15
           },
           "zerolinecolor": "white",
           "zerolinewidth": 2
          }
         }
        }
       }
      }
     },
     "metadata": {},
     "output_type": "display_data"
    }
   ],
   "source": [
    "df_grouped_prop_type = df.groupby(by=\"PropType\").count()\n",
    "px.pie(\n",
    "    data_frame=df_grouped_prop_type,\n",
    "    values=\"PropertyID\",\n",
    "    names=df_grouped_prop_type.index,\n",
    "    height=700,\n",
    ")"
   ]
  },
  {
   "cell_type": "markdown",
   "metadata": {},
   "source": [
    "## Taxkey\n",
    "\n",
    "Das Attribut Taxkey is eine eindeutige Steuernummer, die einem Objekt zugeordnet ist. Interessanterweise korreliert der Taxkey nahezu 100% mit dem Attribut PropertyID."
   ]
  },
  {
   "cell_type": "code",
   "execution_count": 89,
   "metadata": {},
   "outputs": [
    {
     "name": "stdout",
     "output_type": "stream",
     "text": [
      "NA values: 0\n",
      "Unique percentage: 0.99\n",
      "Unique absolute: 1409\n"
     ]
    }
   ],
   "source": [
    "basis_statistical_values(df, \"taxkey\")"
   ]
  },
  {
   "cell_type": "code",
   "execution_count": 107,
   "metadata": {},
   "outputs": [
    {
     "data": {
      "text/html": [
       "<div>\n",
       "<style scoped>\n",
       "    .dataframe tbody tr th:only-of-type {\n",
       "        vertical-align: middle;\n",
       "    }\n",
       "\n",
       "    .dataframe tbody tr th {\n",
       "        vertical-align: top;\n",
       "    }\n",
       "\n",
       "    .dataframe thead th {\n",
       "        text-align: right;\n",
       "    }\n",
       "</style>\n",
       "<table border=\"1\" class=\"dataframe\">\n",
       "  <thead>\n",
       "    <tr style=\"text-align: right;\">\n",
       "      <th></th>\n",
       "      <th>PropertyID</th>\n",
       "      <th>PropType</th>\n",
       "      <th>taxkey</th>\n",
       "      <th>Address</th>\n",
       "      <th>CondoProject</th>\n",
       "      <th>District</th>\n",
       "      <th>nbhd</th>\n",
       "      <th>Style</th>\n",
       "      <th>Extwall</th>\n",
       "      <th>Stories</th>\n",
       "      <th>...</th>\n",
       "      <th>FinishedSqft</th>\n",
       "      <th>Units</th>\n",
       "      <th>Bdrms</th>\n",
       "      <th>Fbath</th>\n",
       "      <th>Hbath</th>\n",
       "      <th>Lotsize</th>\n",
       "      <th>Sale_date</th>\n",
       "      <th>Sale_price</th>\n",
       "      <th>lat</th>\n",
       "      <th>long</th>\n",
       "    </tr>\n",
       "  </thead>\n",
       "  <tbody>\n",
       "    <tr>\n",
       "      <th>325</th>\n",
       "      <td>132147</td>\n",
       "      <td>Residential</td>\n",
       "      <td>2260902000</td>\n",
       "      <td>4414 N 65TH ST</td>\n",
       "      <td>None</td>\n",
       "      <td>2</td>\n",
       "      <td>1490</td>\n",
       "      <td>Ranch</td>\n",
       "      <td>Aluminum/Vinyl</td>\n",
       "      <td>1.0</td>\n",
       "      <td>...</td>\n",
       "      <td>761.0</td>\n",
       "      <td>1</td>\n",
       "      <td>2.0</td>\n",
       "      <td>1</td>\n",
       "      <td>0</td>\n",
       "      <td>5460</td>\n",
       "      <td>2024-05-31</td>\n",
       "      <td>225000.0</td>\n",
       "      <td>43.097660</td>\n",
       "      <td>-87.992909</td>\n",
       "    </tr>\n",
       "    <tr>\n",
       "      <th>395</th>\n",
       "      <td>138523</td>\n",
       "      <td>Residential</td>\n",
       "      <td>2470819000</td>\n",
       "      <td>4219 N 38TH ST</td>\n",
       "      <td>None</td>\n",
       "      <td>7</td>\n",
       "      <td>1680</td>\n",
       "      <td>Cape Cod</td>\n",
       "      <td>Wood</td>\n",
       "      <td>1.5</td>\n",
       "      <td>...</td>\n",
       "      <td>1336.0</td>\n",
       "      <td>1</td>\n",
       "      <td>6.0</td>\n",
       "      <td>2</td>\n",
       "      <td>1</td>\n",
       "      <td>10777</td>\n",
       "      <td>2024-05-14</td>\n",
       "      <td>225000.0</td>\n",
       "      <td>43.094011</td>\n",
       "      <td>-87.960888</td>\n",
       "    </tr>\n",
       "    <tr>\n",
       "      <th>398</th>\n",
       "      <td>138724</td>\n",
       "      <td>Residential</td>\n",
       "      <td>2471451000</td>\n",
       "      <td>4326 N 37TH ST</td>\n",
       "      <td>None</td>\n",
       "      <td>7</td>\n",
       "      <td>1680</td>\n",
       "      <td>Res O/S 2sty +</td>\n",
       "      <td>Aluminum/Vinyl</td>\n",
       "      <td>2.0</td>\n",
       "      <td>...</td>\n",
       "      <td>1799.0</td>\n",
       "      <td>1</td>\n",
       "      <td>3.0</td>\n",
       "      <td>1</td>\n",
       "      <td>1</td>\n",
       "      <td>16256</td>\n",
       "      <td>2024-03-20</td>\n",
       "      <td>170000.0</td>\n",
       "      <td>47.281514</td>\n",
       "      <td>-122.494897</td>\n",
       "    </tr>\n",
       "    <tr>\n",
       "      <th>401</th>\n",
       "      <td>138835</td>\n",
       "      <td>Residential</td>\n",
       "      <td>2479892000</td>\n",
       "      <td>4306 N 41ST ST</td>\n",
       "      <td>None</td>\n",
       "      <td>7</td>\n",
       "      <td>1680</td>\n",
       "      <td>Cape Cod</td>\n",
       "      <td>Aluminum/Vinyl</td>\n",
       "      <td>1.5</td>\n",
       "      <td>...</td>\n",
       "      <td>1562.0</td>\n",
       "      <td>1</td>\n",
       "      <td>2.0</td>\n",
       "      <td>1</td>\n",
       "      <td>1</td>\n",
       "      <td>5120</td>\n",
       "      <td>2024-05-08</td>\n",
       "      <td>198000.0</td>\n",
       "      <td>39.949945</td>\n",
       "      <td>-75.067564</td>\n",
       "    </tr>\n",
       "    <tr>\n",
       "      <th>480</th>\n",
       "      <td>144999</td>\n",
       "      <td>Residential</td>\n",
       "      <td>2640903000</td>\n",
       "      <td>3776 N 73RD ST</td>\n",
       "      <td>None</td>\n",
       "      <td>10</td>\n",
       "      <td>1940</td>\n",
       "      <td>Cape Cod</td>\n",
       "      <td>Aluminum/Vinyl</td>\n",
       "      <td>1.0</td>\n",
       "      <td>...</td>\n",
       "      <td>1554.0</td>\n",
       "      <td>1</td>\n",
       "      <td>3.0</td>\n",
       "      <td>2</td>\n",
       "      <td>0</td>\n",
       "      <td>5610</td>\n",
       "      <td>2024-05-29</td>\n",
       "      <td>185000.0</td>\n",
       "      <td>43.085851</td>\n",
       "      <td>-88.002774</td>\n",
       "    </tr>\n",
       "  </tbody>\n",
       "</table>\n",
       "<p>5 rows × 22 columns</p>\n",
       "</div>"
      ],
      "text/plain": [
       "     PropertyID     PropType      taxkey         Address CondoProject  \\\n",
       "325      132147  Residential  2260902000  4414 N 65TH ST         None   \n",
       "395      138523  Residential  2470819000  4219 N 38TH ST         None   \n",
       "398      138724  Residential  2471451000  4326 N 37TH ST         None   \n",
       "401      138835  Residential  2479892000  4306 N 41ST ST         None   \n",
       "480      144999  Residential  2640903000  3776 N 73RD ST         None   \n",
       "\n",
       "     District  nbhd           Style         Extwall  Stories  ...  \\\n",
       "325         2  1490           Ranch  Aluminum/Vinyl      1.0  ...   \n",
       "395         7  1680        Cape Cod            Wood      1.5  ...   \n",
       "398         7  1680  Res O/S 2sty +  Aluminum/Vinyl      2.0  ...   \n",
       "401         7  1680        Cape Cod  Aluminum/Vinyl      1.5  ...   \n",
       "480        10  1940        Cape Cod  Aluminum/Vinyl      1.0  ...   \n",
       "\n",
       "     FinishedSqft  Units  Bdrms  Fbath  Hbath  Lotsize   Sale_date  \\\n",
       "325         761.0      1    2.0      1      0     5460  2024-05-31   \n",
       "395        1336.0      1    6.0      2      1    10777  2024-05-14   \n",
       "398        1799.0      1    3.0      1      1    16256  2024-03-20   \n",
       "401        1562.0      1    2.0      1      1     5120  2024-05-08   \n",
       "480        1554.0      1    3.0      2      0     5610  2024-05-29   \n",
       "\n",
       "     Sale_price        lat        long  \n",
       "325    225000.0  43.097660  -87.992909  \n",
       "395    225000.0  43.094011  -87.960888  \n",
       "398    170000.0  47.281514 -122.494897  \n",
       "401    198000.0  39.949945  -75.067564  \n",
       "480    185000.0  43.085851  -88.002774  \n",
       "\n",
       "[5 rows x 22 columns]"
      ]
     },
     "execution_count": 107,
     "metadata": {},
     "output_type": "execute_result"
    }
   ],
   "source": [
    "duplicated_taxkey = df[df[\"taxkey\"].duplicated()]\n",
    "duplicated_taxkey.head(5)"
   ]
  },
  {
   "cell_type": "code",
   "execution_count": 106,
   "metadata": {},
   "outputs": [
    {
     "data": {
      "text/html": [
       "<div>\n",
       "<style scoped>\n",
       "    .dataframe tbody tr th:only-of-type {\n",
       "        vertical-align: middle;\n",
       "    }\n",
       "\n",
       "    .dataframe tbody tr th {\n",
       "        vertical-align: top;\n",
       "    }\n",
       "\n",
       "    .dataframe thead th {\n",
       "        text-align: right;\n",
       "    }\n",
       "</style>\n",
       "<table border=\"1\" class=\"dataframe\">\n",
       "  <thead>\n",
       "    <tr style=\"text-align: right;\">\n",
       "      <th></th>\n",
       "      <th>PropertyID</th>\n",
       "      <th>PropType</th>\n",
       "      <th>taxkey</th>\n",
       "      <th>Address</th>\n",
       "      <th>CondoProject</th>\n",
       "      <th>District</th>\n",
       "      <th>nbhd</th>\n",
       "      <th>Style</th>\n",
       "      <th>Extwall</th>\n",
       "      <th>Stories</th>\n",
       "      <th>...</th>\n",
       "      <th>FinishedSqft</th>\n",
       "      <th>Units</th>\n",
       "      <th>Bdrms</th>\n",
       "      <th>Fbath</th>\n",
       "      <th>Hbath</th>\n",
       "      <th>Lotsize</th>\n",
       "      <th>Sale_date</th>\n",
       "      <th>Sale_price</th>\n",
       "      <th>lat</th>\n",
       "      <th>long</th>\n",
       "    </tr>\n",
       "  </thead>\n",
       "  <tbody>\n",
       "    <tr>\n",
       "      <th>324</th>\n",
       "      <td>132147</td>\n",
       "      <td>Residential</td>\n",
       "      <td>2260902000</td>\n",
       "      <td>4414 N 65TH ST</td>\n",
       "      <td>None</td>\n",
       "      <td>2</td>\n",
       "      <td>1490</td>\n",
       "      <td>Ranch</td>\n",
       "      <td>Aluminum/Vinyl</td>\n",
       "      <td>1.0</td>\n",
       "      <td>...</td>\n",
       "      <td>761.0</td>\n",
       "      <td>1</td>\n",
       "      <td>2.0</td>\n",
       "      <td>1</td>\n",
       "      <td>0</td>\n",
       "      <td>5460</td>\n",
       "      <td>2024-02-27</td>\n",
       "      <td>105000.0</td>\n",
       "      <td>43.097660</td>\n",
       "      <td>-87.992909</td>\n",
       "    </tr>\n",
       "    <tr>\n",
       "      <th>325</th>\n",
       "      <td>132147</td>\n",
       "      <td>Residential</td>\n",
       "      <td>2260902000</td>\n",
       "      <td>4414 N 65TH ST</td>\n",
       "      <td>None</td>\n",
       "      <td>2</td>\n",
       "      <td>1490</td>\n",
       "      <td>Ranch</td>\n",
       "      <td>Aluminum/Vinyl</td>\n",
       "      <td>1.0</td>\n",
       "      <td>...</td>\n",
       "      <td>761.0</td>\n",
       "      <td>1</td>\n",
       "      <td>2.0</td>\n",
       "      <td>1</td>\n",
       "      <td>0</td>\n",
       "      <td>5460</td>\n",
       "      <td>2024-05-31</td>\n",
       "      <td>225000.0</td>\n",
       "      <td>43.097660</td>\n",
       "      <td>-87.992909</td>\n",
       "    </tr>\n",
       "    <tr>\n",
       "      <th>394</th>\n",
       "      <td>138523</td>\n",
       "      <td>Residential</td>\n",
       "      <td>2470819000</td>\n",
       "      <td>4219 N 38TH ST</td>\n",
       "      <td>None</td>\n",
       "      <td>7</td>\n",
       "      <td>1680</td>\n",
       "      <td>Cape Cod</td>\n",
       "      <td>Wood</td>\n",
       "      <td>1.5</td>\n",
       "      <td>...</td>\n",
       "      <td>1336.0</td>\n",
       "      <td>1</td>\n",
       "      <td>6.0</td>\n",
       "      <td>2</td>\n",
       "      <td>1</td>\n",
       "      <td>10777</td>\n",
       "      <td>2024-01-30</td>\n",
       "      <td>86000.0</td>\n",
       "      <td>43.094011</td>\n",
       "      <td>-87.960888</td>\n",
       "    </tr>\n",
       "    <tr>\n",
       "      <th>395</th>\n",
       "      <td>138523</td>\n",
       "      <td>Residential</td>\n",
       "      <td>2470819000</td>\n",
       "      <td>4219 N 38TH ST</td>\n",
       "      <td>None</td>\n",
       "      <td>7</td>\n",
       "      <td>1680</td>\n",
       "      <td>Cape Cod</td>\n",
       "      <td>Wood</td>\n",
       "      <td>1.5</td>\n",
       "      <td>...</td>\n",
       "      <td>1336.0</td>\n",
       "      <td>1</td>\n",
       "      <td>6.0</td>\n",
       "      <td>2</td>\n",
       "      <td>1</td>\n",
       "      <td>10777</td>\n",
       "      <td>2024-05-14</td>\n",
       "      <td>225000.0</td>\n",
       "      <td>43.094011</td>\n",
       "      <td>-87.960888</td>\n",
       "    </tr>\n",
       "    <tr>\n",
       "      <th>397</th>\n",
       "      <td>138724</td>\n",
       "      <td>Residential</td>\n",
       "      <td>2471451000</td>\n",
       "      <td>4326 N 37TH ST</td>\n",
       "      <td>None</td>\n",
       "      <td>7</td>\n",
       "      <td>1680</td>\n",
       "      <td>Res O/S 2sty +</td>\n",
       "      <td>Aluminum/Vinyl</td>\n",
       "      <td>2.0</td>\n",
       "      <td>...</td>\n",
       "      <td>1799.0</td>\n",
       "      <td>1</td>\n",
       "      <td>3.0</td>\n",
       "      <td>1</td>\n",
       "      <td>1</td>\n",
       "      <td>16256</td>\n",
       "      <td>2024-03-01</td>\n",
       "      <td>170000.0</td>\n",
       "      <td>47.281514</td>\n",
       "      <td>-122.494897</td>\n",
       "    </tr>\n",
       "  </tbody>\n",
       "</table>\n",
       "<p>5 rows × 22 columns</p>\n",
       "</div>"
      ],
      "text/plain": [
       "     PropertyID     PropType      taxkey         Address CondoProject  \\\n",
       "324      132147  Residential  2260902000  4414 N 65TH ST         None   \n",
       "325      132147  Residential  2260902000  4414 N 65TH ST         None   \n",
       "394      138523  Residential  2470819000  4219 N 38TH ST         None   \n",
       "395      138523  Residential  2470819000  4219 N 38TH ST         None   \n",
       "397      138724  Residential  2471451000  4326 N 37TH ST         None   \n",
       "\n",
       "     District  nbhd           Style         Extwall  Stories  ...  \\\n",
       "324         2  1490           Ranch  Aluminum/Vinyl      1.0  ...   \n",
       "325         2  1490           Ranch  Aluminum/Vinyl      1.0  ...   \n",
       "394         7  1680        Cape Cod            Wood      1.5  ...   \n",
       "395         7  1680        Cape Cod            Wood      1.5  ...   \n",
       "397         7  1680  Res O/S 2sty +  Aluminum/Vinyl      2.0  ...   \n",
       "\n",
       "     FinishedSqft  Units  Bdrms  Fbath  Hbath  Lotsize   Sale_date  \\\n",
       "324         761.0      1    2.0      1      0     5460  2024-02-27   \n",
       "325         761.0      1    2.0      1      0     5460  2024-05-31   \n",
       "394        1336.0      1    6.0      2      1    10777  2024-01-30   \n",
       "395        1336.0      1    6.0      2      1    10777  2024-05-14   \n",
       "397        1799.0      1    3.0      1      1    16256  2024-03-01   \n",
       "\n",
       "     Sale_price        lat        long  \n",
       "324    105000.0  43.097660  -87.992909  \n",
       "325    225000.0  43.097660  -87.992909  \n",
       "394     86000.0  43.094011  -87.960888  \n",
       "395    225000.0  43.094011  -87.960888  \n",
       "397    170000.0  47.281514 -122.494897  \n",
       "\n",
       "[5 rows x 22 columns]"
      ]
     },
     "execution_count": 106,
     "metadata": {},
     "output_type": "execute_result"
    }
   ],
   "source": [
    "df[df[\"taxkey\"].isin(duplicated_prop_id[\"taxkey\"])].head(5)"
   ]
  },
  {
   "cell_type": "code",
   "execution_count": 94,
   "metadata": {},
   "outputs": [
    {
     "data": {
      "text/plain": [
       "np.float64(0.9983724443997694)"
      ]
     },
     "execution_count": 94,
     "metadata": {},
     "output_type": "execute_result"
    }
   ],
   "source": [
    "duplicated_taxkey.select_dtypes(include=np.number).corr()[\"PropertyID\"][\"taxkey\"]"
   ]
  },
  {
   "cell_type": "markdown",
   "metadata": {},
   "source": [
    "## Address"
   ]
  },
  {
   "cell_type": "code",
   "execution_count": 108,
   "metadata": {},
   "outputs": [],
   "source": [
    "def create_geopy_converter() -> Nominatim:\n",
    "    return Nominatim(user_agent=\"Geopy Library\")\n",
    "\n",
    "\n",
    "def us_addr_lat_long_converter(\n",
    "    addr: str, converter: Optional[Nominatim] = None\n",
    ") -> Tuple[str, str]:\n",
    "    print(\"convert addr:\", addr)\n",
    "    if not converter:\n",
    "        converter = create_geopy_converter()\n",
    "    try:\n",
    "        location = converter.geocode(addr)\n",
    "        print(f\"Lat long for addr {addr} is {location.latitude}, {location.longitude}\")\n",
    "        return location.latitude, location.longitude\n",
    "    except Exception as e:\n",
    "        print(f\"Can't convert Address: {addr} because {e}\")\n",
    "        return None, None"
   ]
  },
  {
   "cell_type": "code",
   "execution_count": 109,
   "metadata": {},
   "outputs": [
    {
     "name": "stdout",
     "output_type": "stream",
     "text": [
      "NA values: 0\n",
      "Unique percentage: 0.99\n",
      "Unique absolute: 1409\n"
     ]
    }
   ],
   "source": [
    "basis_statistical_values(df, \"Address\")"
   ]
  },
  {
   "cell_type": "code",
   "execution_count": 110,
   "metadata": {},
   "outputs": [],
   "source": [
    "LATLON_FILEPATH = os.path.join(DATA_PATH, \"latlon_\" + FILE_NAME)"
   ]
  },
  {
   "cell_type": "code",
   "execution_count": 111,
   "metadata": {},
   "outputs": [
    {
     "data": {
      "text/html": [
       "<div>\n",
       "<style scoped>\n",
       "    .dataframe tbody tr th:only-of-type {\n",
       "        vertical-align: middle;\n",
       "    }\n",
       "\n",
       "    .dataframe tbody tr th {\n",
       "        vertical-align: top;\n",
       "    }\n",
       "\n",
       "    .dataframe thead th {\n",
       "        text-align: right;\n",
       "    }\n",
       "</style>\n",
       "<table border=\"1\" class=\"dataframe\">\n",
       "  <thead>\n",
       "    <tr style=\"text-align: right;\">\n",
       "      <th></th>\n",
       "      <th>PropertyID</th>\n",
       "      <th>PropType</th>\n",
       "      <th>taxkey</th>\n",
       "      <th>Address</th>\n",
       "      <th>CondoProject</th>\n",
       "      <th>District</th>\n",
       "      <th>nbhd</th>\n",
       "      <th>Style</th>\n",
       "      <th>Extwall</th>\n",
       "      <th>Stories</th>\n",
       "      <th>...</th>\n",
       "      <th>FinishedSqft</th>\n",
       "      <th>Units</th>\n",
       "      <th>Bdrms</th>\n",
       "      <th>Fbath</th>\n",
       "      <th>Hbath</th>\n",
       "      <th>Lotsize</th>\n",
       "      <th>Sale_date</th>\n",
       "      <th>Sale_price</th>\n",
       "      <th>lat</th>\n",
       "      <th>long</th>\n",
       "    </tr>\n",
       "  </thead>\n",
       "  <tbody>\n",
       "    <tr>\n",
       "      <th>0</th>\n",
       "      <td>98423</td>\n",
       "      <td>Commercial</td>\n",
       "      <td>10021000</td>\n",
       "      <td>9300 N 124TH ST</td>\n",
       "      <td>None</td>\n",
       "      <td>9</td>\n",
       "      <td>6202</td>\n",
       "      <td>Warehouse Building - 1 Story</td>\n",
       "      <td>Metal Siding</td>\n",
       "      <td>1.0</td>\n",
       "      <td>...</td>\n",
       "      <td>5834.0</td>\n",
       "      <td>1</td>\n",
       "      <td>NaN</td>\n",
       "      <td>0</td>\n",
       "      <td>0</td>\n",
       "      <td>392040</td>\n",
       "      <td>2024-01-24</td>\n",
       "      <td>500000.0</td>\n",
       "      <td>43.186605</td>\n",
       "      <td>-88.062724</td>\n",
       "    </tr>\n",
       "    <tr>\n",
       "      <th>1</th>\n",
       "      <td>98576</td>\n",
       "      <td>Residential</td>\n",
       "      <td>50057000</td>\n",
       "      <td>9311 N 85TH ST</td>\n",
       "      <td>None</td>\n",
       "      <td>9</td>\n",
       "      <td>40</td>\n",
       "      <td>Split Level</td>\n",
       "      <td>Aluminum/Vinyl</td>\n",
       "      <td>1.0</td>\n",
       "      <td>...</td>\n",
       "      <td>1668.0</td>\n",
       "      <td>1</td>\n",
       "      <td>3.0</td>\n",
       "      <td>1</td>\n",
       "      <td>1</td>\n",
       "      <td>12900</td>\n",
       "      <td>2024-03-08</td>\n",
       "      <td>250000.0</td>\n",
       "      <td>43.186697</td>\n",
       "      <td>-88.016081</td>\n",
       "    </tr>\n",
       "    <tr>\n",
       "      <th>2</th>\n",
       "      <td>98722</td>\n",
       "      <td>Condominium</td>\n",
       "      <td>70043000</td>\n",
       "      <td>9232 N 70TH ST, Unit 7</td>\n",
       "      <td>NORTHRIDGE WOOD LAKE</td>\n",
       "      <td>9</td>\n",
       "      <td>5010</td>\n",
       "      <td>Condo Townhouse</td>\n",
       "      <td>None</td>\n",
       "      <td>2.0</td>\n",
       "      <td>...</td>\n",
       "      <td>1437.0</td>\n",
       "      <td>1</td>\n",
       "      <td>4.0</td>\n",
       "      <td>2</td>\n",
       "      <td>1</td>\n",
       "      <td>0</td>\n",
       "      <td>2024-01-10</td>\n",
       "      <td>120000.0</td>\n",
       "      <td>40.268082</td>\n",
       "      <td>-76.767213</td>\n",
       "    </tr>\n",
       "    <tr>\n",
       "      <th>3</th>\n",
       "      <td>98901</td>\n",
       "      <td>Condominium</td>\n",
       "      <td>310286000</td>\n",
       "      <td>9103 N 70TH ST</td>\n",
       "      <td>NORTHRIDGE EASTBAY</td>\n",
       "      <td>9</td>\n",
       "      <td>5020</td>\n",
       "      <td>Condo Townhouse</td>\n",
       "      <td>None</td>\n",
       "      <td>2.0</td>\n",
       "      <td>...</td>\n",
       "      <td>1295.0</td>\n",
       "      <td>1</td>\n",
       "      <td>2.0</td>\n",
       "      <td>1</td>\n",
       "      <td>1</td>\n",
       "      <td>1</td>\n",
       "      <td>2024-02-09</td>\n",
       "      <td>124000.0</td>\n",
       "      <td>43.183954</td>\n",
       "      <td>-87.998814</td>\n",
       "    </tr>\n",
       "    <tr>\n",
       "      <th>4</th>\n",
       "      <td>99216</td>\n",
       "      <td>Residential</td>\n",
       "      <td>330127000</td>\n",
       "      <td>9115 N 86TH ST</td>\n",
       "      <td>None</td>\n",
       "      <td>9</td>\n",
       "      <td>40</td>\n",
       "      <td>Ranch</td>\n",
       "      <td>Aluminum/Vinyl</td>\n",
       "      <td>1.0</td>\n",
       "      <td>...</td>\n",
       "      <td>1467.0</td>\n",
       "      <td>1</td>\n",
       "      <td>3.0</td>\n",
       "      <td>1</td>\n",
       "      <td>1</td>\n",
       "      <td>7808</td>\n",
       "      <td>2024-05-17</td>\n",
       "      <td>305000.0</td>\n",
       "      <td>43.183552</td>\n",
       "      <td>-88.017922</td>\n",
       "    </tr>\n",
       "    <tr>\n",
       "      <th>...</th>\n",
       "      <td>...</td>\n",
       "      <td>...</td>\n",
       "      <td>...</td>\n",
       "      <td>...</td>\n",
       "      <td>...</td>\n",
       "      <td>...</td>\n",
       "      <td>...</td>\n",
       "      <td>...</td>\n",
       "      <td>...</td>\n",
       "      <td>...</td>\n",
       "      <td>...</td>\n",
       "      <td>...</td>\n",
       "      <td>...</td>\n",
       "      <td>...</td>\n",
       "      <td>...</td>\n",
       "      <td>...</td>\n",
       "      <td>...</td>\n",
       "      <td>...</td>\n",
       "      <td>...</td>\n",
       "      <td>...</td>\n",
       "      <td>...</td>\n",
       "    </tr>\n",
       "    <tr>\n",
       "      <th>1412</th>\n",
       "      <td>259692</td>\n",
       "      <td>Residential</td>\n",
       "      <td>6890106000</td>\n",
       "      <td>6016 S 19TH ST</td>\n",
       "      <td>None</td>\n",
       "      <td>13</td>\n",
       "      <td>4860</td>\n",
       "      <td>Ranch</td>\n",
       "      <td>Brick</td>\n",
       "      <td>1.0</td>\n",
       "      <td>...</td>\n",
       "      <td>1621.0</td>\n",
       "      <td>1</td>\n",
       "      <td>3.0</td>\n",
       "      <td>2</td>\n",
       "      <td>1</td>\n",
       "      <td>11520</td>\n",
       "      <td>2024-03-05</td>\n",
       "      <td>328000.0</td>\n",
       "      <td>42.935870</td>\n",
       "      <td>-87.937751</td>\n",
       "    </tr>\n",
       "    <tr>\n",
       "      <th>1413</th>\n",
       "      <td>260094</td>\n",
       "      <td>Residential</td>\n",
       "      <td>6900822000</td>\n",
       "      <td>2217 W BRIDGE ST</td>\n",
       "      <td>None</td>\n",
       "      <td>13</td>\n",
       "      <td>4860</td>\n",
       "      <td>Ranch</td>\n",
       "      <td>Aluminum/Vinyl</td>\n",
       "      <td>1.0</td>\n",
       "      <td>...</td>\n",
       "      <td>1544.0</td>\n",
       "      <td>1</td>\n",
       "      <td>6.0</td>\n",
       "      <td>1</td>\n",
       "      <td>1</td>\n",
       "      <td>7440</td>\n",
       "      <td>2024-03-05</td>\n",
       "      <td>336000.0</td>\n",
       "      <td>42.934667</td>\n",
       "      <td>-87.942501</td>\n",
       "    </tr>\n",
       "    <tr>\n",
       "      <th>1414</th>\n",
       "      <td>260191</td>\n",
       "      <td>Residential</td>\n",
       "      <td>6909902000</td>\n",
       "      <td>2135 W MANGOLD AV</td>\n",
       "      <td>None</td>\n",
       "      <td>13</td>\n",
       "      <td>4860</td>\n",
       "      <td>Cottage</td>\n",
       "      <td>Aluminum/Vinyl</td>\n",
       "      <td>1.0</td>\n",
       "      <td>...</td>\n",
       "      <td>1349.0</td>\n",
       "      <td>1</td>\n",
       "      <td>4.0</td>\n",
       "      <td>1</td>\n",
       "      <td>0</td>\n",
       "      <td>19680</td>\n",
       "      <td>2024-02-29</td>\n",
       "      <td>205000.0</td>\n",
       "      <td>42.932268</td>\n",
       "      <td>-87.941911</td>\n",
       "    </tr>\n",
       "    <tr>\n",
       "      <th>1415</th>\n",
       "      <td>260207</td>\n",
       "      <td>Residential</td>\n",
       "      <td>6909918000</td>\n",
       "      <td>2240 W MANGOLD AV</td>\n",
       "      <td>None</td>\n",
       "      <td>13</td>\n",
       "      <td>4860</td>\n",
       "      <td>Res O/S A &amp; 1/2</td>\n",
       "      <td>Aluminum/Vinyl</td>\n",
       "      <td>1.5</td>\n",
       "      <td>...</td>\n",
       "      <td>1402.0</td>\n",
       "      <td>1</td>\n",
       "      <td>3.0</td>\n",
       "      <td>1</td>\n",
       "      <td>0</td>\n",
       "      <td>16320</td>\n",
       "      <td>2024-03-22</td>\n",
       "      <td>267000.0</td>\n",
       "      <td>42.932854</td>\n",
       "      <td>-87.943187</td>\n",
       "    </tr>\n",
       "    <tr>\n",
       "      <th>1416</th>\n",
       "      <td>260229</td>\n",
       "      <td>Residential</td>\n",
       "      <td>6909944100</td>\n",
       "      <td>2277 W KIMBERLY AV</td>\n",
       "      <td>None</td>\n",
       "      <td>13</td>\n",
       "      <td>4860</td>\n",
       "      <td>Res O/S A &amp; 1/2</td>\n",
       "      <td>Wood</td>\n",
       "      <td>1.5</td>\n",
       "      <td>...</td>\n",
       "      <td>1698.0</td>\n",
       "      <td>1</td>\n",
       "      <td>3.0</td>\n",
       "      <td>1</td>\n",
       "      <td>1</td>\n",
       "      <td>9120</td>\n",
       "      <td>2024-02-05</td>\n",
       "      <td>125000.0</td>\n",
       "      <td>42.933743</td>\n",
       "      <td>-87.944211</td>\n",
       "    </tr>\n",
       "  </tbody>\n",
       "</table>\n",
       "<p>1417 rows × 22 columns</p>\n",
       "</div>"
      ],
      "text/plain": [
       "      PropertyID     PropType      taxkey                 Address  \\\n",
       "0          98423   Commercial    10021000         9300 N 124TH ST   \n",
       "1          98576  Residential    50057000          9311 N 85TH ST   \n",
       "2          98722  Condominium    70043000  9232 N 70TH ST, Unit 7   \n",
       "3          98901  Condominium   310286000          9103 N 70TH ST   \n",
       "4          99216  Residential   330127000          9115 N 86TH ST   \n",
       "...          ...          ...         ...                     ...   \n",
       "1412      259692  Residential  6890106000          6016 S 19TH ST   \n",
       "1413      260094  Residential  6900822000        2217 W BRIDGE ST   \n",
       "1414      260191  Residential  6909902000       2135 W MANGOLD AV   \n",
       "1415      260207  Residential  6909918000       2240 W MANGOLD AV   \n",
       "1416      260229  Residential  6909944100      2277 W KIMBERLY AV   \n",
       "\n",
       "              CondoProject  District  nbhd                         Style  \\\n",
       "0                     None         9  6202  Warehouse Building - 1 Story   \n",
       "1                     None         9    40                   Split Level   \n",
       "2     NORTHRIDGE WOOD LAKE         9  5010               Condo Townhouse   \n",
       "3       NORTHRIDGE EASTBAY         9  5020               Condo Townhouse   \n",
       "4                     None         9    40                         Ranch   \n",
       "...                    ...       ...   ...                           ...   \n",
       "1412                  None        13  4860                         Ranch   \n",
       "1413                  None        13  4860                         Ranch   \n",
       "1414                  None        13  4860                       Cottage   \n",
       "1415                  None        13  4860               Res O/S A & 1/2   \n",
       "1416                  None        13  4860               Res O/S A & 1/2   \n",
       "\n",
       "             Extwall  Stories  ...  FinishedSqft  Units  Bdrms  Fbath  Hbath  \\\n",
       "0       Metal Siding      1.0  ...        5834.0      1    NaN      0      0   \n",
       "1     Aluminum/Vinyl      1.0  ...        1668.0      1    3.0      1      1   \n",
       "2               None      2.0  ...        1437.0      1    4.0      2      1   \n",
       "3               None      2.0  ...        1295.0      1    2.0      1      1   \n",
       "4     Aluminum/Vinyl      1.0  ...        1467.0      1    3.0      1      1   \n",
       "...              ...      ...  ...           ...    ...    ...    ...    ...   \n",
       "1412           Brick      1.0  ...        1621.0      1    3.0      2      1   \n",
       "1413  Aluminum/Vinyl      1.0  ...        1544.0      1    6.0      1      1   \n",
       "1414  Aluminum/Vinyl      1.0  ...        1349.0      1    4.0      1      0   \n",
       "1415  Aluminum/Vinyl      1.5  ...        1402.0      1    3.0      1      0   \n",
       "1416            Wood      1.5  ...        1698.0      1    3.0      1      1   \n",
       "\n",
       "      Lotsize   Sale_date  Sale_price        lat       long  \n",
       "0      392040  2024-01-24    500000.0  43.186605 -88.062724  \n",
       "1       12900  2024-03-08    250000.0  43.186697 -88.016081  \n",
       "2           0  2024-01-10    120000.0  40.268082 -76.767213  \n",
       "3           1  2024-02-09    124000.0  43.183954 -87.998814  \n",
       "4        7808  2024-05-17    305000.0  43.183552 -88.017922  \n",
       "...       ...         ...         ...        ...        ...  \n",
       "1412    11520  2024-03-05    328000.0  42.935870 -87.937751  \n",
       "1413     7440  2024-03-05    336000.0  42.934667 -87.942501  \n",
       "1414    19680  2024-02-29    205000.0  42.932268 -87.941911  \n",
       "1415    16320  2024-03-22    267000.0  42.932854 -87.943187  \n",
       "1416     9120  2024-02-05    125000.0  42.933743 -87.944211  \n",
       "\n",
       "[1417 rows x 22 columns]"
      ]
     },
     "execution_count": 111,
     "metadata": {},
     "output_type": "execute_result"
    }
   ],
   "source": [
    "if os.path.exists(LATLON_FILEPATH):\n",
    "    df = pd.read_parquet(LATLON_FILEPATH)\n",
    "else:\n",
    "    converter = create_geopy_converter()\n",
    "    lat_long = df[\"Address\"].apply(\n",
    "        lambda addr: us_addr_lat_long_converter(addr, converter)\n",
    "    )\n",
    "    lat, long = zip(*lat_long)\n",
    "    df[\"lat\"] = lat\n",
    "    df[\"long\"] = long\n",
    "    df.to_parquet(LATLON_FILEPATH)\n",
    "df"
   ]
  },
  {
   "cell_type": "code",
   "execution_count": 112,
   "metadata": {},
   "outputs": [
    {
     "data": {
      "application/vnd.plotly.v1+json": {
       "config": {
        "plotlyServerURL": "https://plot.ly"
       },
       "data": [
        {
         "customdata": [
          [
           "9300 N 124TH ST",
           500000,
           2002,
           null,
           5834,
           6202
          ],
          [
           "9311 N 85TH ST",
           250000,
           1985,
           6,
           1668,
           40
          ],
          [
           "9232 N 70TH ST, Unit 7",
           120000,
           1973,
           7,
           1437,
           5010
          ],
          [
           "9103 N 70TH ST",
           124000,
           1973,
           5,
           1295,
           5020
          ],
          [
           "9115 N 86TH ST",
           305000,
           1978,
           6,
           1467,
           40
          ],
          [
           "8427 W ALLYN CT",
           60000,
           1980,
           5,
           1018,
           5049
          ],
          [
           "8866 N 95TH ST, Unit d",
           35000,
           1970,
           5,
           1054,
           5060
          ],
          [
           "8872 N 95TH ST, Unit h",
           59500,
           1970,
           5,
           1054,
           5060
          ],
          [
           "8859 N SWAN RD, Unit m",
           80000,
           1970,
           6,
           1249,
           5060
          ],
          [
           "8877 N SWAN RD, Unit B",
           60000,
           1970,
           5,
           1054,
           5060
          ],
          [
           "8910 N 95TH ST, Unit m",
           27500,
           1970,
           6,
           1249,
           5060
          ],
          [
           "8931 N SWAN RD, Unit g",
           75500,
           1970,
           5,
           1054,
           5060
          ],
          [
           "9011 N SWAN RD, Unit b",
           62000,
           1970,
           5,
           1054,
           5060
          ],
          [
           "9021 N SWAN RD, Unit e",
           40000,
           1970,
           5,
           1054,
           5060
          ],
          [
           "9150-9152 N 95TH ST",
           250000,
           1979,
           12,
           2902,
           40
          ],
          [
           "8645 N 116TH ST",
           45400,
           0,
           null,
           0,
           240
          ],
          [
           "10810 W DONNA DR",
           77000,
           1979,
           4,
           872,
           5065
          ],
          [
           "8452 N 103RD ST",
           450000,
           2005,
           9,
           2571,
           240
          ],
          [
           "8722-8740 N GRANVILLE RD",
           1000000,
           1930,
           null,
           6720,
           6202
          ],
          [
           "8551 N SERVITE DR, Unit 218",
           60000,
           1974,
           4,
           1056,
           5070
          ],
          [
           "8631 N SERVITE DR, Unit 117",
           98000,
           1974,
           4,
           1040,
           5070
          ],
          [
           "8645 N SERVITE DR, Unit 110",
           115000,
           1974,
           6,
           1496,
           5070
          ],
          [
           "8643 N SERVITE DR, Unit 218",
           70000,
           1974,
           4,
           1056,
           5070
          ],
          [
           "7853 W HEATHER AV",
           110000,
           1978,
           5,
           1292,
           5069
          ],
          [
           "8735 N 72ND ST, Unit 209",
           75000,
           1973,
           4,
           863,
           5081
          ],
          [
           "8730 N 76TH PL",
           241500,
           1928,
           7,
           1335,
           40
          ],
          [
           "7820 W BRADLEY RD",
           333000,
           1954,
           6,
           1485,
           240
          ],
          [
           "9616 W BRADLEY RD",
           129900,
           1974,
           10,
           1068,
           5090
          ],
          [
           "8268 N 97TH ST",
           312000,
           1995,
           12,
           1494,
           240
          ],
          [
           "9607 W ARCH AV",
           225000,
           1980,
           5,
           1077,
           240
          ],
          [
           "9243 W GREEN VIEW CT",
           172000,
           1982,
           null,
           1067,
           5091
          ],
          [
           "8122 N 97TH CT",
           169900,
           1986,
           5,
           981,
           5091
          ],
          [
           "10227 W ARCH AV",
           319900,
           1969,
           5,
           1336,
           240
          ],
          [
           "10109 W TOWER AV",
           365000,
           1966,
           7,
           1624,
           240
          ],
          [
           "10431 W SYLVIA ST",
           202000,
           1976,
           6,
           1324,
           240
          ],
          [
           "8384 N CELINA ST",
           251000,
           1976,
           5,
           906,
           240
          ],
          [
           "11102 W CALUMET RD",
           295000,
           1956,
           6,
           2117,
           440
          ],
          [
           "7972 N 107TH ST, Unit 6",
           144350,
           1999,
           10,
           1125,
           5103
          ],
          [
           "7972 N 107TH ST, Unit 11",
           168000,
           1999,
           5,
           1089,
           5103
          ],
          [
           "7984 N 107TH ST, Unit 8",
           102000,
           1999,
           4,
           788,
           5103
          ],
          [
           "7910 N GRANVILLE RD",
           420000,
           2008,
           6,
           3021,
           240
          ],
          [
           "7764 N 81ST ST",
           1000000,
           1990,
           null,
           13811,
           6202
          ],
          [
           "6109 W CALUMET RD",
           99900,
           1970,
           6,
           1273,
           5120
          ],
          [
           "6007 W CALUMET RD",
           80900,
           1970,
           6,
           1311,
           5120
          ],
          [
           "6120 W PORT AV",
           99000,
           1970,
           5,
           1463,
           5110
          ],
          [
           "6278 W PORT AV",
           87000,
           1970,
           4,
           1056,
           5111
          ],
          [
           "6236 W PORT AV",
           88000,
           1970,
           4,
           1056,
           5111
          ],
          [
           "6158 W PORT AV",
           90000,
           1970,
           4,
           1056,
           5111
          ],
          [
           "7833 N 60TH ST, Unit F",
           90000,
           1967,
           6,
           1335,
           5125
          ],
          [
           "6041 W PORT AV, Unit C",
           45500,
           1972,
           4,
           1249,
           5124
          ],
          [
           "6010 W CALUMET RD, Unit A",
           57000,
           1972,
           4,
           1003,
           5124
          ],
          [
           "6010 W CALUMET RD, Unit C",
           50000,
           1972,
           3,
           772,
           5124
          ],
          [
           "6050 W CALUMET RD, Unit B",
           65000,
           1972,
           4,
           1003,
           5124
          ],
          [
           "7832 N EDGEWORTH DR",
           220000,
           1958,
           6,
           1200,
           360
          ],
          [
           "7852 N FAIRWAY PL",
           175500,
           1960,
           6,
           1619,
           360
          ],
          [
           "5231 W PARKLAND AV",
           280000,
           1957,
           5,
           1494,
           360
          ],
          [
           "7724 N HIGHVIEW DR",
           195000,
           1958,
           5,
           1110,
           360
          ],
          [
           "7661 N DELTA PL",
           278000,
           1957,
           7,
           1450,
           360
          ],
          [
           "5609 W CALUMET RD",
           257400,
           1957,
           7,
           1727,
           360
          ],
          [
           "4026 W PORTAGE ST",
           205000,
           1954,
           5,
           1396,
           380
          ],
          [
           "3818 W CLINTON AV",
           212000,
           1982,
           5,
           1007,
           380
          ],
          [
           "7436 N TEUTONIA AV",
           340000,
           1983,
           null,
           4086,
           6216
          ],
          [
           "3724 W GOOD HOPE RD",
           188000,
           1937,
           6,
           1281,
           380
          ],
          [
           "7450-ADJ N TEUTONIA AV",
           340000,
           1955,
           null,
           6975,
           6216
          ],
          [
           "7500 N 52ND ST",
           250000,
           1957,
           5,
           1041,
           360
          ],
          [
           "5305 W CALUMET RD",
           210000,
           1957,
           5,
           1097,
           360
          ],
          [
           "7547 N 53RD ST",
           196000,
           1959,
           5,
           1225,
           360
          ],
          [
           "7516 N 107TH ST",
           412500,
           1948,
           5,
           2589,
           440
          ],
          [
           "7220 N CASSIE AV",
           465000,
           0,
           null,
           0,
           820
          ],
          [
           "7050 N 124TH ST",
           405000,
           1976,
           7,
           2150,
           820
          ],
          [
           "7014 N 97TH ST",
           332000,
           1963,
           7,
           1632,
           440
          ],
          [
           "7144 N PARK MANOR DR",
           330000,
           1964,
           7,
           1551,
           440
          ],
          [
           "8618 W SPOKANE ST",
           275000,
           1968,
           7,
           1636,
           480
          ],
          [
           "7845 W DENVER AV",
           220000,
           1971,
           5,
           1111,
           480
          ],
          [
           "6971 N 77TH CT",
           250000,
           1977,
           6,
           1512,
           480
          ],
          [
           "7707 W HUSTIS ST",
           256000,
           1975,
           6,
           1630,
           480
          ],
          [
           "6936 N 61ST ST",
           180000,
           1965,
           5,
           1006,
           520
          ],
          [
           "6944 N 61ST ST",
           189000,
           1965,
           6,
           1227,
           520
          ],
          [
           "4515 W KILEY AV",
           190000,
           1964,
           5,
           1138,
           600
          ],
          [
           "4617 W GOOD HOPE RD",
           245000,
           1961,
           5,
           1185,
           600
          ],
          [
           "7080 N 44TH ST",
           210000,
           1930,
           10,
           1911,
           600
          ],
          [
           "4347 W GOOD HOPE RD",
           120000,
           1952,
           4,
           1043,
           600
          ],
          [
           "4409 W GOOD HOPE RD",
           281500,
           1934,
           6,
           1469,
           600
          ],
          [
           "4131-4133 W KILEY AV",
           177500,
           1960,
           10,
           1970,
           600
          ],
          [
           "6910 N 40TH ST",
           193000,
           1960,
           5,
           1144,
           600
          ],
          [
           "6900 N 43RD ST",
           410000,
           1937,
           null,
           3828,
           6216
          ],
          [
           "6901-6903 N 42ND ST",
           226000,
           1966,
           10,
           2170,
           600
          ],
          [
           "6411 N 49TH ST",
           191000,
           1963,
           5,
           1033,
           560
          ],
          [
           "4706 W BRENTWOOD AV",
           265000,
           1962,
           5,
           1132,
           560
          ],
          [
           "6542 N 51ST ST",
           222650,
           1967,
           5,
           1025,
           560
          ],
          [
           "6725 N 54TH ST",
           315000,
           1935,
           7,
           1798,
           560
          ],
          [
           "6547 N 54TH ST",
           104900,
           1937,
           5,
           1060,
           560
          ],
          [
           "5230 W MILL RD",
           84500,
           1940,
           6,
           1403,
           560
          ],
          [
           "6559-6561 N 73RD ST",
           239900,
           1969,
           10,
           2426,
           660
          ],
          [
           "6573 N LANDERS ST",
           229000,
           1969,
           5,
           1062,
           660
          ],
          [
           "6715 N 78TH ST",
           222000,
           1960,
           5,
           936,
           480
          ],
          [
           "6683 N 78TH ST",
           147500,
           1960,
           5,
           936,
           480
          ],
          [
           "6666 N 91ST ST",
           305000,
           1956,
           6,
           1378,
           480
          ],
          [
           "8778 W ACACIA ST",
           175000,
           1958,
           5,
           1049,
           480
          ],
          [
           "6550 N FRESNO ST",
           215000,
           1957,
           5,
           1000,
           480
          ],
          [
           "8853 W BRENTWOOD AV",
           265000,
           1957,
           5,
           1120,
           480
          ],
          [
           "8401 W BRENTWOOD AV",
           195000,
           1959,
           6,
           1084,
           480
          ],
          [
           "6609 N 86TH ST",
           210000,
           1958,
           5,
           1056,
           480
          ],
          [
           "6543 N 85TH ST",
           229900,
           1957,
           5,
           1050,
           480
          ],
          [
           "6547 N 83RD ST",
           235000,
           1957,
           5,
           1051,
           480
          ],
          [
           "6525 N 81ST ST",
           169900,
           1957,
           5,
           1069,
           480
          ],
          [
           "8141 W CLOVERNOOK ST",
           195000,
           1959,
           5,
           1256,
           480
          ],
          [
           "8259 W ACACIA ST",
           195000,
           1956,
           5,
           948,
           480
          ],
          [
           "6710 N 81ST ST",
           226000,
           1958,
           5,
           1057,
           480
          ],
          [
           "8100 W CASPER ST",
           199900,
           1958,
           5,
           983,
           480
          ],
          [
           "8255 W GREEN TREE RD",
           225000,
           1958,
           5,
           1233,
           480
          ],
          [
           "9309 W RIVERWOODS DR",
           515000,
           2002,
           10,
           3330,
           480
          ],
          [
           "6639 N 91ST ST",
           345000,
           1890,
           12,
           2717,
           480
          ],
          [
           "6663 N BOURBON ST",
           100000,
           1972,
           5,
           1122,
           5140
          ],
          [
           "6665 N BOURBON ST",
           73000,
           1972,
           5,
           1122,
           5140
          ],
          [
           "10339 W DAPHNE ST",
           205000,
           1982,
           10,
           2402,
           820
          ],
          [
           "10403-10405 W KIEHNAU AV",
           210000,
           1980,
           10,
           2402,
           820
          ],
          [
           "6562 N 106TH ST",
           210000,
           1982,
           10,
           2402,
           820
          ],
          [
           "6483 N 105TH ST",
           210000,
           1984,
           10,
           2402,
           820
          ],
          [
           "11910 W MILL RD, Unit 25",
           111200,
           1971,
           4,
           865,
           5170
          ],
          [
           "11926 W MILL RD, Unit 22",
           154000,
           1971,
           8,
           1056,
           5170
          ],
          [
           "11936 W MILL RD, Unit 2",
           130000,
           1971,
           4,
           1056,
           5170
          ],
          [
           "11937 W APPLETON AV, Unit 21",
           169900,
           1971,
           8,
           1056,
           5170
          ],
          [
           "11927 W APPLETON AV, Unit 10",
           135000,
           1971,
           4,
           1056,
           5170
          ],
          [
           "11927 W APPLETON AV, Unit 17",
           115500,
           1971,
           4,
           865,
           5170
          ],
          [
           "11907 W APPLETON AV, Unit 12",
           80000,
           1971,
           3,
           625,
           5170
          ],
          [
           "11907 W APPLETON AV, Unit 24",
           82000,
           1971,
           3,
           625,
           5170
          ],
          [
           "11901 W APPLETON AV, Unit 16",
           179000,
           1971,
           4,
           1056,
           5170
          ],
          [
           "6105 N 113TH ST",
           281500,
           1970,
           6,
           1506,
           780
          ],
          [
           "6248 N 103RD ST",
           175000,
           1971,
           6,
           1120,
           820
          ],
          [
           "6335 N 102ND ST",
           310000,
           1972,
           6,
           1144,
           820
          ],
          [
           "6336 N 107TH ST",
           237000,
           1959,
           8,
           2111,
           820
          ],
          [
           "6217 N 95TH ST",
           184200,
           1961,
           6,
           1393,
           50
          ],
          [
           "6172 N JOYCE AV",
           180000,
           1957,
           4,
           743,
           700
          ],
          [
           "6001 N 35TH ST",
           86000,
           1953,
           5,
           1132,
           900
          ],
          [
           "6145 N 37TH ST",
           192000,
           1952,
           5,
           1119,
           900
          ],
          [
           "3801-3803 W DOUGLAS AV",
           210000,
           1955,
           10,
           1728,
           900
          ],
          [
           "2823 W ORIOLE DR",
           162500,
           1933,
           7,
           1434,
           900
          ],
          [
           "5732 N 32ND ST",
           115000,
           1952,
           5,
           882,
           900
          ],
          [
           "5626 N 35TH ST",
           121000,
           1960,
           6,
           1170,
           900
          ],
          [
           "4225 W REICHERT PL",
           158000,
           1926,
           5,
           1621,
           900
          ],
          [
           "5691 N 37TH ST",
           62500,
           1900,
           10,
           933,
           900
          ],
          [
           "5958 N 39TH ST",
           165000,
           1937,
           6,
           1158,
           900
          ],
          [
           "5847 N 39TH ST",
           127000,
           1960,
           6,
           1227,
           900
          ],
          [
           "5838-5840 N 42ND ST",
           163000,
           1948,
           8,
           1836,
           900
          ],
          [
           "5864 N 42ND ST",
           135000,
           1949,
           8,
           1796,
           900
          ],
          [
           "5728 N 57TH ST",
           169900,
           1952,
           6,
           1045,
           960
          ],
          [
           "5742 W SILVER SPRING DR",
           72000,
           1951,
           5,
           1116,
           960
          ],
          [
           "5521 W THURSTON AV",
           135000,
           1952,
           5,
           920,
           960
          ],
          [
           "5868-5870 N 63RD ST",
           145900,
           1957,
           10,
           1940,
           960
          ],
          [
           "5900 N 68TH ST",
           175000,
           1962,
           5,
           1174,
           960
          ],
          [
           "5921 N 66TH ST",
           120000,
           1955,
           5,
           864,
           960
          ],
          [
           "5843 N 67TH ST",
           185000,
           1955,
           5,
           864,
           960
          ],
          [
           "5700-5702 N 62ND ST",
           120000,
           1954,
           10,
           2216,
           960
          ],
          [
           "5730 N 64TH ST",
           83000,
           1955,
           5,
           1008,
           960
          ],
          [
           "6221 W THURSTON CT",
           195000,
           1931,
           26,
           2396,
           960
          ],
          [
           "5629 N 70TH ST",
           190000,
           1955,
           5,
           875,
           980
          ],
          [
           "7330-7332 W SILVER SPRING DR",
           255900,
           1963,
           10,
           2281,
           980
          ],
          [
           "7300 W SILVER SPRING DR",
           150000,
           1954,
           6,
           1202,
           980
          ],
          [
           "6807-6809 W FLORIST AV",
           162500,
           1958,
           8,
           1879,
           960
          ],
          [
           "5837 N 71ST ST",
           172000,
           1955,
           6,
           974,
           980
          ],
          [
           "5763 N 68TH ST",
           96000,
           1955,
           5,
           864,
           960
          ],
          [
           "5710 N 69TH ST",
           183000,
           1963,
           5,
           1113,
           980
          ],
          [
           "5653 N 69TH ST",
           140000,
           1959,
           5,
           910,
           980
          ],
          [
           "6806-6808 W SILVER SPRING DR",
           192000,
           1968,
           10,
           2128,
           980
          ],
          [
           "7329 W THURSTON AV",
           188400,
           1972,
           6,
           1525,
           980
          ],
          [
           "5883 N 84TH ST",
           189900,
           1938,
           6,
           1222,
           980
          ],
          [
           "5717-5719 N 97TH ST",
           240500,
           1960,
           9,
           2245,
           1020
          ],
          [
           "10030 W APPLETON AV",
           315000,
           1963,
           null,
           5160,
           6432
          ],
          [
           "5835 N 113TH ST",
           255000,
           1964,
           5,
           1036,
           780
          ],
          [
           "12120 W WREN CT",
           286000,
           1980,
           5,
           1199,
           780
          ],
          [
           "5601 N LOVERS LANE RD",
           5650000,
           1986,
           null,
           47244,
           6475
          ],
          [
           "5852-5854 N 117TH ST",
           250000,
           1968,
           10,
           2282,
           780
          ],
          [
           "5253 N LOVERS LANE RD, Unit 131",
           60000,
           1972,
           4,
           970,
           5180
          ],
          [
           "5253 N LOVERS LANE RD, Unit 336",
           55000,
           1972,
           4,
           990,
           5180
          ],
          [
           "5253 N LOVERS LANE RD, Unit 338",
           50150,
           1972,
           4,
           990,
           5180
          ],
          [
           "5237 N 107TH ST",
           294000,
           1964,
           9,
           2176,
           1040
          ],
          [
           "5310 N LOVERS LANE RD",
           179000,
           1952,
           4,
           1261,
           1040
          ],
          [
           "10500 W SHERIDAN AV",
           235600,
           1956,
           5,
           967,
           1040
          ],
          [
           "10533 W CUSTER AV",
           308000,
           1955,
           11,
           1174,
           1040
          ],
          [
           "10405 W CUSTER AV",
           190000,
           1956,
           5,
           1132,
           1040
          ],
          [
           "10507 W ROHR AV",
           160000,
           1957,
           5,
           1060,
           1040
          ],
          [
           "10513 W CALDWELL AV",
           286000,
           1956,
           6,
           1309,
           1040
          ],
          [
           "5420 N 103RD ST",
           250000,
           1956,
           6,
           1132,
           1040
          ],
          [
           "9535 W BECKETT AV",
           155000,
           1957,
           5,
           1092,
           1020
          ],
          [
           "5324 N 87TH ST",
           115000,
           1958,
           5,
           936,
           1400
          ],
          [
           "5225 N 81ST ST",
           178000,
           1956,
           5,
           967,
           1400
          ],
          [
           "8246 W SHERIDAN AV",
           189000,
           1957,
           6,
           1274,
           1400
          ],
          [
           "7630 W LEON TRCE, Unit A",
           40000,
           1971,
           4,
           1000,
           5200
          ],
          [
           "5473 N 75TH CT",
           133000,
           1955,
           5,
           864,
           1380
          ],
          [
           "5467 N 74TH ST",
           110000,
           1955,
           5,
           864,
           1380
          ],
          [
           "5501 N PRENTISS ST",
           200000,
           1955,
           5,
           864,
           1380
          ],
          [
           "5436 N 74TH ST",
           200000,
           1955,
           5,
           864,
           1380
          ],
          [
           "7329 W TALLMADGE PL",
           190000,
           1955,
           5,
           981,
           1380
          ],
          [
           "5528 N STRATHMORE AV",
           125000,
           1955,
           5,
           864,
           1380
          ],
          [
           "7204 W GRANTOSA DR",
           135000,
           1950,
           6,
           1364,
           1380
          ],
          [
           "7007 W GRANTOSA DR",
           97000,
           1955,
           4,
           884,
           1380
          ],
          [
           "6730 W VILLARD AV",
           400000,
           1959,
           null,
           2880,
           6218
          ],
          [
           "5325 N 60TH ST",
           65000,
           1953,
           4,
           624,
           1140
          ],
          [
           "5353 N 60TH ST",
           155000,
           1956,
           5,
           1097,
           1140
          ],
          [
           "5260 N 65TH ST",
           170000,
           1955,
           5,
           912,
           1140
          ],
          [
           "5317 N 51ST BL",
           160000,
           1951,
           5,
           1092,
           1140
          ],
          [
           "5264 N 57TH ST",
           245000,
           1951,
           5,
           1141,
           1140
          ],
          [
           "5549 N 53RD ST",
           135000,
           1952,
           4,
           1000,
           1140
          ],
          [
           "5459 N 51ST BL",
           250000,
           1949,
           7,
           1602,
           1140
          ],
          [
           "5556 N 54TH ST",
           150000,
           1951,
           6,
           1094,
           1140
          ],
          [
           "5464 N 57TH ST",
           160000,
           1953,
           5,
           1181,
           1140
          ],
          [
           "5517 N 55TH ST",
           160000,
           1954,
           5,
           1000,
           1140
          ],
          [
           "5360 N 52ND ST",
           205000,
           1940,
           5,
           1041,
           1140
          ],
          [
           "5329 N 50TH ST",
           125000,
           1950,
           4,
           720,
           1140
          ],
          [
           "5344 N 46TH ST",
           208000,
           1951,
           5,
           1392,
           1140
          ],
          [
           "5356 N 48TH ST",
           74000,
           1940,
           5,
           960,
           1140
          ],
          [
           "5517 N 39TH ST",
           182000,
           1927,
           9,
           1416,
           1160
          ],
          [
           "5268 N 34TH ST",
           137000,
           1900,
           8,
           1416,
           1160
          ],
          [
           "5401 N 40TH ST",
           159900,
           1950,
           5,
           1334,
           1160
          ],
          [
           "5460 N 42ND ST",
           90000,
           1928,
           8,
           1422,
           1160
          ],
          [
           "5478 N 42ND ST",
           95000,
           1928,
           8,
           1897,
           1160
          ],
          [
           "5547-5549 N 42ND ST",
           135000,
           1968,
           8,
           1817,
           1160
          ],
          [
           "5522 N 35TH ST",
           85000,
           1925,
           7,
           1447,
           1160
          ],
          [
           "5504 N 33RD ST",
           210000,
           1941,
           7,
           1570,
           1160
          ],
          [
           "5237 N 27TH ST",
           105000,
           1951,
           4,
           672,
           1200
          ],
          [
           "2273 W ROHR AV",
           241000,
           1955,
           5,
           1288,
           1200
          ],
          [
           "2227 W LAWN AV",
           171500,
           1955,
           5,
           1082,
           1200
          ],
          [
           "5561-5563 N 25TH ST",
           200000,
           1954,
           9,
           2250,
           1200
          ],
          [
           "5544 N 26TH ST",
           243000,
           1951,
           5,
           1345,
           1200
          ],
          [
           "5348 N 26TH ST",
           98000,
           1949,
           4,
           768,
           1200
          ],
          [
           "1605 W CUSTER AV",
           130000,
           1920,
           4,
           664,
           1200
          ],
          [
           "1951 W BIRCH CT",
           110000,
           1954,
           6,
           963,
           1200
          ],
          [
           "2115 W NEIL PL",
           155000,
           1954,
           5,
           963,
           1200
          ],
          [
           "1324-1326 W SHERIDAN CT",
           150000,
           1957,
           9,
           2010,
           1220
          ],
          [
           "5527 N 13TH ST",
           265000,
           1979,
           6,
           1215,
           1220
          ],
          [
           "5315 N MILWAUKEE RIVER PK",
           207000,
           1924,
           4,
           1171,
           1220
          ],
          [
           "1129 W SILVER SPRING DR",
           275000,
           1949,
           6,
           1664,
           1220
          ],
          [
           "4836 N 20TH ST",
           33000,
           1924,
           3,
           518,
           1340
          ],
          [
           "5056 N 19TH PL",
           142000,
           1953,
           5,
           1082,
           1340
          ],
          [
           "4959 N 19TH ST",
           162000,
           1927,
           10,
           1939,
           1340
          ],
          [
           "4908 N 19TH PL",
           77000,
           1924,
           7,
           1344,
           1340
          ],
          [
           "4900 N 26TH ST",
           83000,
           1951,
           5,
           1276,
           1340
          ],
          [
           "4884 N 27TH ST",
           140000,
           1941,
           4,
           864,
           1340
          ],
          [
           "4943 N 24TH PL",
           149900,
           1941,
           5,
           1221,
           1340
          ],
          [
           "4823 N 24TH PL",
           165000,
           1931,
           11,
           1988,
           1340
          ],
          [
           "5015 N 24TH ST",
           174900,
           1951,
           5,
           1050,
           1340
          ],
          [
           "4876 N 24TH PL",
           150000,
           1928,
           6,
           1391,
           1340
          ],
          [
           "4924 N 22ND ST",
           75000,
           1951,
           5,
           1176,
           1340
          ],
          [
           "4876 N 21ST ST",
           84900,
           1951,
           4,
           832,
           1340
          ],
          [
           "4955 N 20TH ST",
           120000,
           1927,
           10,
           2156,
           1340
          ],
          [
           "4808 N 25TH ST",
           72000,
           1954,
           5,
           1049,
           1340
          ],
          [
           "5049 N 28TH ST",
           160000,
           1928,
           6,
           1219,
           1340
          ],
          [
           "3506-3508 W HAMPTON AV",
           130000,
           1952,
           10,
           2016,
           1440
          ],
          [
           "4830 N 39TH ST",
           58000,
           1928,
           4,
           710,
           1440
          ],
          [
           "4844 N 39TH ST",
           130000,
           1923,
           5,
           774,
           1440
          ],
          [
           "5116-5118 N 39TH ST",
           92500,
           1905,
           8,
           1683,
           1440
          ],
          [
           "4877 N 41ST ST",
           239900,
           1939,
           6,
           1370,
           1440
          ],
          [
           "5075 N 50TH ST",
           128900,
           1951,
           4,
           720,
           1150
          ],
          [
           "5079 N 49TH ST",
           153000,
           1923,
           10,
           1564,
           1150
          ],
          [
           "5059-5061 N 46TH ST",
           125000,
           1953,
           10,
           1824,
           1150
          ],
          [
           "5009 N 58TH ST",
           77500,
           1928,
           4,
           750,
           1140
          ],
          [
           "4916 N 57TH ST",
           205000,
           1947,
           4,
           1369,
           1140
          ],
          [
           "4915 N 56TH ST",
           117500,
           1926,
           6,
           1482,
           1140
          ],
          [
           "4867 N 56TH ST",
           98900,
           1953,
           5,
           940,
           1140
          ],
          [
           "4873 N 56TH ST",
           108800,
           1953,
           5,
           914,
           1140
          ],
          [
           "5064 N 56TH ST",
           120000,
           1927,
           5,
           868,
           1140
          ],
          [
           "4820 N 53RD ST",
           142500,
           1955,
           12,
           1332,
           1140
          ],
          [
           "5163 N 62ND ST",
           123000,
           1952,
           4,
           624,
           1140
          ],
          [
           "5126 N 66TH ST",
           187000,
           1953,
           11,
           2195,
           1380
          ],
          [
           "5119 N 64TH ST",
           210000,
           1952,
           6,
           1239,
           1380
          ],
          [
           "5001 N 64TH ST",
           180000,
           1952,
           4,
           829,
           1380
          ],
          [
           "4871 N 64TH ST",
           150000,
           1951,
           6,
           1240,
           1380
          ],
          [
           "4835-4837 N 61ST ST",
           205000,
           1953,
           8,
           1980,
           1140
          ],
          [
           "4888 N 64TH ST",
           136500,
           1953,
           5,
           1232,
           1380
          ],
          [
           "6826 W LANCASTER AV",
           170000,
           1957,
           6,
           1127,
           1380
          ],
          [
           "5114 N 69TH ST",
           180000,
           1958,
           5,
           1212,
           1380
          ],
          [
           "4921 N 74TH ST",
           167200,
           1942,
           5,
           985,
           1480
          ],
          [
           "4935 N 72ND ST",
           155000,
           1954,
           6,
           1164,
           1480
          ],
          [
           "5021 N 74TH ST",
           217500,
           1941,
           6,
           971,
           1480
          ],
          [
           "7021 W MEDFORD AV",
           320000,
           1949,
           6,
           10238,
           21230
          ],
          [
           "4826 N 73RD ST",
           197000,
           1938,
           6,
           1400,
           1480
          ],
          [
           "4820 N 76TH ST",
           90000,
           1960,
           null,
           939,
           6226
          ],
          [
           "5100-5102 N 77TH ST",
           165000,
           1955,
           10,
           2040,
           1400
          ],
          [
           "8139 W EGGERT PL",
           190000,
           1955,
           5,
           936,
           1400
          ],
          [
           "7928-7930 W HAMPTON AV",
           269200,
           1957,
           10,
           2017,
           1400
          ],
          [
           "8090 W GRANTOSA DR",
           110000,
           1957,
           5,
           916,
           1400
          ],
          [
           "8600 W POTOMAC AV",
           188000,
           1961,
           6,
           1588,
           1400
          ],
          [
           "4940 N 89TH ST",
           221000,
           1970,
           5,
           1195,
           1400
          ],
          [
           "4960 N 89TH ST",
           240000,
           1953,
           5,
           1228,
           1400
          ],
          [
           "4876 N 89TH ST",
           153000,
           1958,
           5,
           1329,
           1400
          ],
          [
           "4829 N 86TH ST",
           205000,
           1964,
           6,
           1227,
           1400
          ],
          [
           "10419 W HARVEST LA",
           205000,
           1958,
           5,
           919,
           1040
          ],
          [
           "10403 W VILLARD AV",
           225000,
           1961,
           null,
           2727,
           6611
          ],
          [
           "10947 W CAMERON AV",
           265000,
           1961,
           5,
           1184,
           1040
          ],
          [
           "4749 N 89TH ST",
           179900,
           1964,
           5,
           1259,
           1460
          ],
          [
           "8511 W LAWRENCE AV",
           235000,
           1957,
           5,
           936,
           1460
          ],
          [
           "9008 W PALMETTO AV",
           165000,
           1960,
           7,
           1384,
           1460
          ],
          [
           "8826 W ARDEN PL",
           195000,
           1957,
           5,
           997,
           1460
          ],
          [
           "8611 W ARDEN PL",
           228500,
           1957,
           5,
           1166,
           1460
          ],
          [
           "8504 W ARDEN PL",
           155000,
           1957,
           5,
           936,
           1460
          ],
          [
           "4521 N 87TH ST",
           256500,
           1961,
           5,
           1294,
           1460
          ],
          [
           "4530-4532 N 84TH ST",
           155000,
           1958,
           8,
           2144,
           1470
          ],
          [
           "4677 N 77TH ST",
           162500,
           1953,
           4,
           832,
           1470
          ],
          [
           "4651 N 78TH ST",
           243000,
           1958,
           5,
           1388,
           1470
          ],
          [
           "8002 W APPLETON AV",
           250000,
           1965,
           null,
           4000,
           6226
          ],
          [
           "8039-8041 W BECKETT AV",
           210000,
           1959,
           10,
           2224,
           1470
          ],
          [
           "4503 N 76TH ST",
           149900,
           1953,
           9,
           2013,
           1470
          ],
          [
           "4449 N 83RD ST",
           194400,
           1957,
           5,
           1519,
           1470
          ],
          [
           "8334 W APPLETON AV",
           2800000,
           2012,
           null,
           6400,
           6418
          ],
          [
           "4743 N 79TH ST",
           220000,
           1959,
           5,
           963,
           1470
          ],
          [
           "4749 N 79TH ST",
           220000,
           1959,
           5,
           1140,
           1470
          ],
          [
           "7300 W RUBY AV",
           185000,
           1959,
           5,
           1080,
           1480
          ],
          [
           "4553 N 73RD ST",
           224900,
           1958,
           5,
           1116,
           1480
          ],
          [
           "4306 N 72ND ST",
           172000,
           1962,
           5,
           1281,
           1480
          ],
          [
           "4200 N 72ND ST",
           190000,
           1956,
           5,
           1120,
           1480
          ],
          [
           "4740 N 74TH ST",
           195000,
           1954,
           5,
           988,
           1480
          ],
          [
           "6927 W HAMPTON AV",
           229000,
           1958,
           9,
           2150,
           1480
          ],
          [
           "4253 N 68TH ST",
           230000,
           1955,
           7,
           1344,
           1490
          ],
          [
           "4218-4220 N 70TH ST",
           245000,
           1957,
           11,
           2448,
           1480
          ],
          [
           "6909 W CONGRESS ST",
           117000,
           1949,
           5,
           1282,
           1480
          ],
          [
           "4508 N 71ST ST",
           225000,
           1958,
           5,
           1218,
           1480
          ],
          [
           "6302 W MEDFORD AV",
           269900,
           1925,
           13,
           2395,
           1490
          ],
          [
           "4503 N 64TH ST",
           140000,
           1954,
           5,
           1027,
           1490
          ],
          [
           "4535 N 65TH ST",
           135000,
           1953,
           4,
           993,
           1490
          ],
          [
           "4546 N 67TH ST",
           220000,
           1955,
           6,
           1265,
           1490
          ],
          [
           "4546 N 68TH ST",
           202000,
           1952,
           5,
           1238,
           1490
          ],
          [
           "4559 N 67TH ST",
           190000,
           1957,
           6,
           1319,
           1490
          ],
          [
           "4408 N 67TH ST",
           105000,
           1952,
           4,
           900,
           1490
          ],
          [
           "4414 N 65TH ST",
           105000,
           1952,
           4,
           761,
           1490
          ],
          [
           "4414 N 65TH ST",
           225000,
           1952,
           4,
           761,
           1490
          ],
          [
           "4449 N 62ND ST",
           132500,
           1931,
           6,
           1144,
           1490
          ],
          [
           "6114 W MEDFORD AV",
           125000,
           1969,
           10,
           2410,
           1490
          ],
          [
           "4658-4660 N 52ND ST",
           195000,
           1965,
           10,
           2608,
           1150
          ],
          [
           "4629 N 56TH ST",
           140000,
           1928,
           7,
           1365,
           1150
          ],
          [
           "4458 N 55TH ST",
           105000,
           1939,
           4,
           974,
           1560
          ],
          [
           "4402 N 54TH ST",
           150000,
           1930,
           5,
           1497,
           1560
          ],
          [
           "4463 N 58TH ST",
           166500,
           1939,
           4,
           1111,
           1560
          ],
          [
           "5830 W FOND DU LAC AV",
           400000,
           1969,
           null,
           5302,
           6230
          ],
          [
           "5113-5115 W LINCOLN CREEK DR",
           125000,
           1956,
           8,
           1903,
           1560
          ],
          [
           "4731 N 45TH ST",
           76000,
           1953,
           5,
           1180,
           1150
          ],
          [
           "4629 N 49TH ST",
           140000,
           1940,
           3,
           1213,
           1150
          ],
          [
           "4744 N 51ST BL",
           161000,
           1941,
           4,
           1068,
           1150
          ],
          [
           "4526 N 45TH ST",
           75000,
           1950,
           5,
           915,
           1150
          ],
          [
           "4502 N 46TH ST",
           158000,
           1951,
           5,
           1008,
           1150
          ],
          [
           "4728 N 44TH ST",
           185000,
           1952,
           5,
           1016,
           1150
          ],
          [
           "4550 N 39TH ST",
           130000,
           1928,
           10,
           2000,
           1440
          ],
          [
           "4414 N 39TH ST",
           90000,
           1947,
           4,
           863,
           1440
          ],
          [
           "4550 N 37TH ST",
           210000,
           1927,
           18,
           1655,
           1440
          ],
          [
           "4727 N HOPKINS ST",
           105000,
           1914,
           11,
           2082,
           1440
          ],
          [
           "4757 N 41ST ST",
           207500,
           1928,
           6,
           1488,
           1440
          ],
          [
           "4218 W DERBY PL",
           90000,
           1949,
           5,
           1001,
           1440
          ],
          [
           "4676 N SHERMAN BL",
           182000,
           1951,
           4,
           1141,
           1440
          ],
          [
           "4617 N 37TH ST",
           66900,
           1920,
           5,
           997,
           1440
          ],
          [
           "4606 N 38TH ST",
           197000,
           1930,
           8,
           1709,
           1440
          ],
          [
           "4709--A N 36TH ST",
           65000,
           1912,
           7,
           1386,
           1440
          ],
          [
           "4779 N 37TH ST",
           131500,
           1912,
           9,
           1699,
           1440
          ],
          [
           "4418 N 41ST ST",
           115000,
           1952,
           4,
           1218,
           1440
          ],
          [
           "4555 N 39TH ST",
           78000,
           1948,
           5,
           1072,
           1440
          ],
          [
           "4443 N 39TH ST",
           175000,
           1946,
           5,
           1162,
           1440
          ],
          [
           "4570 N 42ND ST",
           206000,
           1945,
           5,
           1190,
           1440
          ],
          [
           "4563 N 41ST ST",
           190000,
           1927,
           6,
           1240,
           1440
          ],
          [
           "4715 N 28TH ST",
           85000,
           1931,
           10,
           1973,
           1500
          ],
          [
           "4732-4734 N 30TH ST",
           70000,
           1906,
           10,
           2104,
           1500
          ],
          [
           "4553 N 27TH ST",
           135000,
           1928,
           20,
           1827,
           1500
          ],
          [
           "2602 W PORT SUNLIGHT WA",
           40000,
           1924,
           6,
           1172,
           1500
          ],
          [
           "4752 N 18TH ST",
           112000,
           1941,
           6,
           1212,
           1340
          ],
          [
           "4661 N 19TH PL",
           97000,
           1926,
           5,
           933,
           1340
          ],
          [
           "4633 N 18TH ST",
           169000,
           1941,
           5,
           922,
           1340
          ],
          [
           "4661 N 19TH ST",
           95000,
           1949,
           10,
           932,
           1340
          ],
          [
           "4045--A N 11TH ST",
           197000,
           1898,
           9,
           1542,
           1620
          ],
          [
           "4022-4024 N 13TH ST",
           185000,
           1926,
           10,
           2483,
           1620
          ],
          [
           "4034 N 13TH ST",
           140000,
           1925,
           7,
           1641,
           1620
          ],
          [
           "4086 N 7TH ST",
           105000,
           1953,
           8,
           1104,
           1620
          ],
          [
           "4023 N 6TH ST",
           124900,
           1890,
           12,
           1200,
           1620
          ],
          [
           "4241 N 16TH ST",
           215000,
           1929,
           8,
           1917,
           1620
          ],
          [
           "4066 N 14TH ST",
           97000,
           1925,
           6,
           1152,
           1620
          ],
          [
           "4028 N 16TH ST",
           245000,
           1927,
           8,
           1819,
           1620
          ],
          [
           "4112--A N 14TH ST",
           210000,
           1928,
           10,
           1929,
           1620
          ],
          [
           "4112 N 15TH ST",
           153000,
           1928,
           14,
           1341,
           1620
          ],
          [
           "4200 N 15TH ST",
           190000,
           1936,
           6,
           1558,
           1620
          ],
          [
           "4151 N 19TH ST",
           225000,
           1927,
           9,
           1557,
           1620
          ],
          [
           "4189 N 15TH ST",
           227000,
           1930,
           8,
           1933,
           1620
          ],
          [
           "1419 W HAUSER AV",
           90000,
           1920,
           6,
           878,
           1620
          ],
          [
           "4357 N 14TH ST",
           130000,
           1924,
           6,
           1462,
           1620
          ],
          [
           "4208 N 26TH ST",
           73000,
           1927,
           7,
           1319,
           1500
          ],
          [
           "4142 N 24TH ST",
           79900,
           1926,
           7,
           1464,
           1500
          ],
          [
           "4126 N TEUTONIA AV",
           235000,
           1952,
           null,
           2343,
           6234
          ],
          [
           "4353-4355 N 24TH PL",
           129900,
           1945,
           16,
           1756,
           1500
          ],
          [
           "4271 N 26TH ST",
           82500,
           1928,
           8,
           1514,
           1500
          ],
          [
           "2322 W OLIVE ST",
           229900,
           1945,
           7,
           1360,
           1620
          ],
          [
           "4304 N 22ND ST",
           136000,
           1928,
           7,
           1458,
           1620
          ],
          [
           "3336 W CAPITOL DR",
           300000,
           1963,
           null,
           7000,
           6234
          ],
          [
           "4040-4054 N 34TH ST",
           145000,
           1942,
           null,
           20719,
           6234
          ],
          [
           "4239 N 29TH ST",
           98000,
           1943,
           6,
           998,
           1500
          ],
          [
           "2715 W ROOSEVELT DR",
           143900,
           1947,
           6,
           1330,
           1500
          ],
          [
           "4303 N 42ND ST",
           205000,
           1946,
           5,
           1429,
           1680
          ],
          [
           "4164 N TORONTO ST",
           178000,
           1946,
           6,
           1357,
           1680
          ],
          [
           "4284-4286 N SERCOMBE RD",
           119000,
           1948,
           10,
           2204,
           1680
          ],
          [
           "4219 N 38TH ST",
           86000,
           1950,
           10,
           1336,
           1680
          ],
          [
           "4219 N 38TH ST",
           225000,
           1950,
           10,
           1336,
           1680
          ],
          [
           "4056 N 41ST ST",
           120000,
           1950,
           5,
           1212,
           1680
          ],
          [
           "4326 N 37TH ST",
           170000,
           1923,
           7,
           1799,
           1680
          ],
          [
           "4326 N 37TH ST",
           170000,
           1923,
           7,
           1799,
           1680
          ],
          [
           "4365 N 41ST ST",
           69000,
           1927,
           5,
           1438,
           1680
          ],
          [
           "4306 N 41ST ST",
           97900,
           1945,
           6,
           1562,
           1680
          ],
          [
           "4306 N 41ST ST",
           198000,
           1945,
           6,
           1562,
           1680
          ],
          [
           "4335 N 48TH ST",
           117000,
           1939,
           5,
           1255,
           1680
          ],
          [
           "4326 N 50TH ST",
           107500,
           1948,
           4,
           916,
           1680
          ],
          [
           "4247 N 48TH ST",
           83000,
           1946,
           4,
           890,
           1680
          ],
          [
           "4109 N 48TH ST",
           105000,
           1940,
           6,
           1078,
           1680
          ],
          [
           "4170 N 48TH ST",
           126900,
           1940,
           7,
           1518,
           1680
          ],
          [
           "4072 N 45TH ST",
           82500,
           1941,
           7,
           1506,
           1680
          ],
          [
           "4303 N 52ND ST",
           109000,
           1948,
           4,
           1017,
           1560
          ],
          [
           "5428 W FOND DU LAC AV",
           630000,
           1956,
           null,
           11735,
           6230
          ],
          [
           "4051 N 62ND ST",
           171250,
           1949,
           7,
           1564,
           1490
          ],
          [
           "4054 N 62ND ST",
           218000,
           1949,
           4,
           877,
           1490
          ],
          [
           "4057-4059 N 60TH ST",
           267000,
           1958,
           10,
           2849,
           1490
          ],
          [
           "4163 N 71ST ST",
           111000,
           1958,
           4,
           857,
           1480
          ],
          [
           "4116 N 71ST ST",
           145000,
           1942,
           5,
           1150,
           1480
          ],
          [
           "8230 W MARION ST",
           155000,
           1956,
           5,
           978,
           1470
          ],
          [
           "8124 W MARION ST",
           150000,
           1955,
           5,
           948,
           1470
          ],
          [
           "8130 W HOPE AV",
           165000,
           1956,
           4,
           948,
           1470
          ],
          [
           "4141 N 79TH ST",
           165500,
           1957,
           4,
           946,
           1470
          ],
          [
           "7630 W FIEBRANTZ AV",
           165000,
           1956,
           5,
           980,
           1470
          ],
          [
           "7822 W CAPITOL DR",
           1110000,
           2001,
           null,
           5062,
           6226
          ],
          [
           "8820--A W CAPITOL DR",
           200000,
           1955,
           8,
           2102,
           1460
          ],
          [
           "4026 N 89TH ST",
           258000,
           1956,
           6,
           1480,
           1460
          ],
          [
           "4042 N 90TH ST",
           228000,
           1958,
           5,
           1404,
           1460
          ],
          [
           "4102 N COLGATE CR",
           284900,
           1955,
           6,
           1444,
           1460
          ],
          [
           "4109 N 88TH ST",
           223000,
           1957,
           5,
           1340,
           1460
          ],
          [
           "4334 N 89TH ST",
           275000,
           1956,
           6,
           1176,
           1460
          ],
          [
           "4319 N 87TH ST",
           125000,
           1940,
           5,
           1026,
           1460
          ],
          [
           "4316-4318 N 88TH ST",
           180000,
           1957,
           10,
           2234,
           1460
          ],
          [
           "4322-4324 N 88TH ST",
           180000,
           1957,
           10,
           2234,
           1460
          ],
          [
           "4338-4340 N 88TH ST",
           180000,
           1958,
           10,
           1906,
           1460
          ],
          [
           "4348-4350 N 88TH ST",
           180000,
           1957,
           10,
           1788,
           1460
          ],
          [
           "4020 N 92ND ST",
           130000,
           1947,
           4,
           936,
           1460
          ],
          [
           "4130 N 91ST ST",
           346000,
           1961,
           null,
           4068,
           6650
          ],
          [
           "10124-10126 W CAPITOL DR",
           222500,
           1957,
           10,
           2040,
           1460
          ],
          [
           "4215 N 100TH ST, Unit 125",
           69000,
           1975,
           3,
           728,
           5210
          ],
          [
           "4215 N 100TH ST, Unit 146",
           127000,
           1975,
           5,
           1230,
           5210
          ],
          [
           "4215 N 100TH ST, Unit 242",
           108800,
           1975,
           5,
           1230,
           5210
          ],
          [
           "4215 N 100TH ST, Unit 251",
           115000,
           1975,
           5,
           1023,
           5210
          ],
          [
           "4215 N 100TH ST, Unit 270",
           124500,
           1975,
           4,
           1051,
           5210
          ],
          [
           "3503 N 97TH PL",
           248000,
           1953,
           5,
           933,
           2100
          ],
          [
           "9616 W LISBON AV",
           191000,
           1956,
           5,
           1190,
           2100
          ],
          [
           "3534 N 96TH ST",
           320000,
           1949,
           5,
           1263,
           2100
          ],
          [
           "3465 N 96TH ST",
           235000,
           1953,
           7,
           1442,
           2100
          ],
          [
           "3856 N 100TH ST",
           235000,
           1956,
           6,
           1637,
           2100
          ],
          [
           "3820 N 99TH ST",
           240000,
           1954,
           8,
           1142,
           2100
          ],
          [
           "3828 N 98TH ST",
           230000,
           1956,
           5,
           1190,
           2100
          ],
          [
           "3776 N 98TH ST",
           260000,
           1953,
           5,
           961,
           2100
          ],
          [
           "3524 N 93RD ST",
           263000,
           1952,
           8,
           1291,
           2100
          ],
          [
           "3513 N 97TH ST",
           300000,
           1953,
           7,
           1253,
           2100
          ],
          [
           "8401 W MELVINA ST",
           251600,
           1955,
           9,
           2617,
           2040
          ],
          [
           "3704 N 87TH ST",
           250000,
           1948,
           5,
           1611,
           2040
          ],
          [
           "3744 N 85TH ST",
           196000,
           1954,
           5,
           1176,
           2040
          ],
          [
           "8408 W KEEFE AV",
           220000,
           1955,
           4,
           1632,
           2040
          ],
          [
           "3877 N 87TH ST",
           218500,
           1949,
           6,
           1443,
           2040
          ],
          [
           "9002 W LISBON AV, Unit 203",
           91300,
           1974,
           4,
           1067,
           5220
          ],
          [
           "3759 N 88TH ST, Unit 102",
           85500,
           1974,
           5,
           981,
           5220
          ],
          [
           "3759 N 88TH ST, Unit 111",
           87500,
           1974,
           8,
           863,
           5220
          ],
          [
           "3749 N 88TH ST, Unit 104",
           72000,
           1974,
           4,
           863,
           5220
          ],
          [
           "3749 N 88TH ST, Unit 304",
           76500,
           1974,
           4,
           863,
           5220
          ],
          [
           "3765 N 88TH ST, Unit 108",
           70000,
           1974,
           5,
           1127,
           5220
          ],
          [
           "3765 N 88TH ST, Unit 308",
           103000,
           1974,
           4,
           1127,
           5220
          ],
          [
           "3635 N TUCKER PL, Unit 308",
           117500,
           1974,
           4,
           981,
           5220
          ],
          [
           "3841 N 81ST ST",
           200000,
           1954,
           4,
           1043,
           2040
          ],
          [
           "3863 N 83RD ST",
           220000,
           1954,
           5,
           940,
           2040
          ],
          [
           "3860 N 81ST ST",
           260000,
           1955,
           4,
           1195,
           2040
          ],
          [
           "3826 N 81ST ST",
           179000,
           1954,
           6,
           1272,
           2040
          ],
          [
           "7900 W MELVINA ST",
           216500,
           1955,
           5,
           988,
           2040
          ],
          [
           "3753 N 83RD ST",
           200000,
           1955,
           4,
           1188,
           2040
          ],
          [
           "3723 N 82ND ST",
           199900,
           1954,
           5,
           1141,
           2040
          ],
          [
           "3528 N 82ND ST",
           187000,
           1952,
           6,
           1370,
           2040
          ],
          [
           "3456 N 81ST ST",
           235000,
           1950,
           6,
           1523,
           2040
          ],
          [
           "3717 N 76TH ST",
           330000,
           1931,
           0,
           3894,
           6226
          ],
          [
           "3935 N 74TH ST",
           216000,
           1954,
           5,
           1027,
           1940
          ],
          [
           "3908 N 75TH ST",
           286000,
           1941,
           5,
           1078,
           1940
          ],
          [
           "3872 N 69TH ST",
           117000,
           1954,
           4,
           1176,
           1940
          ],
          [
           "3815 N 67TH ST",
           190000,
           1957,
           5,
           1469,
           1940
          ],
          [
           "7044 W BECKETT AV",
           151900,
           1953,
           5,
           912,
           1940
          ],
          [
           "7501 W VIENNA CT",
           168000,
           1952,
           6,
           1031,
           1940
          ],
          [
           "3776 N 73RD ST",
           130000,
           1952,
           6,
           1554,
           1940
          ],
          [
           "3776 N 73RD ST",
           185000,
           1952,
           6,
           1554,
           1940
          ],
          [
           "3770 N 73RD ST",
           172600,
           1952,
           6,
           1176,
           1940
          ],
          [
           "7147-7149 W APPLETON AV",
           415000,
           1956,
           null,
           4698,
           6673
          ],
          [
           "3780 N 61ST ST",
           219900,
           1952,
           5,
           1049,
           1940
          ],
          [
           "3801 N 53RD ST",
           235000,
           1946,
           11,
           2348,
           1830
          ],
          [
           "3911 N 56TH ST",
           242000,
           1947,
           6,
           1662,
           1830
          ],
          [
           "3731 N 52ND ST",
           169000,
           1945,
           6,
           1303,
           1830
          ],
          [
           "3701 N 52ND ST",
           175000,
           1947,
           6,
           1445,
           1830
          ],
          [
           "3515 N 55TH ST",
           183000,
           1943,
           8,
           1924,
           1830
          ],
          [
           "3519 N 57TH ST",
           195600,
           1949,
           32,
           1555,
           1830
          ],
          [
           "4430 W MELVINA ST",
           203000,
           1937,
           6,
           1710,
           1820
          ],
          [
           "4528 W LEON TRCE",
           230000,
           1935,
           8,
           2178,
           1820
          ],
          [
           "3517 N 47TH ST",
           116000,
           1949,
           5,
           1008,
           1840
          ],
          [
           "3706-3708 N 51ST BL",
           269900,
           1952,
           10,
           2757,
           1820
          ],
          [
           "3772 N 51ST BL",
           192747,
           1931,
           6,
           1477,
           1820
          ],
          [
           "3959 N 41ST ST",
           95000,
           1950,
           5,
           967,
           1740
          ],
          [
           "3749 N 41ST ST",
           131500,
           1936,
           6,
           906,
           1740
          ],
          [
           "3529 N 39TH ST",
           179900,
           1923,
           7,
           1727,
           1740
          ],
          [
           "3702 N 42ND ST",
           115000,
           1948,
           9,
           2193,
           1740
          ],
          [
           "3643 N 36TH ST",
           124000,
           1949,
           4,
           907,
           1740
          ],
          [
           "3622 N 38TH ST",
           129900,
           1948,
           4,
           1039,
           1740
          ],
          [
           "3640 N 38TH ST",
           72000,
           1947,
           5,
           1048,
           1740
          ],
          [
           "3604 N 37TH ST",
           135000,
           1943,
           5,
           1017,
           1740
          ],
          [
           "3850 N 36TH ST",
           75000,
           1937,
           5,
           990,
           1740
          ],
          [
           "3925 N 36TH ST",
           79000,
           1949,
           4,
           844,
           1740
          ],
          [
           "3974 N 38TH ST",
           158300,
           1944,
           8,
           1820,
           1740
          ],
          [
           "3873 N 41ST ST",
           150000,
           1940,
           9,
           1851,
           1740
          ],
          [
           "2800-2802 W MELVINA ST",
           41900,
           1922,
           14,
           2589,
           2840
          ],
          [
           "2214-2216 W KEEFE AV",
           115000,
           1924,
           18,
           3370,
           2960
          ],
          [
           "3881 N 26TH ST",
           47800,
           1927,
           8,
           1592,
           2840
          ],
          [
           "3816 N 24TH PL",
           130000,
           1923,
           10,
           1783,
           2840
          ],
          [
           "3630 N 22ND ST",
           50000,
           1924,
           10,
           1961,
           2840
          ],
          [
           "3532 N 23RD ST",
           90000,
           1915,
           8,
           1732,
           2840
          ],
          [
           "3832 N 22ND ST",
           50500,
           1924,
           6,
           1244,
           2840
          ],
          [
           "3876 N 22ND ST",
           170900,
           1924,
           7,
           1539,
           2840
          ],
          [
           "3918-3920 N 24TH ST",
           90000,
           1924,
           10,
           1981,
           2840
          ],
          [
           "3851-3853 N 18TH ST",
           61000,
           1924,
           10,
           1875,
           2860
          ],
          [
           "3819 N 18TH ST",
           67500,
           1922,
           7,
           1322,
           2860
          ],
          [
           "3753 N 14TH ST",
           70000,
           1918,
           6,
           1525,
           2860
          ],
          [
           "3533 N 15TH ST",
           53000,
           1920,
           7,
           1286,
           2860
          ],
          [
           "3544 N 16TH ST",
           58507,
           1921,
           8,
           1762,
           2860
          ],
          [
           "1831 W CAPITOL DR",
           202000,
           1927,
           7,
           1741,
           1620
          ],
          [
           "3746-3752 N TEUTONIA AV",
           98000,
           1923,
           null,
           3862,
           6240
          ],
          [
           "3874 N 15TH ST",
           80000,
           1925,
           7,
           1775,
           2860
          ],
          [
           "3512 N 20TH ST",
           75000,
           1919,
           9,
           1823,
           2860
          ],
          [
           "3786 N 10TH ST",
           225570,
           1923,
           6,
           1729,
           2860
          ],
          [
           "3713-3715 N PORT WASHINGTON AV",
           125000,
           1914,
           10,
           2930,
           2820
          ],
          [
           "3830 N 7TH ST",
           110000,
           1910,
           6,
           1296,
           2820
          ],
          [
           "3852 N 7TH ST",
           97900,
           1924,
           6,
           1190,
           2820
          ],
          [
           "3774 N 13TH ST",
           75000,
           1926,
           6,
           1128,
           2860
          ],
          [
           "3618 N 12TH ST",
           60000,
           1925,
           8,
           1838,
           2860
          ],
          [
           "1201 W CAPITOL DR",
           268000,
           1925,
           10,
           3069,
           1620
          ],
          [
           "3820 N VEL R PHILLIPS AV",
           170000,
           1926,
           6,
           1650,
           2820
          ],
          [
           "3222 N DOWNER AV",
           537500,
           1929,
           14,
           3908,
           3160
          ],
          [
           "3223 N LAKE DR",
           1300000,
           1922,
           10,
           5612,
           3060
          ],
          [
           "3319-3321 N HACKETT AV",
           576300,
           1920,
           13,
           3242,
           3060
          ],
          [
           "3459 N LAKE DR",
           785000,
           1954,
           9,
           3446,
           3060
          ],
          [
           "3405 N HACKETT AV",
           850000,
           1915,
           9,
           3016,
           3060
          ],
          [
           "3328-3330 N CRAMER ST",
           370000,
           1923,
           12,
           2574,
           3160
          ],
          [
           "2028 E NEWPORT AV",
           375000,
           1924,
           13,
           2845,
           3060
          ],
          [
           "3484 N MURRAY AV",
           601000,
           1926,
           6,
           2056,
           3060
          ],
          [
           "1230 E TOWNSEND ST",
           267000,
           1951,
           4,
           1174,
           3320
          ],
          [
           "3236-3238 N NEWHALL ST",
           305000,
           1912,
           12,
           2236,
           3150
          ],
          [
           "1714 E NEWPORT AV",
           259900,
           1905,
           7,
           1409,
           3150
          ],
          [
           "1346 E RANDOLPH CT, Unit C",
           123000,
           1958,
           4,
           791,
           5445
          ],
          [
           "3359-3361 N PIERCE ST",
           308000,
           1925,
           10,
           2221,
           2880
          ],
          [
           "3227 N HUMBOLDT BL",
           375000,
           1922,
           13,
           3088,
           3320
          ],
          [
           "3448-3450 N RICHARDS ST",
           150000,
           1903,
           14,
           3836,
           2900
          ],
          [
           "3429 N BREMEN ST",
           305000,
           1925,
           10,
           2176,
           3320
          ],
          [
           "3463-3465 N HUMBOLDT BL",
           370000,
           1928,
           12,
           2652,
           3320
          ],
          [
           "3237 N HOLTON ST",
           120000,
           1907,
           7,
           1525,
           2900
          ],
          [
           "713 E TOWNSEND ST",
           330000,
           1914,
           10,
           2622,
           2880
          ],
          [
           "3250 N BOOTH ST",
           255100,
           1904,
           9,
           1738,
           2880
          ],
          [
           "3120 N HOLTON ST",
           150000,
           1909,
           6,
           1152,
           2900
          ],
          [
           "3424 N HOLTON ST",
           210000,
           1912,
           9,
           1781,
           2900
          ],
          [
           "3059 N WEIL ST, Unit 107",
           230000,
           1904,
           3,
           738,
           5720
          ],
          [
           "3059 N WEIL ST, Unit 206",
           209900,
           1904,
           3,
           982,
           5720
          ],
          [
           "116 W CONCORDIA AV",
           101000,
           1900,
           6,
           1152,
           2900
          ],
          [
           "3124-3126 N ACHILLES ST",
           175000,
           1915,
           11,
           2423,
           2900
          ],
          [
           "3345-3347 N RICHARDS ST",
           199400,
           1913,
           11,
           3564,
           2900
          ],
          [
           "3363 N 3RD ST",
           134000,
           1922,
           8,
           1956,
           2900
          ],
          [
           "3307-3309 N VEL R PHILLIPS AV",
           203600,
           1916,
           10,
           2448,
           2900
          ],
          [
           "3210 N MARTIN L KING JR DR",
           138000,
           1951,
           null,
           2690,
           6240
          ],
          [
           "3240-3242 N PALMER ST",
           90000,
           1913,
           10,
           2402,
           2900
          ],
          [
           "1020-1022 W KEEFE AV",
           31000,
           1925,
           12,
           3380,
           2850
          ],
          [
           "3436 N 13TH ST",
           129900,
           1896,
           7,
           1268,
           2850
          ],
          [
           "3401 N 11TH ST",
           53000,
           1900,
           8,
           1655,
           2850
          ],
          [
           "3454 N 11TH ST",
           67500,
           1912,
           13,
           2434,
           2850
          ],
          [
           "3308 N 11TH ST",
           73000,
           1911,
           10,
           2220,
           2850
          ],
          [
           "3251-3253 N 11TH ST",
           185000,
           1907,
           null,
           2740,
           6701
          ],
          [
           "3297-3299 N 12TH ST",
           60000,
           1911,
           0,
           3240,
           6240
          ],
          [
           "3174 N 11TH ST",
           54000,
           1899,
           5,
           970,
           2850
          ],
          [
           "537 W RING ST",
           170000,
           1925,
           null,
           1657,
           2900
          ],
          [
           "3321-3323 N 17TH ST",
           52250,
           1925,
           10,
           2003,
           2850
          ],
          [
           "3307 N 13TH ST",
           82000,
           1922,
           8,
           1677,
           2850
          ],
          [
           "1308-1310 W RING ST",
           70000,
           1909,
           11,
           2346,
           2850
          ],
          [
           "3519 N 14TH ST",
           67000,
           1921,
           6,
           1564,
           2860
          ],
          [
           "3308 N 21ST ST",
           27000,
           1910,
           6,
           1507,
           2960
          ],
          [
           "3122 N 21ST ST, Unit 7644 S",
           70000,
           1906,
           8,
           1527,
           2950
          ],
          [
           "3127 N 21ST ST",
           35000,
           1906,
           10,
           2071,
           2950
          ],
          [
           "3378 N 22ND ST",
           48000,
           1908,
           7,
           1789,
           2960
          ],
          [
           "2477-2479 W AUER AV",
           40500,
           1914,
           10,
           2124,
           2960
          ],
          [
           "3539 N 21ST ST",
           199900,
           1915,
           7,
           1671,
           2840
          ],
          [
           "3356 N 21ST ST",
           75000,
           1910,
           10,
           1717,
           2960
          ],
          [
           "3244-3246 N 28TH ST",
           90000,
           1915,
           10,
           2152,
           2960
          ],
          [
           "3223 W AUER AV",
           72500,
           1913,
           6,
           964,
           2960
          ],
          [
           "3172 N 30TH ST",
           115000,
           1926,
           11,
           1995,
           2960
          ],
          [
           "3303 N 28TH ST",
           60000,
           1923,
           8,
           1734,
           2960
          ],
          [
           "3228-3230 N 29TH ST",
           107000,
           1912,
           13,
           2607,
           2960
          ],
          [
           "3160 N 29TH ST",
           93000,
           1908,
           7,
           1296,
           2960
          ],
          [
           "3238 N 36TH ST",
           88000,
           1914,
           10,
           1758,
           1740
          ],
          [
           "3136 N 42ND ST",
           72000,
           1926,
           10,
           2188,
           1780
          ],
          [
           "3139 N 39TH ST",
           60000,
           1910,
           10,
           1585,
           1780
          ],
          [
           "3163 N 40TH ST",
           100000,
           1915,
           7,
           1402,
           1780
          ],
          [
           "3450 N 42ND ST",
           210000,
           1946,
           null,
           4122,
           6671
          ],
          [
           "3457 N 41ST ST",
           127000,
           1942,
           9,
           1986,
           1740
          ],
          [
           "3438 N 41ST ST",
           145000,
           1930,
           6,
           1594,
           1740
          ],
          [
           "3707-3713 W FOND DU LAC AV",
           170000,
           1918,
           0,
           5812,
           6242
          ],
          [
           "4629-4631 W CONCORDIA AV",
           220000,
           1929,
           13,
           2583,
           1840
          ],
          [
           "3132 N 47TH ST",
           195000,
           1948,
           7,
           1852,
           1840
          ],
          [
           "3276 N 45TH ST",
           95000,
           1950,
           6,
           1310,
           1840
          ],
          [
           "3284-3286 N 45TH ST",
           189900,
           1961,
           11,
           2526,
           1840
          ],
          [
           "3123-3125 N SHERMAN BL",
           175000,
           1931,
           11,
           2461,
           2500
          ],
          [
           "3312 N 44TH ST",
           247500,
           1929,
           8,
           2063,
           1840
          ],
          [
           "3423-3425 N SHERMAN BL",
           215000,
           1952,
           12,
           3842,
           2500
          ],
          [
           "3255 N 49TH ST",
           185000,
           1935,
           8,
           1858,
           1840
          ],
          [
           "3260 N 50TH ST",
           233500,
           1926,
           7,
           1634,
           1840
          ],
          [
           "3306-3308 N 50TH ST",
           300000,
           1931,
           14,
           3727,
           1840
          ],
          [
           "3407-3409 N 57TH ST",
           265000,
           1946,
           10,
           2607,
           1850
          ],
          [
           "5521 W KEEFE AV",
           255000,
           1943,
           null,
           2826,
           6670
          ],
          [
           "5421 W KEEFE AV",
           107000,
           1944,
           6,
           1174,
           1850
          ],
          [
           "3416-3418 N 55TH ST",
           315000,
           1948,
           12,
           2516,
           1850
          ],
          [
           "3403 N 53RD ST",
           215000,
           1935,
           7,
           1834,
           1850
          ],
          [
           "5133 W KEEFE AV",
           195000,
           1952,
           5,
           1575,
           1850
          ],
          [
           "5549 W PHILIP PL",
           239900,
           1930,
           8,
           1827,
           1850
          ],
          [
           "3202 N 54TH ST",
           156000,
           1942,
           10,
           2026,
           1850
          ],
          [
           "3266 N 52ND ST",
           245000,
           1931,
           8,
           1656,
           1850
          ],
          [
           "3365 N 53RD ST",
           250000,
           1937,
           7,
           1593,
           1850
          ],
          [
           "6215-A W KEEFE AVENUE PK",
           170000,
           1954,
           8,
           1814,
           1940
          ],
          [
           "6221-A W KEEFE AVENUE PK",
           167800,
           1954,
           8,
           1827,
           1940
          ],
          [
           "3125 N 74TH ST",
           157000,
           1949,
           5,
           1097,
           2100
          ],
          [
           "3337 N 83RD ST",
           175000,
           1950,
           6,
           988,
           2100
          ],
          [
           "8205 W AUER AV",
           257000,
           1953,
           6,
           1056,
           2100
          ],
          [
           "3245 N 78TH ST",
           245000,
           1950,
           5,
           1137,
           2100
          ],
          [
           "3142 N 80TH ST",
           228700,
           1952,
           5,
           972,
           2100
          ],
          [
           "8022 W BURLEIGH ST",
           225000,
           1948,
           5,
           1063,
           2100
          ],
          [
           "3251 N 87TH ST",
           270000,
           1949,
           8,
           1337,
           2100
          ],
          [
           "3155 N 87TH ST",
           297500,
           1949,
           8,
           1891,
           2100
          ],
          [
           "8600 W AUER AV",
           147500,
           1950,
           5,
           1007,
           2100
          ],
          [
           "3152 N 87TH ST",
           235000,
           1950,
           5,
           1176,
           2100
          ],
          [
           "8517 W TOWNSEND ST",
           194000,
           1952,
           7,
           1498,
           2100
          ],
          [
           "9141 W LISBON AV",
           220000,
           1957,
           null,
           1410,
           6226
          ],
          [
           "9111 W LISBON AV",
           250000,
           1950,
           null,
           3355,
           6226
          ],
          [
           "3315 N 91ST ST",
           242000,
           1954,
           4,
           1042,
           2100
          ],
          [
           "3160 N 92ND ST",
           245000,
           1931,
           6,
           1761,
           2120
          ],
          [
           "3360 N 90TH ST",
           300000,
           1950,
           5,
           1512,
           2100
          ],
          [
           "3322 N 90TH ST",
           234900,
           1951,
           7,
           1382,
           2100
          ],
          [
           "3157 N 89TH ST",
           263870,
           1951,
           5,
           1113,
           2100
          ],
          [
           "3360 N 89TH ST",
           289000,
           1949,
           6,
           1132,
           2100
          ],
          [
           "3341 N 88TH ST",
           232500,
           1950,
           5,
           1249,
           2100
          ],
          [
           "3229 N 88TH ST",
           193000,
           1951,
           4,
           772,
           2100
          ],
          [
           "9720 W CONCORDIA AV",
           267000,
           1955,
           5,
           1243,
           2140
          ],
          [
           "3328 N 99TH ST",
           240000,
           1958,
           5,
           1330,
           2120
          ],
          [
           "9301 W AUER AV",
           278900,
           1950,
           12,
           1520,
           2120
          ],
          [
           "3160 N 95TH ST",
           215000,
           1955,
           4,
           1120,
           2120
          ],
          [
           "2853 N COLONIAL DR",
           415000,
           1951,
           7,
           1910,
           2140
          ],
          [
           "3003 N 91ST ST",
           300000,
           1949,
           6,
           1584,
           2080
          ],
          [
           "3012 N 91ST ST",
           212000,
           1950,
           4,
           696,
           2080
          ],
          [
           "3003 N 89TH ST",
           235000,
           1954,
           5,
           1389,
           2080
          ],
          [
           "8825-8827 W BURLEIGH ST",
           270000,
           1952,
           8,
           2080,
           2080
          ],
          [
           "2934 N 89TH ST",
           310000,
           1952,
           5,
           1250,
           2080
          ],
          [
           "8600 W CHAMBERS ST",
           334900,
           1950,
           7,
           1519,
           2080
          ],
          [
           "2875 N 85TH ST",
           282500,
           1950,
           5,
           1430,
           2080
          ],
          [
           "2727 N 87TH ST",
           265000,
           1950,
           7,
           1048,
           2080
          ],
          [
           "2737 N 85TH ST",
           300000,
           1950,
           7,
           1248,
           2080
          ],
          [
           "7841 W LORRAINE PL",
           265000,
           1940,
           4,
           912,
           2080
          ],
          [
           "2908 N 77TH ST",
           325000,
           1950,
           5,
           1273,
           2080
          ],
          [
           "3024 N 79TH ST",
           261000,
           1948,
           5,
           1513,
           2080
          ],
          [
           "2819 N 77TH ST",
           235000,
           1948,
           5,
           1267,
           2080
          ],
          [
           "2815 N 77TH ST",
           317000,
           1950,
           5,
           1158,
           2080
          ],
          [
           "2821 N 80TH ST",
           290000,
           1937,
           6,
           1612,
           2080
          ],
          [
           "2846 N 81ST ST",
           268000,
           1951,
           5,
           1579,
           2080
          ],
          [
           "2823 N 82ND ST",
           18000,
           0,
           null,
           0,
           2080
          ],
          [
           "2802 N 83RD ST",
           270000,
           1946,
           7,
           1734,
           2080
          ],
          [
           "7637 W HADLEY ST",
           259000,
           1926,
           6,
           1350,
           2080
          ],
          [
           "3043 N 82ND ST",
           332000,
           1947,
           8,
           1701,
           2080
          ],
          [
           "2951 N 81ST ST",
           212500,
           1948,
           4,
           815,
           2080
          ],
          [
           "2921 N 81ST ST",
           255000,
           1948,
           8,
           1875,
           2080
          ],
          [
           "3025 N 75TH ST",
           255000,
           1951,
           6,
           1536,
           2080
          ],
          [
           "3061 N 74TH ST",
           235000,
           1949,
           4,
           1060,
           2080
          ],
          [
           "2950 N 73RD ST",
           210000,
           1935,
           6,
           1368,
           2080
          ],
          [
           "2911 N 74TH ST",
           235000,
           1927,
           7,
           1342,
           2080
          ],
          [
           "2872 N 75TH ST",
           220000,
           1940,
           4,
           906,
           2080
          ],
          [
           "2928-2930 N 61ST ST",
           138000,
           1928,
           10,
           2227,
           1870
          ],
          [
           "2918 N 61ST ST",
           237000,
           1951,
           8,
           2052,
           1870
          ],
          [
           "2824 N HARTUNG AV",
           310000,
           1938,
           6,
           1649,
           1980
          ],
          [
           "2836 N 67TH ST",
           321200,
           1940,
           8,
           2288,
           1980
          ],
          [
           "2792 N 69TH ST",
           355000,
           1941,
           6,
           1794,
           1980
          ],
          [
           "6661 W BURLEIGH ST",
           190000,
           1928,
           6,
           1340,
           1870
          ],
          [
           "6326 W CHAMBERS ST",
           233000,
           1928,
           8,
           1584,
           1870
          ],
          [
           "6511 W CHAMBERS ST",
           320000,
           1941,
           9,
           2198,
           1870
          ],
          [
           "6516 W GIRARD AV",
           270000,
           1929,
           6,
           1615,
           1870
          ],
          [
           "2921 N 56TH ST",
           130000,
           1926,
           5,
           945,
           1860
          ],
          [
           "2902-2904 N 55TH ST",
           235000,
           1927,
           10,
           2025,
           1860
          ],
          [
           "2725--A N 59TH ST",
           100000,
           1927,
           11,
           1972,
           1860
          ],
          [
           "2878-2880 N 57TH ST",
           119900,
           1926,
           10,
           2250,
           1860
          ],
          [
           "2829-2831 N 55TH ST",
           184500,
           1927,
           10,
           2105,
           1860
          ],
          [
           "2813 N 53RD ST",
           85000,
           1928,
           5,
           1009,
           1860
          ],
          [
           "2803-2805 N 53RD ST",
           140000,
           1927,
           12,
           2628,
           1860
          ],
          [
           "3063 N 58TH ST",
           135900,
           1948,
           6,
           1266,
           1860
          ],
          [
           "2962-2964 N 59TH ST",
           182000,
           1927,
           10,
           2094,
           1860
          ],
          [
           "5958 W APPLETON AV",
           102200,
           1920,
           5,
           908,
           1860
          ],
          [
           "5958 W APPLETON AV",
           119630,
           1920,
           5,
           908,
           1860
          ],
          [
           "2969 N 46TH ST",
           199000,
           1923,
           9,
           1698,
           2510
          ],
          [
           "2950-2952 N 44TH ST",
           131000,
           1927,
           10,
           2441,
           2510
          ],
          [
           "2771-2773 N 49TH ST",
           143000,
           1921,
           11,
           2543,
           2510
          ],
          [
           "2861-2863 N 49TH ST",
           174000,
           1925,
           12,
           2430,
           2510
          ],
          [
           "2835-2837 N 49TH ST",
           210000,
           1924,
           14,
           3280,
           2510
          ],
          [
           "2956 N 50TH ST",
           121326,
           1923,
           12,
           2638,
           2510
          ],
          [
           "2972-2974 N 49TH ST",
           170000,
           1925,
           12,
           2673,
           2510
          ],
          [
           "2944-2946 N 48TH ST",
           152500,
           1938,
           12,
           2702,
           2510
          ],
          [
           "3029-3031 N 44TH ST",
           130000,
           1928,
           10,
           2265,
           2510
          ],
          [
           "2877 N 47TH ST",
           192000,
           1925,
           10,
           1900,
           2510
          ],
          [
           "3034 N 41ST ST",
           88000,
           1920,
           7,
           1496,
           1780
          ],
          [
           "2761-2763 N 40TH ST",
           75500,
           1916,
           10,
           2284,
           1780
          ],
          [
           "2846 N 40TH ST",
           102200,
           1921,
           8,
           1685,
           1780
          ],
          [
           "2803-2805 N 40TH ST",
           95000,
           1916,
           12,
           3000,
           1780
          ],
          [
           "2841 N 41ST ST",
           111200,
           1920,
           8,
           1809,
           1780
          ],
          [
           "2842 N GRANT BL",
           293500,
           1925,
           10,
           3354,
           2500
          ],
          [
           "2951 N 36TH ST",
           115000,
           1918,
           6,
           1176,
           1780
          ],
          [
           "2908 N 39TH ST",
           180000,
           1921,
           9,
           2080,
           1780
          ],
          [
           "2930 N 39TH ST",
           200000,
           1921,
           8,
           1773,
           1780
          ],
          [
           "3033 N 27TH ST",
           33500,
           1904,
           5,
           1318,
           2950
          ],
          [
           "2802 N 28TH ST",
           40000,
           1911,
           6,
           1663,
           2950
          ],
          [
           "2846 N 34TH ST",
           48000,
           1910,
           6,
           1542,
           2950
          ],
          [
           "3035 N DR LESTER CARTER DR",
           1619500,
           1925,
           10,
           1854,
           2950
          ],
          [
           "2936 N 23RD ST",
           76500,
           1904,
           8,
           1388,
           2950
          ],
          [
           "2939 N 21ST ST",
           50000,
           1892,
           10,
           1882,
           2950
          ],
          [
           "2856 N 23RD ST",
           11800,
           0,
           null,
           0,
           2950
          ],
          [
           "2870 N DR LESTER CARTER DR",
           109000,
           1893,
           7,
           1260,
           2950
          ],
          [
           "2830 N DR LESTER CARTER DR",
           106600,
           1891,
           8,
           1206,
           2950
          ],
          [
           "2741-A N 25TH ST",
           56500,
           1905,
           9,
           1713,
           2950
          ],
          [
           "2928 N 26TH ST",
           65900,
           1921,
           6,
           1638,
           2950
          ],
          [
           "2844-2846 N 24TH PL",
           125000,
           1914,
           12,
           2422,
           2950
          ],
          [
           "3049 N 26TH ST",
           23000,
           1912,
           5,
           1238,
           2950
          ],
          [
           "2939 N 14TH ST",
           88600,
           1923,
           6,
           1158,
           2870
          ],
          [
           "2954 N 18TH ST",
           142000,
           1912,
           9,
           1660,
           2950
          ],
          [
           "2845 N 16TH ST",
           130000,
           1893,
           9,
           1631,
           2950
          ],
          [
           "1350 W LOCUST ST",
           60000,
           1897,
           14,
           3392,
           2870
          ],
          [
           "1432 W CHAMBERS ST",
           164900,
           2004,
           7,
           1564,
           2870
          ],
          [
           "3040-3042 N 9TH ST",
           177000,
           1912,
           10,
           2995,
           2870
          ],
          [
           "2957-2959 N 9TH ST",
           85000,
           1912,
           10,
           2182,
           2870
          ],
          [
           "3028 N 6TH ST",
           176000,
           2023,
           6,
           1280,
           2930
          ],
          [
           "2757 N 11TH LA",
           60000,
           1900,
           6,
           1171,
           2870
          ],
          [
           "2901 N 11TH ST",
           140700,
           1901,
           11,
           2245,
           2870
          ],
          [
           "3066 N 2ND ST",
           60500,
           1895,
           7,
           1520,
           2930
          ],
          [
           "2723-2725 N 1ST ST",
           92000,
           1890,
           11,
           2170,
           2930
          ],
          [
           "2858 N BOOTH ST",
           269000,
           1915,
           9,
           2073,
           2890
          ],
          [
           "600 E LOCUST ST",
           230000,
           1906,
           12,
           1203,
           2890
          ],
          [
           "3070 N RICHARDS ST",
           81000,
           1895,
           6,
           900,
           2930
          ],
          [
           "3062 N BARTLETT AV",
           360000,
           1916,
           7,
           1447,
           3150
          ],
          [
           "1708 E GENEVA PL",
           430000,
           1921,
           null,
           3926,
           6770
          ],
          [
           "1220 E LOCUST ST, Unit 209",
           243500,
           2004,
           5,
           1408,
           5405
          ],
          [
           "1220 E LOCUST ST, Unit 305",
           240000,
           2004,
           5,
           1408,
           5405
          ],
          [
           "2732-2734 N CRAMER ST",
           316600,
           1914,
           14,
           2926,
           3170
          ],
          [
           "2946 N STOWELL AV",
           480000,
           1904,
           7,
           2629,
           3160
          ],
          [
           "2118 E PARK PL",
           525000,
           1901,
           10,
           2834,
           3170
          ],
          [
           "2834 N PROSPECT AV",
           491000,
           1900,
           8,
           2693,
           3160
          ],
          [
           "2009 E KENWOOD BL",
           329000,
           1916,
           7,
           2280,
           3160
          ],
          [
           "3012-3014 N MURRAY AV",
           415000,
           1916,
           12,
           3073,
           3160
          ],
          [
           "3050 N SUMMIT AV",
           595000,
           1913,
           9,
           2708,
           3060
          ],
          [
           "2716 N SHEPARD AV",
           915000,
           1895,
           13,
           3664,
           3060
          ],
          [
           "2921 N LAKE DR, Unit 2",
           700000,
           1926,
           9,
           2302,
           5572
          ],
          [
           "2649 N HACKETT AV, Unit 6",
           152500,
           1911,
           3,
           546,
           5611
          ],
          [
           "2317-2319 E PARK PL",
           449900,
           1894,
           22,
           2513,
           3170
          ],
          [
           "2531 N MURRAY AV",
           500000,
           1901,
           11,
           2510,
           3170
          ],
          [
           "2519 N MURRAY AV",
           499000,
           1898,
           14,
           3118,
           3170
          ],
          [
           "2534-2536 N CRAMER ST",
           360000,
           1927,
           10,
           2171,
           3170
          ],
          [
           "2476-2478 N FREDERICK AV",
           305000,
           1890,
           12,
           2112,
           3190
          ],
          [
           "2423-2425 N FARWELL AV",
           580000,
           1896,
           null,
           4820,
           6770
          ],
          [
           "2416-2418 N FREDERICK AV",
           385000,
           1893,
           15,
           3816,
           3190
          ],
          [
           "2327-2329 N CRAMER ST",
           404000,
           1912,
           10,
           2498,
           3190
          ],
          [
           "2543 N GORDON PL",
           275000,
           1900,
           7,
           1320,
           3330
          ],
          [
           "2508-2510 N DOUSMAN ST",
           380000,
           1925,
           11,
           2920,
           3330
          ],
          [
           "1628 E BELLEVIEW PL",
           238300,
           1893,
           7,
           1470,
           3190
          ],
          [
           "2431 N BARTLETT AV",
           236000,
           1890,
           7,
           1397,
           3190
          ],
          [
           "1225-1229 E WRIGHT ST",
           625000,
           1910,
           null,
           3802,
           6760
          ],
          [
           "2401-2403 N OAKLAND AV",
           471000,
           1992,
           8,
           2284,
           3190
          ],
          [
           "2362 N BOOTH ST",
           310000,
           1890,
           11,
           2368,
           2890
          ],
          [
           "2422 N HOLTON ST",
           175000,
           1890,
           7,
           1299,
           2920
          ],
          [
           "2444 N HOLTON ST",
           102000,
           1900,
           4,
           759,
           2920
          ],
          [
           "525-527 E CLARKE ST",
           220000,
           1890,
           8,
           1672,
           2890
          ],
          [
           "2601-2603 N PIERCE ST",
           313000,
           1906,
           11,
           2224,
           2890
          ],
          [
           "2667-2669 N PALMER ST",
           251000,
           1911,
           11,
           3244,
           2920
          ],
          [
           "2549-2551 N VEL R PHILLIPS AV",
           215000,
           1905,
           17,
           3649,
           2920
          ],
          [
           "2448 N 12TH ST",
           35000,
           1883,
           10,
           1510,
           2940
          ],
          [
           "809 W MEINECKE AV",
           34000,
           1885,
           5,
           760,
           2940
          ],
          [
           "1700-1702 W MEINECKE AV",
           106000,
           1893,
           20,
           3828,
           2940
          ],
          [
           "2555 N 16TH ST",
           78000,
           1892,
           11,
           1898,
           2940
          ],
          [
           "2564 N 15TH ST",
           45500,
           1893,
           7,
           1392,
           2940
          ],
          [
           "2400-2402 N 22ND ST",
           59500,
           1900,
           10,
           2430,
           2940
          ],
          [
           "2622 N 24TH ST",
           10000,
           1890,
           10,
           1820,
           2940
          ],
          [
           "2532 N 27TH ST",
           115000,
           1906,
           6,
           1506,
           2940
          ],
          [
           "2729-2731 W CLARKE ST",
           56000,
           1923,
           0,
           2344,
           2420
          ],
          [
           "2555-2557 N 27TH ST",
           43000,
           1897,
           9,
           2196,
           2420
          ],
          [
           "2520 N 34TH ST",
           140000,
           1897,
           7,
           1454,
           2400
          ],
          [
           "2508 N 35TH ST",
           65000,
           1905,
           11,
           1954,
           2400
          ],
          [
           "2559 N 36TH ST",
           58262,
           2008,
           5,
           1408,
           2380
          ],
          [
           "2449-2451 N 39TH ST",
           95000,
           1914,
           12,
           2553,
           2380
          ],
          [
           "2437-2439 N 37TH ST",
           90000,
           1914,
           12,
           2462,
           2380
          ],
          [
           "2559-2561 N 38TH ST",
           77000,
           1912,
           10,
           2185,
           2380
          ],
          [
           "2545-2547 N 38TH ST",
           137500,
           1915,
           10,
           2304,
           2380
          ],
          [
           "2515-2517 N 38TH ST",
           127000,
           1912,
           10,
           2152,
           2380
          ],
          [
           "2631--A N 35TH ST",
           110000,
           1907,
           9,
           1738,
           2400
          ],
          [
           "2436 N 49TH ST",
           159000,
           1921,
           7,
           1299,
           2520
          ],
          [
           "2632-2634 N 50TH ST",
           115000,
           1923,
           12,
           2612,
           2520
          ],
          [
           "2655 N 47TH ST",
           137000,
           1922,
           10,
           1519,
           2520
          ],
          [
           "2660-2662 N 49TH ST",
           185000,
           1926,
           15,
           2888,
           2520
          ],
          [
           "2446 N 47TH ST",
           143000,
           1920,
           7,
           1921,
           2520
          ],
          [
           "2544-2546 N 49TH ST",
           145000,
           1922,
           10,
           2230,
           2520
          ],
          [
           "2461-2463 N 45TH ST",
           170000,
           1914,
           10,
           2494,
           2520
          ],
          [
           "2676-2678 N 45TH ST",
           99900,
           1926,
           10,
           2281,
           2520
          ],
          [
           "4419-4421 W CENTER ST",
           112500,
           1924,
           0,
           1790,
           6250
          ],
          [
           "2607-2609 N 45TH ST",
           100000,
           1917,
           12,
           2524,
           2520
          ],
          [
           "2673 N 46TH ST",
           185000,
           1923,
           8,
           1803,
           2520
          ],
          [
           "2523-2525 N 49TH ST",
           129900,
           1923,
           10,
           2408,
           2520
          ],
          [
           "2522-2524 N 51ST ST",
           120000,
           1923,
           10,
           2190,
           2520
          ],
          [
           "2460 N 44TH ST",
           90000,
           1916,
           8,
           1736,
           2520
          ],
          [
           "2344 N 60TH ST",
           330000,
           1927,
           8,
           1896,
           1890
          ],
          [
           "5811 W LISBON AV",
           70000,
           1921,
           4,
           666,
           1890
          ],
          [
           "2320 N 55TH ST",
           275000,
           1926,
           11,
           2489,
           1890
          ],
          [
           "2336-2338 N 55TH ST",
           285000,
           1924,
           12,
           2862,
           1890
          ],
          [
           "2548 N 57TH ST",
           250000,
           1927,
           9,
           1817,
           1890
          ],
          [
           "2327 N 52ND ST",
           305000,
           1939,
           null,
           13150,
           32906
          ],
          [
           "2454 N 56TH ST",
           115000,
           1923,
           5,
           704,
           1890
          ],
          [
           "2460 N 57TH ST",
           118000,
           1927,
           6,
           1448,
           1890
          ],
          [
           "5812 W MEINECKE AV",
           80000,
           1922,
           5,
           902,
           1890
          ],
          [
           "2615--A N 60TH ST",
           232500,
           1925,
           10,
           1945,
           1890
          ],
          [
           "2545-2547 N 60TH ST",
           265000,
           1928,
           10,
           2378,
           1890
          ],
          [
           "8327 W CENTER ST",
           365000,
           1950,
           null,
           3876,
           6663
          ],
          [
           "2146 N 58TH ST",
           261000,
           1922,
           6,
           1195,
           2540
          ],
          [
           "2118 N 58TH ST",
           210000,
           1922,
           6,
           1222,
           2540
          ],
          [
           "1409-1411 N 53RD ST",
           234900,
           1926,
           10,
           1967,
           2600
          ],
          [
           "1713 N 55TH ST",
           230000,
           1926,
           7,
           1222,
           2540
          ],
          [
           "1604 N 60TH ST",
           255000,
           1910,
           6,
           1676,
           2600
          ],
          [
           "2016 N 59TH ST",
           208800,
           1953,
           6,
           1215,
           2540
          ],
          [
           "2044 N 59TH ST",
           310000,
           1919,
           9,
           1884,
           2540
          ],
          [
           "1739-1741 N 57TH ST",
           285000,
           1926,
           10,
           2484,
           2540
          ],
          [
           "2128-2130 N 57TH ST",
           300800,
           1921,
           10,
           2322,
           2540
          ],
          [
           "2113 N 55TH ST",
           331000,
           1920,
           16,
           1814,
           2540
          ],
          [
           "2109 N 55TH ST",
           253000,
           1920,
           9,
           2091,
           2540
          ],
          [
           "5205-5209 W NORTH AV",
           330000,
           1929,
           0,
           4810,
           6250
          ],
          [
           "5412-5414 W VINE ST",
           260000,
           1926,
           10,
           2215,
           2540
          ],
          [
           "5505 W LLOYD ST",
           275000,
           1952,
           null,
           8064,
           6250
          ],
          [
           "4538 W LISBON AV",
           160000,
           1906,
           null,
           2345,
           6254
          ],
          [
           "4727-4729 W LLOYD ST",
           235000,
           1915,
           10,
           2510,
           2540
          ],
          [
           "4919-4921 W NORTH AV",
           620000,
           1922,
           null,
           3616,
           6250
          ],
          [
           "2225 N HI MOUNT BL",
           250000,
           1921,
           11,
           2112,
           2540
          ],
          [
           "2101 N 48TH ST",
           349000,
           1916,
           0,
           5200,
           6250
          ],
          [
           "3722 W BROWN ST",
           22100,
           1904,
           8,
           1532,
           2380
          ],
          [
           "2001-2003 N 38TH ST",
           147500,
           1910,
           12,
           2652,
           2380
          ],
          [
           "1941-1943 N 38TH ST",
           142500,
           1889,
           12,
           2361,
           2380
          ],
          [
           "1948 N 38TH ST",
           122500,
           1901,
           10,
           2075,
           2380
          ],
          [
           "1958 N 38TH ST",
           80000,
           1902,
           10,
           2014,
           2380
          ],
          [
           "2163 N 39TH ST",
           67000,
           1901,
           10,
           1853,
           2380
          ],
          [
           "2157-2159 N 38TH ST",
           152500,
           2006,
           5,
           1232,
           2380
          ],
          [
           "2131 N 37TH ST",
           160000,
           1907,
           7,
           2059,
           2380
          ],
          [
           "2155-2157 N 35TH ST",
           62500,
           1912,
           null,
           2367,
           2400
          ],
          [
           "3812 W ROBERTS ST",
           150000,
           1909,
           10,
           2037,
           2380
          ],
          [
           "1733-1735 N 38TH ST",
           114900,
           1913,
           12,
           2435,
           2380
          ],
          [
           "2103 N 39TH ST",
           170000,
           2011,
           7,
           1504,
           2380
          ],
          [
           "1948 N 28TH ST",
           165000,
           2004,
           6,
           1456,
           2420
          ],
          [
           "2209-2211 N 29TH ST",
           99000,
           1894,
           14,
           3198,
           2420
          ],
          [
           "2232-2234 W BROWN ST",
           65000,
           1924,
           10,
           2176,
           3000
          ],
          [
           "1943 N 19TH ST",
           135000,
           1900,
           8,
           1654,
           3000
          ],
          [
           "1618-1620 W LLOYD ST",
           132500,
           1908,
           10,
           2662,
           3000
          ],
          [
           "1939 N 18TH ST",
           165000,
           1911,
           8,
           1724,
           3000
          ],
          [
           "125 W GARFIELD AV",
           242500,
           1890,
           5,
           771,
           2910
          ],
          [
           "217 E GARFIELD AV",
           455000,
           1902,
           7,
           1488,
           2910
          ],
          [
           "2010 N 2ND ST",
           330000,
           1880,
           7,
           1520,
           2910
          ],
          [
           "2021 N VEL R PHILLIPS AV",
           225000,
           1990,
           7,
           1898,
           2970
          ],
          [
           "234 E RESERVOIR AV, Unit 208",
           245500,
           1917,
           3,
           980,
           5945
          ],
          [
           "224- W VINE ST, Unit 101",
           250000,
           1890,
           4,
           1065,
           5936
          ],
          [
           "1846 N VEL R PHILLIPS AV, Unit 102",
           630000,
           1898,
           6,
           2757,
           5933
          ],
          [
           "1924 N HUBBARD ST, Unit 202",
           254900,
           1945,
           3,
           1070,
           5971
          ],
          [
           "1924 N HUBBARD ST, Unit 302",
           270000,
           1945,
           4,
           1109,
           5971
          ],
          [
           "1924 N HUBBARD ST, Unit 403",
           231750,
           1945,
           3,
           914,
           5971
          ],
          [
           "2136 N PALMER ST",
           612000,
           1890,
           8,
           2124,
           2910
          ],
          [
           "418-420 E GARFIELD AV",
           405000,
           1884,
           11,
           2393,
           2910
          ],
          [
           "2228 N BUFFUM ST",
           145000,
           1884,
           6,
           1261,
           2910
          ],
          [
           "904 E PEARSON ST, Unit 108",
           430000,
           1889,
           3,
           1192,
           5982
          ],
          [
           "904 E PEARSON ST, Unit 109",
           375000,
           1889,
           3,
           1504,
           5982
          ],
          [
           "904 E PEARSON ST, Unit 103",
           285000,
           1889,
           3,
           1061,
           5982
          ],
          [
           "1888 N WATER ST, Unit 507",
           400000,
           2001,
           4,
           1310,
           5958
          ],
          [
           "1835 N COMMERCE ST, Unit 103",
           426000,
           2003,
           6,
           1586,
           5969
          ],
          [
           "1915 N WATER ST, Unit 103",
           298000,
           2002,
           4,
           1193,
           5964
          ],
          [
           "1915 N WATER ST, Unit 408",
           280000,
           2002,
           5,
           1313,
           5964
          ],
          [
           "1925 N WATER ST, Unit 100",
           330000,
           2003,
           5,
           1490,
           5964
          ],
          [
           "341 E LLOYD ST",
           332500,
           2005,
           6,
           1610,
           5925
          ],
          [
           "1905 N WATER ST, Unit 300",
           362500,
           2005,
           5,
           1314,
           5964
          ],
          [
           "1905 N WATER ST, Unit 402",
           380000,
           2005,
           6,
           1546,
           5964
          ],
          [
           "822 E PEARSON ST, Unit 2",
           350000,
           2006,
           4,
           1198,
           5984
          ],
          [
           "2080 N COMMERCE ST, Unit 103",
           152900,
           2007,
           3,
           726,
           5826
          ],
          [
           "2080 N COMMERCE ST, Unit 306",
           150000,
           2007,
           3,
           728,
           5826
          ],
          [
           "2080 N COMMERCE ST, Unit 410",
           145000,
           2007,
           3,
           748,
           5826
          ],
          [
           "2080 N COMMERCE ST, Unit 418",
           199900,
           2007,
           5,
           1004,
           5826
          ],
          [
           "2080 N COMMERCE ST, Unit 503",
           254900,
           2007,
           5,
           1161,
           5826
          ],
          [
           "1902 N COMMERCE ST, Unit 105",
           335000,
           2010,
           4,
           1194,
           5825
          ],
          [
           "1902 N COMMERCE ST, Unit 111",
           340000,
           2010,
           4,
           1063,
           5825
          ],
          [
           "1902 N COMMERCE ST, Unit 413",
           340000,
           2010,
           4,
           1063,
           5825
          ],
          [
           "1902 N COMMERCE ST, Unit 501",
           315000,
           2010,
           4,
           1166,
           5825
          ],
          [
           "1846 N WARREN AV",
           252000,
           1900,
           11,
           2064,
           3240
          ],
          [
           "1200-1204 E BRADY ST",
           600000,
           1880,
           0,
           3166,
           6264
          ],
          [
           "1735 N WARREN AV",
           467500,
           1924,
           14,
           1740,
           3240
          ],
          [
           "1707 N PROSPECT AV, Unit 8B",
           180000,
           1967,
           4,
           998,
           5800
          ],
          [
           "1707 N PROSPECT AV, Unit 13A",
           295000,
           1967,
           4,
           1255,
           5800
          ],
          [
           "1550 E ROYALL PL, Unit 706",
           475000,
           2005,
           5,
           1868,
           5855
          ],
          [
           "2144 N COMMERCE ST",
           340000,
           2005,
           5,
           1499,
           5924
          ],
          [
           "2121 N CAMBRIDGE AV, Unit 109",
           125000,
           1970,
           3,
           595,
           5409
          ],
          [
           "2121 N CAMBRIDGE AV, Unit 111",
           174000,
           1970,
           4,
           850,
           5409
          ],
          [
           "2405 E WYOMING PL",
           1600000,
           1904,
           13,
           7071,
           3060
          ],
          [
           "2105 N SUMMIT AV, Unit 101",
           329900,
           1915,
           7,
           1765,
           5890
          ],
          [
           "1812 E LAFAYETTE PL, Unit 204",
           300000,
           2003,
           4,
           1382,
           5913
          ],
          [
           "1812 E LAFAYETTE PL, Unit 208",
           343000,
           2004,
           4,
           1375,
           5913
          ],
          [
           "1121 E PLEASANT ST",
           260000,
           1921,
           5,
           1017,
           3240
          ],
          [
           "1409 N PROSPECT AV, Unit 501",
           175000,
           1963,
           4,
           830,
           5930
          ],
          [
           "1633 N PROSPECT AV, Unit 16A",
           335000,
           1982,
           4,
           1136,
           5920
          ],
          [
           "1550 N WARREN AV, Unit 107",
           330000,
           2000,
           4,
           1510,
           5942
          ],
          [
           "1522 N PROSPECT AV, Unit 901",
           610000,
           2002,
           4,
           1571,
           5951
          ],
          [
           "1522 N PROSPECT AV, Unit 1401-0",
           1530000,
           2002,
           7,
           3620,
           5951
          ],
          [
           "1522 N PROSPECT AV, Unit 1803",
           1600000,
           2002,
           7,
           4614,
           5951
          ],
          [
           "1522 N PROSPECT AV, Unit 1804",
           1400000,
           2002,
           5,
           4241,
           5951
          ],
          [
           "1619 N FARWELL AV, Unit 102",
           270000,
           2004,
           4,
           1287,
           5853
          ],
          [
           "1660 N PROSPECT AV, Unit 303",
           252900,
           1990,
           3,
           733,
           5921
          ],
          [
           "1660 N PROSPECT AV, Unit 412",
           365500,
           1990,
           4,
           1118,
           5921
          ],
          [
           "1660 N PROSPECT AV, Unit 1011",
           367500,
           1990,
           4,
           954,
           5921
          ],
          [
           "1300 N PROSPECT AV, Unit 102",
           431000,
           1998,
           5,
           1291,
           5750
          ],
          [
           "1313 N FRANKLIN PL, Unit 502",
           410000,
           2009,
           0,
           1108,
           5811
          ],
          [
           "1313 N FRANKLIN PL, Unit 1405",
           525000,
           2009,
           0,
           1140,
           5811
          ],
          [
           "1652 N WATER ST",
           520000,
           1927,
           null,
           1120,
           6264
          ],
          [
           "1685 N MARSHALL ST",
           530000,
           1885,
           10,
           2216,
           3240
          ],
          [
           "1534 N MARSHALL ST",
           315000,
           1886,
           24,
           2642,
           3240
          ],
          [
           "1526 N CASS ST",
           430000,
           1870,
           9,
           2046,
           3240
          ],
          [
           "1219 N JACKSON ST, Unit 107",
           325000,
           1981,
           6,
           1533,
           5975
          ],
          [
           "1219 N JACKSON ST, Unit 302",
           340000,
           1981,
           6,
           1533,
           5975
          ],
          [
           "1028 E JUNEAU AV, Unit 210",
           156000,
           1927,
           3,
           600,
           5960
          ],
          [
           "1028 E JUNEAU AV, Unit 629",
           135000,
           1927,
           3,
           460,
           5960
          ],
          [
           "1647 N ASTOR ST",
           575000,
           1925,
           14,
           3793,
           3240
          ],
          [
           "1321 W CHERRY ST",
           46000,
           1897,
           4,
           675,
           3000
          ],
          [
           "1304 W JUNEAU AV",
           170000,
           1913,
           14,
           1974,
           3040
          ],
          [
           "923-939 N 19TH ST",
           1800000,
           2004,
           null,
           18568,
           6741
          ],
          [
           "1320 N 24TH ST",
           189000,
           1891,
           9,
           2064,
           3040
          ],
          [
           "2618 W WALNUT ST",
           118000,
           1853,
           5,
           752,
           3000
          ],
          [
           "2733 W VLIET ST",
           165000,
           1903,
           0,
           3347,
           6254
          ],
          [
           "1700-1702 N 28TH ST",
           83600,
           1907,
           12,
           2248,
           2420
          ],
          [
           "1654 N 28TH ST",
           170000,
           1915,
           7,
           1710,
           2420
          ],
          [
           "1440 N 29TH ST",
           69000,
           1886,
           6,
           1156,
           2420
          ],
          [
           "1631 N 32ND ST",
           85000,
           1894,
           7,
           1760,
           2400
          ],
          [
           "3204-3206 W CHERRY ST",
           42500,
           1908,
           10,
           2280,
           2400
          ],
          [
           "3243-3245 W MC KINLEY BL",
           140000,
           1907,
           null,
           2690,
           6740
          ],
          [
           "2922-2924 W JUNEAU AV",
           194900,
           1902,
           16,
           4108,
           2300
          ],
          [
           "1434 N 37TH ST",
           35000,
           1905,
           9,
           2082,
           2380
          ],
          [
           "1424-1426 N 38TH ST",
           81000,
           1912,
           10,
           2358,
           2380
          ],
          [
           "1536-1538 N 38TH ST",
           125000,
           1905,
           10,
           1970,
           2380
          ],
          [
           "1515 N 38TH ST",
           92000,
           1906,
           8,
           1885,
           2380
          ],
          [
           "1445-1447 N 48TH ST",
           254000,
           1926,
           10,
           2188,
           2600
          ],
          [
           "1505 N 48TH ST",
           315000,
           1930,
           7,
           1581,
           2600
          ],
          [
           "1419-1421 N 50TH PL",
           280000,
           1923,
           12,
           2534,
           2600
          ],
          [
           "1429-1431 N 49TH ST",
           280000,
           1924,
           12,
           2534,
           2600
          ],
          [
           "1623-1625 N 52ND ST",
           309000,
           1919,
           12,
           2760,
           2600
          ],
          [
           "1421 N HAWLEY RD",
           200000,
           1952,
           4,
           944,
           2600
          ],
          [
           "1332-1334 N HAWLEY RD",
           223500,
           1924,
           10,
           1948,
           2600
          ],
          [
           "5620 W MARTIN DR",
           350000,
           1927,
           7,
           1600,
           2600
          ],
          [
           "1344 N 58TH ST",
           284900,
           1922,
           9,
           2017,
           2600
          ],
          [
           "4928 W WISCONSIN AV",
           345000,
           1917,
           7,
           1769,
           2660
          ],
          [
           "4300 W MONARCH PL",
           475000,
           1900,
           null,
           17472,
           6272
          ],
          [
           "1143 N 44TH ST",
           220000,
           1939,
           9,
           2017,
           2610
          ],
          [
           "1159 N 44TH ST",
           220000,
           1927,
           5,
           1175,
           2610
          ],
          [
           "1149-1151 N 46TH ST",
           239000,
           1927,
           10,
           2247,
           2610
          ],
          [
           "3602-3604 W LINDEN PL",
           150000,
           1926,
           10,
           1966,
           2180
          ],
          [
           "750 N 35TH ST",
           425000,
           1978,
           null,
           9735,
           6270
          ],
          [
           "2900 W KILBOURN AV",
           151000,
           1901,
           7,
           2134,
           2300
          ],
          [
           "2813 W JUNEAU AV",
           205000,
           1890,
           26,
           3735,
           2300
          ],
          [
           "807 N 23RD ST",
           328570,
           1884,
           14,
           4538,
           3040
          ],
          [
           "907 N 26TH ST",
           1650000,
           1966,
           null,
           16290,
           6876
          ],
          [
           "917 N 26TH ST",
           1650000,
           1926,
           null,
           12990,
           6876
          ],
          [
           "752 N 26TH ST",
           183000,
           1908,
           null,
           4277,
           6740
          ],
          [
           "1407-1435 W HIGHLAND AV",
           2850000,
           1932.9964664310953,
           null,
           44046,
           6976
          ],
          [
           "606 W WISCONSIN AV, Unit 401",
           190500,
           1929,
           3,
           782,
           5999
          ],
          [
           "606 W WISCONSIN AV, Unit 410",
           111000,
           1929,
           3,
           540,
           5999
          ],
          [
           "606 W WISCONSIN AV, Unit 1101",
           213000,
           1929,
           3,
           947,
           5999
          ],
          [
           "1129-1131 N WATER ST",
           785000,
           2004,
           null,
           4302,
           6460
          ],
          [
           "815 N CASS ST",
           490000,
           1896,
           0,
           5710,
           6460
          ],
          [
           "773 N WATER ST, Unit 22",
           235000,
           1913,
           3,
           1032,
           5998
          ],
          [
           "400 N BROADWAY , Unit 301",
           1515000,
           1911,
           3,
           2753,
           5399
          ],
          [
           "400 N BROADWAY , Unit 903",
           535000,
           1911,
           10,
           1258,
           5399
          ],
          [
           "270 E HIGHLAND AV, Unit 241",
           306100,
           1901,
           4,
           1095,
           5901
          ],
          [
           "270 E HIGHLAND AV, Unit 1041",
           350000,
           1901,
           4,
           1095,
           5901
          ],
          [
           "270 E HIGHLAND AV, Unit 1244",
           380000,
           1901,
           3,
           1205,
           5901
          ],
          [
           "929 N ASTOR ST, Unit 402",
           400000,
           1968,
           5,
           1211,
           5990
          ],
          [
           "812 E KILBOURN AV",
           495000,
           1983,
           4,
           1395,
           5985
          ],
          [
           "741 N MILWAUKEE ST, Unit 306",
           314000,
           1926,
           4,
           1068,
           5989
          ],
          [
           "741 N MILWAUKEE ST, Unit 701",
           465000,
           1926,
           4,
           1644,
           5989
          ],
          [
           "1108 N MILWAUKEE ST, Unit 148",
           244900,
           1983,
           5,
           975,
           5987
          ],
          [
           "1108 N MILWAUKEE ST, Unit 220",
           260000,
           1983,
           5,
           975,
           5987
          ],
          [
           "825 N PROSPECT AV, Unit 3202",
           2500000,
           2007,
           8,
           3964,
           5994
          ],
          [
           "1111 N MARSHALL ST, Unit 204",
           596000,
           2007,
           5,
           2205,
           5906
          ],
          [
           "234 N BROADWAY , Unit 216",
           203000,
           1893,
           8,
           913,
           5390
          ],
          [
           "234 N BROADWAY , Unit 307",
           187500,
           1893,
           4,
           820,
           5390
          ],
          [
           "234 N BROADWAY , Unit 312",
           211000,
           1893,
           4,
           875,
           5390
          ],
          [
           "234 N BROADWAY , Unit 402",
           267000,
           1893,
           4,
           992,
           5390
          ],
          [
           "234 N BROADWAY , Unit 413",
           265000,
           1893,
           5,
           1121,
           5390
          ],
          [
           "234 N BROADWAY , Unit 510",
           260000,
           1893,
           5,
           1151,
           5390
          ],
          [
           "191 N BROADWAY , Unit 202",
           249900,
           1895,
           3,
           946,
           5389
          ],
          [
           "201-205 N WATER ST, Unit 406",
           407000,
           1889,
           2,
           1110,
           5395
          ],
          [
           "102 N WATER ST, Unit 503",
           900000,
           2008,
           6,
           2341,
           5382
          ],
          [
           "102 N WATER ST, Unit 507",
           945000,
           2008,
           6,
           2351,
           5382
          ],
          [
           "635-639 N JAMES LOVELL ST",
           950000,
           1969,
           null,
           8750,
           6460
          ],
          [
           "272 N 12TH ST",
           1075000,
           1929,
           null,
           15215,
           6276
          ],
          [
           "409-411 N 31ST ST",
           225000,
           1908,
           16,
           3028,
           2160
          ],
          [
           "3203-3205 W CLYBOURN ST",
           194000,
           1896,
           8,
           2441,
           2160
          ],
          [
           "437 N 34TH ST",
           105000,
           1896,
           8,
           2147,
           2160
          ],
          [
           "549 N 29TH ST",
           110000,
           1885,
           7,
           1108,
           2160
          ],
          [
           "321 N 29TH ST",
           62000,
           1888,
           9,
           1568,
           2160
          ],
          [
           "3121 W WISCONSIN AV",
           364400,
           1899,
           0,
           7990,
           6270
          ],
          [
           "529 N 31ST ST",
           193500,
           1900,
           9,
           2655,
           2160
          ],
          [
           "617 N 50TH ST",
           290000,
           1928,
           7,
           1872,
           2680
          ],
          [
           "4734 W WOODLAWN CT",
           499900,
           1930,
           7,
           2149,
           2680
          ],
          [
           "317 N 59TH ST",
           225000,
           1921,
           10,
           1687,
           2700
          ],
          [
           "236 N 61ST ST",
           220000,
           1951,
           4,
           806,
           2700
          ],
          [
           "226 N 64TH ST",
           254000,
           1927,
           9,
           1778,
           2700
          ],
          [
           "216 N 63RD ST",
           244000,
           1925,
           7,
           1098,
           2700
          ],
          [
           "6017 W STEVENSON ST",
           151000,
           1920,
           5,
           768,
           2700
          ],
          [
           "165 N 67TH ST",
           270000,
           1953,
           8,
           1670,
           2700
          ],
          [
           "206 N 68TH ST",
           245010,
           1926,
           8,
           1493,
           2700
          ],
          [
           "225 N 72ND ST",
           290000,
           1929,
           6,
           1379,
           2720
          ],
          [
           "157 N 75TH ST",
           277000,
           1972,
           5,
           1144,
           2720
          ],
          [
           "218 N 76TH ST",
           105000,
           1941,
           null,
           749,
           6272
          ],
          [
           "459 S 68TH ST",
           305000,
           1920,
           10,
           1697,
           2710
          ],
          [
           "538 S 70TH ST",
           144000,
           1926,
           6,
           1008,
           2710
          ],
          [
           "645 S 68TH ST",
           229900,
           1923,
           6,
           868,
           2710
          ],
          [
           "228 N 71ST ST",
           155000,
           1920,
           5,
           874,
           2720
          ],
          [
           "213 N 77TH ST",
           240000,
           1924,
           6,
           1470,
           2720
          ],
          [
           "143 N 77TH ST",
           250000,
           1910,
           0,
           1999,
           2720
          ],
          [
           "172 N 90TH ST",
           247000,
           1952,
           4,
           896,
           2760
          ],
          [
           "8933-8935 W HAWTHORNE AV",
           338000,
           1943,
           14,
           1688,
           2760
          ],
          [
           "185 N 91ST PL",
           244000,
           1951,
           5,
           864,
           2760
          ],
          [
           "9115-9117 W HAWTHORNE AV",
           320000,
           1943,
           8,
           1756,
           2760
          ],
          [
           "551 N 94TH ST",
           435551,
           2001,
           0,
           2368,
           2760
          ],
          [
           "9325 W ST PAUL AV",
           305000,
           1952,
           5,
           1239,
           2760
          ],
          [
           "9136 W MICHIGAN ST",
           285000,
           1953,
           6,
           1296,
           2760
          ],
          [
           "159 S 78TH ST",
           200000,
           1928,
           8,
           1740,
           2720
          ],
          [
           "155 S 79TH ST",
           220000,
           1949,
           6,
           1120,
           2720
          ],
          [
           "312 S 79TH ST",
           322000,
           1962,
           5,
           1136,
           2720
          ],
          [
           "320 S HONEY CREEK DR",
           285000,
           1942,
           5,
           1196,
           2720
          ],
          [
           "8205 W HONEY CREEK PK",
           351000,
           1948,
           7,
           1757,
           2720
          ],
          [
           "209 S 77TH ST",
           219900,
           1944,
           6,
           1155,
           2720
          ],
          [
           "7021-7023 W ADLER ST",
           300000,
           1928,
           0,
           2808,
           6272
          ],
          [
           "235 S 75TH ST",
           279900,
           1951,
           5,
           1134,
           2720
          ],
          [
           "201 S 74TH ST",
           309000,
           1923,
           7,
           1232,
           2720
          ],
          [
           "6010 W MAIN ST",
           255000,
           1945,
           6,
           1260,
           2710
          ],
          [
           "653 S 61ST ST",
           260500,
           1917,
           9,
           1307,
           2710
          ],
          [
           "613 S 60TH ST",
           215000,
           1951,
           5,
           1017,
           2710
          ],
          [
           "6609 W FAIRVIEW AV",
           275000,
           1952,
           8,
           1670,
           2700
          ],
          [
           "242 S 68TH ST",
           220000,
           1926,
           3,
           504,
           2710
          ],
          [
           "649 S 66TH ST",
           210000,
           1953,
           5,
           978,
           2710
          ],
          [
           "169 S 64TH ST",
           174000,
           1928,
           9,
           1405,
           2710
          ],
          [
           "338 S 63RD ST",
           169000,
           1924,
           5,
           886,
           2710
          ],
          [
           "535 S 63RD ST",
           164900,
           1920,
           6,
           1246,
           2710
          ],
          [
           "227 S 60TH ST",
           165000,
           1949,
           4,
           758,
           2710
          ],
          [
           "687 S OAK PARK CT",
           221000,
           1926,
           6,
           1030,
           2710
          ],
          [
           "5919 W ADLER ST",
           230000,
           1927,
           12,
           1035,
           2710
          ],
          [
           "631 W BRUCE ST",
           388000,
           1900,
           13,
           1972,
           4020
          ],
          [
           "130 S WATER ST, Unit 406",
           360000,
           2004,
           3,
           908,
           5394
          ],
          [
           "106 W SEEBOTH ST, Unit 520",
           703000,
           2006,
           3,
           1694,
           5388
          ],
          [
           "311 E ERIE ST, Unit 204",
           290000,
           2006,
           4,
           786,
           5393
          ],
          [
           "311 E ERIE ST, Unit 218",
           1025000,
           2006,
           6,
           2675,
           5393
          ],
          [
           "1106 S 1ST ST",
           185000,
           1875,
           null,
           2560,
           6279
          ],
          [
           "326 W WALKER ST",
           335000,
           1910,
           11,
           3302,
           4020
          ],
          [
           "1320-1324 S 11TH ST",
           120000,
           1885,
           8,
           2134,
           4040
          ],
          [
           "1309-1311 S 10TH ST",
           249000,
           1890,
           13,
           2662,
           4040
          ],
          [
           "1236 S 9TH ST",
           205000,
           1912,
           8,
           2106,
           4040
          ],
          [
           "1211 S 9TH ST",
           160000,
           1900,
           null,
           1382,
           4040
          ],
          [
           "1133 S 9TH ST",
           143400,
           1898,
           6,
           1435,
           4040
          ],
          [
           "1215 W MINERAL ST",
           167500,
           1895,
           8,
           1748,
           4040
          ],
          [
           "1125 W WALKER ST",
           160000,
           1884,
           13,
           2478,
           4040
          ],
          [
           "924 W WALKER ST",
           148000,
           1888,
           16,
           2941,
           4040
          ],
          [
           "824 S 11TH ST",
           90000,
           1870,
           5,
           949,
           4040
          ],
          [
           "1416 W WASHINGTON ST",
           144000,
           1890,
           9,
           1873,
           4040
          ],
          [
           "1327 S 17TH ST",
           164000,
           1894,
           18,
           3069,
           4050
          ],
          [
           "1017-1019 S 19TH ST",
           92750,
           1893,
           12,
           2547,
           4050
          ],
          [
           "1630-1632 W NATIONAL AV",
           2200000,
           1970,
           null,
           26415,
           6978
          ],
          [
           "925 S 20TH ST",
           235000,
           1924,
           20,
           2127,
           4050
          ],
          [
           "1113 S 22ND ST",
           150000,
           1888,
           6,
           1620,
           4050
          ],
          [
           "2234 W SCOTT ST",
           175000,
           1919,
           10,
           1612,
           4050
          ],
          [
           "1233-1235 S 25TH ST",
           145000,
           1905,
           11,
           2002,
           4050
          ],
          [
           "1242 S 25TH ST",
           145000,
           1905,
           8,
           1680,
           4050
          ],
          [
           "1241-1243 S 23RD ST",
           165000,
           1944,
           8,
           1584,
           4050
          ],
          [
           "1302 S 22ND ST",
           13000,
           1932.9964664310953,
           null,
           0,
           4050
          ],
          [
           "735 S 22ND ST",
           267000,
           1903,
           9,
           2408,
           4050
          ],
          [
           "3334-3336 W NATIONAL AV",
           140000,
           1887,
           13,
           2070,
           4060
          ],
          [
           "757-759 S SHEA AV",
           120000,
           1902,
           13,
           2187,
           4060
          ],
          [
           "803 S 31ST ST",
           210000,
           1909,
           7,
           1718,
           4060
          ],
          [
           "934 S 32ND ST",
           174900,
           1885,
           8,
           2234,
           4060
          ],
          [
           "925-927 S 29TH ST",
           200000,
           1910,
           10,
           2198,
           4060
          ],
          [
           "1323-1325 S 28TH ST",
           222000,
           1916,
           12,
           2892,
           4060
          ],
          [
           "1227 S LAYTON BL",
           235000,
           1921,
           8,
           2556,
           4000
          ],
          [
           "1238 S 28TH ST",
           160000,
           1920,
           7,
           1721,
           4060
          ],
          [
           "1119 S 33RD ST",
           208430,
           1890,
           6,
           1218,
           4060
          ],
          [
           "2815 W PIERCE ST",
           245000,
           1904,
           11,
           2292,
           4060
          ],
          [
           "728 S 38TH ST",
           225000,
           1929,
           7,
           1349,
           4060
          ],
          [
           "3814 W NATIONAL AV",
           160000,
           1883,
           13,
           2202,
           4060
          ],
          [
           "1101-1103 S 35TH ST",
           202000,
           1902,
           11,
           2068,
           4060
          ],
          [
           "3740-3742 W SCOTT ST",
           177500,
           1914,
           12,
           2724,
           4060
          ],
          [
           "3722 W SCOTT ST",
           205000,
           1921,
           7,
           1142,
           4060
          ],
          [
           "3732 W DOROTHY PL",
           170000,
           1915,
           10,
           2244,
           4060
          ],
          [
           "3735 W MARGARET PL",
           265000,
           1918,
           8,
           1445,
           4060
          ],
          [
           "4002 W ORCHARD ST",
           250000,
           1928,
           10,
           2004,
           4060
          ],
          [
           "4101 W GREENFIELD AV",
           230000,
           1947,
           null,
           2500,
           6274
          ],
          [
           "1564 S 38TH ST",
           190000,
           1950,
           5,
           1008,
           4060
          ],
          [
           "2825-2827 W LAPHAM ST, Unit ]",
           115000,
           1884,
           8,
           1656,
           4060
          ],
          [
           "1646 S 32ND ST",
           265000,
           1904,
           6,
           1452,
           4060
          ],
          [
           "1616 S 30TH ST",
           180000,
           1895,
           8,
           1350,
           4060
          ],
          [
           "1717 S LAYTON BL",
           185000,
           1922,
           8,
           2478,
           4000
          ],
          [
           "1606 S 35TH ST",
           185000,
           1912,
           5,
           1190,
           4060
          ],
          [
           "1519 S 20TH ST",
           135000,
           1892,
           4,
           1260,
           4100
          ],
          [
           "1426 S 23RD ST",
           105000,
           1893,
           12,
           836,
           4100
          ],
          [
           "2013-2015 W LAPHAM ST",
           75000,
           1890,
           9,
           1681,
           4100
          ],
          [
           "1718-1720 S 24TH ST",
           135000,
           1912,
           11,
           2532,
           4120
          ],
          [
           "1726 S 24TH ST",
           218000,
           1912,
           null,
           3400,
           6780
          ],
          [
           "2326 W BURNHAM ST",
           179500,
           1909,
           24,
           1910,
           4120
          ],
          [
           "2428 W MITCHELL ST",
           136000,
           1890,
           6,
           1080,
           4120
          ],
          [
           "1966-1968 S 14TH ST",
           239900,
           1910,
           null,
           3935,
           6780
          ],
          [
           "1322 W WINDLAKE AV",
           145000,
           1905,
           8,
           1430,
           4120
          ],
          [
           "1418 W MITCHELL ST",
           1075000,
           1961,
           null,
           10350,
           6878
          ],
          [
           "1518 S UNION ST",
           77500,
           1900,
           5,
           816,
           4100
          ],
          [
           "1417 S 11TH ST",
           150000,
           1894,
           9,
           2000,
           4100
          ],
          [
           "1429-1431 S 11TH ST",
           185000,
           1897,
           12,
           2594,
           4100
          ],
          [
           "1639 S 11TH ST",
           119900,
           1884,
           9,
           2544,
           4100
          ],
          [
           "1719 S 1ST ST",
           81000,
           1893,
           5,
           768,
           4020
          ],
          [
           "317 W MAPLE ST",
           80000,
           1900,
           4,
           707,
           4020
          ],
          [
           "1552 S 3RD ST",
           240000,
           1892,
           16,
           3362,
           4020
          ],
          [
           "2104 S ALDRICH ST",
           902000,
           2018,
           7,
           3623,
           5886
          ],
          [
           "2241 S WOODWARD ST",
           312000,
           1906,
           6,
           1534,
           4510
          ],
          [
           "2039 S HILBERT ST",
           157000,
           1900,
           5,
           777,
           4510
          ],
          [
           "2064 S 5TH PL",
           78000,
           1906,
           12,
           1029,
           4120
          ],
          [
           "2134 S 6TH ST",
           147500,
           1906,
           6,
           1186,
           4120
          ],
          [
           "1920-1922 S 13TH ST",
           151000,
           1860,
           9,
           1672,
           4120
          ],
          [
           "1910 S 10TH ST",
           140000,
           1890,
           10,
           1732,
           4120
          ],
          [
           "1960 S 8TH ST",
           140000,
           1940,
           5,
           1240,
           4120
          ],
          [
           "1950--A S 11TH ST",
           155500,
           1900,
           14,
           2172,
           4120
          ],
          [
           "2169 S 11TH ST",
           210000,
           1906,
           7,
           1368,
           4120
          ],
          [
           "1723 S 15TH PL",
           140000,
           1878,
           4,
           820,
           4100
          ],
          [
           "1805 S 15TH PL",
           136000,
           1928,
           6,
           1403,
           4100
          ],
          [
           "1748 S 16TH ST",
           93000,
           1885,
           5,
           1012,
           4100
          ],
          [
           "2002 S 15TH PL",
           165000,
           1883,
           18,
           3770,
           4120
          ],
          [
           "2037 S 17TH ST",
           154000,
           1905,
           6,
           1516,
           4120
          ],
          [
           "1707--A W BURNHAM ST",
           152500,
           1893,
           10,
           1906,
           4120
          ],
          [
           "1816-1818 W ROGERS ST",
           162000,
           1913,
           32,
           2925,
           4120
          ],
          [
           "1918 S 20TH ST",
           169000,
           1916,
           16,
           1818,
           4120
          ],
          [
           "1842 W FOREST HOME AV",
           147000,
           1956,
           null,
           820,
           6278
          ],
          [
           "2101 W VILTER LA",
           176000,
           1905,
           12,
           1464,
           4120
          ],
          [
           "2415-2417 W BURNHAM ST",
           93000,
           1900,
           10,
           790,
           4120
          ],
          [
           "2132 S 24TH ST",
           120000,
           1900,
           5,
           1282,
           4120
          ],
          [
           "2302 W MERRILL ST",
           135000,
           1904,
           8,
           1502,
           4120
          ],
          [
           "2114 W FOREST HOME AV",
           235000,
           1916,
           8,
           1804,
           4120
          ],
          [
           "2130 W FOREST HOME AV",
           130000,
           1912,
           6,
           1609,
           4120
          ],
          [
           "2130 W LINCOLN AV",
           186500,
           1900,
           12,
           2116,
           4120
          ],
          [
           "2137 S 20TH ST",
           185000,
           1903,
           18,
           3386,
           4120
          ],
          [
           "2809 W BURNHAM ST",
           180000,
           1912,
           7,
           1385,
           4060
          ],
          [
           "2247 S 33RD ST",
           265000,
           1926,
           8,
           1571,
           4000
          ],
          [
           "2662-2664 S 69TH ST",
           271000,
           1961,
           12,
           2705,
           4240
          ],
          [
           "2570 S 66TH ST",
           195000,
           1955,
           5,
           1069,
           4240
          ],
          [
           "2524 S 67TH ST",
           242500,
           1951,
           5,
           1043,
           4240
          ],
          [
           "5417 W JERELYN PL",
           382000,
           1958,
           6,
           1859,
           4280
          ],
          [
           "2650 S 60TH ST, Unit 4",
           87000,
           1966,
           3,
           650,
           5282
          ],
          [
           "2536 S 29TH ST",
           191000,
           1915,
           6,
           1393,
           4000
          ],
          [
           "2441 S 34TH ST",
           220000,
           1911,
           8,
           1509,
           4000
          ],
          [
           "2528-2530 S 19TH ST",
           190000,
           1923,
           11,
           2070,
           4160
          ],
          [
           "2416 S 20TH ST",
           170000,
           1922,
           5,
           1137,
           4160
          ],
          [
           "2532 S 15TH ST",
           176000,
           1906,
           16,
           1232,
           4160
          ],
          [
           "2659 S 15TH ST",
           118000,
           1905,
           5,
           848,
           4160
          ],
          [
           "2740 S 16TH ST",
           162000,
           1929,
           7,
           1569,
           4160
          ],
          [
           "2356 S 20TH ST",
           190000,
           1905,
           5,
           710,
           4160
          ],
          [
           "2369 S 17TH ST",
           163000,
           1893,
           11,
           1798,
           4160
          ],
          [
           "2518 S 16TH ST",
           237500,
           1929,
           7,
           1605,
           4160
          ],
          [
           "2513 S 15TH PL",
           183500,
           1921,
           6,
           1598,
           4160
          ],
          [
           "2476 S 12TH ST",
           180000,
           1901,
           11,
           1830,
           4160
          ],
          [
           "2474 S 12TH ST",
           185000,
           1897,
           11,
           1788,
           4160
          ],
          [
           "2491 S 8TH ST",
           160000,
           1900,
           6,
           1390,
           4160
          ],
          [
           "2686 S 10TH ST",
           264900,
           1917,
           10,
           1945,
           4160
          ],
          [
           "2508 S 5TH ST",
           165000,
           1911,
           16,
           1869,
           4160
          ],
          [
           "2423 S 5TH ST",
           97900,
           1900,
           7,
           1270,
           4160
          ],
          [
           "2430 S 5TH PL",
           144900,
           1903,
           16,
           1884,
           4160
          ],
          [
           "2517 S 3RD ST",
           220000,
           1929,
           10,
           1978,
           4160
          ],
          [
           "601 E HOMER ST",
           500000,
           1886,
           7,
           1607,
           4910
          ],
          [
           "702 E LINUS ST",
           250000,
           1921,
           8,
           672,
           4910
          ],
          [
           "2515 S LENOX ST",
           332000,
           1941,
           4,
           884,
           4910
          ],
          [
           "813 E HOMER ST",
           163000,
           1919,
           3,
           512,
           4910
          ],
          [
           "2504 S DELAWARE AV, Unit 102",
           206000,
           1900,
           3,
           633,
           5290
          ],
          [
           "2525 S SHORE DR, Unit 23B",
           180000,
           1965,
           3,
           860,
           5293
          ],
          [
           "2706 S SHORE DR, Unit C",
           500000,
           1987,
           5,
           1543,
           5292
          ],
          [
           "3011 S WENTWORTH AV",
           451325,
           1901,
           8,
           1486,
           4540
          ],
          [
           "2753 S SUPERIOR ST",
           477909,
           1907,
           6,
           1298,
           4560
          ],
          [
           "2100 E ESTES ST",
           334800,
           1981,
           5,
           1574,
           4560
          ],
          [
           "2841 S WENTWORTH AV",
           257500,
           1900,
           5,
           1612,
           4540
          ],
          [
           "2927 S WENTWORTH AV",
           294700,
           1917,
           8,
           1485,
           4540
          ],
          [
           "2930--A S MABBETT AV",
           409000,
           1921,
           11,
           2807,
           4540
          ],
          [
           "1407 E MANITOBA ST",
           330000,
           1925,
           7,
           1352,
           4500
          ],
          [
           "2823 S CLEMENT AV",
           345000,
           1908,
           10,
           2004,
           4500
          ],
          [
           "345 E SCHILLER ST",
           277000,
           1910,
           12,
           1150,
           4910
          ],
          [
           "228 E MONTANA ST",
           380000,
           1923,
           12,
           1464,
           4910
          ],
          [
           "2822 S BURRELL ST",
           263000,
           1915,
           24,
           1165,
           4910
          ],
          [
           "328 E ROSEDALE AV",
           320000,
           1906,
           8,
           1573,
           4910
          ],
          [
           "351 E ROSEDALE AV",
           305000,
           1900,
           7,
           1402,
           4910
          ],
          [
           "2807 S 9TH ST",
           205000,
           1914,
           7,
           1552,
           4180
          ],
          [
           "2739 S 12TH ST",
           130000,
           1903,
           4,
           930,
           4160
          ],
          [
           "3020 S 9TH PL",
           243500,
           1926,
           9,
           2050,
           4180
          ],
          [
           "3033 S 7TH ST",
           150000,
           1917,
           6,
           1173,
           4180
          ],
          [
           "3000-3002 S 8TH ST",
           235000,
           1922,
           13,
           2624,
           4180
          ],
          [
           "2923--A S 9TH PL",
           245000,
           1909,
           8,
           1624,
           4180
          ],
          [
           "2864 S 16TH ST",
           150000,
           1925,
           7,
           1672,
           4180
          ],
          [
           "1437-1439 W DAKOTA ST",
           275000,
           1909,
           11,
           2352,
           4180
          ],
          [
           "3057 S 32ND ST",
           245000,
           1949,
           4,
           1080,
           4320
          ],
          [
           "2955 S 37TH ST",
           255000,
           1946,
           5,
           991,
           4320
          ],
          [
           "2950-2952 S 38TH ST",
           325000,
           1954,
           9,
           2168,
           4320
          ],
          [
           "3048 S 39TH ST",
           289900,
           1946,
           7,
           1582,
           4320
          ],
          [
           "4009 W FOREST HOME AV",
           235000,
           1919,
           9,
           1794,
           4320
          ],
          [
           "2847 S 50TH ST",
           150000,
           1949,
           4,
           706,
           4240
          ],
          [
           "2738 S 51ST ST",
           200000,
           1949,
           5,
           827,
           4240
          ],
          [
           "3030 S 49TH ST",
           277000,
           1949,
           6,
           1404,
           4240
          ],
          [
           "2813 S 44TH ST",
           364000,
           1939,
           8,
           1817,
           4320
          ],
          [
           "2843-2847 S 45TH ST",
           252500,
           1950,
           5,
           1322,
           4320
          ],
          [
           "4528 W OKLAHOMA AV",
           250000,
           1950,
           7,
           1958,
           4320
          ],
          [
           "3053-A S 44TH ST",
           300000,
           1941,
           18,
           1841,
           4320
          ],
          [
           "5700 W STACK DR",
           265000,
           1955,
           8,
           1541,
           4240
          ],
          [
           "3043 S 53RD ST",
           225000,
           1942,
           4,
           825,
           4240
          ],
          [
           "2730 S 52ND PL",
           246000,
           1950,
           5,
           1086,
           4240
          ],
          [
           "2925 S 56TH ST",
           252000,
           1953,
           5,
           1013,
           4240
          ],
          [
           "2911 S 56TH ST",
           240000,
           1953,
           6,
           1356,
           4240
          ],
          [
           "2772 S 58TH ST",
           237000,
           1955,
           5,
           1013,
           4240
          ],
          [
           "2813-2815 S 58TH ST",
           315000,
           1959,
           10,
           2288,
           4240
          ],
          [
           "2734 S 63RD ST",
           260000,
           1954,
           6,
           1316,
           4240
          ],
          [
           "6117 W BENNETT AV",
           202000,
           1951,
           4,
           811,
           4240
          ],
          [
           "3041 S 67TH ST",
           250000,
           1952,
           6,
           1407,
           4240
          ],
          [
           "6324 W KINNICKINNIC RIVER PK",
           265000,
           1957,
           5,
           1050,
           4240
          ],
          [
           "2936 S 67TH ST",
           285000,
           1956,
           5,
           1273,
           4240
          ],
          [
           "6801 W CLEVELAND AV",
           260000,
           1953,
           6,
           1177,
           4240
          ],
          [
           "6801 W KINNICKINNIC RIVER PK",
           235000,
           1953,
           5,
           985,
           4240
          ],
          [
           "3133 S 97TH ST",
           244000,
           1959,
           5,
           1177,
           4350
          ],
          [
           "3133 S 97TH ST",
           320000,
           1959,
           5,
           1177,
           4350
          ],
          [
           "3151 S 97TH ST",
           258600,
           1941,
           5,
           1232,
           4350
          ],
          [
           "9727 W OHIO AV",
           65000,
           0,
           null,
           0,
           4350
          ],
          [
           "9600 W BELOIT RD, Unit 4",
           144900,
           1983,
           5,
           1065,
           5298
          ],
          [
           "3243 S 92ND ST, Unit 101",
           170000,
           2002,
           4,
           1117,
           5297
          ],
          [
           "3411 S 92ND ST",
           220000,
           1931,
           7,
           1656,
           4350
          ],
          [
           "3236 S 85TH ST",
           290000,
           1964,
           5,
           1013,
           4340
          ],
          [
           "3247 S 85TH ST",
           300300,
           1959,
           5,
           1007,
           4340
          ],
          [
           "8670 W OHIO AV",
           310000,
           1966,
           5,
           1310,
           4340
          ],
          [
           "8801 W BURDICK AV",
           304000,
           1964,
           12,
           1410,
           4340
          ],
          [
           "3258 S 91ST ST",
           325000,
           1960,
           5,
           1168,
           4340
          ],
          [
           "3356 S HONEY CREEK DR",
           280000,
           1956,
           5,
           1153,
           4310
          ],
          [
           "7101 W VERONA CT",
           259300,
           1956,
           5,
           1064,
           4310
          ],
          [
           "3321 S 62ND ST",
           366000,
           1968,
           9,
           2255,
           4380
          ],
          [
           "3387 S 64TH ST",
           300000,
           1958,
           10,
           1408,
           4380
          ],
          [
           "3366 S 65TH ST",
           262000,
           1940,
           5,
           1100,
           4380
          ],
          [
           "3432 S 65TH ST",
           199000,
           1953,
           5,
           864,
           4380
          ],
          [
           "3417 S 61ST ST",
           172900,
           1953,
           4,
           672,
           4380
          ],
          [
           "6329 W VERONA CT",
           210000,
           1953,
           6,
           1064,
           4380
          ],
          [
           "5527 W OKLAHOMA AV",
           248000,
           1925,
           7,
           1565,
           4420
          ],
          [
           "5410 W MORGAN AV",
           295000,
           1953,
           10,
           1094,
           4420
          ],
          [
           "3239 S 58TH ST, Unit 113",
           150000,
           1980,
           4,
           1048,
           5304
          ],
          [
           "3239 S 58TH ST, Unit 206",
           130000,
           1980,
           4,
           1048,
           5304
          ],
          [
           "3256 S 50TH ST",
           220000,
           1953,
           5,
           944,
           4420
          ],
          [
           "3223 S 43RD ST",
           250000,
           1945,
           6,
           1426,
           4410
          ],
          [
           "3735 W LAKEFIELD DR",
           210000,
           1951,
           4,
           951,
           4410
          ],
          [
           "3332 W MORGAN AV",
           330000,
           1958,
           9,
           2188,
           4400
          ],
          [
           "3315 W VERONA CT",
           250000,
           1955,
           4,
           1137,
           4400
          ],
          [
           "3456 S 35TH ST",
           295000,
           1952,
           5,
           1489,
           4400
          ],
          [
           "3108 W RUSKIN ST",
           375000,
           1957,
           11,
           3094,
           4400
          ],
          [
           "3110 W LAKEFIELD DR",
           319000,
           1959,
           10,
           2272,
           4400
          ],
          [
           "3319 S 25TH ST",
           205000,
           1950,
           4,
           780,
           4360
          ],
          [
           "3272 S 26TH ST",
           300000,
           1950,
           9,
           2083,
           4360
          ],
          [
           "3255 S 26TH ST",
           220000,
           1948,
           6,
           1378,
           4360
          ],
          [
           "3377 S 20TH ST",
           190500,
           1951,
           4,
           668,
           4360
          ],
          [
           "3503 S 16TH ST",
           325000,
           1948,
           null,
           2805,
           6284
          ],
          [
           "3135 S 14TH ST",
           299000,
           1910,
           8,
           1276,
           4520
          ],
          [
           "3125 S 17TH ST",
           225000,
           1949,
           6,
           1120,
           4520
          ],
          [
           "3254 S 16TH ST",
           325000,
           1928,
           9,
           2741,
           4520
          ],
          [
           "1421 W EUCLID AV",
           229000,
           1927,
           6,
           2008,
           4520
          ],
          [
           "3367 S 18TH ST",
           290000,
           1928,
           10,
           1848,
           4520
          ],
          [
           "3248 S 8TH ST",
           195000,
           1922,
           5,
           966,
           4520
          ],
          [
           "3342 S 8TH ST",
           152000,
           1918,
           18,
           931,
           4520
          ],
          [
           "3434 S 8TH ST",
           246000,
           1918,
           5,
           1004,
           4520
          ],
          [
           "3328 S 12TH ST",
           350000,
           1927,
           12,
           1990,
           4520
          ],
          [
           "3324 S 13TH ST",
           270000,
           1948,
           6,
           1379,
           4520
          ],
          [
           "3301 S 9TH ST",
           209900,
           1950,
           8,
           1492,
           4520
          ],
          [
           "3443 S 9TH ST",
           269000,
           1928,
           10,
           1980,
           4520
          ],
          [
           "3412 S 9TH ST",
           250000,
           1927,
           10,
           1734,
           4520
          ],
          [
           "3130 S 12TH ST",
           235000,
           1920,
           5,
           1069,
           4520
          ],
          [
           "3213-3215 S 6TH ST",
           241500,
           1942,
           4,
           1128,
           4520
          ],
          [
           "3254 S 7TH ST",
           305000,
           1929,
           10,
           1977,
           4520
          ],
          [
           "3334 S 7TH ST",
           215000,
           1944,
           4,
           884,
           4520
          ],
          [
           "3438 S QUINCY AV",
           250000,
           1948,
           5,
           1130,
           4580
          ],
          [
           "3128 S HOWELL AV",
           165000,
           1892,
           12,
           1168,
           4580
          ],
          [
           "3325 S QUINCY AV",
           291000,
           1944,
           6,
           1199,
           4580
          ],
          [
           "329 E EUCLID AV",
           280000,
           1929,
           9,
           1423,
           4580
          ],
          [
           "3457 S WHITNALL AV",
           375000,
           1928,
           7,
           1537,
           4580
          ],
          [
           "3214 S PINE AV",
           395000,
           1926,
           9,
           2105,
           4580
          ],
          [
           "2240 E EUCLID AV",
           252500,
           1919,
           8,
           1356,
           4600
          ],
          [
           "2302 E MORGAN AV",
           335000,
           1920,
           5,
           1250,
           4610
          ],
          [
           "2611 E OKLAHOMA AV",
           224000,
           1906,
           7,
           1207,
           4600
          ],
          [
           "2603 E OKLAHOMA AV",
           335000,
           1924,
           5,
           1409,
           4600
          ],
          [
           "3116 S INDIANA AV",
           286000,
           1900,
           24,
           1447,
           4600
          ],
          [
           "3352 S INDIANA AV",
           560000,
           1897,
           7,
           2081,
           4600
          ],
          [
           "2506 E FERNWOOD AV",
           392500,
           1915,
           8,
           1938,
           4600
          ],
          [
           "3717 S ALABAMA AV",
           295000,
           1952,
           7,
           1744,
           4620
          ],
          [
           "3717 S ALABAMA AV",
           400000,
           1952,
           7,
           1744,
           4620
          ],
          [
           "3820 S LOGAN AV",
           330000,
           1940,
           6,
           1175,
           4620
          ],
          [
           "1401 E CRAWFORD AV",
           255000,
           1947,
           4,
           819,
           4620
          ],
          [
           "830 E HOWARD AV",
           285000,
           1943,
           5,
           861,
           4620
          ],
          [
           "3765 S LOGAN AV",
           403500,
           1948,
           5,
           1248,
           4620
          ],
          [
           "3758 S LENOX ST",
           242000,
           1946,
           4,
           826,
           4620
          ],
          [
           "3661-3663 S CLEMENT AV",
           610000,
           1875,
           null,
           4799,
           6861
          ],
          [
           "3625--A S WHITNALL AV",
           399990,
           1949,
           10,
           2354,
           4620
          ],
          [
           "334 E WILBUR AV",
           252000,
           1945,
           5,
           1062,
           4620
          ],
          [
           "3841 S GRIFFIN AV",
           260000,
           1956,
           5,
           1140,
           4620
          ],
          [
           "3503 S AUSTIN ST",
           287000,
           1922,
           5,
           1415,
           4620
          ],
          [
           "3624 S QUINCY AV",
           190000,
           1951,
           6,
           1256,
           4620
          ],
          [
           "3750 S WHITNALL AV",
           250000,
           1944,
           5,
           990,
           4620
          ],
          [
           "3828 S WHITNALL AV",
           244400,
           1945,
           5,
           990,
           4620
          ],
          [
           "3685 S 2ND ST",
           340000,
           1954,
           7,
           2119,
           4620
          ],
          [
           "3847 S HOWELL AV",
           415000,
           1979,
           null,
           2612,
           6417
          ],
          [
           "1030 W EDEN PL",
           245000,
           1953,
           5,
           1142,
           4520
          ],
          [
           "3610 S 19TH ST",
           215000,
           1947,
           5,
           1013,
           4520
          ],
          [
           "3650 S 15TH ST",
           250000,
           1929,
           10,
           2253,
           4520
          ],
          [
           "3645 S 19TH ST",
           254900,
           1945,
           5,
           1184,
           4520
          ],
          [
           "3745 S 19TH ST",
           242000,
           1947,
           10,
           1046,
           4520
          ],
          [
           "3776 S 17TH ST",
           154000,
           1943,
           5,
           1008,
           4520
          ],
          [
           "3823 S 19TH ST",
           236000,
           1948,
           5,
           1165,
           4520
          ],
          [
           "3584 S 20TH ST",
           185000,
           1918,
           7,
           1330,
           4520
          ],
          [
           "3521 S 22ND ST",
           195000,
           1953,
           4,
           743,
           4360
          ],
          [
           "2417 W WARNIMONT AV",
           190000,
           1954,
           5,
           952,
           4360
          ],
          [
           "3619 S 24TH ST",
           180000,
           1954,
           4,
           755,
           4360
          ],
          [
           "3646 S 22ND ST",
           265000,
           1952,
           5,
           1001,
           4360
          ],
          [
           "4032 W HOWARD AV, Unit 4032",
           319500,
           2006,
           7,
           2557,
           5311
          ],
          [
           "3842 S 55TH ST",
           161700,
           1953,
           5,
           1023,
           4420
          ],
          [
           "3750 S 52ND ST",
           210000,
           1955,
           5,
           894,
           4420
          ],
          [
           "3534 S 58TH ST",
           263000,
           1940,
           5,
           964,
           4420
          ],
          [
           "3582 S 57TH ST",
           215000,
           1949,
           4,
           1107,
           4420
          ],
          [
           "3800 S 60TH ST",
           285000,
           1951,
           4,
           1218,
           4420
          ],
          [
           "3804 S 60TH ST",
           252500,
           1947,
           7,
           1128,
           4420
          ],
          [
           "6633 W DODGE PL",
           228000,
           1959,
           6,
           1175,
           4420
          ],
          [
           "6451 W DODGE PL",
           202000,
           1982,
           5,
           1311,
           5317
          ],
          [
           "7201 W EDEN PL",
           250000,
           1960,
           5,
           1208,
           4330
          ],
          [
           "7734 W WARNIMONT AV",
           240000,
           1958,
           5,
           1072,
           4340
          ],
          [
           "3612 S 77TH ST",
           321500,
           1964,
           9,
           2107,
           4340
          ],
          [
           "8039-8041 W TRIPOLI AV",
           350000,
           1975,
           10,
           2478,
           4340
          ],
          [
           "3533 S 79TH ST",
           303000,
           1961,
           6,
           1643,
           4340
          ],
          [
           "3629 S 84TH ST",
           300000,
           1943,
           5,
           1417,
           4340
          ],
          [
           "3642 S 88TH ST",
           155000,
           1937,
           6,
           905,
           4350
          ],
          [
           "9300 W EDEN PL",
           317000,
           1964,
           6,
           1237,
           4340
          ],
          [
           "8027 W NORWICH ST",
           249900,
           1961,
           5,
           938,
           4340
          ],
          [
           "7859-7861 W NORWICH ST",
           325000,
           1977,
           10,
           2461,
           4340
          ],
          [
           "4023 S 71ST ST",
           346000,
           1979,
           7,
           1501,
           4430
          ],
          [
           "3973 S 52ND ST",
           275000,
           1954,
           5,
           1066,
           4420
          ],
          [
           "3928 S 56TH ST",
           230000,
           1932,
           5,
           1337,
           4420
          ],
          [
           "3966 S 51ST ST",
           200000,
           1955,
           4,
           672,
           4420
          ],
          [
           "2408 W BOLIVAR AV",
           265000,
           1926,
           5,
           1251,
           4660
          ],
          [
           "2246 W LEROY AV",
           204000,
           1964,
           5,
           1106,
           4660
          ],
          [
           "2500 W LEROY AV",
           260000,
           1980,
           5,
           1201,
           4660
          ],
          [
           "1511 W PLAINFIELD AV",
           160000,
           1983,
           4,
           980,
           5324
          ],
          [
           "4166 S 1ST PL",
           255000,
           1924,
           6,
           1137,
           4700
          ],
          [
           "4123 S 1ST PL",
           260000,
           1951,
           4,
           1036,
           4700
          ],
          [
           "4244 S 1ST PL",
           220000,
           1931,
           4,
           647,
           4700
          ],
          [
           "3967 S 5TH ST",
           249900,
           1912,
           5,
           852,
           4700
          ],
          [
           "305 W WATERFORD AV",
           230000,
           1941,
           5,
           1299,
           4700
          ],
          [
           "4176 S 4TH ST",
           230000,
           1915,
           9,
           1265,
           4700
          ],
          [
           "4138 S 5TH PL",
           215000,
           1939,
           6,
           1272,
           4700
          ],
          [
           "4101 S 5TH PL",
           174000,
           1952,
           5,
           905,
           4700
          ],
          [
           "4206 S 5TH PL",
           191000,
           1947,
           4,
           834,
           4700
          ],
          [
           "338 E NORWICH ST",
           275000,
           1950,
           12,
           1128,
           4700
          ],
          [
           "4231 S PINE AV",
           350000,
           2003,
           0,
           1740,
           4700
          ],
          [
           "1504 E VAN BECK AV",
           248000,
           1949,
           5,
           1007,
           4620
          ],
          [
           "4319 S LOGAN AV",
           239900,
           1955,
           4,
           714,
           4720
          ],
          [
           "4467 S LENOX ST",
           242450,
           1953,
           4,
           902,
           4720
          ],
          [
           "4573 S PINE AV",
           185000,
           1940,
           5,
           1134,
           4720
          ],
          [
           "4437 S QUINCY AV",
           230000,
           1925,
           9,
           1763,
           4720
          ],
          [
           "4380 S ADAMS AV",
           197500,
           1950,
           6,
           1129,
           4720
          ],
          [
           "4460 S GRIFFIN AV",
           337000,
           1925,
           7,
           1342,
           4720
          ],
          [
           "4508 S BURRELL ST",
           207000,
           1936,
           5,
           1195,
           4720
          ],
          [
           "701 E CUDAHY AV",
           325000,
           2001,
           6,
           1491,
           4720
          ],
          [
           "4375 S 5TH ST",
           235000,
           1952,
           6,
           993,
           4740
          ],
          [
           "1420 W ARMOUR AV",
           255000,
           1958,
           6,
           1154,
           4800
          ],
          [
           "1422 W VAN NORMAN AV",
           223000,
           1959,
           5,
           1093,
           4800
          ],
          [
           "4615-4617 S 13TH ST",
           285000,
           1965,
           12,
           2520,
           4800
          ],
          [
           "4348 S LOUISIANA AV",
           269000,
           1957,
           5,
           1220,
           4660
          ],
          [
           "2139 W VAN NORMAN AV",
           303000,
           1961,
           5,
           1020,
           4660
          ],
          [
           "2238 W EDGERTON AV",
           280000,
           1962,
           6,
           1392,
           4660
          ],
          [
           "4948 S 24TH ST",
           275000,
           1964,
           5,
           1093,
           4660
          ],
          [
           "4823 S 20TH ST",
           229000,
           1964,
           5,
           1161,
           4660
          ],
          [
           "4863 S 22ND PL",
           232000,
           1959,
           5,
           1085,
           4660
          ],
          [
           "4770 S 14TH ST",
           320000,
           1959,
           9,
           1846,
           4800
          ],
          [
           "1437 W FOSTER AV",
           245000,
           1958,
           5,
           1150,
           4800
          ],
          [
           "4943-4945 S 14TH ST",
           285000,
           1960,
           10,
           2076,
           4800
          ],
          [
           "4942 S 15TH ST",
           238000,
           1958,
           5,
           946,
           4800
          ],
          [
           "5033-5035 S 13TH ST",
           650000,
           1961,
           null,
           5192,
           6850
          ],
          [
           "800 W ABBOTT AV",
           183500,
           1962,
           5,
           1001,
           4800
          ],
          [
           "5338 S 9TH ST",
           295000,
           1928,
           6,
           1221,
           4800
          ],
          [
           "5213 S 19TH ST",
           402000,
           1967,
           6,
           1689,
           4780
          ],
          [
           "1510 W MALLORY AV",
           350000,
           1955,
           8,
           2000,
           4800
          ],
          [
           "1531 W EDGERTON AV, Unit S",
           160000,
           1973,
           5,
           980,
           5340
          ],
          [
           "5151 S 13TH ST, Unit F",
           168000,
           1973,
           5,
           980,
           5340
          ],
          [
           "1536 W MAPLEWOOD CT",
           335000,
           1954,
           6,
           1925,
           4800
          ],
          [
           "1409 W MAPLEWOOD CT",
           325000,
           1964,
           6,
           1298,
           4800
          ],
          [
           "5222 S 21ST ST",
           340000,
           1968,
           18,
           1748,
           4780
          ],
          [
           "2250 W GRANGE AV",
           369000,
           1951,
           8,
           2213,
           4780
          ],
          [
           "5649 S MADELINE AV",
           260000,
           1960,
           10,
           980,
           4840
          ],
          [
           "5863 S MADELINE AV",
           310000,
           1960,
           5,
           1037,
           4840
          ],
          [
           "3320 W PARNELL AV",
           316000,
           1958,
           6,
           1291,
           4840
          ],
          [
           "3268 W BIRCHWOOD AV",
           270000,
           1959,
           10,
           1066,
           4840
          ],
          [
           "3312 W GREEN AV",
           290000,
           1958,
           5,
           1074,
           4840
          ],
          [
           "5854 S MARILYN ST",
           250000,
           1959,
           5,
           951,
           4840
          ],
          [
           "2021 W BIRCHWOOD AV",
           317000,
           1955,
           6,
           1877,
           4780
          ],
          [
           "2600 W RAMSEY AV",
           315000,
           1954,
           7,
           1396,
           4860
          ],
          [
           "2501 W GRANGE AV",
           330000,
           1974,
           7,
           1564,
           4780
          ],
          [
           "5715 S 24TH ST",
           410000,
           1975,
           7,
           1855,
           4780
          ],
          [
           "5610 S 27TH ST",
           182000,
           1975,
           4,
           1249,
           5350
          ],
          [
           "5694 S 27TH ST, Unit 4",
           160000,
           1975,
           4,
           1249,
           5350
          ],
          [
           "2411 W GRANGE AV",
           340000,
           1951,
           6,
           1541,
           4780
          ],
          [
           "1920 W GOLDCREST AV",
           335000,
           1984,
           8,
           1801,
           4780
          ],
          [
           "171 W GOLDLEAF AV",
           305000,
           1980,
           5,
           1064,
           4920
          ],
          [
           "6016 S 19TH ST",
           328000,
           1970,
           7,
           1621,
           4860
          ],
          [
           "2217 W BRIDGE ST",
           336000,
           1971,
           12,
           1544,
           4860
          ],
          [
           "2135 W MANGOLD AV",
           205000,
           1934,
           7,
           1349,
           4860
          ],
          [
           "2240 W MANGOLD AV",
           267000,
           1928,
           6,
           1402,
           4860
          ],
          [
           "2277 W KIMBERLY AV",
           125000,
           1932,
           7,
           1698,
           4860
          ]
         ],
         "hovertemplate": "<b>%{hovertext}</b><br><br>FinishedSqft=%{customdata[4]}<br>lat=%{lat}<br>long=%{lon}<br>Address=%{customdata[0]}<br>Sale_price=%{marker.color:$.2f}<br>Year_Built=%{customdata[2]}<br>Rooms=%{customdata[3]}<br>nbhd=%{customdata[5]}<extra></extra>",
         "hovertext": [
          98423,
          98576,
          98722,
          98901,
          99216,
          99310,
          99413,
          99427,
          99495,
          99515,
          99773,
          99846,
          99873,
          99888,
          99984,
          100132,
          100281,
          100397,
          100573,
          100714,
          100769,
          100798,
          100822,
          100970,
          101166,
          101445,
          101550,
          101605,
          101762,
          101895,
          101948,
          101996,
          102132,
          102173,
          102298,
          102472,
          102698,
          102781,
          102786,
          102798,
          102904,
          103053,
          103116,
          103164,
          103183,
          103250,
          103271,
          103299,
          103451,
          103518,
          103582,
          103584,
          103601,
          103713,
          103737,
          103863,
          103887,
          103926,
          104032,
          104065,
          104230,
          104259,
          104309,
          104335,
          104372,
          104420,
          104433,
          105077,
          105133,
          105197,
          105544,
          105604,
          105841,
          106074,
          106200,
          106230,
          106293,
          106294,
          106850,
          106886,
          107010,
          107017,
          107019,
          107108,
          107310,
          107397,
          107398,
          107812,
          107836,
          107888,
          108100,
          108175,
          108206,
          108776,
          108840,
          109147,
          109150,
          109229,
          109378,
          109394,
          109458,
          109485,
          109513,
          109541,
          109668,
          109728,
          109733,
          109769,
          109915,
          109942,
          109964,
          110159,
          110168,
          110276,
          110277,
          110401,
          110425,
          110444,
          110521,
          110820,
          110842,
          110846,
          110985,
          110998,
          111004,
          111047,
          111059,
          111076,
          111422,
          111667,
          111692,
          111770,
          111860,
          112069,
          112892,
          112992,
          113089,
          113405,
          113428,
          113679,
          113765,
          114015,
          114128,
          114138,
          114261,
          114265,
          114595,
          114672,
          114688,
          114888,
          114922,
          114944,
          115107,
          115292,
          115314,
          115335,
          115401,
          115757,
          115762,
          115795,
          115900,
          115987,
          116000,
          116037,
          116063,
          116076,
          116804,
          116942,
          117338,
          117362,
          117560,
          117641,
          117649,
          117708,
          117792,
          117794,
          117862,
          117894,
          117939,
          118070,
          118079,
          118126,
          118170,
          118201,
          118282,
          118425,
          118713,
          118887,
          118974,
          119112,
          119135,
          119157,
          119164,
          119167,
          119205,
          119339,
          119398,
          119549,
          119802,
          119810,
          119862,
          119942,
          120006,
          120099,
          120155,
          120260,
          120323,
          120405,
          120526,
          120698,
          120797,
          120936,
          121142,
          121295,
          121661,
          121709,
          121712,
          121723,
          121902,
          121951,
          122081,
          122187,
          122213,
          122283,
          122284,
          122329,
          122377,
          122461,
          122535,
          122605,
          122628,
          122704,
          122744,
          122929,
          122982,
          123079,
          123111,
          123247,
          123341,
          123400,
          123421,
          123465,
          123509,
          123603,
          123620,
          123661,
          123669,
          123886,
          124235,
          124307,
          124309,
          124489,
          124566,
          124736,
          124867,
          125217,
          125403,
          125547,
          125548,
          125576,
          125577,
          125627,
          125995,
          126137,
          126316,
          126352,
          126397,
          126644,
          126707,
          126798,
          126979,
          126981,
          127036,
          127073,
          127109,
          127274,
          127293,
          127342,
          127406,
          127506,
          127892,
          127932,
          128026,
          128083,
          128085,
          128120,
          128153,
          128458,
          128612,
          128810,
          129242,
          129399,
          129431,
          129490,
          129552,
          129563,
          129632,
          129774,
          129943,
          129965,
          130026,
          130041,
          130119,
          130364,
          130382,
          130395,
          130396,
          130476,
          130485,
          130744,
          130758,
          130916,
          131002,
          131308,
          131322,
          131343,
          131429,
          131591,
          131627,
          131639,
          131671,
          131687,
          131869,
          132089,
          132147,
          132147,
          132193,
          132250,
          132489,
          132651,
          132716,
          132743,
          132837,
          132980,
          132983,
          133075,
          133288,
          133345,
          133516,
          133536,
          133692,
          133786,
          133809,
          133872,
          133999,
          134121,
          134136,
          134176,
          134347,
          134351,
          134443,
          134458,
          134510,
          134531,
          134568,
          134609,
          134636,
          134781,
          134824,
          135065,
          135655,
          135805,
          136024,
          136054,
          136127,
          136304,
          136332,
          136334,
          136359,
          136463,
          136637,
          136904,
          136953,
          137011,
          137023,
          137057,
          137136,
          137187,
          137276,
          137310,
          137396,
          137426,
          137595,
          137658,
          137770,
          137921,
          137941,
          138002,
          138004,
          138103,
          138141,
          138216,
          138364,
          138507,
          138523,
          138523,
          138596,
          138724,
          138724,
          138833,
          138835,
          138835,
          138974,
          139016,
          139080,
          139219,
          139264,
          139441,
          139603,
          139730,
          139926,
          140014,
          140300,
          140513,
          140548,
          140650,
          140682,
          140753,
          140941,
          141014,
          141135,
          141257,
          141261,
          141289,
          141321,
          141331,
          141460,
          141476,
          141483,
          141484,
          141487,
          141489,
          141589,
          141743,
          141920,
          141947,
          141960,
          142004,
          142013,
          142024,
          142329,
          142547,
          142711,
          142729,
          142843,
          142870,
          142883,
          142890,
          143130,
          143156,
          143176,
          143237,
          143349,
          143387,
          143470,
          143579,
          143602,
          143611,
          143640,
          143664,
          143680,
          143700,
          143734,
          143843,
          143878,
          143956,
          143962,
          144058,
          144179,
          144195,
          144247,
          144341,
          144504,
          144529,
          144537,
          144695,
          144706,
          144868,
          144923,
          144999,
          144999,
          145000,
          145043,
          145447,
          145590,
          145677,
          145944,
          145949,
          146057,
          146112,
          146431,
          146525,
          146794,
          146957,
          146969,
          147161,
          147226,
          147282,
          147417,
          147455,
          147476,
          147479,
          147526,
          147567,
          147604,
          147635,
          147770,
          147983,
          148056,
          148348,
          148472,
          148601,
          148734,
          148828,
          148837,
          148968,
          149072,
          149078,
          149317,
          149391,
          149399,
          149479,
          149592,
          149709,
          149842,
          149914,
          149957,
          150170,
          150176,
          150367,
          150438,
          150539,
          150914,
          151377,
          151418,
          151516,
          151534,
          151618,
          151883,
          151949,
          151964,
          152169,
          152282,
          152513,
          152633,
          152804,
          152819,
          152908,
          153009,
          153065,
          153342,
          153403,
          153487,
          153676,
          153752,
          153794,
          153819,
          153959,
          154092,
          154147,
          154190,
          154290,
          154316,
          154544,
          154719,
          154743,
          154832,
          154847,
          154869,
          154984,
          154996,
          155147,
          265965,
          155434,
          155539,
          155802,
          155861,
          156120,
          156157,
          156169,
          156232,
          156500,
          156872,
          260864,
          157183,
          157360,
          157437,
          157503,
          157607,
          157634,
          157830,
          157914,
          158052,
          158079,
          158120,
          158133,
          158137,
          158243,
          158655,
          158876,
          159004,
          159006,
          159046,
          159112,
          159131,
          159223,
          159245,
          159267,
          159442,
          159479,
          159506,
          159518,
          159551,
          159565,
          159887,
          160020,
          160088,
          160196,
          160252,
          160253,
          160380,
          160461,
          160567,
          160673,
          160773,
          160805,
          161140,
          161168,
          161210,
          161225,
          161295,
          161378,
          161382,
          161458,
          161499,
          161701,
          161707,
          161776,
          161813,
          161832,
          161860,
          161964,
          161979,
          162140,
          162182,
          162364,
          162486,
          162507,
          162531,
          162542,
          162588,
          162739,
          162853,
          163129,
          163181,
          163264,
          163299,
          163462,
          163559,
          163560,
          163649,
          163661,
          163707,
          163712,
          163783,
          163897,
          163964,
          163968,
          164044,
          164082,
          164139,
          164207,
          164400,
          164556,
          164558,
          164698,
          164732,
          164917,
          165055,
          165148,
          165182,
          165187,
          165613,
          165743,
          165826,
          165875,
          166025,
          166144,
          166146,
          166297,
          166360,
          166393,
          166393,
          166435,
          166543,
          166578,
          166669,
          166674,
          166781,
          166814,
          166821,
          166911,
          167120,
          167344,
          167451,
          167536,
          167557,
          167580,
          167594,
          167736,
          167808,
          167812,
          168093,
          168279,
          168551,
          168941,
          169117,
          169134,
          169222,
          169241,
          169313,
          169413,
          169465,
          169580,
          169606,
          169846,
          170033,
          170308,
          170469,
          170488,
          170817,
          170869,
          170898,
          171118,
          171393,
          171486,
          171683,
          172348,
          172652,
          172831,
          173065,
          173119,
          173176,
          173182,
          173273,
          173486,
          173716,
          173889,
          174016,
          174027,
          174097,
          174397,
          265904,
          174676,
          174729,
          174944,
          174947,
          174958,
          174994,
          175079,
          175080,
          175098,
          175476,
          175578,
          175611,
          175650,
          175716,
          175774,
          176264,
          176404,
          176408,
          176499,
          176638,
          177212,
          177382,
          177899,
          177996,
          178279,
          178514,
          178907,
          179171,
          179303,
          179463,
          179746,
          179750,
          180056,
          180078,
          180203,
          180361,
          180506,
          180580,
          180583,
          180589,
          180775,
          181038,
          181100,
          181177,
          181185,
          181396,
          181426,
          181584,
          181628,
          181629,
          181643,
          181662,
          181713,
          181747,
          181780,
          181887,
          181967,
          265207,
          182285,
          182363,
          182368,
          182411,
          182439,
          182470,
          182677,
          182698,
          182768,
          182998,
          183003,
          183070,
          183181,
          183294,
          183377,
          183382,
          183415,
          183636,
          183664,
          183665,
          183707,
          183815,
          260906,
          184215,
          184409,
          184549,
          184556,
          184654,
          184770,
          184786,
          184800,
          184839,
          184841,
          185056,
          185237,
          185275,
          265487,
          185374,
          185395,
          185483,
          185828,
          185879,
          186274,
          187075,
          187161,
          187297,
          187849,
          187894,
          187961,
          188188,
          188259,
          188306,
          188326,
          188346,
          188366,
          188380,
          188447,
          188543,
          188552,
          188959,
          188960,
          264752,
          189031,
          189185,
          189197,
          189231,
          189233,
          189302,
          189327,
          189339,
          189357,
          189362,
          189387,
          189410,
          189418,
          189421,
          189493,
          189496,
          189541,
          189544,
          189882,
          190040,
          190061,
          190144,
          190168,
          190300,
          190388,
          190419,
          190421,
          190516,
          190729,
          190841,
          190845,
          190960,
          191197,
          191293,
          191364,
          265117,
          191458,
          191482,
          191483,
          191491,
          191527,
          191548,
          191618,
          191798,
          192137,
          192194,
          192277,
          192306,
          192435,
          192489,
          192562,
          192573,
          192600,
          192709,
          192928,
          193777,
          193811,
          193886,
          194357,
          194487,
          194787,
          194940,
          195003,
          195079,
          195172,
          195281,
          195460,
          195532,
          195988,
          196043,
          196088,
          196124,
          196406,
          196426,
          196516,
          196570,
          196691,
          196766,
          196797,
          196831,
          196974,
          197324,
          197409,
          197485,
          197488,
          197529,
          197642,
          197868,
          197958,
          198047,
          198196,
          198343,
          198344,
          198628,
          198634,
          198952,
          198961,
          198988,
          199233,
          199288,
          199555,
          199572,
          199595,
          199697,
          199824,
          199839,
          199893,
          200056,
          200117,
          200130,
          200187,
          200208,
          200351,
          200369,
          200523,
          200532,
          200537,
          200545,
          200556,
          200571,
          200603,
          200904,
          201069,
          201073,
          201186,
          201193,
          201546,
          201551,
          201613,
          201774,
          201882,
          201944,
          201958,
          202422,
          202457,
          202873,
          203061,
          203178,
          203239,
          203286,
          203367,
          203386,
          203522,
          203631,
          203643,
          203754,
          203805,
          203843,
          203888,
          204034,
          204148,
          204217,
          204230,
          204319,
          204359,
          204378,
          204448,
          204545,
          205077,
          205102,
          205165,
          205266,
          205306,
          205332,
          205352,
          205520,
          264826,
          205750,
          205769,
          205786,
          205828,
          205878,
          206062,
          206142,
          206228,
          206257,
          206413,
          206526,
          206667,
          206950,
          207298,
          207363,
          207758,
          207772,
          207947,
          208166,
          208353,
          208372,
          208472,
          266284,
          208662,
          208789,
          208803,
          208906,
          208923,
          209242,
          209548,
          209737,
          209888,
          209985,
          210154,
          210171,
          210224,
          210263,
          210267,
          210326,
          210537,
          210763,
          210770,
          210846,
          210880,
          211249,
          211375,
          211403,
          211423,
          211471,
          211611,
          211811,
          211825,
          211872,
          211999,
          212004,
          212028,
          212058,
          212335,
          212336,
          212363,
          212627,
          212765,
          213029,
          213075,
          213320,
          213397,
          213521,
          213642,
          213743,
          213745,
          213831,
          214205,
          214258,
          214337,
          214538,
          214721,
          215256,
          215259,
          215755,
          215915,
          216264,
          216359,
          264939,
          216646,
          216766,
          217057,
          217170,
          217320,
          217367,
          217417,
          217553,
          217973,
          218158,
          218166,
          218183,
          218313,
          218490,
          218501,
          218722,
          218755,
          218792,
          219051,
          219126,
          219397,
          219539,
          219651,
          219895,
          220058,
          220080,
          220116,
          220474,
          221328,
          221459,
          221619,
          221761,
          221839,
          222283,
          222566,
          223178,
          223258,
          223646,
          223825,
          223896,
          223971,
          224037,
          224055,
          224071,
          224191,
          224192,
          224383,
          224853,
          225246,
          225321,
          225360,
          225374,
          225899,
          226193,
          226363,
          226382,
          226938,
          227364,
          227397,
          227464,
          227784,
          227864,
          227969,
          228064,
          228318,
          228544,
          228591,
          229244,
          229370,
          229391,
          229438,
          229482,
          229727,
          229987,
          230135,
          230180,
          230209,
          230346,
          230565,
          230800,
          231134,
          231308,
          231317,
          231362,
          231501,
          231612,
          231624,
          231882,
          232096,
          232120,
          232259,
          232294,
          232394,
          232413,
          232684,
          232752,
          232754,
          232894,
          232974,
          233036,
          233113,
          233184,
          233480,
          233561,
          233697,
          233914,
          233967,
          233967,
          233970,
          234001,
          234155,
          234171,
          234305,
          234419,
          234436,
          234463,
          234467,
          234657,
          235704,
          235711,
          236102,
          236150,
          236152,
          236420,
          236470,
          236554,
          236932,
          237046,
          237153,
          237162,
          237335,
          237410,
          237789,
          237958,
          237963,
          238187,
          238392,
          238397,
          238459,
          238809,
          238832,
          238851,
          239160,
          239225,
          239318,
          239400,
          239447,
          239557,
          239867,
          239883,
          239925,
          240024,
          240055,
          240348,
          240371,
          240378,
          240399,
          240484,
          240501,
          240530,
          240846,
          240866,
          241034,
          241416,
          241548,
          241928,
          242404,
          242763,
          242857,
          242859,
          242964,
          243047,
          243275,
          243582,
          243582,
          243822,
          243913,
          244010,
          244108,
          244115,
          244223,
          244477,
          244479,
          244578,
          244642,
          244690,
          244753,
          244758,
          245243,
          245321,
          245453,
          245758,
          245788,
          245838,
          245858,
          246033,
          246070,
          246307,
          246466,
          246545,
          246549,
          246767,
          247221,
          247496,
          247614,
          247729,
          247765,
          247801,
          247802,
          247902,
          248234,
          248616,
          248864,
          249240,
          249300,
          249368,
          249482,
          249551,
          250079,
          250473,
          250557,
          250810,
          251098,
          251203,
          251462,
          251706,
          251737,
          251765,
          251899,
          252154,
          252192,
          252296,
          252353,
          252418,
          252433,
          252469,
          252477,
          252503,
          252688,
          253141,
          253281,
          253350,
          253876,
          253947,
          254125,
          254140,
          254185,
          254390,
          254459,
          254810,
          255174,
          255220,
          255263,
          255415,
          255441,
          255571,
          255632,
          255824,
          255887,
          256136,
          256148,
          256203,
          256214,
          256283,
          256798,
          256935,
          257014,
          257086,
          257177,
          257256,
          257544,
          257573,
          257721,
          257770,
          258098,
          258238,
          258303,
          258344,
          258373,
          258473,
          258586,
          258600,
          258684,
          258830,
          258844,
          258896,
          259024,
          259261,
          259562,
          259692,
          260094,
          260191,
          260207,
          260229
         ],
         "lat": [
          43.1866049,
          43.1866969,
          40.2680822,
          43.183954299999996,
          43.1835516,
          41.4447971,
          null,
          null,
          null,
          null,
          null,
          null,
          null,
          null,
          27.863451,
          43.174803,
          43.17148205,
          43.17252535,
          40.2948907,
          43.1706602,
          43.1706602,
          43.1706602,
          43.1706602,
          43.17335385,
          40.701345,
          43.17673445,
          43.1636924,
          43.163879249999994,
          43.1687143,
          43.16779475,
          -1.2804847,
          43.1656675,
          43.16517485,
          43.165108149999995,
          43.166849549999995,
          43.16980795,
          43.1559221,
          27.8646372,
          27.8646372,
          27.8168449,
          43.1616334,
          43.1591923,
          43.15709424521754,
          43.156590330667484,
          43.158533878334744,
          43.15883799559843,
          43.158641386407325,
          43.158616822077775,
          null,
          null,
          null,
          null,
          null,
          43.1601712,
          43.16067795,
          43.15775925,
          43.15830905,
          43.157456249999996,
          43.156092900000004,
          43.154945299999994,
          43.15109725,
          43.1528043,
          43.14888595,
          null,
          43.15433385,
          43.155508,
          43.155126100000004,
          43.154256000000004,
          43.14890431324632,
          43.14550945,
          43.1456078,
          43.1473339,
          43.1434592,
          43.143026500000005,
          43.1449287,
          43.14391605,
          43.14441165,
          43.144570200000004,
          43.144824549999996,
          43.1482606,
          43.146688850000004,
          43.1482459,
          43.1482479,
          43.1445706,
          43.1433401,
          43.14312805,
          33.6033367,
          null,
          43.13548765,
          43.136774700000004,
          43.1399838,
          43.1368277,
          null,
          43.1372143,
          43.137518,
          28.00900895,
          43.139587750000004,
          43.139199000000005,
          43.1378696,
          43.13723415,
          43.1351941,
          43.1352062,
          43.1377479,
          43.1369045,
          43.1369294,
          43.1365722,
          43.1364056,
          43.136846750000004,
          43.13988395,
          43.14074475,
          43.14069755,
          43.1370836,
          43.138572249999996,
          43.1377748,
          43.1377748,
          43.1379529,
          43.1368456,
          43.13794335,
          43.13616485,
          32.8715905,
          50.6989061,
          50.6989061,
          43.0665124,
          43.0665124,
          43.0665124,
          43.066433,
          43.066433,
          43.0665124,
          43.128369899999996,
          43.131391750000006,
          43.1328325,
          43.13291305,
          43.13082285,
          43.130182899999994,
          43.126833649999995,
          43.129931400000004,
          37.6840705,
          43.1235682,
          null,
          43.1198815,
          43.1199376,
          43.1212414,
          43.1260941,
          26.258890560395745,
          33.6033367,
          43.124411550000005,
          43.1221339,
          43.11960555,
          43.1206018,
          null,
          43.12507205,
          43.12540245,
          43.12412145,
          null,
          43.1219846,
          43.120145300000004,
          43.120275050000004,
          43.11984775,
          43.1198192,
          43.1263755,
          43.124078600000004,
          43.122719200000006,
          43.121721550000004,
          43.1207814,
          43.1185597,
          43.12119295,
          43.124881599999995,
          33.8145116,
          43.12172115,
          43.124138900000005,
          43.12571525,
          43.119992800000006,
          33.5701084,
          43.1048703,
          null,
          null,
          43.11306195,
          43.1141947,
          43.11859245,
          43.115410499999996,
          43.11539245,
          43.1136579,
          43.1128379,
          43.11626315,
          43.118270300000006,
          43.114685800000004,
          43.11298605,
          43.1153561,
          null,
          43.11736825,
          43.116995349999996,
          43.11782410000001,
          43.1161333,
          43.11678335,
          43.11789745,
          43.1134862,
          43.1142259,
          43.1123135,
          43.11442305,
          43.11503455,
          43.113492949999994,
          null,
          43.11351795,
          43.11859255,
          null,
          43.11878195,
          43.1170109,
          43.11795025,
          43.1152053,
          43.114516949999995,
          43.114816899999994,
          43.11509585,
          43.117910800000004,
          43.113426399999994,
          null,
          43.117030650000004,
          43.1173099,
          33.6033367,
          43.1179526,
          43.11758975,
          43.1126879,
          43.113349549999995,
          43.1141637,
          27.822248918367347,
          26.25488096159259,
          43.1147204,
          43.11504445,
          43.117538749999994,
          43.11703755,
          43.1169299,
          43.11804045,
          43.1107729,
          43.1185023,
          38.67248172778651,
          43.10953885,
          43.10772005,
          43.106747,
          43.10676235,
          null,
          43.107525949999996,
          43.10505345,
          null,
          43.10613465,
          43.10715555,
          47.267242897959186,
          43.10773115,
          43.10474445,
          43.10923715,
          34.441875,
          43.10535055,
          43.1056437,
          38.5375105,
          43.1063092,
          43.10996455,
          43.1100631,
          43.100871,
          43.1086973,
          43.107028299999996,
          43.10696745,
          43.10626935,
          43.106389449999995,
          null,
          43.1053045,
          43.11124685,
          43.1105611,
          43.1103965,
          43.108486150000004,
          43.1064037,
          40.0346078,
          43.10681675,
          43.11011295,
          43.11032205,
          43.107325900000006,
          43.1076037,
          43.109168350000004,
          43.10694577879829,
          43.10565925,
          43.10558745,
          39.1329262,
          43.111158,
          34.441875,
          43.1071789,
          43.10662145,
          43.10771155,
          43.10810725,
          43.10664195,
          43.10574105,
          43.108444,
          43.11185545,
          43.1072376,
          43.1042767,
          43.0978001,
          43.099162500000006,
          43.099359050000004,
          43.099585649999995,
          43.100114,
          43.0995497,
          40.9183502,
          43.102773049999996,
          43.1022595,
          43.10057090515938,
          43.102189,
          43.099270149999995,
          43.09824895,
          43.1045913,
          43.104067400000005,
          43.10418515,
          43.09928655,
          43.1002756,
          43.0956925,
          43.0937413,
          43.1039404,
          43.10463165,
          43.0947502,
          33.4156913,
          43.0969988,
          43.0994103,
          43.099725750000005,
          43.0993019,
          43.099985000000004,
          43.10020405,
          43.100204399999996,
          43.100464200000005,
          43.09754605,
          43.0976597,
          43.0976597,
          43.0983612,
          43.09819105,
          39.144747,
          43.101489400000006,
          35.421343626262626,
          43.09744795,
          43.0986618,
          43.0979043,
          43.1046887,
          null,
          43.101441300000005,
          null,
          43.09963875,
          43.09913845,
          43.10326355,
          43.100101499999994,
          43.09750665,
          43.1000884,
          43.1031727,
          43.103828,
          43.103958399999996,
          null,
          null,
          43.10098565,
          43.1028596,
          43.104326799999996,
          43.0975881,
          43.1001907,
          43.0981149,
          43.100486700000005,
          43.10033285,
          null,
          37.0583737,
          40.85612642682927,
          43.0978141,
          43.103689700000004,
          43.10186245,
          null,
          31.588219516143447,
          null,
          null,
          43.0902568,
          43.09129455,
          null,
          43.0948112,
          32.465494142857146,
          43.0902423,
          null,
          43.0917067,
          40.8533688,
          null,
          43.09347515,
          43.0948982,
          43.09620285,
          null,
          43.09246589999999,
          43.0920608,
          43.1008139,
          43.0943475,
          43.0953981,
          null,
          43.09023425,
          26.16867357142857,
          43.09369925,
          43.09487075,
          39.94896693939394,
          43.092771299999995,
          43.09490825,
          43.094010600000004,
          43.094010600000004,
          43.09117725,
          47.281514275709874,
          47.281514275709874,
          39.949507928227696,
          39.94994546153846,
          39.94994546153846,
          null,
          35.420432585858585,
          43.0945189,
          43.0919113,
          43.0932409,
          43.0914961,
          43.09549095,
          43.09393645,
          43.09116785,
          43.09126835,
          43.1007141,
          43.093232,
          43.09226175,
          43.095489799999996,
          43.095507,
          43.0936834,
          null,
          43.092171300000004,
          43.090264399999995,
          43.0900376,
          null,
          43.09075005,
          53.4407559,
          43.091992950000005,
          43.0959326,
          43.095623849999996,
          43.0337155,
          43.0337155,
          43.0337155,
          43.0337155,
          43.0903009,
          43.092345,
          43.08996215,
          27.866377,
          null,
          null,
          null,
          40.6583373,
          43.08253645,
          43.08727385,
          43.0831897,
          43.08192065,
          43.0872289,
          43.086426,
          43.08661635,
          43.08580555,
          43.08300825,
          43.08270515,
          43.0886092,
          43.08448395,
          43.0853517,
          43.08274845,
          43.0877984,
          null,
          25.6894072,
          25.6894072,
          25.6894072,
          null,
          25.6894072,
          null,
          null,
          43.0871175,
          43.08756595,
          43.087562750000004,
          43.0868538,
          43.0881865,
          43.08555135,
          43.08496085,
          43.083306699999994,
          43.0820023,
          43.0847203,
          43.08890915,
          43.088362599999996,
          43.087858,
          43.08666315,
          43.0866712,
          43.0854897,
          43.0858512,
          43.0858512,
          43.0857959,
          43.1388981,
          43.086264549999996,
          null,
          43.08858925,
          null,
          43.0845598,
          43.0830724,
          43.083214850000005,
          43.089076750000004,
          29.4969728,
          35.4129297203075,
          null,
          null,
          43.0893408,
          43.08545275,
          26.239775586683606,
          43.08450625,
          43.0841849,
          33.4903978,
          33.4908762,
          43.08335615,
          43.08711045,
          43.08837225,
          30.485518298344353,
          null,
          43.0880855,
          43.0821368,
          43.0879099,
          43.0865733,
          43.0842461,
          43.08315625,
          43.08678865,
          43.0877232,
          null,
          null,
          null,
          43.0858161,
          32.46793536734694,
          43.082747299999994,
          43.089229700000004,
          43.085856899999996,
          43.0874776,
          43.082705849999996,
          43.08633185,
          43.0842847,
          33.49231925,
          null,
          43.086283550000005,
          null,
          43.089067400000005,
          43.0861523,
          43.076263850000004,
          43.076157,
          43.0848984,
          43.08094185,
          43.079636949999994,
          37.716087,
          43.0795689,
          43.081500500000004,
          43.0802771,
          43.075753,
          43.079602699999995,
          null,
          30.763218,
          null,
          35.4048784,
          43.08042974999999,
          null,
          43.0774247,
          43.0795961,
          43.07770475,
          43.075295999999994,
          43.08081935,
          43.0577055,
          43.0577055,
          43.0786195,
          43.0748743,
          42.6292213,
          36.08529053578356,
          43.0883162,
          27.0231359,
          37.898816,
          43.0821368,
          43.0810455,
          null,
          38.6591451254797,
          40.0028046,
          null,
          27.97376181318681,
          39.79254073426319,
          43.0774128,
          null,
          43.0792082,
          43.0779341,
          38.6602004,
          43.0789816,
          null,
          43.075756150000004,
          43.080638300000004,
          43.07680415,
          35.41432281516503,
          43.080122450000005,
          39.95423,
          43.0768508,
          43.07682715,
          43.0792806,
          40.4781653,
          35.410124036558614,
          26.237020212121212,
          43.07604285,
          null,
          43.07659535,
          43.08221335,
          null,
          43.08203795,
          43.07719,
          43.0788469,
          43.07603245,
          43.078704,
          41.2700888,
          null,
          43.079523449999996,
          null,
          43.07831365,
          35.41051208080808,
          33.6351212,
          38.629043,
          43.082385450000004,
          43.08237335,
          39.4788258,
          43.0810102,
          43.08232245,
          43.0800047,
          35.40993225491997,
          43.07855525,
          43.08062595,
          43.0823582,
          43.0823593,
          43.0760037,
          43.0797772,
          43.076949400000004,
          43.077892500000004,
          null,
          43.075533500000006,
          43.0781602,
          43.0764172,
          43.0772768,
          43.07642045,
          43.0803582,
          43.084535450000004,
          43.08419605,
          43.079130250000006,
          43.0763689,
          43.08011675,
          43.0793846,
          38.62091202938766,
          38.6214809625261,
          43.079736800000006,
          43.077711699999995,
          43.078922899999995,
          43.0793791,
          43.07675945,
          43.076471549999994,
          43.070249700000005,
          43.0733934,
          43.0736415,
          39.14161084848485,
          43.0746568,
          39.140629282828286,
          43.0734947,
          43.071400249999996,
          43.06854945,
          43.068789949999996,
          43.068699949999996,
          43.071941949999996,
          43.0740532,
          43.070336850000004,
          43.07021915,
          43.07030035,
          43.07082585,
          39.13891948814596,
          43.0699101,
          43.069619849999995,
          43.07436894999999,
          43.0727423,
          43.0721555,
          43.074089650000005,
          43.074875399999996,
          43.072868,
          43.07204095,
          43.071421349999994,
          40.0346078,
          43.07219665,
          43.0704906,
          43.07098725,
          43.070010100000005,
          43.075128,
          43.0737706,
          43.073332300000004,
          43.0728772,
          43.07219025,
          39.4788258,
          43.0686826,
          27.797941495923908,
          27.79754255355512,
          43.0701891,
          35.379917,
          43.07487845,
          33.7425916,
          43.071033099999994,
          43.071033099999994,
          43.0730784,
          40.821984,
          27.797108396551724,
          41.277801,
          35.377393,
          43.07288535,
          27.798864129308203,
          33.7588467,
          40.821984,
          43.0714622,
          43.0741726,
          33.6040371,
          35.40707102040816,
          33.6040371,
          43.070656150000005,
          null,
          43.0726716,
          43.07181395,
          43.072243400000005,
          33.483467000000005,
          43.6454925,
          35.4072297755102,
          null,
          39.99977415,
          43.0723385,
          35.407543000000004,
          null,
          null,
          43.06881715,
          40.00026495,
          48.4424925,
          40.00210215,
          43.072259200000005,
          43.0726198,
          43.07059745,
          43.0715091,
          43.0733766,
          42.2681984,
          42.2681984,
          39.79121347407223,
          43.06895105,
          38.65338,
          null,
          null,
          43.070614649999996,
          41.5906298,
          43.074490049999994,
          43.0742145,
          43.070220000000006,
          28.1534269,
          null,
          37.716087,
          43.072046400000005,
          43.06755185,
          43.0702334,
          null,
          40.988354,
          43.0739531,
          43.067749649999996,
          51.5560349,
          43.0848984,
          34.925805249999996,
          43.06450245,
          43.064234850000005,
          37.716087,
          39.5746472,
          43.0520863,
          42.6807367,
          37.716087,
          43.06476855,
          43.0541888,
          43.06632205,
          43.0621638,
          30.4173505,
          44.8733328,
          43.0616368,
          43.06265745,
          43.0630776,
          40.5878093,
          37.7396275,
          40.6906049,
          43.0640157,
          31.117321030303028,
          43.06204445,
          43.0624525,
          43.065330200000005,
          43.0655354,
          27.9547493,
          43.643761469387755,
          43.642969,
          43.9590522,
          null,
          38.64253925581395,
          43.0645602,
          43.0655851,
          33.6220549,
          30.109637,
          29.440155,
          29.440155,
          29.440155,
          43.0668306,
          31.548212806515366,
          26.2302424,
          43.06731565,
          38.628532,
          43.0635029,
          33.610586,
          33.6133215,
          33.6133215,
          39.061922,
          33.6133215,
          43.06769075,
          33.610586,
          33.6439569,
          38.644725663316585,
          43.06173939999999,
          43.0669605,
          33.473519499999995,
          39.4788258,
          43.065427799999995,
          43.061426,
          43.0637394,
          43.06385995,
          43.06276015,
          43.06654535,
          33.6115414,
          43.06769635,
          38.638489181532805,
          39.986733,
          null,
          39.979314099999996,
          43.05178945,
          43.0564695,
          43.05702475,
          38.629043,
          43.1156157,
          38.63812965023802,
          47.6685432,
          41.9110645,
          39.8658009,
          43.056806800000004,
          43.05978615,
          40.484356,
          41.9110645,
          null,
          null,
          43.0565751,
          null,
          47.6528299,
          31.12762025531915,
          31.12771440425532,
          31.549166714285715,
          null,
          31.550328591836735,
          43.638514,
          43.0534663,
          47.6528299,
          31.548819571428574,
          43.0560374,
          40.4781653,
          31.1981885,
          43.055797150000004,
          40.484356,
          43.055695650000004,
          42.8170949,
          43.058908200000005,
          null,
          43.05704715,
          40.875993,
          null,
          43.0347649,
          42.350347,
          42.350347,
          null,
          43.05870355,
          null,
          43.05979045,
          41.8976464,
          41.8976464,
          41.8976464,
          null,
          31.8479955,
          null,
          null,
          29.9465892,
          43.0575064,
          null,
          null,
          41.8976464,
          42.172796250000005,
          null,
          -31.9159347,
          null,
          42.172796250000005,
          31.8479955,
          31.8479955,
          null,
          31.8479955,
          43.055427800000004,
          null,
          43.053762000000006,
          55.003138,
          55.003138,
          null,
          null,
          39.3405055,
          39.3405055,
          43.0587038,
          27.5974212,
          null,
          41.2432956,
          43.0503509,
          55.003138,
          55.003138,
          53.922934,
          null,
          null,
          null,
          null,
          33.9265789,
          null,
          null,
          null,
          55.003138,
          34.3565082,
          null,
          43.05198705,
          43.0525961,
          43.050163,
          43.0500021,
          27.983695,
          27.983695,
          43.0457136,
          null,
          43.051608099999996,
          43.04965625,
          43.04592195,
          null,
          43.6327875,
          39.776773,
          43.0485551,
          null,
          43.052640800000006,
          39.97857165,
          43.052203750000004,
          37.214377,
          null,
          43.0458216,
          40.82728636674053,
          47.6528299,
          33.6145478,
          47.6525268,
          33.7588467,
          30.462363177371024,
          39.117224,
          null,
          null,
          43.0501267,
          43.0446122,
          43.04643285,
          38.626220833333335,
          43.039090349999995,
          43.0414536,
          43.0453057,
          43.045653200000004,
          43.100871,
          43.0436137,
          43.03994835,
          43.041817949999995,
          43.0456683,
          43.6283745,
          43.0418647,
          43.0420935,
          43.627644469387754,
          null,
          40.9296857,
          40.9296857,
          null,
          40.4160605,
          43.041880750000004,
          null,
          null,
          null,
          null,
          null,
          null,
          null,
          43.0431853,
          null,
          null,
          44.847385,
          43.3920845,
          null,
          null,
          null,
          null,
          null,
          null,
          null,
          42.784089,
          42.784089,
          null,
          null,
          null,
          43.0382425,
          43.0337425,
          39.1073616,
          43.0360934,
          47.6497044,
          43.03729115,
          43.03421555,
          43.0383506,
          38.273129999999995,
          43.03819595,
          43.03815605,
          43.034506199999996,
          39.966178799999994,
          39.9667104,
          39.966382,
          43.03195215,
          43.03278985,
          38.59516642948538,
          43.0335968,
          39.10134002824228,
          43.03351945,
          43.0271294,
          43.026377,
          43.02503795,
          43.03378055,
          29.73268509090909,
          39.101073189038125,
          43.0329217,
          37.71755,
          43.032872,
          37.71755,
          43.036864,
          43.0346544,
          43.037618800000004,
          43.0301245,
          43.03022765,
          43.02838055,
          43.02811025,
          43.0290494,
          43.029306399999996,
          34.5052696,
          43.0295116,
          43.0302109,
          null,
          43.024814000000006,
          43.0256344,
          43.03124095,
          43.0292572,
          43.02495725,
          43.029925649999996,
          43.0279199,
          43.026173,
          43.028978550000005,
          43.025582650000004,
          43.027645750000005,
          43.0251546,
          null,
          43.0304441,
          null,
          41.063565,
          null,
          43.02237205,
          null,
          null,
          43.0182291,
          43.0187713,
          41.916188000000005,
          43.02097845,
          43.02203955,
          36.047466299999996,
          43.02268015,
          32.213791,
          39.933940750000005,
          null,
          40.979581,
          43.02141625,
          43.01985655,
          43.0192424,
          27.435693312908157,
          43.0181265,
          null,
          39.935727150000005,
          39.94332665,
          40.979581,
          43.0231425,
          38.2473774,
          43.02099035,
          36.0390371,
          null,
          null,
          39.9380957,
          43.0196387,
          32.44643123076923,
          38.24864025,
          43.0215776,
          43.9695998,
          43.7917575,
          43.0192033,
          43.01838865,
          43.01753455,
          43.0162288,
          43.0166197,
          43.0145883,
          null,
          43.013050500000006,
          38.22893185,
          null,
          43.01386405,
          null,
          39.93399735,
          43.0140594,
          null,
          39.9307686,
          43.010559799999996,
          43.012660049999994,
          null,
          43.004205400000004,
          43.012567700000005,
          40.468834,
          43.01659105,
          null,
          43.0133237,
          null,
          43.01092615,
          39.93000822802817,
          43.0052465,
          43.00375985,
          43.006672550000005,
          43.0068766,
          43.0057053,
          38.234229,
          39.9256587,
          43.0087886,
          null,
          null,
          43.011756500000004,
          43.01100365,
          39.928577700000005,
          43.00822475,
          null,
          43.01003705,
          30.8350049,
          null,
          43.00783865,
          43.0076147,
          40.7741092,
          43.00590005,
          43.00790645,
          43.0057256,
          43.00549375,
          43.00329925,
          null,
          43.0102141,
          43.00377025,
          42.9608978,
          42.997730250000004,
          42.9987941,
          42.99626345,
          26.5933219,
          42.998671,
          43.00033195,
          null,
          39.92147815,
          39.91885,
          42.996395500000006,
          39.91628465,
          43.001781449999996,
          43.00148995,
          42.99881155,
          42.9989134,
          42.999583599999994,
          42.99966095,
          42.999342850000005,
          42.99578565,
          null,
          39.9181848,
          43.00095805,
          null,
          42.99897275,
          43.00198175,
          42.999126000000004,
          42.999384500000005,
          40.685562,
          53.6795218,
          null,
          42.98949175,
          42.994988649999996,
          42.99435605,
          42.9926987,
          42.99120365,
          42.9903973,
          42.9894968,
          42.9931802,
          42.993046750000005,
          42.99395125,
          42.993219350000004,
          39.35871928571429,
          39.358816795918365,
          42.9934688,
          39.91519815,
          42.989622100000005,
          42.98938405,
          null,
          42.991420899999994,
          42.992470600000004,
          43.695492,
          42.98929215,
          42.99090405,
          41.24041,
          42.9892097,
          42.9907302,
          42.9928911,
          42.9947231,
          42.98950755,
          42.9935024,
          42.9738105,
          42.98863745,
          42.9890767,
          42.9922311,
          42.989335600000004,
          42.994891749999994,
          42.9913369,
          42.9916517,
          42.993781299999995,
          27.914072,
          42.994820250000004,
          42.98915155,
          42.98933255,
          42.9923356,
          42.99118695,
          42.995376199999995,
          42.9923356,
          42.9872815,
          42.9872815,
          42.98692185,
          39.70167409708738,
          43.0181784,
          43.0261314,
          42.982571500000006,
          42.98563485,
          42.985438349999995,
          42.984355750000006,
          42.98472315,
          42.9851751,
          42.98407175,
          42.98180235,
          42.98426035,
          42.9830577,
          42.98324435,
          42.98226665,
          42.98257815,
          42.98187985,
          42.9881411,
          42.98140915,
          39.927338,
          39.927338,
          42.985369399999996,
          42.98592285,
          42.98731765,
          42.9813791,
          42.9818748,
          42.98178785,
          42.983464,
          42.9845831,
          42.9844403,
          42.9850778,
          42.985413199999996,
          42.983152149999995,
          42.980939649999996,
          null,
          42.98773295,
          null,
          42.986317299999996,
          42.98329665,
          null,
          42.98376705,
          null,
          null,
          42.9841229,
          null,
          null,
          42.98257665,
          42.9875112,
          null,
          null,
          42.98392295,
          42.98149755,
          42.987569449999995,
          42.98409925,
          42.986330249999995,
          42.9812015,
          42.9861159,
          41.627841,
          42.981133650000004,
          42.98785995,
          42.98786375,
          42.98759365,
          42.983369249999996,
          42.98679785,
          42.976886300000004,
          42.976886300000004,
          42.9751091,
          42.975179100000005,
          42.974053749999996,
          42.97595885,
          42.976106599999994,
          42.9910467,
          42.97863775,
          42.978536399999996,
          42.97497405,
          42.9808955,
          42.9787666,
          42.97625015,
          42.97498285,
          null,
          42.9746751,
          42.98039045,
          null,
          null,
          42.978190749999996,
          42.9764751,
          42.97580755,
          42.9751117,
          42.9792529,
          42.980646449999995,
          42.9793369,
          null,
          42.978239,
          null,
          42.974762999999996,
          42.976434100000006,
          42.980306,
          42.979385199999996,
          null,
          42.9754103,
          42.977954749999995,
          42.9758324,
          42.9799101,
          42.9794088,
          42.9788336,
          42.9744892,
          42.98020115,
          42.978554,
          42.978218049999995,
          42.9801616,
          42.9717981,
          42.9721102,
          42.9713268,
          42.9723635,
          null,
          42.9724327,
          42.96687965,
          42.9682164,
          42.9682569,
          42.9684084,
          42.96868645,
          42.9695782,
          42.967321150000004,
          42.97230915,
          42.9700332,
          42.96850125,
          42.969317399999994,
          42.9700762,
          42.9681559,
          42.9721663,
          42.96783875,
          42.973015450000005,
          42.96593295,
          42.9631271,
          42.96115835,
          42.9637251,
          42.96468495,
          42.963271399999996,
          42.96249265,
          42.96075075,
          41.80758784459459,
          42.962222,
          42.96311865,
          41.2300215,
          42.965563149999994,
          42.96309975,
          42.952347700000004,
          42.9546583,
          null,
          42.95618705,
          42.957685350000006,
          42.9578069,
          40.7575178,
          42.954699399999996,
          38.234229,
          42.9499526,
          null,
          42.949928850000006,
          42.94685695,
          null,
          null,
          42.94590365,
          42.9454982,
          42.949695750000004,
          42.9451994,
          42.941415649999996,
          42.9384817,
          42.9419123,
          42.94099825,
          42.940079499999996,
          42.9388022,
          42.9397844,
          42.937852649999996,
          42.944553150000004,
          null,
          42.94240365,
          40.748035,
          42.944458999999995,
          42.93959545,
          42.9331696,
          42.93586975,
          42.9346671,
          42.9322676,
          42.93285365,
          42.9337433
         ],
         "legendgroup": "",
         "lon": [
          -88.0627239,
          -88.01608128160606,
          -76.7672128,
          -87.9988140446944,
          -88.01792249840167,
          -72.0733294,
          null,
          null,
          null,
          null,
          null,
          null,
          null,
          null,
          -82.770532,
          -88.05586848979591,
          -88.0447556743973,
          -88.03824126405533,
          -85.3194455,
          -88.0063937,
          -88.0063937,
          -88.0063937,
          -88.0063937,
          -88.00741216131829,
          -73.877924,
          -88.00409885032292,
          -88.00785735479568,
          -88.03028524621604,
          -88.03308969737779,
          -88.0312835,
          36.9703402,
          -88.03028272733502,
          -88.03774649511928,
          -88.03617656552794,
          -88.04119215,
          -88.03912941931819,
          -88.04995231307126,
          -82.7872286,
          -82.7872286,
          -82.7880234,
          -88.03107416958377,
          -88.0108020812612,
          -87.98731462519314,
          -87.98565582470097,
          -87.98715643012302,
          -87.98897410907692,
          -87.98864644327233,
          -87.9878702573533,
          null,
          null,
          null,
          null,
          null,
          -87.9810476,
          -87.97984924371801,
          -87.9761354413006,
          -87.97918428679785,
          -87.97856627115385,
          -87.98173652672651,
          -87.96235794929197,
          -87.95977395,
          -87.9568884,
          -87.95860449140639,
          null,
          -87.97631567596432,
          -87.97802279823954,
          -87.97799757591233,
          -88.04420682597117,
          -88.06253202712416,
          -88.06416516505682,
          -88.03256251270999,
          -88.02899894818259,
          -88.01860196323958,
          -88.00891,
          -88.0071973,
          -88.00732005822387,
          -87.9866896,
          -87.986654,
          -87.96956939906642,
          -87.97070442516198,
          -87.96709412564826,
          -87.96680287445255,
          -87.96788741631934,
          -87.9673347,
          -87.96062107412993,
          -87.96528147455331,
          -111.9910799,
          null,
          -87.9721856502772,
          -87.9754996,
          -87.9797912278208,
          -87.97995377417841,
          null,
          -88.00240957954544,
          -88.00031355,
          -82.36832656987082,
          -88.007811225136,
          -88.02488913506107,
          -88.02108834577056,
          -88.02270317437421,
          -88.02269055,
          -88.01593313611112,
          -88.0195906,
          -88.01793432848788,
          -88.01515167825727,
          -88.01202710000001,
          -88.01288094747366,
          -88.01442095593757,
          -88.01140902865998,
          -88.01189605183276,
          -88.01442293184078,
          -88.02775432866162,
          -88.02576370365405,
          -88.03990640231561,
          -88.03990640231561,
          -88.04173109999999,
          -88.04190585,
          -88.04359605347989,
          -88.04296725,
          -104.4070006,
          -1.3082439,
          -1.3082439,
          -87.9841008,
          -87.9841008,
          -87.9841008,
          -87.9841554,
          -87.9841554,
          -87.9841008,
          -88.05314784900878,
          -88.04010237502074,
          -88.039432336625,
          -88.04488139727516,
          -88.0313515712539,
          -88.01746431869671,
          -87.95635158143988,
          -87.95872254590708,
          -97.3468159,
          -87.94811267357454,
          null,
          -87.95595912518338,
          -87.96551835919158,
          -87.95905775,
          -87.96071484916561,
          -98.25511854790749,
          -111.9910799,
          -87.96441256532984,
          -87.98357452469506,
          -87.98503444863013,
          -87.98209305,
          null,
          -87.9956103,
          -87.99373307493696,
          -87.99499526436256,
          null,
          -87.99072313931174,
          -87.98903019756435,
          -87.99877767653943,
          -88.0032348,
          -88.00244225187285,
          -87.9331618,
          -87.99998159170363,
          -87.99632969999999,
          -87.99697895045045,
          -87.997586,
          -87.9197066,
          -88.0031286946655,
          -88.01617325,
          -111.8717145,
          -88.03740725394721,
          -88.05328394014951,
          -88.063361,
          -88.05620520727743,
          -111.8281894,
          -88.052816,
          null,
          null,
          -88.04616749245005,
          -88.05521204538218,
          -88.04341533883839,
          -88.04430437505937,
          -88.04232703756394,
          -88.0436850969786,
          -88.04386405,
          -88.04111626299772,
          -88.03168815139199,
          -88.0213127,
          -88.01202620000001,
          -88.01412310871558,
          null,
          -88.0050295,
          -88.00335262809362,
          -88.00219880553936,
          -88.00319895038145,
          -88.0028283,
          -87.99908475135945,
          -88.00118570919823,
          -87.99869742189928,
          -87.9958432,
          -87.98647746606348,
          -87.98651787623075,
          -87.99211955012183,
          null,
          -87.9834338450234,
          -87.97900940882002,
          null,
          -87.97970009605092,
          -87.98341314999999,
          -87.98146572408538,
          -87.97725905155141,
          -87.97534944880945,
          -87.96987596584191,
          -87.97212674185229,
          -87.96140652607193,
          -87.95490835,
          null,
          -87.96445949993819,
          -87.9644545486568,
          -111.9910799,
          -87.95599182647908,
          -87.95361036442746,
          -87.94678250003136,
          -87.94013645523339,
          -87.93955017577031,
          -82.66619775510203,
          -98.24193424016953,
          -87.9448628,
          -87.93050830983714,
          -87.93681919859625,
          -87.93814277478916,
          -87.9274093,
          -87.9267502,
          -87.9258399,
          -87.92506580105932,
          -90.21014912713518,
          -87.93496083286765,
          -87.93436465128491,
          -87.93506364967666,
          -87.94506519323183,
          null,
          -87.94317470338709,
          -87.94324475999113,
          null,
          -87.94255745072955,
          -87.93900204951584,
          -122.50185702040815,
          -87.93717647533154,
          -87.94400449941443,
          -87.94805522711044,
          -82.393129,
          -87.96130874256448,
          -87.96126080038235,
          -90.0153788,
          -87.96418546779718,
          -87.97538254782671,
          -87.97414673995247,
          -87.9706093,
          -87.98533896917046,
          -87.98356879926428,
          -87.9828094005074,
          -87.9828672081285,
          -87.98285543199866,
          null,
          -87.97859619545024,
          -87.98894526319192,
          -87.99337559516637,
          -87.99155027525072,
          -87.99158094881757,
          -87.99162365341772,
          -105.2114249,
          -87.99108669656599,
          -87.99709352619288,
          -87.99707234330293,
          -88.00491469941406,
          -88.00228471382212,
          -88.00487850184584,
          -87.99980776016804,
          -88.00299080972738,
          -88.00571105,
          -94.7570961,
          -88.01301357446809,
          -82.393129,
          -88.01280398647998,
          -88.01959409454514,
          -88.02304105,
          -88.02305592817105,
          -88.02297199979046,
          -88.02003915051566,
          -88.04216968977272,
          -88.04228334924017,
          -88.04979742026684,
          -88.0236455,
          -88.01910953681227,
          -88.02544464244313,
          -88.02326886802568,
          -88.02041340334924,
          -88.01940475228288,
          -88.02143634999999,
          -96.6053678,
          -88.00852517557834,
          -88.00975134203287,
          -88.01246792412749,
          -88.0127268,
          -88.0074765355502,
          -88.01636635,
          -88.0151247,
          -88.010906,
          -88.01091105,
          -88.00351189318859,
          -88.00351347528868,
          -88.0015706000896,
          -88.0015576503705,
          -88.0043241243072,
          -87.99872957481617,
          -87.99731124052735,
          -111.6805744,
          -87.99857908303177,
          -88.00040689994151,
          -87.99015172361163,
          -87.99215252730792,
          -87.9934302,
          -87.9953782,
          -87.99655171297944,
          -87.99592370005196,
          -87.99541404771729,
          -87.99290889921303,
          -87.99290889921303,
          -87.98964741491596,
          -87.98820448868966,
          -94.699735,
          -87.98274103907407,
          -94.36981451515152,
          -87.98036331781495,
          -87.98568343540494,
          -87.9860128,
          -87.989828,
          null,
          -87.9747041,
          null,
          -87.96913198284444,
          -87.97039850811387,
          -87.96778899919575,
          -87.9613196362688,
          -87.9613919256766,
          -87.95892973252404,
          -87.95967290123676,
          -87.9641381,
          -87.96571015559981,
          null,
          null,
          -87.96013012105541,
          -87.95820998355686,
          -87.95939631155913,
          -87.96373482132819,
          -87.96184598334804,
          -87.96189150562866,
          -87.9648620709278,
          -87.96422195860386,
          null,
          -93.2441897,
          -96.68225532926829,
          -87.94587858340427,
          -87.93270937556318,
          -87.93571019862837,
          null,
          -97.18042219736515,
          null,
          null,
          -87.92678725047017,
          -87.9193538817016,
          null,
          -87.93091848446007,
          -99.77605697959183,
          -87.93045020517293,
          null,
          -87.92920012367617,
          -96.69955634345084,
          null,
          -87.92975553735121,
          -87.92888814222411,
          -87.92836724082437,
          null,
          -87.9416845370506,
          -87.93986483550033,
          -87.9429279,
          -87.94592382400077,
          -87.94028509878049,
          null,
          -87.95537092521282,
          -80.2048587857143,
          -87.94965029918717,
          -87.94750417022988,
          -75.06520806060607,
          -87.95967841011236,
          -87.96019212221302,
          -87.96088786181193,
          -87.96088786181193,
          -87.96387479393087,
          -122.49489686948564,
          -122.49489686948564,
          -75.0669071049109,
          -75.06756376923077,
          -75.06756376923077,
          null,
          -94.37543104040404,
          -87.97370739403021,
          -87.97380358915498,
          -87.97321439918602,
          -87.96961780390242,
          -87.97850037987486,
          -87.98085590268833,
          -87.9897652500328,
          -87.98920614393317,
          -87.9867474,
          -88.0009225003214,
          -88.00040876702332,
          -88.0158486,
          -88.01437415000001,
          -88.01486727617261,
          null,
          -88.00829677467091,
          -88.0103665054364,
          -88.02335273303291,
          null,
          -88.02481897143329,
          -2.2309147,
          -88.02292797539818,
          -88.02361815044081,
          -88.02150580743321,
          -88.0219186,
          -88.0219186,
          -88.0219186,
          -88.0219186,
          -88.02732785,
          -88.02608980958995,
          -88.04038415005883,
          -82.777106,
          null,
          null,
          null,
          -73.8329232,
          -88.03466612488123,
          -88.0325162085611,
          -88.0318723475517,
          -88.03243599664913,
          -88.03737589387134,
          -88.03631099763726,
          -88.0351631,
          -88.0352058872739,
          -88.02855035138,
          -88.03354398359572,
          -88.0179147,
          -88.02104007637311,
          -88.0186184,
          -88.01799382430556,
          -88.0216663092725,
          null,
          -80.2910238,
          -80.2910238,
          -80.2910238,
          null,
          -80.2910238,
          null,
          null,
          -88.01417889999999,
          -88.01653912497628,
          -88.0136389,
          -88.0136351575582,
          -88.0112637742018,
          -88.0166011242066,
          -88.01533583013392,
          -88.0147436857579,
          -88.01345297382879,
          -88.00778629429448,
          -88.00505918850165,
          -88.00567860594762,
          -87.99803441527237,
          -87.9961959,
          -87.99966745,
          -88.00565575108695,
          -88.00277401151277,
          -88.00277401151277,
          -88.002941107188,
          -88.0607109,
          -87.98804271856683,
          null,
          -87.98348477114618,
          null,
          -87.9786953152174,
          -87.98246140024416,
          -87.98474584655868,
          -87.9694500389434,
          -98.61837125528035,
          -94.37918003909432,
          null,
          null,
          -87.96445424827075,
          -87.96457155,
          -98.25812520954851,
          -87.96515920200329,
          -87.95873675903121,
          -112.0005429,
          -112.0005563,
          -87.95938560581465,
          -87.95815912723762,
          -87.95865350573237,
          -91.15281517017725,
          null,
          -88.0058675,
          -88.047661,
          -87.94608644722223,
          -87.94334671657572,
          -87.93936047928474,
          -87.94083746868245,
          -87.93932710309524,
          -87.93932076426427,
          null,
          null,
          null,
          -87.92868215,
          -99.76689765306122,
          -87.93070495195403,
          -87.93424292378592,
          -87.93655211607023,
          -87.92934065016937,
          -87.93695385347777,
          -87.92319490101926,
          -87.9176056044645,
          -112.06541999577837,
          null,
          -87.92693794508551,
          null,
          -87.92612650416518,
          -87.91459589966271,
          -87.87755596457234,
          -87.87264124931598,
          -87.8755204,
          -87.8732909757895,
          -87.87698925518045,
          -97.427946,
          -87.8844779,
          -87.88490280049844,
          -87.89534688422856,
          -87.8902796,
          -87.88843412613838,
          null,
          -98.227874,
          null,
          -77.9869534,
          -87.90036167454322,
          null,
          -87.90541428741403,
          -87.90207520635073,
          -87.90365999440756,
          -87.90495435,
          -87.90478459499309,
          -87.899334,
          -87.899334,
          -87.91148929875283,
          -87.9101795,
          -89.2572534,
          -95.78471429303153,
          -87.9147856,
          -80.4858131,
          -88.93868,
          -88.047661,
          -87.9270717300653,
          null,
          -90.19684836935778,
          -75.14736042370589,
          null,
          -82.44697896703298,
          -94.84705890328502,
          -87.91803113827389,
          null,
          -87.92762745099449,
          -87.9299588,
          -90.19866765571929,
          -87.93829474174827,
          null,
          -87.93902838724975,
          -87.9394869751194,
          -87.9444691439742,
          -94.40869170155729,
          -87.93825458757689,
          -75.0905718,
          -87.95462753640939,
          -87.95073671653464,
          -87.94871605,
          -93.0186561,
          -94.39981941940002,
          -98.25506053535354,
          -87.96528828775696,
          null,
          -87.96345391377156,
          -87.96521132520338,
          null,
          -87.96402791802518,
          -87.96026623313905,
          -88.0212404,
          -87.97235601458442,
          -87.96952842503458,
          -95.9803469,
          null,
          -87.96830743583615,
          null,
          -87.97511150060237,
          -94.37575432323233,
          -111.9718793,
          -90.089304,
          -87.9828652755637,
          -87.98168287051107,
          -87.3329068,
          -87.9798822539169,
          -87.9783363644857,
          -87.98303834391825,
          -94.3712382682087,
          -87.97819305,
          -87.9799207894526,
          -87.99033845049235,
          -87.99052460048352,
          -88.00504572548522,
          -88.01651874941007,
          -88.01530622517781,
          -88.01012228306163,
          null,
          -88.01316580873993,
          -88.02164500450644,
          -88.02163409978047,
          -88.02030384376329,
          -88.02102498337865,
          -88.01960097276441,
          -88.02714815,
          -88.02635282553133,
          -88.02667390580092,
          -88.02722865153802,
          -88.02483835,
          -88.02480544015862,
          -90.03890692718896,
          -90.03825247534643,
          -88.02283868835178,
          -88.02285170442255,
          -88.0343849521141,
          -88.03635500057455,
          -88.02926904658233,
          -88.03101409893318,
          -88.03362466731024,
          -88.0265835112439,
          -88.02601245260126,
          -94.78423045454545,
          -88.0489693,
          -94.78445381818182,
          -88.02035050006393,
          -88.01912362809986,
          -88.02157393410877,
          -88.01914808130715,
          -88.01117021125418,
          -88.00842379997025,
          -88.0108404566467,
          -88.0089954442885,
          -88.00898691949351,
          -88.0127608693592,
          -88.01340187561769,
          -94.76842333555452,
          -88.0158560387409,
          -88.00868905019894,
          -88.01521290379569,
          -88.01396231598434,
          -88.01397502393161,
          -88.0063196370547,
          -88.00505530012005,
          -88.00311241296336,
          -88.00513272452767,
          -88.00581086449205,
          -105.2114249,
          -87.98828600663663,
          -87.99477490681815,
          -87.99593376985642,
          -87.99815047693934,
          -87.99577309849111,
          -87.99164135526874,
          -87.99337726244359,
          -87.99353399020413,
          -87.98342840518183,
          -87.3329068,
          -87.98661693994987,
          -82.71144224977469,
          -82.70812085544591,
          -87.98027514659574,
          -94.3739901,
          -87.98535217439806,
          -111.9531465,
          -87.98706194228596,
          -87.98706194228596,
          -87.97142976429774,
          -96.65853,
          -82.70010753448275,
          -95.987815,
          -94.377963,
          -87.97576640054106,
          -82.6999359671437,
          -111.9795375,
          -96.65853,
          -87.9727862,
          -87.96417130478497,
          -111.9958903,
          -94.38690995918367,
          -111.9958903,
          -87.96481005059225,
          null,
          -87.95888461497552,
          -87.96182827502955,
          -87.96182568272962,
          -112.02347364573524,
          -116.22305750000001,
          -94.39347067346938,
          null,
          -75.16849943833333,
          -87.93891164868134,
          -94.40670504040405,
          null,
          null,
          -87.94515826292715,
          -75.17330443857985,
          -122.3098833,
          -75.17251946266272,
          -87.92942550000001,
          -87.93534261859624,
          -87.93348980650751,
          -87.9290455,
          -87.93021911172727,
          -89.0790461,
          -89.0790461,
          -94.85261842829648,
          -87.92619374841773,
          -90.194789,
          null,
          null,
          -87.90380293060682,
          -93.60919757042234,
          -87.90751208777621,
          -87.8888291129137,
          -87.88878882496508,
          -82.7414651,
          null,
          -97.427946,
          -87.87892346699243,
          -87.88360807739235,
          -87.88020298077933,
          null,
          -74.12893,
          -87.87534932620252,
          -87.87431510083731,
          -3.0326296,
          -87.8755204,
          -77.79108811323644,
          -87.8858687248607,
          -87.88587955,
          -97.427946,
          -78.7893619,
          -87.8931359,
          -91.9133287,
          -97.427946,
          -87.89567954235528,
          -91.138312,
          -87.8895374564882,
          -87.88951997429089,
          -87.2129571,
          -88.1485892,
          -87.9038699897564,
          -87.90510705039495,
          -87.90511285698008,
          -75.3392666,
          -89.2098153,
          -92.684907,
          -87.9155772,
          -97.32611815151515,
          -87.92188917061503,
          -87.964031,
          -87.93284970396004,
          -87.93113484848355,
          -82.4347216,
          -116.21818897959184,
          -116.22197399390495,
          -86.2795204,
          null,
          -90.11312297674418,
          -87.9572228,
          -87.95894957447155,
          -111.9983116,
          -93.777399,
          -98.575641,
          -98.575641,
          -98.575641,
          -87.95768553881865,
          -97.19668647575152,
          -98.2731298,
          -87.97273527568876,
          -90.098251,
          -87.9721652644885,
          -111.9753488,
          -111.9845498,
          -111.9845498,
          -88.383052,
          -111.9845498,
          -87.97150732552993,
          -111.9753488,
          -111.9705493,
          -90.104235,
          -87.98722947475872,
          -87.9856224968629,
          -111.96299458714287,
          -87.3329068,
          -87.98388051513157,
          -87.97927186090293,
          -87.98272678352131,
          -87.98382277005679,
          -87.98582548863061,
          -87.98779987573619,
          -111.9518735,
          -88.01714005,
          -90.08838000144073,
          -75.23811035808916,
          null,
          -75.23211107972972,
          -87.9872570721696,
          -87.98620548273728,
          -87.98619225850197,
          -90.089304,
          -87.9837081,
          -90.09204506331203,
          -122.3333626,
          -87.6365577,
          -88.1654103,
          -87.98228654959269,
          -87.971117613523,
          -78.7314254,
          -87.6365577,
          null,
          null,
          -87.96074131364864,
          null,
          -122.3485563,
          -97.6955054255319,
          -97.69546734042552,
          -97.18247046938775,
          null,
          -97.17965385714285,
          -116.2321899,
          -87.96204133794632,
          -122.3485563,
          -97.18223291836735,
          -87.94855744273211,
          -93.0186561,
          -98.741832,
          -87.93668850454678,
          -78.7314254,
          -87.9354295168553,
          -86.02246174481425,
          -87.9090684736916,
          null,
          -87.91600841983986,
          -75.250462,
          null,
          -87.9160819,
          -83.361261,
          -83.361261,
          null,
          -87.90936298628871,
          null,
          -87.90656832500042,
          -87.6199552,
          -87.6199552,
          -87.6199552,
          null,
          -81.5953544,
          null,
          null,
          -82.1050387,
          -87.90706829973097,
          null,
          null,
          -87.6199552,
          -71.03668162517434,
          null,
          152.4577966,
          null,
          -71.03668162517434,
          -81.5953544,
          -81.5953544,
          null,
          -81.5953544,
          -87.89347629972718,
          null,
          -87.8940411887912,
          -1.5367308,
          -1.5367308,
          null,
          null,
          -74.4811713,
          -74.4811713,
          -87.88139819105629,
          -81.5087027,
          null,
          -75.9034097,
          -87.89746320046852,
          -1.5367308,
          -1.5367308,
          -3.0232822,
          null,
          null,
          null,
          null,
          -102.332456,
          null,
          null,
          null,
          -1.5367308,
          -82.939458,
          null,
          -87.90558820025461,
          -87.90116908070405,
          -87.90060849824258,
          -87.9018861678515,
          -81.754615,
          -81.754615,
          -87.8967714,
          null,
          -87.89996645749403,
          -87.92933912500001,
          -87.92893486559817,
          null,
          -116.218043,
          -86.2042027,
          -87.948686,
          null,
          -87.94860731559373,
          -75.18280465058004,
          -87.95435696844655,
          -89.511526,
          null,
          -87.9256457,
          -96.66737826920979,
          -122.3485563,
          -111.9987751,
          -122.3395034538797,
          -111.9795375,
          -91.14220690941181,
          -94.695164,
          null,
          null,
          -87.98332228171941,
          -87.9844132,
          -87.98360054367927,
          -90.088491,
          -87.9762900070206,
          -87.9693716,
          -87.96943109972793,
          -87.96942846302977,
          -87.9706093,
          -87.9590003,
          -87.95743979981111,
          -87.9509562958435,
          -87.94933026171898,
          -116.21870200000001,
          -87.946641,
          -87.94661510869152,
          -116.22235146938776,
          null,
          -81.0208812,
          -81.0208812,
          null,
          -95.5134933,
          -87.90214715305032,
          null,
          null,
          null,
          null,
          null,
          null,
          null,
          -87.9015102,
          null,
          null,
          -74.2896,
          -87.8726415,
          null,
          null,
          null,
          null,
          null,
          null,
          null,
          -71.108037,
          -71.108037,
          null,
          null,
          null,
          -87.9203767,
          -87.9264403864239,
          -94.6643182,
          -87.9196655,
          -122.35276056620071,
          -87.9506474737446,
          -87.95070988487774,
          -87.95335339369845,
          -85.79812053130149,
          -87.97681755213459,
          -87.97344213676935,
          -87.98628956002588,
          -75.24215228696443,
          -75.24821837714794,
          -75.24636690168842,
          -87.98811164174663,
          -87.99643253320144,
          -90.08719704346368,
          -88.002718775,
          -94.7532131556626,
          -88.00696115,
          -87.99769813149277,
          -87.9995528933723,
          -87.99767145000001,
          -88.00063972549785,
          -95.28767412121212,
          -94.75819877824374,
          -88.02383399996828,
          -89.237307,
          -88.02651225044157,
          -89.237307,
          -88.03045950875506,
          -88.02942778146766,
          -88.02689485514837,
          -88.01013001793089,
          -88.01131774547977,
          -88.01071634985732,
          -88.01302925967195,
          -88.0172076,
          -88.00886419492883,
          -97.1277203,
          -88.0062657,
          -88.00503288328981,
          null,
          -87.98899379259478,
          -87.98775719983746,
          -87.99530909804443,
          -87.99687035646767,
          -87.99524641379948,
          -87.99270300003246,
          -87.99093604985876,
          -87.99160734606495,
          -87.9877530314845,
          -87.98284292515433,
          -87.98695647483888,
          -87.91921162511835,
          null,
          -87.9111149,
          null,
          -73.9519657,
          null,
          -87.91496698597481,
          null,
          null,
          -87.92230503861185,
          -87.92276838512416,
          -88.744505,
          -87.92730761523944,
          -87.92618050234273,
          -94.17348400923467,
          -87.92511854995078,
          -98.21510888184699,
          -75.1724111,
          null,
          -117.7466371,
          -87.93839646249887,
          -87.94114101010416,
          -87.9420003,
          -80.35016517966393,
          -87.94471655538848,
          null,
          -75.18082634182694,
          -75.1787769912281,
          -117.7466371,
          -87.9545693,
          -85.80357935706883,
          -87.95357839996728,
          -90.5259247,
          null,
          null,
          -75.19043692134147,
          -87.9553777423913,
          -104.26303926923077,
          -85.81530273210356,
          -87.96174390255365,
          -88.5686204,
          -88.4631638,
          -87.9607852,
          -87.9611237499579,
          -87.9611421,
          -87.9635637,
          -87.9649177,
          -87.96171604956032,
          null,
          -87.9537246,
          -85.8065459674331,
          null,
          -87.95736402570438,
          null,
          -75.18290570869635,
          -87.9344364,
          null,
          -75.18529181383929,
          -87.94321715,
          -87.94460929183106,
          null,
          -87.92905692500383,
          -87.93005052501535,
          -86.12954749321705,
          -87.92561020026191,
          null,
          -87.92579968272457,
          null,
          -87.91459054987173,
          -82.99414379697325,
          -87.8989243,
          -87.90070307090993,
          -87.90614430494966,
          -87.91757755675368,
          -87.91844351812325,
          -85.775652,
          -75.16259562969461,
          -87.92114039450811,
          null,
          null,
          -87.9322994,
          -87.9323399786838,
          -75.17232839504823,
          -87.93199385206319,
          null,
          -87.93442912411886,
          -83.2819533,
          null,
          -87.93657697260133,
          -87.94004478796924,
          -96.7484573,
          -87.94353281837336,
          -87.94255095745336,
          -87.94043239711733,
          -87.94080739871933,
          -87.94075917102879,
          null,
          -87.94964327316205,
          -87.95567509699887,
          -87.999715,
          -87.99423448747582,
          -87.99540598847702,
          -87.9823321179647,
          -80.2621271,
          -87.95035360512912,
          -87.9570065276099,
          null,
          -75.180339802,
          -75.1728094,
          -87.93160892341557,
          -75.17497599567308,
          -87.9378359482243,
          -87.93478434594357,
          -87.9332005,
          -87.93276104611455,
          -87.927070501786,
          -87.92705904416637,
          -87.92153382645759,
          -87.92473323119202,
          null,
          -75.15581001631693,
          -87.91768535,
          null,
          -87.90215454290635,
          -87.90067263965258,
          -87.8984086951487,
          -87.89900659936242,
          -73.361974,
          -6.2397617,
          null,
          -87.87834025000001,
          -87.88546675578598,
          -87.88421255330287,
          -87.8840679647517,
          -87.8814436,
          -87.88296106313518,
          -87.89168402481971,
          -87.89452037044228,
          -87.9054541758513,
          -87.90722287514383,
          -87.90793809806809,
          -74.550246,
          -74.55007314285714,
          -87.92284228195811,
          -75.16763121759001,
          -87.92368794999999,
          -87.92055347458833,
          null,
          -87.92413207805672,
          -87.9334059,
          -97.184826,
          -87.95464612502846,
          -87.96081097547554,
          -95.970879,
          -87.9626837991288,
          -87.9646624989305,
          -87.97676545054645,
          -87.97738714410198,
          -87.97507185020746,
          -87.96933564864865,
          -87.970697,
          -87.97132138847061,
          -87.96942046708332,
          -87.98536648686795,
          -87.98063957394822,
          -87.97983970862664,
          -87.98430321477548,
          -87.98432254475264,
          -87.9858851719014,
          -82.389116,
          -87.99143737599456,
          -87.98969862066369,
          -87.99670669243359,
          -87.9590822,
          -87.9961179485889,
          -87.9978550544284,
          -87.9590822,
          -88.03391775,
          -88.03391775,
          -88.03391152532436,
          -105.1068295631068,
          -87.9726265,
          -88.0272359,
          -88.02801195071127,
          -88.0186199,
          -88.01913747523147,
          -88.02203337109796,
          -88.02220068823645,
          -88.02582076779879,
          -88.00105009797079,
          -88.00233522443429,
          -87.98962522475165,
          -87.99304295358382,
          -87.99369497812623,
          -87.99375840445438,
          -87.9894072256954,
          -87.9927090361344,
          -87.98371687674913,
          -87.98208997861587,
          -75.217674,
          -75.217674,
          -87.97618917543289,
          -87.9683057117113,
          -87.96145309252651,
          -87.9567351,
          -87.95620652169389,
          -87.9578233197291,
          -87.9535671,
          -87.95338090130046,
          -87.94606152891114,
          -87.94668686967947,
          -87.94723267479051,
          -87.93896128982237,
          -87.93423790048331,
          null,
          -87.93520230048367,
          null,
          -87.93086769634769,
          -87.93648252580307,
          null,
          -87.92134858666807,
          null,
          null,
          -87.92858820000001,
          null,
          null,
          -87.92258198823788,
          -87.92733834006359,
          null,
          null,
          -87.9201491742759,
          -87.90145739218312,
          -87.90441270449173,
          -87.90200252485903,
          -87.90594502486798,
          -87.90589701722999,
          -87.89907555371823,
          -93.57868976734508,
          -87.8808292543206,
          -87.87662595,
          -87.87685339150552,
          -87.8756315,
          -87.87580525495483,
          -87.8779911991692,
          -87.88856810313371,
          -87.88856810313371,
          -87.89679939999999,
          -87.89218616663285,
          -87.89850677751667,
          -87.89728947510417,
          -87.89801028067433,
          -87.8942769,
          -87.9060502980765,
          -87.90651590253901,
          -87.90429375374225,
          -87.90700541080537,
          -87.9014727,
          -87.90548415,
          -87.90541914126919,
          null,
          -87.90990719950003,
          -87.92620619994057,
          null,
          null,
          -87.93779369907034,
          -87.93784479320236,
          -87.93495576204407,
          -87.9378670879519,
          -87.9383543250774,
          -87.94256012670267,
          -87.9453127,
          null,
          -87.94204746051884,
          null,
          -87.98276213086109,
          -87.97908477540139,
          -87.98633780670593,
          -87.98517005227416,
          null,
          -87.98757122262529,
          -87.99675098865231,
          -87.99429738844637,
          -88.00302794865802,
          -88.0103173,
          -88.00892345,
          -88.01405620025288,
          -88.011880424547,
          -88.01807400720068,
          -88.0224134356609,
          -88.02917202370611,
          -88.013927399709,
          -87.9742792,
          -88.00296981424323,
          -87.97974945,
          null,
          -87.97784679799386,
          -87.94519906372669,
          -87.94287009908265,
          -87.945971,
          -87.93295126812501,
          -87.91182997357815,
          -87.91231743304951,
          -87.91176485,
          -87.91721321672239,
          -87.91481502580055,
          -87.91545739850868,
          -87.91784458877041,
          -87.91839247608755,
          -87.91788365298669,
          -87.90590095650924,
          -87.89993432439832,
          -87.89060215,
          -87.89738102468475,
          -87.8986958776163,
          -87.90003597705297,
          -87.90244734996698,
          -87.90316622440398,
          -87.90443650401691,
          -87.90817054951043,
          -87.90066862474144,
          -83.44260934459459,
          -87.93117392434571,
          -87.9313244,
          -95.9332549,
          -87.94204456234334,
          -87.9415882798013,
          -87.94274041337837,
          -87.9448755997216,
          null,
          -87.94297000019573,
          -87.9302435098248,
          -87.93132849222351,
          -96.7020516,
          -87.93173155,
          -85.775652,
          -87.92216120206263,
          null,
          -87.93824014277551,
          -87.93240298205976,
          null,
          null,
          -87.93303158370426,
          -87.93119727558548,
          -87.940075056999,
          -87.94304067057145,
          -87.96357469728423,
          -87.96061002557931,
          -87.9575556484273,
          -87.95675524847773,
          -87.95735135000001,
          -87.95498661096858,
          -87.94012910312034,
          -87.94795865,
          -87.94651656614394,
          null,
          -87.94809489817382,
          -73.3701602,
          -87.94550211160472,
          -87.9385884892877,
          -87.91273852533597,
          -87.93775084104749,
          -87.94250085423607,
          -87.94191141437474,
          -87.94318708906272,
          -87.94421093566157
         ],
         "marker": {
          "color": [
           500000,
           250000,
           120000,
           124000,
           305000,
           60000,
           35000,
           59500,
           80000,
           60000,
           27500,
           75500,
           62000,
           40000,
           250000,
           45400,
           77000,
           450000,
           1000000,
           60000,
           98000,
           115000,
           70000,
           110000,
           75000,
           241500,
           333000,
           129900,
           312000,
           225000,
           172000,
           169900,
           319900,
           365000,
           202000,
           251000,
           295000,
           144350,
           168000,
           102000,
           420000,
           1000000,
           99900,
           80900,
           99000,
           87000,
           88000,
           90000,
           90000,
           45500,
           57000,
           50000,
           65000,
           220000,
           175500,
           280000,
           195000,
           278000,
           257400,
           205000,
           212000,
           340000,
           188000,
           340000,
           250000,
           210000,
           196000,
           412500,
           465000,
           405000,
           332000,
           330000,
           275000,
           220000,
           250000,
           256000,
           180000,
           189000,
           190000,
           245000,
           210000,
           120000,
           281500,
           177500,
           193000,
           410000,
           226000,
           191000,
           265000,
           222650,
           315000,
           104900,
           84500,
           239900,
           229000,
           222000,
           147500,
           305000,
           175000,
           215000,
           265000,
           195000,
           210000,
           229900,
           235000,
           169900,
           195000,
           195000,
           226000,
           199900,
           225000,
           515000,
           345000,
           100000,
           73000,
           205000,
           210000,
           210000,
           210000,
           111200,
           154000,
           130000,
           169900,
           135000,
           115500,
           80000,
           82000,
           179000,
           281500,
           175000,
           310000,
           237000,
           184200,
           180000,
           86000,
           192000,
           210000,
           162500,
           115000,
           121000,
           158000,
           62500,
           165000,
           127000,
           163000,
           135000,
           169900,
           72000,
           135000,
           145900,
           175000,
           120000,
           185000,
           120000,
           83000,
           195000,
           190000,
           255900,
           150000,
           162500,
           172000,
           96000,
           183000,
           140000,
           192000,
           188400,
           189900,
           240500,
           315000,
           255000,
           286000,
           5650000,
           250000,
           60000,
           55000,
           50150,
           294000,
           179000,
           235600,
           308000,
           190000,
           160000,
           286000,
           250000,
           155000,
           115000,
           178000,
           189000,
           40000,
           133000,
           110000,
           200000,
           200000,
           190000,
           125000,
           135000,
           97000,
           400000,
           65000,
           155000,
           170000,
           160000,
           245000,
           135000,
           250000,
           150000,
           160000,
           160000,
           205000,
           125000,
           208000,
           74000,
           182000,
           137000,
           159900,
           90000,
           95000,
           135000,
           85000,
           210000,
           105000,
           241000,
           171500,
           200000,
           243000,
           98000,
           130000,
           110000,
           155000,
           150000,
           265000,
           207000,
           275000,
           33000,
           142000,
           162000,
           77000,
           83000,
           140000,
           149900,
           165000,
           174900,
           150000,
           75000,
           84900,
           120000,
           72000,
           160000,
           130000,
           58000,
           130000,
           92500,
           239900,
           128900,
           153000,
           125000,
           77500,
           205000,
           117500,
           98900,
           108800,
           120000,
           142500,
           123000,
           187000,
           210000,
           180000,
           150000,
           205000,
           136500,
           170000,
           180000,
           167200,
           155000,
           217500,
           320000,
           197000,
           90000,
           165000,
           190000,
           269200,
           110000,
           188000,
           221000,
           240000,
           153000,
           205000,
           205000,
           225000,
           265000,
           179900,
           235000,
           165000,
           195000,
           228500,
           155000,
           256500,
           155000,
           162500,
           243000,
           250000,
           210000,
           149900,
           194400,
           2800000,
           220000,
           220000,
           185000,
           224900,
           172000,
           190000,
           195000,
           229000,
           230000,
           245000,
           117000,
           225000,
           269900,
           140000,
           135000,
           220000,
           202000,
           190000,
           105000,
           105000,
           225000,
           132500,
           125000,
           195000,
           140000,
           105000,
           150000,
           166500,
           400000,
           125000,
           76000,
           140000,
           161000,
           75000,
           158000,
           185000,
           130000,
           90000,
           210000,
           105000,
           207500,
           90000,
           182000,
           66900,
           197000,
           65000,
           131500,
           115000,
           78000,
           175000,
           206000,
           190000,
           85000,
           70000,
           135000,
           40000,
           112000,
           97000,
           169000,
           95000,
           197000,
           185000,
           140000,
           105000,
           124900,
           215000,
           97000,
           245000,
           210000,
           153000,
           190000,
           225000,
           227000,
           90000,
           130000,
           73000,
           79900,
           235000,
           129900,
           82500,
           229900,
           136000,
           300000,
           145000,
           98000,
           143900,
           205000,
           178000,
           119000,
           86000,
           225000,
           120000,
           170000,
           170000,
           69000,
           97900,
           198000,
           117000,
           107500,
           83000,
           105000,
           126900,
           82500,
           109000,
           630000,
           171250,
           218000,
           267000,
           111000,
           145000,
           155000,
           150000,
           165000,
           165500,
           165000,
           1110000,
           200000,
           258000,
           228000,
           284900,
           223000,
           275000,
           125000,
           180000,
           180000,
           180000,
           180000,
           130000,
           346000,
           222500,
           69000,
           127000,
           108800,
           115000,
           124500,
           248000,
           191000,
           320000,
           235000,
           235000,
           240000,
           230000,
           260000,
           263000,
           300000,
           251600,
           250000,
           196000,
           220000,
           218500,
           91300,
           85500,
           87500,
           72000,
           76500,
           70000,
           103000,
           117500,
           200000,
           220000,
           260000,
           179000,
           216500,
           200000,
           199900,
           187000,
           235000,
           330000,
           216000,
           286000,
           117000,
           190000,
           151900,
           168000,
           130000,
           185000,
           172600,
           415000,
           219900,
           235000,
           242000,
           169000,
           175000,
           183000,
           195600,
           203000,
           230000,
           116000,
           269900,
           192747,
           95000,
           131500,
           179900,
           115000,
           124000,
           129900,
           72000,
           135000,
           75000,
           79000,
           158300,
           150000,
           41900,
           115000,
           47800,
           130000,
           50000,
           90000,
           50500,
           170900,
           90000,
           61000,
           67500,
           70000,
           53000,
           58507,
           202000,
           98000,
           80000,
           75000,
           225570,
           125000,
           110000,
           97900,
           75000,
           60000,
           268000,
           170000,
           537500,
           1300000,
           576300,
           785000,
           850000,
           370000,
           375000,
           601000,
           267000,
           305000,
           259900,
           123000,
           308000,
           375000,
           150000,
           305000,
           370000,
           120000,
           330000,
           255100,
           150000,
           210000,
           230000,
           209900,
           101000,
           175000,
           199400,
           134000,
           203600,
           138000,
           90000,
           31000,
           129900,
           53000,
           67500,
           73000,
           185000,
           60000,
           54000,
           170000,
           52250,
           82000,
           70000,
           67000,
           27000,
           70000,
           35000,
           48000,
           40500,
           199900,
           75000,
           90000,
           72500,
           115000,
           60000,
           107000,
           93000,
           88000,
           72000,
           60000,
           100000,
           210000,
           127000,
           145000,
           170000,
           220000,
           195000,
           95000,
           189900,
           175000,
           247500,
           215000,
           185000,
           233500,
           300000,
           265000,
           255000,
           107000,
           315000,
           215000,
           195000,
           239900,
           156000,
           245000,
           250000,
           170000,
           167800,
           157000,
           175000,
           257000,
           245000,
           228700,
           225000,
           270000,
           297500,
           147500,
           235000,
           194000,
           220000,
           250000,
           242000,
           245000,
           300000,
           234900,
           263870,
           289000,
           232500,
           193000,
           267000,
           240000,
           278900,
           215000,
           415000,
           300000,
           212000,
           235000,
           270000,
           310000,
           334900,
           282500,
           265000,
           300000,
           265000,
           325000,
           261000,
           235000,
           317000,
           290000,
           268000,
           18000,
           270000,
           259000,
           332000,
           212500,
           255000,
           255000,
           235000,
           210000,
           235000,
           220000,
           138000,
           237000,
           310000,
           321200,
           355000,
           190000,
           233000,
           320000,
           270000,
           130000,
           235000,
           100000,
           119900,
           184500,
           85000,
           140000,
           135900,
           182000,
           102200,
           119630,
           199000,
           131000,
           143000,
           174000,
           210000,
           121326,
           170000,
           152500,
           130000,
           192000,
           88000,
           75500,
           102200,
           95000,
           111200,
           293500,
           115000,
           180000,
           200000,
           33500,
           40000,
           48000,
           1619500,
           76500,
           50000,
           11800,
           109000,
           106600,
           56500,
           65900,
           125000,
           23000,
           88600,
           142000,
           130000,
           60000,
           164900,
           177000,
           85000,
           176000,
           60000,
           140700,
           60500,
           92000,
           269000,
           230000,
           81000,
           360000,
           430000,
           243500,
           240000,
           316600,
           480000,
           525000,
           491000,
           329000,
           415000,
           595000,
           915000,
           700000,
           152500,
           449900,
           500000,
           499000,
           360000,
           305000,
           580000,
           385000,
           404000,
           275000,
           380000,
           238300,
           236000,
           625000,
           471000,
           310000,
           175000,
           102000,
           220000,
           313000,
           251000,
           215000,
           35000,
           34000,
           106000,
           78000,
           45500,
           59500,
           10000,
           115000,
           56000,
           43000,
           140000,
           65000,
           58262,
           95000,
           90000,
           77000,
           137500,
           127000,
           110000,
           159000,
           115000,
           137000,
           185000,
           143000,
           145000,
           170000,
           99900,
           112500,
           100000,
           185000,
           129900,
           120000,
           90000,
           330000,
           70000,
           275000,
           285000,
           250000,
           305000,
           115000,
           118000,
           80000,
           232500,
           265000,
           365000,
           261000,
           210000,
           234900,
           230000,
           255000,
           208800,
           310000,
           285000,
           300800,
           331000,
           253000,
           330000,
           260000,
           275000,
           160000,
           235000,
           620000,
           250000,
           349000,
           22100,
           147500,
           142500,
           122500,
           80000,
           67000,
           152500,
           160000,
           62500,
           150000,
           114900,
           170000,
           165000,
           99000,
           65000,
           135000,
           132500,
           165000,
           242500,
           455000,
           330000,
           225000,
           245500,
           250000,
           630000,
           254900,
           270000,
           231750,
           612000,
           405000,
           145000,
           430000,
           375000,
           285000,
           400000,
           426000,
           298000,
           280000,
           330000,
           332500,
           362500,
           380000,
           350000,
           152900,
           150000,
           145000,
           199900,
           254900,
           335000,
           340000,
           340000,
           315000,
           252000,
           600000,
           467500,
           180000,
           295000,
           475000,
           340000,
           125000,
           174000,
           1600000,
           329900,
           300000,
           343000,
           260000,
           175000,
           335000,
           330000,
           610000,
           1530000,
           1600000,
           1400000,
           270000,
           252900,
           365500,
           367500,
           431000,
           410000,
           525000,
           520000,
           530000,
           315000,
           430000,
           325000,
           340000,
           156000,
           135000,
           575000,
           46000,
           170000,
           1800000,
           189000,
           118000,
           165000,
           83600,
           170000,
           69000,
           85000,
           42500,
           140000,
           194900,
           35000,
           81000,
           125000,
           92000,
           254000,
           315000,
           280000,
           280000,
           309000,
           200000,
           223500,
           350000,
           284900,
           345000,
           475000,
           220000,
           220000,
           239000,
           150000,
           425000,
           151000,
           205000,
           328570,
           1650000,
           1650000,
           183000,
           2850000,
           190500,
           111000,
           213000,
           785000,
           490000,
           235000,
           1515000,
           535000,
           306100,
           350000,
           380000,
           400000,
           495000,
           314000,
           465000,
           244900,
           260000,
           2500000,
           596000,
           203000,
           187500,
           211000,
           267000,
           265000,
           260000,
           249900,
           407000,
           900000,
           945000,
           950000,
           1075000,
           225000,
           194000,
           105000,
           110000,
           62000,
           364400,
           193500,
           290000,
           499900,
           225000,
           220000,
           254000,
           244000,
           151000,
           270000,
           245010,
           290000,
           277000,
           105000,
           305000,
           144000,
           229900,
           155000,
           240000,
           250000,
           247000,
           338000,
           244000,
           320000,
           435551,
           305000,
           285000,
           200000,
           220000,
           322000,
           285000,
           351000,
           219900,
           300000,
           279900,
           309000,
           255000,
           260500,
           215000,
           275000,
           220000,
           210000,
           174000,
           169000,
           164900,
           165000,
           221000,
           230000,
           388000,
           360000,
           703000,
           290000,
           1025000,
           185000,
           335000,
           120000,
           249000,
           205000,
           160000,
           143400,
           167500,
           160000,
           148000,
           90000,
           144000,
           164000,
           92750,
           2200000,
           235000,
           150000,
           175000,
           145000,
           145000,
           165000,
           13000,
           267000,
           140000,
           120000,
           210000,
           174900,
           200000,
           222000,
           235000,
           160000,
           208430,
           245000,
           225000,
           160000,
           202000,
           177500,
           205000,
           170000,
           265000,
           250000,
           230000,
           190000,
           115000,
           265000,
           180000,
           185000,
           185000,
           135000,
           105000,
           75000,
           135000,
           218000,
           179500,
           136000,
           239900,
           145000,
           1075000,
           77500,
           150000,
           185000,
           119900,
           81000,
           80000,
           240000,
           902000,
           312000,
           157000,
           78000,
           147500,
           151000,
           140000,
           140000,
           155500,
           210000,
           140000,
           136000,
           93000,
           165000,
           154000,
           152500,
           162000,
           169000,
           147000,
           176000,
           93000,
           120000,
           135000,
           235000,
           130000,
           186500,
           185000,
           180000,
           265000,
           271000,
           195000,
           242500,
           382000,
           87000,
           191000,
           220000,
           190000,
           170000,
           176000,
           118000,
           162000,
           190000,
           163000,
           237500,
           183500,
           180000,
           185000,
           160000,
           264900,
           165000,
           97900,
           144900,
           220000,
           500000,
           250000,
           332000,
           163000,
           206000,
           180000,
           500000,
           451325,
           477909,
           334800,
           257500,
           294700,
           409000,
           330000,
           345000,
           277000,
           380000,
           263000,
           320000,
           305000,
           205000,
           130000,
           243500,
           150000,
           235000,
           245000,
           150000,
           275000,
           245000,
           255000,
           325000,
           289900,
           235000,
           150000,
           200000,
           277000,
           364000,
           252500,
           250000,
           300000,
           265000,
           225000,
           246000,
           252000,
           240000,
           237000,
           315000,
           260000,
           202000,
           250000,
           265000,
           285000,
           260000,
           235000,
           244000,
           320000,
           258600,
           65000,
           144900,
           170000,
           220000,
           290000,
           300300,
           310000,
           304000,
           325000,
           280000,
           259300,
           366000,
           300000,
           262000,
           199000,
           172900,
           210000,
           248000,
           295000,
           150000,
           130000,
           220000,
           250000,
           210000,
           330000,
           250000,
           295000,
           375000,
           319000,
           205000,
           300000,
           220000,
           190500,
           325000,
           299000,
           225000,
           325000,
           229000,
           290000,
           195000,
           152000,
           246000,
           350000,
           270000,
           209900,
           269000,
           250000,
           235000,
           241500,
           305000,
           215000,
           250000,
           165000,
           291000,
           280000,
           375000,
           395000,
           252500,
           335000,
           224000,
           335000,
           286000,
           560000,
           392500,
           295000,
           400000,
           330000,
           255000,
           285000,
           403500,
           242000,
           610000,
           399990,
           252000,
           260000,
           287000,
           190000,
           250000,
           244400,
           340000,
           415000,
           245000,
           215000,
           250000,
           254900,
           242000,
           154000,
           236000,
           185000,
           195000,
           190000,
           180000,
           265000,
           319500,
           161700,
           210000,
           263000,
           215000,
           285000,
           252500,
           228000,
           202000,
           250000,
           240000,
           321500,
           350000,
           303000,
           300000,
           155000,
           317000,
           249900,
           325000,
           346000,
           275000,
           230000,
           200000,
           265000,
           204000,
           260000,
           160000,
           255000,
           260000,
           220000,
           249900,
           230000,
           230000,
           215000,
           174000,
           191000,
           275000,
           350000,
           248000,
           239900,
           242450,
           185000,
           230000,
           197500,
           337000,
           207000,
           325000,
           235000,
           255000,
           223000,
           285000,
           269000,
           303000,
           280000,
           275000,
           229000,
           232000,
           320000,
           245000,
           285000,
           238000,
           650000,
           183500,
           295000,
           402000,
           350000,
           160000,
           168000,
           335000,
           325000,
           340000,
           369000,
           260000,
           310000,
           316000,
           270000,
           290000,
           250000,
           317000,
           315000,
           330000,
           410000,
           182000,
           160000,
           340000,
           335000,
           305000,
           328000,
           336000,
           205000,
           267000,
           125000
          ],
          "coloraxis": "coloraxis",
          "opacity": [
           0.9896193771626297,
           0.9812160158180919,
           0.9752842313395946,
           0.9752842313395946,
           0.9777558082056352,
           0.9787444389520514,
           0.9738012852199703,
           0.9738012852199703,
           0.9738012852199703,
           0.9738012852199703,
           0.9738012852199703,
           0.9738012852199703,
           0.9738012852199703,
           0.9738012852199703,
           0.9782501235788433,
           0,
           0.9782501235788433,
           0.9911023232822541,
           0.9540286702916461,
           0.9757785467128027,
           0.9757785467128027,
           0.9757785467128027,
           0.9757785467128027,
           0.9777558082056352,
           0.9752842313395946,
           0.9530400395452299,
           0.9658922392486406,
           0.9757785467128027,
           0.986159169550173,
           0.9787444389520514,
           0.9797330696984676,
           0.9817103311913,
           0.9733069698467622,
           0.9718240237271379,
           0.9767671774592189,
           0.9767671774592189,
           0.9668808699950568,
           0.9881364310430054,
           0.9881364310430054,
           0.9881364310430054,
           0.9925852694018784,
           0.9836875926841325,
           0.9738012852199703,
           0.9738012852199703,
           0.9738012852199703,
           0.9738012852199703,
           0.9738012852199703,
           0.9738012852199703,
           0.972318339100346,
           0.9747899159663865,
           0.9747899159663865,
           0.9747899159663865,
           0.9747899159663865,
           0.967869500741473,
           0.9688581314878892,
           0.967375185368265,
           0.967869500741473,
           0.967375185368265,
           0.967375185368265,
           0.9658922392486406,
           0.9797330696984676,
           0.9802273850716757,
           0.9574888779041029,
           0.9663865546218487,
           0.967375185368265,
           0.967375185368265,
           0.9683638161146811,
           0.962926347009392,
           0,
           0.9767671774592189,
           0.9703410776075136,
           0.9708353929807217,
           0.9728126544735541,
           0.9742956005931784,
           0.9772614928324271,
           0.9762728620860108,
           0.9713297083539298,
           0.9713297083539298,
           0.9708353929807217,
           0.9693524468610973,
           0.9540286702916461,
           0.9649036085022245,
           0.9560059317844785,
           0.9688581314878892,
           0.9688581314878892,
           0.9574888779041029,
           0.9718240237271379,
           0.9703410776075136,
           0.9698467622343054,
           0.972318339100346,
           0.9565002471576866,
           0.9574888779041029,
           0.9589718240237272,
           0.9733069698467622,
           0.9733069698467622,
           0.9688581314878892,
           0.9688581314878892,
           0.9668808699950568,
           0.967869500741473,
           0.967375185368265,
           0.967375185368265,
           0.9683638161146811,
           0.967869500741473,
           0.967375185368265,
           0.967375185368265,
           0.967375185368265,
           0.9683638161146811,
           0.9668808699950568,
           0.967869500741473,
           0.967869500741473,
           0.967869500741473,
           0.9896193771626297,
           0.9342560553633218,
           0.9747899159663865,
           0.9747899159663865,
           0.9797330696984676,
           0.9787444389520514,
           0.9797330696984676,
           0.9807217004448838,
           0.9742956005931784,
           0.9742956005931784,
           0.9742956005931784,
           0.9742956005931784,
           0.9742956005931784,
           0.9742956005931784,
           0.9742956005931784,
           0.9742956005931784,
           0.9742956005931784,
           0.9738012852199703,
           0.9742956005931784,
           0.9747899159663865,
           0.9683638161146811,
           0.9693524468610973,
           0.967375185368265,
           0.9653979238754326,
           0.9649036085022245,
           0.9663865546218487,
           0.9555116164112704,
           0.9649036085022245,
           0.9688581314878892,
           0.9520514087988137,
           0.9391992090954029,
           0.9574888779041029,
           0.9688581314878892,
           0.962926347009392,
           0.9634206623826,
           0.9649036085022245,
           0.9644092931290164,
           0.9649036085022245,
           0.967375185368265,
           0.9698467622343054,
           0.9663865546218487,
           0.9663865546218487,
           0.9658922392486406,
           0.9663865546218487,
           0.9545229856648542,
           0.9663865546218487,
           0.9703410776075136,
           0.9658922392486406,
           0.967869500741473,
           0.9663865546218487,
           0.9663865546218487,
           0.9703410776075136,
           0.9683638161146811,
           0.9728126544735541,
           0.9747899159663865,
           0.957983193277311,
           0.9688581314878892,
           0.9703410776075136,
           0.9708353929807217,
           0.9787444389520514,
           0.9817103311913,
           0.9728126544735541,
           0.9747899159663865,
           0.9747899159663865,
           0.9747899159663865,
           0.9708353929807217,
           0.9649036085022245,
           0.9668808699950568,
           0.9663865546218487,
           0.9668808699950568,
           0.967375185368265,
           0.9668808699950568,
           0.9668808699950568,
           0.967375185368265,
           0.967869500741473,
           0.9668808699950568,
           0.967375185368265,
           0.9742956005931784,
           0.9663865546218487,
           0.9663865546218487,
           0.9663865546218487,
           0.9663865546218487,
           0.9663865546218487,
           0.9663865546218487,
           0.9639149777558083,
           0.9663865546218487,
           0.9683638161146811,
           0.9653979238754326,
           0.9668808699950568,
           0.9663865546218487,
           0.9644092931290164,
           0.9644092931290164,
           0.9649036085022245,
           0.9634206623826,
           0.9644092931290164,
           0.9653979238754326,
           0.9658922392486406,
           0.9589718240237272,
           0.9639149777558083,
           0.9644092931290164,
           0.9589718240237272,
           0.9525457241720218,
           0.9391992090954029,
           0.9639149777558083,
           0.9530400395452299,
           0.9530400395452299,
           0.9728126544735541,
           0.9515570934256056,
           0.9594661393969353,
           0.9644092931290164,
           0.9663865546218487,
           0.9663865546218487,
           0.9658922392486406,
           0.9644092931290164,
           0.9634206623826,
           0.949085516559565,
           0.9658922392486406,
           0.9658922392486406,
           0.967375185368265,
           0.9782501235788433,
           0.9510627780523975,
           0.9634206623826,
           0.9510627780523975,
           0.9653979238754326,
           0.9525457241720218,
           0.9510627780523975,
           0.9644092931290164,
           0.9594661393969353,
           0.9594661393969353,
           0.9545229856648542,
           0.9644092931290164,
           0.9530400395452299,
           0.9644092931290164,
           0.9644092931290164,
           0.9525457241720218,
           0.9658922392486406,
           0.9530400395452299,
           0.9649036085022245,
           0.9530400395452299,
           0.9505684626791894,
           0.9416707859614434,
           0.9584775086505191,
           0.9644092931290164,
           0.9505684626791894,
           0.9653979238754326,
           0.9530400395452299,
           0.9624320316361838,
           0.9520514087988137,
           0.9653979238754326,
           0.9653979238754326,
           0.9525457241720218,
           0.9663865546218487,
           0.9649036085022245,
           0.9653979238754326,
           0.9649036085022245,
           0.9649036085022245,
           0.9644092931290164,
           0.9653979238754326,
           0.9653979238754326,
           0.967375185368265,
           0.967869500741473,
           0.9599604547701434,
           0.9658922392486406,
           0.9594661393969353,
           0.9634206623826,
           0.957983193277311,
           0.9688581314878892,
           0.9663865546218487,
           0.9663865546218487,
           0.967375185368265,
           0.967375185368265,
           0.9693524468610973,
           0.9738012852199703,
           0.9653979238754326,
           0.967869500741473,
           0.9708353929807217,
           0.967869500741473,
           0.9693524468610973,
           0.9693524468610973,
           0.9708353929807217,
           0.967375185368265,
           0.9688581314878892,
           0.967375185368265,
           0.967375185368265,
           0.967375185368265,
           0.9693524468610973,
           0.967869500741473,
           0.9653979238754326,
           0.967869500741473,
           0.9713297083539298,
           0.9683638161146811,
           0.9653979238754326,
           0.967375185368265,
           0.9945625308947108,
           0.9683638161146811,
           0.9683638161146811,
           0.9683638161146811,
           0.967869500741473,
           0.9698467622343054,
           0.9668808699950568,
           0.9658922392486406,
           0.967869500741473,
           0.9663865546218487,
           0.967375185368265,
           0.9634206623826,
           0.967869500741473,
           0.9515570934256056,
           0.9658922392486406,
           0.9653979238754326,
           0.9663865546218487,
           0.9649036085022245,
           0.967375185368265,
           0.9649036085022245,
           0.9649036085022245,
           0.9649036085022245,
           0.9545229856648542,
           0.9733069698467622,
           0.9713297083539298,
           0.9530400395452299,
           0.9584775086505191,
           0.9540286702916461,
           0.9584775086505191,
           0.9733069698467622,
           0.9668808699950568,
           0.9653979238754326,
           0.9589718240237272,
           0.9594661393969353,
           0.9639149777558083,
           0.9644092931290164,
           0.9649036085022245,
           0.9530400395452299,
           0.9624320316361838,
           0.9525457241720218,
           0.9461196243203164,
           0.9530400395452299,
           0.9634206623826,
           0.9644092931290164,
           0.949085516559565,
           0.9540286702916461,
           0.9451309935739002,
           0.9451309935739002,
           0.9649036085022245,
           0.962926347009392,
           0.9619377162629758,
           0.9614434008897677,
           0.9525457241720218,
           0.9545229856648542,
           0.9421651013346515,
           0.9530400395452299,
           0.9510627780523975,
           0.9594661393969353,
           0.9520514087988137,
           0.9594661393969353,
           0.9634206623826,
           0.9382105783489867,
           0.9520514087988137,
           0.9515570934256056,
           0.9653979238754326,
           0.9342560553633218,
           0.953534354918438,
           0.9515570934256056,
           0.9525457241720218,
           0.9530400395452299,
           0.9530400395452299,
           0.9569945625308948,
           0.9525457241720218,
           0.9540286702916461,
           0.949085516559565,
           0.9510627780523975,
           0.9525457241720218,
           0.9520514087988137,
           0.9649036085022245,
           0.9614434008897677,
           0.9530400395452299,
           0.9614434008897677,
           0.9530400395452299,
           0.9703410776075136,
           0.9599604547701434,
           0.9604547701433515,
           0.9624320316361838,
           0.9619377162629758,
           0.9619377162629758,
           0.962926347009392,
           0.9639149777558083,
           0.9639149777558083,
           0.9639149777558083,
           0.9505684626791894,
           0.9505684626791894,
           0.9525457241720218,
           0.9614434008897677,
           0.9614434008897677,
           0.9584775086505191,
           0.962926347009392,
           0.9619377162629758,
           0.9589718240237272,
           0.9589718240237272,
           0.9594661393969353,
           0.962926347009392,
           0.9668808699950568,
           0.9634206623826,
           0.9634206623826,
           0.967869500741473,
           0.967869500741473,
           0.9599604547701434,
           0.9668808699950568,
           0.9663865546218487,
           0.9668808699950568,
           0.967375185368265,
           0.9668808699950568,
           0.9891250617894216,
           0.9663865546218487,
           0.9668808699950568,
           0.967869500741473,
           0.9663865546218487,
           0.967375185368265,
           0.9668808699950568,
           0.9589718240237272,
           0.967375185368265,
           0.967375185368265,
           0.967869500741473,
           0.967375185368265,
           0.9624320316361838,
           0.9693524468610973,
           0.967375185368265,
           0.9762728620860108,
           0.9762728620860108,
           0.9762728620860108,
           0.9762728620860108,
           0.9762728620860108,
           0.9653979238754326,
           0.9668808699950568,
           0.9634206623826,
           0.9653979238754326,
           0.9668808699950568,
           0.9658922392486406,
           0.9668808699950568,
           0.9653979238754326,
           0.9649036085022245,
           0.9653979238754326,
           0.9663865546218487,
           0.962926347009392,
           0.9658922392486406,
           0.9663865546218487,
           0.9634206623826,
           0.9757785467128027,
           0.9757785467128027,
           0.9757785467128027,
           0.9757785467128027,
           0.9757785467128027,
           0.9757785467128027,
           0.9757785467128027,
           0.9757785467128027,
           0.9658922392486406,
           0.9658922392486406,
           0.9663865546218487,
           0.9658922392486406,
           0.9663865546218487,
           0.9663865546218487,
           0.9658922392486406,
           0.9649036085022245,
           0.9639149777558083,
           0.9545229856648542,
           0.9658922392486406,
           0.9594661393969353,
           0.9658922392486406,
           0.967375185368265,
           0.9653979238754326,
           0.9649036085022245,
           0.9649036085022245,
           0.9649036085022245,
           0.9649036085022245,
           0.9668808699950568,
           0.9649036085022245,
           0.9619377162629758,
           0.9624320316361838,
           0.9614434008897677,
           0.9624320316361838,
           0.9604547701433515,
           0.9634206623826,
           0.9574888779041029,
           0.9565002471576866,
           0.9634206623826,
           0.9649036085022245,
           0.9545229856648542,
           0.9639149777558083,
           0.9569945625308948,
           0.9505684626791894,
           0.962926347009392,
           0.9634206623826,
           0.962926347009392,
           0.9624320316361838,
           0.9604547701433515,
           0.9574888779041029,
           0.9634206623826,
           0.9609490855165596,
           0.9589718240237272,
           0.9500741473059812,
           0.9510627780523975,
           0.9525457241720218,
           0.9505684626791894,
           0.9510627780523975,
           0.9466139396935245,
           0.9510627780523975,
           0.9510627780523975,
           0.9510627780523975,
           0.9510627780523975,
           0.9500741473059812,
           0.9480968858131488,
           0.949085516559565,
           0.9495798319327731,
           0.9525457241720218,
           0.9505684626791894,
           0.9515570934256056,
           0.9485912011863569,
           0.9505684626791894,
           0.9461196243203164,
           0.944142362827484,
           0.9510627780523975,
           0.9520514087988137,
           0.9515570934256056,
           0.9515570934256056,
           0.9520514087988137,
           0.953534354918438,
           0.9500741473059812,
           0.949085516559565,
           0.9658922392486406,
           0.9466139396935245,
           0.9505684626791894,
           0.9510627780523975,
           0.9520514087988137,
           0.9644092931290164,
           0.9451309935739002,
           0.9416707859614434,
           0.967869500741473,
           0.9515570934256056,
           0.9500741473059812,
           0.9406821552150272,
           0.9515570934256056,
           0.9530400395452299,
           0.9426594167078596,
           0.9461196243203164,
           0.9411764705882353,
           0.9436480474542758,
           0.9451309935739002,
           0.9411764705882353,
           0.9411764705882353,
           0.9391992090954029,
           0.9466139396935245,
           0.9456253089471083,
           0.9500741473059812,
           0.9471082550667326,
           0.9644092931290164,
           0.9456253089471083,
           0.9515570934256056,
           0.9372219476025705,
           0.9391992090954029,
           0.9451309935739002,
           0.9446366782006921,
           0.9426594167078596,
           0.9446366782006921,
           0.9387048937221948,
           0.9515570934256056,
           0.9515570934256056,
           0.9500741473059812,
           0.9436480474542758,
           0.9495798319327731,
           0.944142362827484,
           0.9421651013346515,
           0.9421651013346515,
           0.9431537320810677,
           0.9461196243203164,
           0.9466139396935245,
           0.944142362827484,
           0.9466139396935245,
           0.9456253089471083,
           0.9520514087988137,
           0.9505684626791894,
           0.9451309935739002,
           0.9431537320810677,
           0.9461196243203164,
           0.9520514087988137,
           0.944142362827484,
           0.9466139396935245,
           0.9619377162629758,
           0.9599604547701434,
           0.9540286702916461,
           0.9480968858131488,
           0.953534354918438,
           0.962926347009392,
           0.9639149777558083,
           0.9693524468610973,
           0.9545229856648542,
           0.953534354918438,
           0.9649036085022245,
           0.9565002471576866,
           0.9520514087988137,
           0.9545229856648542,
           0.9619377162629758,
           0.9604547701433515,
           0.9609490855165596,
           0.962926347009392,
           0.9565002471576866,
           0.9649036085022245,
           0.9540286702916461,
           0.9599604547701434,
           0.9545229856648542,
           0.9574888779041029,
           0.9658922392486406,
           0.9658922392486406,
           0.9634206623826,
           0.9639149777558083,
           0.9653979238754326,
           0.9639149777558083,
           0.9649036085022245,
           0.962926347009392,
           0.9634206623826,
           0.9634206623826,
           0.9639149777558083,
           0.9639149777558083,
           0.9649036085022245,
           0.967375185368265,
           0.9639149777558083,
           0.9658922392486406,
           0.9545229856648542,
           0.9639149777558083,
           0.9644092931290164,
           0.9644092931290164,
           0.9634206623826,
           0.9639149777558083,
           0.9644092931290164,
           0.9663865546218487,
           0.967869500741473,
           0.9639149777558083,
           0.9663865546218487,
           0.9644092931290164,
           0.9634206623826,
           0.9639149777558083,
           0.9658922392486406,
           0.9649036085022245,
           0.9649036085022245,
           0.9639149777558083,
           0.9639149777558083,
           0.9639149777558083,
           0.9639149777558083,
           0.9589718240237272,
           0.9639149777558083,
           0.962926347009392,
           0.962926347009392,
           0.9639149777558083,
           0.9574888779041029,
           0.9644092931290164,
           0,
           0.9619377162629758,
           0.9520514087988137,
           0.9624320316361838,
           0.962926347009392,
           0.962926347009392,
           0.9644092931290164,
           0.9634206623826,
           0.9565002471576866,
           0.9525457241720218,
           0.9589718240237272,
           0.9530400395452299,
           0.9644092931290164,
           0.957983193277311,
           0.9589718240237272,
           0.9594661393969353,
           0.9530400395452299,
           0.9530400395452299,
           0.9594661393969353,
           0.953534354918438,
           0.9520514087988137,
           0.9525457241720218,
           0.9525457241720218,
           0.9520514087988137,
           0.9525457241720218,
           0.9530400395452299,
           0.9525457241720218,
           0.962926347009392,
           0.9525457241720218,
           0.949085516559565,
           0.949085516559565,
           0.9505684626791894,
           0.9525457241720218,
           0.9495798319327731,
           0.9515570934256056,
           0.9510627780523975,
           0.9505684626791894,
           0.9515570934256056,
           0.957983193277311,
           0.9530400395452299,
           0.9515570934256056,
           0.949085516559565,
           0.9471082550667326,
           0.9495798319327731,
           0.9471082550667326,
           0.949085516559565,
           0.9515570934256056,
           0.9480968858131488,
           0.9495798319327731,
           0.9495798319327731,
           0.9411764705882353,
           0.9446366782006921,
           0.944142362827484,
           0.9515570934256056,
           0.9411764705882353,
           0.935244686109738,
           0,
           0.9357390014829461,
           0.9347503707365299,
           0.9416707859614434,
           0.9495798319327731,
           0.9461196243203164,
           0.9451309935739002,
           0.9505684626791894,
           0.9451309935739002,
           0.9357390014829461,
           0.9377162629757786,
           0.990608007909046,
           0.9451309935739002,
           0.9451309935739002,
           1,
           0.9391992090954029,
           0.939693524468611,
           0.9367276322293623,
           0.9342560553633218,
           0.9466139396935245,
           0.9421651013346515,
           0.9367276322293623,
           0.9471082550667326,
           0.9495798319327731,
           0.990608007909046,
           0.990608007909046,
           0.9461196243203164,
           0.9411764705882353,
           0.939693524468611,
           0.9391992090954029,
           0.9471082550667326,
           0.9471082550667326,
           0.9456253089471083,
           0.9367276322293623,
           0.9520514087988137,
           0.9446366782006921,
           0.9362333168561542,
           0.939693524468611,
           0.9382105783489867,
           0.9525457241720218,
           0.9342560553633218,
           0.9372219476025705,
           0.9357390014829461,
           0.9451309935739002,
           0.9391992090954029,
           0.9515570934256056,
           0.9357390014829461,
           0.9342560553633218,
           0.944142362827484,
           0.9846762234305487,
           0.9342560553633218,
           0.9342560553633218,
           0.9391992090954029,
           0.9342560553633218,
           0.9421651013346515,
           0.9446366782006921,
           0.9416707859614434,
           0.9307958477508651,
           0.9317844784972813,
           0.9357390014829461,
           0.935244686109738,
           0.9357390014829461,
           0.9391992090954029,
           0.9342560553633218,
           0.9421651013346515,
           0.9505684626791894,
           0.9377162629757786,
           0.9377162629757786,
           0.9416707859614434,
           0.9925852694018784,
           0.9461196243203164,
           0.9461196243203164,
           0.9451309935739002,
           0.9466139396935245,
           0.9451309935739002,
           0.9426594167078596,
           0.9495798319327731,
           0.9505684626791894,
           0.9500741473059812,
           0.9520514087988137,
           0.949085516559565,
           0.9500741473059812,
           0.9461196243203164,
           0.9520514087988137,
           0.9510627780523975,
           0.9476025704399407,
           0.9505684626791894,
           0.9505684626791894,
           0.9505684626791894,
           0.9471082550667326,
           0.9525457241720218,
           0.9495798319327731,
           0.9520514087988137,
           0.9510627780523975,
           0.9525457241720218,
           0.9584775086505191,
           0.9505684626791894,
           0.9525457241720218,
           0.9500741473059812,
           0.9515570934256056,
           0.9530400395452299,
           0.9639149777558083,
           0.9500741473059812,
           0.9500741473059812,
           0.9520514087988137,
           0.9520514087988137,
           0.944142362827484,
           0.9653979238754326,
           0.9485912011863569,
           0.9520514087988137,
           0.9495798319327731,
           0.949085516559565,
           0.949085516559565,
           0.953534354918438,
           0.9520514087988137,
           0.9649036085022245,
           0.9421651013346515,
           0.9466139396935245,
           0.9500741473059812,
           0.9495798319327731,
           0.9471082550667326,
           0.9411764705882353,
           0.944142362827484,
           0.9337617399901137,
           0.939693524468611,
           0.9401878398418191,
           0.939693524468611,
           0.9915966386554622,
           0.9426594167078596,
           0.9451309935739002,
           0.9436480474542758,
           0.9456253089471083,
           0.9940682155215027,
           0.990608007909046,
           0.9362333168561542,
           0.9510627780523975,
           0.9391992090954029,
           0.9431537320810677,
           0.9446366782006921,
           0.9342560553633218,
           0.9401878398418191,
           0.9293129016312407,
           0.9836875926841325,
           0.9476025704399407,
           0.9342560553633218,
           0.9382105783489867,
           0.9614434008897677,
           0.9614434008897677,
           0.9614434008897677,
           0.9342560553633218,
           0.9312901631240732,
           0.9312901631240732,
           0.9337617399901137,
           0.9337617399901137,
           0.9337617399901137,
           0.9891250617894216,
           0.9901136925358379,
           0.9896193771626297,
           0.9896193771626297,
           0.9901136925358379,
           0.9911023232822541,
           0.9911023232822541,
           0.9911023232822541,
           0.9915966386554622,
           0.9920909540286703,
           0.9920909540286703,
           0.9920909540286703,
           0.9920909540286703,
           0.9920909540286703,
           0.9935739001482946,
           0.9935739001482946,
           0.9935739001482946,
           0.9935739001482946,
           0.9391992090954029,
           0.9293129016312407,
           0.9510627780523975,
           0.972318339100346,
           0.972318339100346,
           0.9911023232822541,
           0.9911023232822541,
           0.9738012852199703,
           0.9738012852199703,
           0.9411764705882353,
           0.9466139396935245,
           0.9901136925358379,
           0.990608007909046,
           0.9495798319327731,
           0.9703410776075136,
           0.9797330696984676,
           0.9886307464162135,
           0.9896193771626297,
           0.9896193771626297,
           0.9896193771626297,
           0.9896193771626297,
           0.990608007909046,
           0.9836875926841325,
           0.9836875926841325,
           0.9836875926841325,
           0.9876421156697973,
           0.9930795847750865,
           0.9930795847750865,
           0.9525457241720218,
           0.9317844784972813,
           0.9322787938704894,
           0.9243697478991597,
           0.9792387543252595,
           0.9792387543252595,
           0.9525457241720218,
           0.9525457241720218,
           0.9515570934256056,
           0.9377162629757786,
           0.9456253089471083,
           0.990608007909046,
           0.9347503707365299,
           0.9159663865546218,
           0.9406821552150272,
           0.9426594167078596,
           0.9466139396935245,
           0.9322787938704894,
           0.9362333168561542,
           0.9431537320810677,
           0.9426594167078596,
           0.9401878398418191,
           0.9416707859614434,
           0.9451309935739002,
           0.9416707859614434,
           0.9421651013346515,
           0.9520514087988137,
           0.9540286702916461,
           0.9505684626791894,
           0.9510627780523975,
           0.9485912011863569,
           0.9649036085022245,
           0.9510627780523975,
           0.9525457241720218,
           0.9500741473059812,
           0.9476025704399407,
           0.9391992090954029,
           0.9584775086505191,
           0.9525457241720218,
           0.9525457241720218,
           0.9520514087988137,
           0.9777558082056352,
           0.939693524468611,
           0.9342560553633218,
           0.9312901631240732,
           0.9718240237271379,
           0.9520514087988137,
           0.9431537320810677,
           0.9555098697138386,
           0.953534354918438,
           0.953534354918438,
           0.953534354918438,
           0.990608007909046,
           0.9372219476025705,
           0.9456253089471083,
           0.9446366782006921,
           0.9446366782006921,
           0.939693524468611,
           0.939693524468611,
           0.939693524468611,
           0.9728126544735541,
           0.9802273850716757,
           0.9520514087988137,
           0.9520514087988137,
           0.9802273850716757,
           0.9802273850716757,
           0.9920909540286703,
           0.9920909540286703,
           0.9357390014829461,
           0.9357390014829461,
           0.9357390014829461,
           0.9357390014829461,
           0.9357390014829461,
           0.9357390014829461,
           0.9367276322293623,
           0.9337617399901137,
           0.9925852694018784,
           0.9925852694018784,
           0.9733069698467622,
           0.953534354918438,
           0.9431537320810677,
           0.9372219476025705,
           0.9372219476025705,
           0.9317844784972813,
           0.9332674246169056,
           0.9387048937221948,
           0.9391992090954029,
           0.9530400395452299,
           0.9540286702916461,
           0.9495798319327731,
           0.9644092931290164,
           0.9525457241720218,
           0.9515570934256056,
           0.949085516559565,
           0.9653979238754326,
           0.9520514087988137,
           0.953534354918438,
           0.9747899159663865,
           0.9594661393969353,
           0.949085516559565,
           0.9520514087988137,
           0.9505684626791894,
           0.949085516559565,
           0.9510627780523975,
           0.944142362827484,
           0.9649036085022245,
           0.9604547701433515,
           0.9644092931290164,
           0.9604547701433515,
           0.9891250617894216,
           0.9649036085022245,
           0.9653979238754326,
           0.9530400395452299,
           0.9634206623826,
           0.9698467622343054,
           0.9599604547701434,
           0.962926347009392,
           0.9609490855165596,
           0.9530400395452299,
           0.9644092931290164,
           0.9505684626791894,
           0.9614434008897677,
           0.9476025704399407,
           0.9644092931290164,
           0.9649036085022245,
           0.9520514087988137,
           0.9653979238754326,
           0.9530400395452299,
           0.9510627780523975,
           0.949085516559565,
           0.9634206623826,
           0.9520514087988137,
           0.9525457241720218,
           0.9391992090954029,
           0.990608007909046,
           0.9915966386554622,
           0.9915966386554622,
           0.9915966386554622,
           0.9268413247652002,
           0.944142362827484,
           0.9317844784972813,
           0.9342560553633218,
           0.9451309935739002,
           0.9391992090954029,
           0.9382105783489867,
           0.9367276322293623,
           0.9312901631240732,
           0.9332674246169056,
           0.9243697478991597,
           0.9342560553633218,
           0.9362333168561542,
           0.9357390014829461,
           0.9738012852199703,
           0.9510627780523975,
           0.9332674246169056,
           0.9485912011863569,
           0.9416707859614434,
           0.9416707859614434,
           0.9609490855165596,
           0.9555098697138386,
           0.9406821552150272,
           0.9327731092436975,
           0.9401878398418191,
           0.9436480474542758,
           0.9317844784972813,
           0.944142362827484,
           0.9471082550667326,
           0.9495798319327731,
           0.949085516559565,
           0.9342560553633218,
           0.9411764705882353,
           0.953534354918438,
           0.9307958477508651,
           0.9401878398418191,
           0.9461196243203164,
           0.9495798319327731,
           0.9466139396935245,
           0.9480968858131488,
           0.9530400395452299,
           0.9624320316361838,
           0.9639149777558083,
           0.9312901631240732,
           0.9411764705882353,
           0.9367276322293623,
           0.9500741473059812,
           0.9451309935739002,
           0.935244686109738,
           0.9357390014829461,
           0.9342560553633218,
           0.9451309935739002,
           0.9451309935739002,
           0.9436480474542758,
           0.9342560553633218,
           0.944142362827484,
           0.9416707859614434,
           0.9693524468610973,
           0.9391992090954029,
           0.9362333168561542,
           0.9377162629757786,
           0.9312901631240732,
           0.9357390014829461,
           0.9391992090954029,
           0.935244686109738,
           0.9975284231339595,
           0.9421651013346515,
           0.9391992090954029,
           0.9421651013346515,
           0.9421651013346515,
           0.9194265941670786,
           0.9342560553633218,
           0.9589718240237272,
           0.9391992090954029,
           0.9421651013346515,
           0.9283242708848245,
           0.9530400395452299,
           0.9317844784972813,
           0.9307958477508651,
           0.9416707859614434,
           0.9357390014829461,
           0.9456253089471083,
           0.9471082550667326,
           0.9668808699950568,
           0.9416707859614434,
           0.9391992090954029,
           0.9391992090954029,
           0.9411764705882353,
           0.9471082550667326,
           0.9451309935739002,
           0.9391992090954029,
           0.9406821552150272,
           0.9451309935739002,
           0.9520514087988137,
           0.9693524468610973,
           0.9663865546218487,
           0.9644092931290164,
           0.967869500741473,
           0.9718240237271379,
           0.9466139396935245,
           0.9446366782006921,
           0.9505684626791894,
           0.9500741473059812,
           0.9421651013346515,
           0.9416707859614434,
           0.953534354918438,
           0.9416707859614434,
           0.9357390014829461,
           0.953534354918438,
           0.9495798319327731,
           0.939693524468611,
           0.9377162629757786,
           0.9391992090954029,
           0.9476025704399407,
           0.9446366782006921,
           0.9391992090954029,
           0.9406821552150272,
           0.953534354918438,
           0.9322787938704894,
           0.9495798319327731,
           0.9594661393969353,
           0.9485912011863569,
           0.9391992090954029,
           0.9713297083539298,
           0.9822046465645081,
           0.939693524468611,
           0.9426594167078596,
           0.9792387543252595,
           0.9391992090954029,
           0.9476025704399407,
           0.9495798319327731,
           0.9515570934256056,
           0.9431537320810677,
           0.944142362827484,
           0.9505684626791894,
           0.9466139396935245,
           0.9421651013346515,
           0.9391992090954029,
           0.9461196243203164,
           0.9406821552150272,
           0.9520514087988137,
           0.9476025704399407,
           0.9500741473059812,
           0.9436480474542758,
           0.9515570934256056,
           0.9436480474542758,
           0.9634206623826,
           0.9619377162629758,
           0.9658922392486406,
           0.9619377162629758,
           0.9485912011863569,
           0.9634206623826,
           0.9634206623826,
           0.9634206623826,
           0.9584775086505191,
           0.9639149777558083,
           0.9639149777558083,
           0.9594661393969353,
           0.9663865546218487,
           0.9599604547701434,
           0.9639149777558083,
           0.9653979238754326,
           0.9653979238754326,
           0.9663865546218487,
           0.9683638161146811,
           0.9658922392486406,
           0.9644092931290164,
           0.9649036085022245,
           0.967375185368265,
           0.9668808699950568,
           0.9653979238754326,
           0.9653979238754326,
           0.9683638161146811,
           0.9683638161146811,
           0.9594661393969353,
           0,
           0.9802273850716757,
           0.9896193771626297,
           0.9545229856648542,
           0.9708353929807217,
           0.9683638161146811,
           0.9718240237271379,
           0.9708353929807217,
           0.9688581314878892,
           0.9668808699950568,
           0.9668808699950568,
           0.9728126544735541,
           0.967869500741473,
           0.9589718240237272,
           0.9653979238754326,
           0.9653979238754326,
           0.9653979238754326,
           0.9515570934256056,
           0.9653979238754326,
           0.9787444389520514,
           0.9787444389520514,
           0.9653979238754326,
           0.9614434008897677,
           0.9644092931290164,
           0.967869500741473,
           0.9663865546218487,
           0.9649036085022245,
           0.967375185368265,
           0.9683638161146811,
           0.9639149777558083,
           0.9639149777558083,
           0.962926347009392,
           0.9644092931290164,
           0.962926347009392,
           0.944142362827484,
           0.9634206623826,
           0.9530400395452299,
           0.9525457241720218,
           0.9530400395452299,
           0.9500741473059812,
           0.9480968858131488,
           0.9480968858131488,
           0.9525457241720218,
           0.962926347009392,
           0.9639149777558083,
           0.9530400395452299,
           0.9525457241720218,
           0.949085516559565,
           0.9599604547701434,
           0.953534354918438,
           0.9609490855165596,
           0.962926347009392,
           0.935244686109738,
           0.9609490855165596,
           0.953534354918438,
           0.9530400395452299,
           0.9520514087988137,
           0.9485912011863569,
           0.949085516559565,
           0.9421651013346515,
           0.9510627780523975,
           0.9391992090954029,
           0.9377162629757786,
           0.9466139396935245,
           0.9649036085022245,
           0.9649036085022245,
           0.9589718240237272,
           0.9624320316361838,
           0.9604547701433515,
           0.962926347009392,
           0.9619377162629758,
           0.9268413247652002,
           0.9634206623826,
           0.9614434008897677,
           0.9668808699950568,
           0.9500741473059812,
           0.9644092931290164,
           0.9609490855165596,
           0.9614434008897677,
           0.9658922392486406,
           0.9782501235788433,
           0.9653979238754326,
           0.9624320316361838,
           0.953534354918438,
           0.9614434008897677,
           0.9624320316361838,
           0.9604547701433515,
           0.962926347009392,
           0.9480968858131488,
           0.9653979238754326,
           0.9658922392486406,
           0.9658922392486406,
           0.9649036085022245,
           0.9915966386554622,
           0.9653979238754326,
           0.9663865546218487,
           0.9589718240237272,
           0.9634206623826,
           0.9644092931290164,
           0.9624320316361838,
           0.9683638161146811,
           0.9797330696984676,
           0.9688581314878892,
           0.967869500741473,
           0.9708353929807217,
           0.9762728620860108,
           0.9693524468610973,
           0.9604547701433515,
           0.9574888779041029,
           0.9708353929807217,
           0.9693524468610973,
           0.9772614928324271,
           0.9782501235788433,
           0.9658922392486406,
           0.9550173010380623,
           0.9663865546218487,
           0.9520514087988137,
           0.9708353929807217,
           0.9787444389520514,
           0.9802273850716757,
           0.9510627780523975,
           0.9644092931290164,
           0.9545229856648542,
           0.9451309935739002,
           0.9594661393969353,
           0.9466139396935245,
           0.9584775086505191,
           0.9649036085022245,
           0.9624320316361838,
           0.9639149777558083,
           0.9901136925358379,
           0.9634206623826,
           0.9663865546218487,
           0.9653979238754326,
           0.9589718240237272,
           0.9515570934256056,
           0.9639149777558083,
           0.9515570934256056,
           0.9569945625308948,
           0.9891250617894216,
           0.9649036085022245,
           0.967869500741473,
           0.9683638161146811,
           0.9713297083539298,
           0.967375185368265,
           0.9693524468610973,
           0.9698467622343054,
           0.9708353929807217,
           0.9708353929807217,
           0.9683638161146811,
           0.9683638161146811,
           0.967869500741473,
           0.9688581314878892,
           0.967869500741473,
           0.9693524468610973,
           0.9698467622343054,
           0.9530400395452299,
           0.972318339100346,
           0.9663865546218487,
           0.9752842313395946,
           0.9752842313395946,
           0.9658922392486406,
           0.9708353929807217,
           0.9728126544735541,
           0.9644092931290164,
           0.9688581314878892,
           0.9688581314878892,
           0.967869500741473,
           0.9683638161146811,
           0.967869500741473,
           0.9683638161146811,
           0.9663865546218487,
           0.9658922392486406,
           0.9757785467128027,
           0.9762728620860108,
           0.9762728620860108,
           0.9762728620860108,
           0.9644092931290164,
           0.9807217004448838,
           0.9787444389520514,
           0.9738012852199703,
           0.9742956005931784,
           0.9560059317844785,
           0.9530400395452299,
           0.9550173010380623
          ],
          "size": [
           5834,
           1668,
           1437,
           1295,
           1467,
           1018,
           1054,
           1054,
           1249,
           1054,
           1249,
           1054,
           1054,
           1054,
           2902,
           0,
           872,
           2571,
           6720,
           1056,
           1040,
           1496,
           1056,
           1292,
           863,
           1335,
           1485,
           1068,
           1494,
           1077,
           1067,
           981,
           1336,
           1624,
           1324,
           906,
           2117,
           1125,
           1089,
           788,
           3021,
           13811,
           1273,
           1311,
           1463,
           1056,
           1056,
           1056,
           1335,
           1249,
           1003,
           772,
           1003,
           1200,
           1619,
           1494,
           1110,
           1450,
           1727,
           1396,
           1007,
           4086,
           1281,
           6975,
           1041,
           1097,
           1225,
           2589,
           0,
           2150,
           1632,
           1551,
           1636,
           1111,
           1512,
           1630,
           1006,
           1227,
           1138,
           1185,
           1911,
           1043,
           1469,
           1970,
           1144,
           3828,
           2170,
           1033,
           1132,
           1025,
           1798,
           1060,
           1403,
           2426,
           1062,
           936,
           936,
           1378,
           1049,
           1000,
           1120,
           1084,
           1056,
           1050,
           1051,
           1069,
           1256,
           948,
           1057,
           983,
           1233,
           3330,
           2717,
           1122,
           1122,
           2402,
           2402,
           2402,
           2402,
           865,
           1056,
           1056,
           1056,
           1056,
           865,
           625,
           625,
           1056,
           1506,
           1120,
           1144,
           2111,
           1393,
           743,
           1132,
           1119,
           1728,
           1434,
           882,
           1170,
           1621,
           933,
           1158,
           1227,
           1836,
           1796,
           1045,
           1116,
           920,
           1940,
           1174,
           864,
           864,
           2216,
           1008,
           2396,
           875,
           2281,
           1202,
           1879,
           974,
           864,
           1113,
           910,
           2128,
           1525,
           1222,
           2245,
           5160,
           1036,
           1199,
           47244,
           2282,
           970,
           990,
           990,
           2176,
           1261,
           967,
           1174,
           1132,
           1060,
           1309,
           1132,
           1092,
           936,
           967,
           1274,
           1000,
           864,
           864,
           864,
           864,
           981,
           864,
           1364,
           884,
           2880,
           624,
           1097,
           912,
           1092,
           1141,
           1000,
           1602,
           1094,
           1181,
           1000,
           1041,
           720,
           1392,
           960,
           1416,
           1416,
           1334,
           1422,
           1897,
           1817,
           1447,
           1570,
           672,
           1288,
           1082,
           2250,
           1345,
           768,
           664,
           963,
           963,
           2010,
           1215,
           1171,
           1664,
           518,
           1082,
           1939,
           1344,
           1276,
           864,
           1221,
           1988,
           1050,
           1391,
           1176,
           832,
           2156,
           1049,
           1219,
           2016,
           710,
           774,
           1683,
           1370,
           720,
           1564,
           1824,
           750,
           1369,
           1482,
           940,
           914,
           868,
           1332,
           624,
           2195,
           1239,
           829,
           1240,
           1980,
           1232,
           1127,
           1212,
           985,
           1164,
           971,
           10238,
           1400,
           939,
           2040,
           936,
           2017,
           916,
           1588,
           1195,
           1228,
           1329,
           1227,
           919,
           2727,
           1184,
           1259,
           936,
           1384,
           997,
           1166,
           936,
           1294,
           2144,
           832,
           1388,
           4000,
           2224,
           2013,
           1519,
           6400,
           963,
           1140,
           1080,
           1116,
           1281,
           1120,
           988,
           2150,
           1344,
           2448,
           1282,
           1218,
           2395,
           1027,
           993,
           1265,
           1238,
           1319,
           900,
           761,
           761,
           1144,
           2410,
           2608,
           1365,
           974,
           1497,
           1111,
           5302,
           1903,
           1180,
           1213,
           1068,
           915,
           1008,
           1016,
           2000,
           863,
           1655,
           2082,
           1488,
           1001,
           1141,
           997,
           1709,
           1386,
           1699,
           1218,
           1072,
           1162,
           1190,
           1240,
           1973,
           2104,
           1827,
           1172,
           1212,
           933,
           922,
           932,
           1542,
           2483,
           1641,
           1104,
           1200,
           1917,
           1152,
           1819,
           1929,
           1341,
           1558,
           1557,
           1933,
           878,
           1462,
           1319,
           1464,
           2343,
           1756,
           1514,
           1360,
           1458,
           7000,
           20719,
           998,
           1330,
           1429,
           1357,
           2204,
           1336,
           1336,
           1212,
           1799,
           1799,
           1438,
           1562,
           1562,
           1255,
           916,
           890,
           1078,
           1518,
           1506,
           1017,
           11735,
           1564,
           877,
           2849,
           857,
           1150,
           978,
           948,
           948,
           946,
           980,
           5062,
           2102,
           1480,
           1404,
           1444,
           1340,
           1176,
           1026,
           2234,
           2234,
           1906,
           1788,
           936,
           4068,
           2040,
           728,
           1230,
           1230,
           1023,
           1051,
           933,
           1190,
           1263,
           1442,
           1637,
           1142,
           1190,
           961,
           1291,
           1253,
           2617,
           1611,
           1176,
           1632,
           1443,
           1067,
           981,
           863,
           863,
           863,
           1127,
           1127,
           981,
           1043,
           940,
           1195,
           1272,
           988,
           1188,
           1141,
           1370,
           1523,
           3894,
           1027,
           1078,
           1176,
           1469,
           912,
           1031,
           1554,
           1554,
           1176,
           4698,
           1049,
           2348,
           1662,
           1303,
           1445,
           1924,
           1555,
           1710,
           2178,
           1008,
           2757,
           1477,
           967,
           906,
           1727,
           2193,
           907,
           1039,
           1048,
           1017,
           990,
           844,
           1820,
           1851,
           2589,
           3370,
           1592,
           1783,
           1961,
           1732,
           1244,
           1539,
           1981,
           1875,
           1322,
           1525,
           1286,
           1762,
           1741,
           3862,
           1775,
           1823,
           1729,
           2930,
           1296,
           1190,
           1128,
           1838,
           3069,
           1650,
           3908,
           5612,
           3242,
           3446,
           3016,
           2574,
           2845,
           2056,
           1174,
           2236,
           1409,
           791,
           2221,
           3088,
           3836,
           2176,
           2652,
           1525,
           2622,
           1738,
           1152,
           1781,
           738,
           982,
           1152,
           2423,
           3564,
           1956,
           2448,
           2690,
           2402,
           3380,
           1268,
           1655,
           2434,
           2220,
           2740,
           3240,
           970,
           1657,
           2003,
           1677,
           2346,
           1564,
           1507,
           1527,
           2071,
           1789,
           2124,
           1671,
           1717,
           2152,
           964,
           1995,
           1734,
           2607,
           1296,
           1758,
           2188,
           1585,
           1402,
           4122,
           1986,
           1594,
           5812,
           2583,
           1852,
           1310,
           2526,
           2461,
           2063,
           3842,
           1858,
           1634,
           3727,
           2607,
           2826,
           1174,
           2516,
           1834,
           1575,
           1827,
           2026,
           1656,
           1593,
           1814,
           1827,
           1097,
           988,
           1056,
           1137,
           972,
           1063,
           1337,
           1891,
           1007,
           1176,
           1498,
           1410,
           3355,
           1042,
           1761,
           1512,
           1382,
           1113,
           1132,
           1249,
           772,
           1243,
           1330,
           1520,
           1120,
           1910,
           1584,
           696,
           1389,
           2080,
           1250,
           1519,
           1430,
           1048,
           1248,
           912,
           1273,
           1513,
           1267,
           1158,
           1612,
           1579,
           0,
           1734,
           1350,
           1701,
           815,
           1875,
           1536,
           1060,
           1368,
           1342,
           906,
           2227,
           2052,
           1649,
           2288,
           1794,
           1340,
           1584,
           2198,
           1615,
           945,
           2025,
           1972,
           2250,
           2105,
           1009,
           2628,
           1266,
           2094,
           908,
           908,
           1698,
           2441,
           2543,
           2430,
           3280,
           2638,
           2673,
           2702,
           2265,
           1900,
           1496,
           2284,
           1685,
           3000,
           1809,
           3354,
           1176,
           2080,
           1773,
           1318,
           1663,
           1542,
           1854,
           1388,
           1882,
           0,
           1260,
           1206,
           1713,
           1638,
           2422,
           1238,
           1158,
           1660,
           1631,
           3392,
           1564,
           2995,
           2182,
           1280,
           1171,
           2245,
           1520,
           2170,
           2073,
           1203,
           900,
           1447,
           3926,
           1408,
           1408,
           2926,
           2629,
           2834,
           2693,
           2280,
           3073,
           2708,
           3664,
           2302,
           546,
           2513,
           2510,
           3118,
           2171,
           2112,
           4820,
           3816,
           2498,
           1320,
           2920,
           1470,
           1397,
           3802,
           2284,
           2368,
           1299,
           759,
           1672,
           2224,
           3244,
           3649,
           1510,
           760,
           3828,
           1898,
           1392,
           2430,
           1820,
           1506,
           2344,
           2196,
           1454,
           1954,
           1408,
           2553,
           2462,
           2185,
           2304,
           2152,
           1738,
           1299,
           2612,
           1519,
           2888,
           1921,
           2230,
           2494,
           2281,
           1790,
           2524,
           1803,
           2408,
           2190,
           1736,
           1896,
           666,
           2489,
           2862,
           1817,
           13150,
           704,
           1448,
           902,
           1945,
           2378,
           3876,
           1195,
           1222,
           1967,
           1222,
           1676,
           1215,
           1884,
           2484,
           2322,
           1814,
           2091,
           4810,
           2215,
           8064,
           2345,
           2510,
           3616,
           2112,
           5200,
           1532,
           2652,
           2361,
           2075,
           2014,
           1853,
           1232,
           2059,
           2367,
           2037,
           2435,
           1504,
           1456,
           3198,
           2176,
           1654,
           2662,
           1724,
           771,
           1488,
           1520,
           1898,
           980,
           1065,
           2757,
           1070,
           1109,
           914,
           2124,
           2393,
           1261,
           1192,
           1504,
           1061,
           1310,
           1586,
           1193,
           1313,
           1490,
           1610,
           1314,
           1546,
           1198,
           726,
           728,
           748,
           1004,
           1161,
           1194,
           1063,
           1063,
           1166,
           2064,
           3166,
           1740,
           998,
           1255,
           1868,
           1499,
           595,
           850,
           7071,
           1765,
           1382,
           1375,
           1017,
           830,
           1136,
           1510,
           1571,
           3620,
           4614,
           4241,
           1287,
           733,
           1118,
           954,
           1291,
           1108,
           1140,
           1120,
           2216,
           2642,
           2046,
           1533,
           1533,
           600,
           460,
           3793,
           675,
           1974,
           18568,
           2064,
           752,
           3347,
           2248,
           1710,
           1156,
           1760,
           2280,
           2690,
           4108,
           2082,
           2358,
           1970,
           1885,
           2188,
           1581,
           2534,
           2534,
           2760,
           944,
           1948,
           1600,
           2017,
           1769,
           17472,
           2017,
           1175,
           2247,
           1966,
           9735,
           2134,
           3735,
           4538,
           16290,
           12990,
           4277,
           44046,
           782,
           540,
           947,
           4302,
           5710,
           1032,
           2753,
           1258,
           1095,
           1095,
           1205,
           1211,
           1395,
           1068,
           1644,
           975,
           975,
           3964,
           2205,
           913,
           820,
           875,
           992,
           1121,
           1151,
           946,
           1110,
           2341,
           2351,
           8750,
           15215,
           3028,
           2441,
           2147,
           1108,
           1568,
           7990,
           2655,
           1872,
           2149,
           1687,
           806,
           1778,
           1098,
           768,
           1670,
           1493,
           1379,
           1144,
           749,
           1697,
           1008,
           868,
           874,
           1470,
           1999,
           896,
           1688,
           864,
           1756,
           2368,
           1239,
           1296,
           1740,
           1120,
           1136,
           1196,
           1757,
           1155,
           2808,
           1134,
           1232,
           1260,
           1307,
           1017,
           1670,
           504,
           978,
           1405,
           886,
           1246,
           758,
           1030,
           1035,
           1972,
           908,
           1694,
           786,
           2675,
           2560,
           3302,
           2134,
           2662,
           2106,
           1382,
           1435,
           1748,
           2478,
           2941,
           949,
           1873,
           3069,
           2547,
           26415,
           2127,
           1620,
           1612,
           2002,
           1680,
           1584,
           0,
           2408,
           2070,
           2187,
           1718,
           2234,
           2198,
           2892,
           2556,
           1721,
           1218,
           2292,
           1349,
           2202,
           2068,
           2724,
           1142,
           2244,
           1445,
           2004,
           2500,
           1008,
           1656,
           1452,
           1350,
           2478,
           1190,
           1260,
           836,
           1681,
           2532,
           3400,
           1910,
           1080,
           3935,
           1430,
           10350,
           816,
           2000,
           2594,
           2544,
           768,
           707,
           3362,
           3623,
           1534,
           777,
           1029,
           1186,
           1672,
           1732,
           1240,
           2172,
           1368,
           820,
           1403,
           1012,
           3770,
           1516,
           1906,
           2925,
           1818,
           820,
           1464,
           790,
           1282,
           1502,
           1804,
           1609,
           2116,
           3386,
           1385,
           1571,
           2705,
           1069,
           1043,
           1859,
           650,
           1393,
           1509,
           2070,
           1137,
           1232,
           848,
           1569,
           710,
           1798,
           1605,
           1598,
           1830,
           1788,
           1390,
           1945,
           1869,
           1270,
           1884,
           1978,
           1607,
           672,
           884,
           512,
           633,
           860,
           1543,
           1486,
           1298,
           1574,
           1612,
           1485,
           2807,
           1352,
           2004,
           1150,
           1464,
           1165,
           1573,
           1402,
           1552,
           930,
           2050,
           1173,
           2624,
           1624,
           1672,
           2352,
           1080,
           991,
           2168,
           1582,
           1794,
           706,
           827,
           1404,
           1817,
           1322,
           1958,
           1841,
           1541,
           825,
           1086,
           1013,
           1356,
           1013,
           2288,
           1316,
           811,
           1407,
           1050,
           1273,
           1177,
           985,
           1177,
           1177,
           1232,
           0,
           1065,
           1117,
           1656,
           1013,
           1007,
           1310,
           1410,
           1168,
           1153,
           1064,
           2255,
           1408,
           1100,
           864,
           672,
           1064,
           1565,
           1094,
           1048,
           1048,
           944,
           1426,
           951,
           2188,
           1137,
           1489,
           3094,
           2272,
           780,
           2083,
           1378,
           668,
           2805,
           1276,
           1120,
           2741,
           2008,
           1848,
           966,
           931,
           1004,
           1990,
           1379,
           1492,
           1980,
           1734,
           1069,
           1128,
           1977,
           884,
           1130,
           1168,
           1199,
           1423,
           1537,
           2105,
           1356,
           1250,
           1207,
           1409,
           1447,
           2081,
           1938,
           1744,
           1744,
           1175,
           819,
           861,
           1248,
           826,
           4799,
           2354,
           1062,
           1140,
           1415,
           1256,
           990,
           990,
           2119,
           2612,
           1142,
           1013,
           2253,
           1184,
           1046,
           1008,
           1165,
           1330,
           743,
           952,
           755,
           1001,
           2557,
           1023,
           894,
           964,
           1107,
           1218,
           1128,
           1175,
           1311,
           1208,
           1072,
           2107,
           2478,
           1643,
           1417,
           905,
           1237,
           938,
           2461,
           1501,
           1066,
           1337,
           672,
           1251,
           1106,
           1201,
           980,
           1137,
           1036,
           647,
           852,
           1299,
           1265,
           1272,
           905,
           834,
           1128,
           1740,
           1007,
           714,
           902,
           1134,
           1763,
           1129,
           1342,
           1195,
           1491,
           993,
           1154,
           1093,
           2520,
           1220,
           1020,
           1392,
           1093,
           1161,
           1085,
           1846,
           1150,
           2076,
           946,
           5192,
           1001,
           1221,
           1689,
           2000,
           980,
           980,
           1925,
           1298,
           1748,
           2213,
           980,
           1037,
           1291,
           1066,
           1074,
           951,
           1877,
           1396,
           1564,
           1855,
           1249,
           1249,
           1541,
           1801,
           1064,
           1621,
           1544,
           1349,
           1402,
           1698
          ],
          "sizemode": "area",
          "sizeref": 118.11
         },
         "mode": "markers",
         "name": "",
         "showlegend": false,
         "subplot": "mapbox",
         "type": "scattermapbox"
        }
       ],
       "layout": {
        "coloraxis": {
         "colorbar": {
          "title": {
           "text": "Sale_price"
          }
         },
         "colorscale": [
          [
           0,
           "rgb(0, 147, 146)"
          ],
          [
           0.16666666666666666,
           "rgb(114, 170, 161)"
          ],
          [
           0.3333333333333333,
           "rgb(177, 199, 179)"
          ],
          [
           0.5,
           "rgb(241, 234, 200)"
          ],
          [
           0.6666666666666666,
           "rgb(229, 185, 173)"
          ],
          [
           0.8333333333333334,
           "rgb(217, 137, 148)"
          ],
          [
           1,
           "rgb(208, 88, 126)"
          ]
         ]
        },
        "height": 1800,
        "legend": {
         "itemsizing": "constant",
         "tracegroupgap": 0
        },
        "mapbox": {
         "center": {
          "lat": 41.71301050913447,
          "lon": -87.72451966087745
         },
         "domain": {
          "x": [
           0,
           1
          ],
          "y": [
           0,
           1
          ]
         },
         "style": "carto-positron",
         "zoom": 8
        },
        "margin": {
         "t": 60
        },
        "template": {
         "data": {
          "bar": [
           {
            "error_x": {
             "color": "#2a3f5f"
            },
            "error_y": {
             "color": "#2a3f5f"
            },
            "marker": {
             "line": {
              "color": "#E5ECF6",
              "width": 0.5
             },
             "pattern": {
              "fillmode": "overlay",
              "size": 10,
              "solidity": 0.2
             }
            },
            "type": "bar"
           }
          ],
          "barpolar": [
           {
            "marker": {
             "line": {
              "color": "#E5ECF6",
              "width": 0.5
             },
             "pattern": {
              "fillmode": "overlay",
              "size": 10,
              "solidity": 0.2
             }
            },
            "type": "barpolar"
           }
          ],
          "carpet": [
           {
            "aaxis": {
             "endlinecolor": "#2a3f5f",
             "gridcolor": "white",
             "linecolor": "white",
             "minorgridcolor": "white",
             "startlinecolor": "#2a3f5f"
            },
            "baxis": {
             "endlinecolor": "#2a3f5f",
             "gridcolor": "white",
             "linecolor": "white",
             "minorgridcolor": "white",
             "startlinecolor": "#2a3f5f"
            },
            "type": "carpet"
           }
          ],
          "choropleth": [
           {
            "colorbar": {
             "outlinewidth": 0,
             "ticks": ""
            },
            "type": "choropleth"
           }
          ],
          "contour": [
           {
            "colorbar": {
             "outlinewidth": 0,
             "ticks": ""
            },
            "colorscale": [
             [
              0,
              "#0d0887"
             ],
             [
              0.1111111111111111,
              "#46039f"
             ],
             [
              0.2222222222222222,
              "#7201a8"
             ],
             [
              0.3333333333333333,
              "#9c179e"
             ],
             [
              0.4444444444444444,
              "#bd3786"
             ],
             [
              0.5555555555555556,
              "#d8576b"
             ],
             [
              0.6666666666666666,
              "#ed7953"
             ],
             [
              0.7777777777777778,
              "#fb9f3a"
             ],
             [
              0.8888888888888888,
              "#fdca26"
             ],
             [
              1,
              "#f0f921"
             ]
            ],
            "type": "contour"
           }
          ],
          "contourcarpet": [
           {
            "colorbar": {
             "outlinewidth": 0,
             "ticks": ""
            },
            "type": "contourcarpet"
           }
          ],
          "heatmap": [
           {
            "colorbar": {
             "outlinewidth": 0,
             "ticks": ""
            },
            "colorscale": [
             [
              0,
              "#0d0887"
             ],
             [
              0.1111111111111111,
              "#46039f"
             ],
             [
              0.2222222222222222,
              "#7201a8"
             ],
             [
              0.3333333333333333,
              "#9c179e"
             ],
             [
              0.4444444444444444,
              "#bd3786"
             ],
             [
              0.5555555555555556,
              "#d8576b"
             ],
             [
              0.6666666666666666,
              "#ed7953"
             ],
             [
              0.7777777777777778,
              "#fb9f3a"
             ],
             [
              0.8888888888888888,
              "#fdca26"
             ],
             [
              1,
              "#f0f921"
             ]
            ],
            "type": "heatmap"
           }
          ],
          "heatmapgl": [
           {
            "colorbar": {
             "outlinewidth": 0,
             "ticks": ""
            },
            "colorscale": [
             [
              0,
              "#0d0887"
             ],
             [
              0.1111111111111111,
              "#46039f"
             ],
             [
              0.2222222222222222,
              "#7201a8"
             ],
             [
              0.3333333333333333,
              "#9c179e"
             ],
             [
              0.4444444444444444,
              "#bd3786"
             ],
             [
              0.5555555555555556,
              "#d8576b"
             ],
             [
              0.6666666666666666,
              "#ed7953"
             ],
             [
              0.7777777777777778,
              "#fb9f3a"
             ],
             [
              0.8888888888888888,
              "#fdca26"
             ],
             [
              1,
              "#f0f921"
             ]
            ],
            "type": "heatmapgl"
           }
          ],
          "histogram": [
           {
            "marker": {
             "pattern": {
              "fillmode": "overlay",
              "size": 10,
              "solidity": 0.2
             }
            },
            "type": "histogram"
           }
          ],
          "histogram2d": [
           {
            "colorbar": {
             "outlinewidth": 0,
             "ticks": ""
            },
            "colorscale": [
             [
              0,
              "#0d0887"
             ],
             [
              0.1111111111111111,
              "#46039f"
             ],
             [
              0.2222222222222222,
              "#7201a8"
             ],
             [
              0.3333333333333333,
              "#9c179e"
             ],
             [
              0.4444444444444444,
              "#bd3786"
             ],
             [
              0.5555555555555556,
              "#d8576b"
             ],
             [
              0.6666666666666666,
              "#ed7953"
             ],
             [
              0.7777777777777778,
              "#fb9f3a"
             ],
             [
              0.8888888888888888,
              "#fdca26"
             ],
             [
              1,
              "#f0f921"
             ]
            ],
            "type": "histogram2d"
           }
          ],
          "histogram2dcontour": [
           {
            "colorbar": {
             "outlinewidth": 0,
             "ticks": ""
            },
            "colorscale": [
             [
              0,
              "#0d0887"
             ],
             [
              0.1111111111111111,
              "#46039f"
             ],
             [
              0.2222222222222222,
              "#7201a8"
             ],
             [
              0.3333333333333333,
              "#9c179e"
             ],
             [
              0.4444444444444444,
              "#bd3786"
             ],
             [
              0.5555555555555556,
              "#d8576b"
             ],
             [
              0.6666666666666666,
              "#ed7953"
             ],
             [
              0.7777777777777778,
              "#fb9f3a"
             ],
             [
              0.8888888888888888,
              "#fdca26"
             ],
             [
              1,
              "#f0f921"
             ]
            ],
            "type": "histogram2dcontour"
           }
          ],
          "mesh3d": [
           {
            "colorbar": {
             "outlinewidth": 0,
             "ticks": ""
            },
            "type": "mesh3d"
           }
          ],
          "parcoords": [
           {
            "line": {
             "colorbar": {
              "outlinewidth": 0,
              "ticks": ""
             }
            },
            "type": "parcoords"
           }
          ],
          "pie": [
           {
            "automargin": true,
            "type": "pie"
           }
          ],
          "scatter": [
           {
            "fillpattern": {
             "fillmode": "overlay",
             "size": 10,
             "solidity": 0.2
            },
            "type": "scatter"
           }
          ],
          "scatter3d": [
           {
            "line": {
             "colorbar": {
              "outlinewidth": 0,
              "ticks": ""
             }
            },
            "marker": {
             "colorbar": {
              "outlinewidth": 0,
              "ticks": ""
             }
            },
            "type": "scatter3d"
           }
          ],
          "scattercarpet": [
           {
            "marker": {
             "colorbar": {
              "outlinewidth": 0,
              "ticks": ""
             }
            },
            "type": "scattercarpet"
           }
          ],
          "scattergeo": [
           {
            "marker": {
             "colorbar": {
              "outlinewidth": 0,
              "ticks": ""
             }
            },
            "type": "scattergeo"
           }
          ],
          "scattergl": [
           {
            "marker": {
             "colorbar": {
              "outlinewidth": 0,
              "ticks": ""
             }
            },
            "type": "scattergl"
           }
          ],
          "scattermapbox": [
           {
            "marker": {
             "colorbar": {
              "outlinewidth": 0,
              "ticks": ""
             }
            },
            "type": "scattermapbox"
           }
          ],
          "scatterpolar": [
           {
            "marker": {
             "colorbar": {
              "outlinewidth": 0,
              "ticks": ""
             }
            },
            "type": "scatterpolar"
           }
          ],
          "scatterpolargl": [
           {
            "marker": {
             "colorbar": {
              "outlinewidth": 0,
              "ticks": ""
             }
            },
            "type": "scatterpolargl"
           }
          ],
          "scatterternary": [
           {
            "marker": {
             "colorbar": {
              "outlinewidth": 0,
              "ticks": ""
             }
            },
            "type": "scatterternary"
           }
          ],
          "surface": [
           {
            "colorbar": {
             "outlinewidth": 0,
             "ticks": ""
            },
            "colorscale": [
             [
              0,
              "#0d0887"
             ],
             [
              0.1111111111111111,
              "#46039f"
             ],
             [
              0.2222222222222222,
              "#7201a8"
             ],
             [
              0.3333333333333333,
              "#9c179e"
             ],
             [
              0.4444444444444444,
              "#bd3786"
             ],
             [
              0.5555555555555556,
              "#d8576b"
             ],
             [
              0.6666666666666666,
              "#ed7953"
             ],
             [
              0.7777777777777778,
              "#fb9f3a"
             ],
             [
              0.8888888888888888,
              "#fdca26"
             ],
             [
              1,
              "#f0f921"
             ]
            ],
            "type": "surface"
           }
          ],
          "table": [
           {
            "cells": {
             "fill": {
              "color": "#EBF0F8"
             },
             "line": {
              "color": "white"
             }
            },
            "header": {
             "fill": {
              "color": "#C8D4E3"
             },
             "line": {
              "color": "white"
             }
            },
            "type": "table"
           }
          ]
         },
         "layout": {
          "annotationdefaults": {
           "arrowcolor": "#2a3f5f",
           "arrowhead": 0,
           "arrowwidth": 1
          },
          "autotypenumbers": "strict",
          "coloraxis": {
           "colorbar": {
            "outlinewidth": 0,
            "ticks": ""
           }
          },
          "colorscale": {
           "diverging": [
            [
             0,
             "#8e0152"
            ],
            [
             0.1,
             "#c51b7d"
            ],
            [
             0.2,
             "#de77ae"
            ],
            [
             0.3,
             "#f1b6da"
            ],
            [
             0.4,
             "#fde0ef"
            ],
            [
             0.5,
             "#f7f7f7"
            ],
            [
             0.6,
             "#e6f5d0"
            ],
            [
             0.7,
             "#b8e186"
            ],
            [
             0.8,
             "#7fbc41"
            ],
            [
             0.9,
             "#4d9221"
            ],
            [
             1,
             "#276419"
            ]
           ],
           "sequential": [
            [
             0,
             "#0d0887"
            ],
            [
             0.1111111111111111,
             "#46039f"
            ],
            [
             0.2222222222222222,
             "#7201a8"
            ],
            [
             0.3333333333333333,
             "#9c179e"
            ],
            [
             0.4444444444444444,
             "#bd3786"
            ],
            [
             0.5555555555555556,
             "#d8576b"
            ],
            [
             0.6666666666666666,
             "#ed7953"
            ],
            [
             0.7777777777777778,
             "#fb9f3a"
            ],
            [
             0.8888888888888888,
             "#fdca26"
            ],
            [
             1,
             "#f0f921"
            ]
           ],
           "sequentialminus": [
            [
             0,
             "#0d0887"
            ],
            [
             0.1111111111111111,
             "#46039f"
            ],
            [
             0.2222222222222222,
             "#7201a8"
            ],
            [
             0.3333333333333333,
             "#9c179e"
            ],
            [
             0.4444444444444444,
             "#bd3786"
            ],
            [
             0.5555555555555556,
             "#d8576b"
            ],
            [
             0.6666666666666666,
             "#ed7953"
            ],
            [
             0.7777777777777778,
             "#fb9f3a"
            ],
            [
             0.8888888888888888,
             "#fdca26"
            ],
            [
             1,
             "#f0f921"
            ]
           ]
          },
          "colorway": [
           "#636efa",
           "#EF553B",
           "#00cc96",
           "#ab63fa",
           "#FFA15A",
           "#19d3f3",
           "#FF6692",
           "#B6E880",
           "#FF97FF",
           "#FECB52"
          ],
          "font": {
           "color": "#2a3f5f"
          },
          "geo": {
           "bgcolor": "white",
           "lakecolor": "white",
           "landcolor": "#E5ECF6",
           "showlakes": true,
           "showland": true,
           "subunitcolor": "white"
          },
          "hoverlabel": {
           "align": "left"
          },
          "hovermode": "closest",
          "mapbox": {
           "style": "light"
          },
          "paper_bgcolor": "white",
          "plot_bgcolor": "#E5ECF6",
          "polar": {
           "angularaxis": {
            "gridcolor": "white",
            "linecolor": "white",
            "ticks": ""
           },
           "bgcolor": "#E5ECF6",
           "radialaxis": {
            "gridcolor": "white",
            "linecolor": "white",
            "ticks": ""
           }
          },
          "scene": {
           "xaxis": {
            "backgroundcolor": "#E5ECF6",
            "gridcolor": "white",
            "gridwidth": 2,
            "linecolor": "white",
            "showbackground": true,
            "ticks": "",
            "zerolinecolor": "white"
           },
           "yaxis": {
            "backgroundcolor": "#E5ECF6",
            "gridcolor": "white",
            "gridwidth": 2,
            "linecolor": "white",
            "showbackground": true,
            "ticks": "",
            "zerolinecolor": "white"
           },
           "zaxis": {
            "backgroundcolor": "#E5ECF6",
            "gridcolor": "white",
            "gridwidth": 2,
            "linecolor": "white",
            "showbackground": true,
            "ticks": "",
            "zerolinecolor": "white"
           }
          },
          "shapedefaults": {
           "line": {
            "color": "#2a3f5f"
           }
          },
          "ternary": {
           "aaxis": {
            "gridcolor": "white",
            "linecolor": "white",
            "ticks": ""
           },
           "baxis": {
            "gridcolor": "white",
            "linecolor": "white",
            "ticks": ""
           },
           "bgcolor": "#E5ECF6",
           "caxis": {
            "gridcolor": "white",
            "linecolor": "white",
            "ticks": ""
           }
          },
          "title": {
           "x": 0.05
          },
          "xaxis": {
           "automargin": true,
           "gridcolor": "white",
           "linecolor": "white",
           "ticks": "",
           "title": {
            "standoff": 15
           },
           "zerolinecolor": "white",
           "zerolinewidth": 2
          },
          "yaxis": {
           "automargin": true,
           "gridcolor": "white",
           "linecolor": "white",
           "ticks": "",
           "title": {
            "standoff": 15
           },
           "zerolinecolor": "white",
           "zerolinewidth": 2
          }
         }
        }
       }
      }
     },
     "metadata": {},
     "output_type": "display_data"
    }
   ],
   "source": [
    "# Beispiel: Ersetze NaN-Werte in FinishedSqft und Year_Built durch Standardwerte\n",
    "df[\"FinishedSqft\"] = df[\"FinishedSqft\"].fillna(0)\n",
    "df[\"Year_Built\"] = df[\"Year_Built\"].fillna(\n",
    "    df[\"Year_Built\"].mean()\n",
    ")  # z.B. mit dem Durchschnittswert\n",
    "\n",
    "# Alternativ kannst du NaN-Werte aus beiden Spalten entfernen\n",
    "# df = df.dropna(subset=['FinishedSqft', 'Year_Built'])\n",
    "\n",
    "# Erstelle die Scatter Mapbox Karte\n",
    "fig = px.scatter_mapbox(\n",
    "    df,\n",
    "    lat=\"lat\",\n",
    "    lon=\"long\",\n",
    "    size=\"FinishedSqft\",  # Größe der Kreise basierend auf der Quadratmeterzahl\n",
    "    color=\"Sale_price\",  # Farbe basierend auf dem Verkaufspreis\n",
    "    hover_name=\"PropertyID\",\n",
    "    hover_data={\n",
    "        \"Address\": True,\n",
    "        \"Sale_price\": \":$.2f\",\n",
    "        \"Year_Built\": True,\n",
    "        \"Rooms\": True,\n",
    "        \"FinishedSqft\": True,\n",
    "        \"nbhd\": True,\n",
    "    },\n",
    "    mapbox_style=\"carto-positron\",\n",
    "    height=1800,\n",
    "    color_continuous_scale=px.colors.diverging.Tealrose,\n",
    "    size_max=20,\n",
    "    opacity=df[\"Year_Built\"]\n",
    "    / df[\"Year_Built\"].max(),  # Skaliert die Deckkraft basierend auf dem Baujahr\n",
    "    # animation_frame=\"Sale_date\"\n",
    ")\n",
    "\n",
    "# Zeige die Karte an\n",
    "fig.show()"
   ]
  },
  {
   "cell_type": "markdown",
   "metadata": {},
   "source": [
    "## CondoProject\n",
    "\n",
    "Nur ein Bruchteil der Datensätze sind einem CondoProject zugeordnet. Desweiteren gibt es sehr viele verschiedene Ausprägungen des Attributs auf wenig Werte. Für die spätere Featureentwicklung würde sich ein boolscher Wert anbieten, der klassifiziert ob ein Objekt ein Condo Projekt ist oder nicht."
   ]
  },
  {
   "cell_type": "code",
   "execution_count": 113,
   "metadata": {},
   "outputs": [
    {
     "name": "stdout",
     "output_type": "stream",
     "text": [
      "NA values: 1247\n",
      "Unique percentage: 0.99\n",
      "Unique absolute: 85\n"
     ]
    }
   ],
   "source": [
    "basis_statistical_values(df, \"CondoProject\")"
   ]
  },
  {
   "cell_type": "code",
   "execution_count": 115,
   "metadata": {},
   "outputs": [
    {
     "data": {
      "text/plain": [
       "CondoProject\n",
       "1522 ON THE LAKE CONDOMINIUMS     4\n",
       "224 W VINE STREET CONDOMINIUMS    1\n",
       "ARBOR RIDGE                       3\n",
       "BAYVIEW GARDENS                   1\n",
       "BAYVIEW TERRACE                   1\n",
       "                                 ..\n",
       "WILLOW CREEK                      2\n",
       "WILSON PARK MANOR                 1\n",
       "WISCONSIN TOWER                   3\n",
       "WOODLANDS                         8\n",
       "WOODSTOCK CONDOMINIUM             1\n",
       "Name: PropertyID, Length: 84, dtype: int64"
      ]
     },
     "execution_count": 115,
     "metadata": {},
     "output_type": "execute_result"
    }
   ],
   "source": [
    "df_condo_project = (\n",
    "    df.dropna(subset=[\"CondoProject\"]).groupby(\"CondoProject\").count()[\"PropertyID\"]\n",
    ")\n",
    "df_condo_project"
   ]
  },
  {
   "cell_type": "code",
   "execution_count": 42,
   "metadata": {},
   "outputs": [
    {
     "data": {
      "application/vnd.plotly.v1+json": {
       "config": {
        "plotlyServerURL": "https://plot.ly"
       },
       "data": [
        {
         "alignmentgroup": "True",
         "hovertemplate": "CondoProject=%{x}<br>PropertyID=%{y}<extra></extra>",
         "legendgroup": "",
         "marker": {
          "color": "#636efa",
          "pattern": {
           "shape": ""
          }
         },
         "name": "",
         "offsetgroup": "",
         "orientation": "v",
         "showlegend": false,
         "textposition": "auto",
         "type": "bar",
         "x": [
          "MILL VALLEY",
          "WOODLANDS",
          "VILLA DU COURS (ELEVATOR)",
          "BROADWAY CONDOMINIUM",
          "CLOISTERS NW",
          "UNION POINT CONDOMINIUM",
          "RIVERBRIDGE",
          "CHALET",
          "SERVITE WOODS (ATRIUM)",
          "EDGE CONDOMINIUMS",
          "1522 ON THE LAKE CONDOMINIUMS",
          "NEWPORT WEST",
          "BLATZ ",
          "SHOEWORKS LOFTS",
          "HEATHERS PARK",
          "WESTERN LEATHER LOFTS",
          "ARBOR RIDGE",
          "LANDMARK ON THE LAKE",
          "WISCONSIN TOWER",
          "ROYAL ORLEANS",
          "KNICKERBOCKER ON THE LAKE",
          "L'HERMITAGE CONDOMINIUM",
          "PARKWAY VILLAGE PHASE II & III",
          "RIVER RENAISSANCE",
          "LAFAYETTE HILL",
          "RED OAKS V",
          "MARINE TERMINAL LOFTS",
          "HI-FI LOFTS CONDOMINIUMS",
          "GRAIN EXCHANGE CONDOS",
          "PARNELL WOODS",
          "BREAKWATER CONDOS",
          "GORDON KNOLL",
          "EDGEWATER TERRACE",
          "COURTYARD SQUARE",
          "CAMBRIDGE TERRACE CONDOMINIUM",
          "CHATEAU",
          "WILLOW CREEK",
          "COMMISSION HOUSE CONDOS",
          "WHISPERING HILLS (ELEVATOR)",
          "RAVINA PARC",
          "WILSON PARK MANOR",
          "REGENCY HOUSE",
          "RESERVOIR STREET LOFTS",
          "SKY CONDO 2",
          "RIVER WOODS-ASH-(THE GLADES) ",
          "SPRING TERRACE NORTH",
          "WATERS EDGE",
          "RIVERWALK PLAZA",
          "WATERFRONT CONDO",
          "UNIVERSITY CLUB TOWER CONDOS",
          "STERLING CONDOMINIUM",
          "SERVITE WOODS (TRILEVEL & BILEVEL)",
          "POINT ON THE RIVER CONDOS",
          "RIVERCREST CONDOMINIUM",
          "MAISONETTE CONDOMINIUMS ",
          "PATIO HOMES AT CHEROKEE POINT CONDO",
          "GRANVILLE HEIGHTS",
          "BAYVIEW GARDENS",
          "BAYVIEW TERRACE",
          "BREWERY LOFTS",
          "CITY GREEN CONDOMINIUM",
          "CITY VIEW/SKYLINE CONDOS",
          "COBBLERS LOFTS",
          "CORNERSTONE CROSSING",
          "DIAMOND TOWER",
          "EAST LLOYD STREET CONDOS",
          "FENWICK CONDOMINIUM",
          "FOREST RIDGE VILLAGE",
          "GEORGETOWN EAST",
          "HEATHERS",
          "PARKWAY VILLAGE (1)",
          "HIGH BRIDGE CONDOS",
          "HIGHLANDS 2",
          "JADE GARDENS",
          "KILBOURN ROW",
          "LAKE BLUFF AT EAST TOWN CONDOMINIUM",
          "LOFTS ON BROADWAY",
          "224 W VINE STREET CONDOMINIUMS",
          "MAPLE TERRACE",
          "MCCORMICK ON FARWELL",
          "NORTHRIDGE EASTBAY",
          "NORTHRIDGE WOOD LAKE",
          "PARKVIEW CONDOMINIUM",
          "WOODSTOCK CONDOMINIUM"
         ],
         "xaxis": "x",
         "y": [
          9,
          8,
          8,
          6,
          5,
          5,
          5,
          4,
          4,
          4,
          4,
          3,
          3,
          3,
          3,
          3,
          3,
          3,
          3,
          2,
          2,
          2,
          2,
          2,
          2,
          2,
          2,
          2,
          2,
          2,
          2,
          2,
          2,
          2,
          2,
          2,
          2,
          2,
          1,
          1,
          1,
          1,
          1,
          1,
          1,
          1,
          1,
          1,
          1,
          1,
          1,
          1,
          1,
          1,
          1,
          1,
          1,
          1,
          1,
          1,
          1,
          1,
          1,
          1,
          1,
          1,
          1,
          1,
          1,
          1,
          1,
          1,
          1,
          1,
          1,
          1,
          1,
          1,
          1,
          1,
          1,
          1,
          1,
          1
         ],
         "yaxis": "y"
        }
       ],
       "layout": {
        "barmode": "relative",
        "legend": {
         "tracegroupgap": 0
        },
        "margin": {
         "t": 60
        },
        "template": {
         "data": {
          "bar": [
           {
            "error_x": {
             "color": "#2a3f5f"
            },
            "error_y": {
             "color": "#2a3f5f"
            },
            "marker": {
             "line": {
              "color": "#E5ECF6",
              "width": 0.5
             },
             "pattern": {
              "fillmode": "overlay",
              "size": 10,
              "solidity": 0.2
             }
            },
            "type": "bar"
           }
          ],
          "barpolar": [
           {
            "marker": {
             "line": {
              "color": "#E5ECF6",
              "width": 0.5
             },
             "pattern": {
              "fillmode": "overlay",
              "size": 10,
              "solidity": 0.2
             }
            },
            "type": "barpolar"
           }
          ],
          "carpet": [
           {
            "aaxis": {
             "endlinecolor": "#2a3f5f",
             "gridcolor": "white",
             "linecolor": "white",
             "minorgridcolor": "white",
             "startlinecolor": "#2a3f5f"
            },
            "baxis": {
             "endlinecolor": "#2a3f5f",
             "gridcolor": "white",
             "linecolor": "white",
             "minorgridcolor": "white",
             "startlinecolor": "#2a3f5f"
            },
            "type": "carpet"
           }
          ],
          "choropleth": [
           {
            "colorbar": {
             "outlinewidth": 0,
             "ticks": ""
            },
            "type": "choropleth"
           }
          ],
          "contour": [
           {
            "colorbar": {
             "outlinewidth": 0,
             "ticks": ""
            },
            "colorscale": [
             [
              0,
              "#0d0887"
             ],
             [
              0.1111111111111111,
              "#46039f"
             ],
             [
              0.2222222222222222,
              "#7201a8"
             ],
             [
              0.3333333333333333,
              "#9c179e"
             ],
             [
              0.4444444444444444,
              "#bd3786"
             ],
             [
              0.5555555555555556,
              "#d8576b"
             ],
             [
              0.6666666666666666,
              "#ed7953"
             ],
             [
              0.7777777777777778,
              "#fb9f3a"
             ],
             [
              0.8888888888888888,
              "#fdca26"
             ],
             [
              1,
              "#f0f921"
             ]
            ],
            "type": "contour"
           }
          ],
          "contourcarpet": [
           {
            "colorbar": {
             "outlinewidth": 0,
             "ticks": ""
            },
            "type": "contourcarpet"
           }
          ],
          "heatmap": [
           {
            "colorbar": {
             "outlinewidth": 0,
             "ticks": ""
            },
            "colorscale": [
             [
              0,
              "#0d0887"
             ],
             [
              0.1111111111111111,
              "#46039f"
             ],
             [
              0.2222222222222222,
              "#7201a8"
             ],
             [
              0.3333333333333333,
              "#9c179e"
             ],
             [
              0.4444444444444444,
              "#bd3786"
             ],
             [
              0.5555555555555556,
              "#d8576b"
             ],
             [
              0.6666666666666666,
              "#ed7953"
             ],
             [
              0.7777777777777778,
              "#fb9f3a"
             ],
             [
              0.8888888888888888,
              "#fdca26"
             ],
             [
              1,
              "#f0f921"
             ]
            ],
            "type": "heatmap"
           }
          ],
          "heatmapgl": [
           {
            "colorbar": {
             "outlinewidth": 0,
             "ticks": ""
            },
            "colorscale": [
             [
              0,
              "#0d0887"
             ],
             [
              0.1111111111111111,
              "#46039f"
             ],
             [
              0.2222222222222222,
              "#7201a8"
             ],
             [
              0.3333333333333333,
              "#9c179e"
             ],
             [
              0.4444444444444444,
              "#bd3786"
             ],
             [
              0.5555555555555556,
              "#d8576b"
             ],
             [
              0.6666666666666666,
              "#ed7953"
             ],
             [
              0.7777777777777778,
              "#fb9f3a"
             ],
             [
              0.8888888888888888,
              "#fdca26"
             ],
             [
              1,
              "#f0f921"
             ]
            ],
            "type": "heatmapgl"
           }
          ],
          "histogram": [
           {
            "marker": {
             "pattern": {
              "fillmode": "overlay",
              "size": 10,
              "solidity": 0.2
             }
            },
            "type": "histogram"
           }
          ],
          "histogram2d": [
           {
            "colorbar": {
             "outlinewidth": 0,
             "ticks": ""
            },
            "colorscale": [
             [
              0,
              "#0d0887"
             ],
             [
              0.1111111111111111,
              "#46039f"
             ],
             [
              0.2222222222222222,
              "#7201a8"
             ],
             [
              0.3333333333333333,
              "#9c179e"
             ],
             [
              0.4444444444444444,
              "#bd3786"
             ],
             [
              0.5555555555555556,
              "#d8576b"
             ],
             [
              0.6666666666666666,
              "#ed7953"
             ],
             [
              0.7777777777777778,
              "#fb9f3a"
             ],
             [
              0.8888888888888888,
              "#fdca26"
             ],
             [
              1,
              "#f0f921"
             ]
            ],
            "type": "histogram2d"
           }
          ],
          "histogram2dcontour": [
           {
            "colorbar": {
             "outlinewidth": 0,
             "ticks": ""
            },
            "colorscale": [
             [
              0,
              "#0d0887"
             ],
             [
              0.1111111111111111,
              "#46039f"
             ],
             [
              0.2222222222222222,
              "#7201a8"
             ],
             [
              0.3333333333333333,
              "#9c179e"
             ],
             [
              0.4444444444444444,
              "#bd3786"
             ],
             [
              0.5555555555555556,
              "#d8576b"
             ],
             [
              0.6666666666666666,
              "#ed7953"
             ],
             [
              0.7777777777777778,
              "#fb9f3a"
             ],
             [
              0.8888888888888888,
              "#fdca26"
             ],
             [
              1,
              "#f0f921"
             ]
            ],
            "type": "histogram2dcontour"
           }
          ],
          "mesh3d": [
           {
            "colorbar": {
             "outlinewidth": 0,
             "ticks": ""
            },
            "type": "mesh3d"
           }
          ],
          "parcoords": [
           {
            "line": {
             "colorbar": {
              "outlinewidth": 0,
              "ticks": ""
             }
            },
            "type": "parcoords"
           }
          ],
          "pie": [
           {
            "automargin": true,
            "type": "pie"
           }
          ],
          "scatter": [
           {
            "fillpattern": {
             "fillmode": "overlay",
             "size": 10,
             "solidity": 0.2
            },
            "type": "scatter"
           }
          ],
          "scatter3d": [
           {
            "line": {
             "colorbar": {
              "outlinewidth": 0,
              "ticks": ""
             }
            },
            "marker": {
             "colorbar": {
              "outlinewidth": 0,
              "ticks": ""
             }
            },
            "type": "scatter3d"
           }
          ],
          "scattercarpet": [
           {
            "marker": {
             "colorbar": {
              "outlinewidth": 0,
              "ticks": ""
             }
            },
            "type": "scattercarpet"
           }
          ],
          "scattergeo": [
           {
            "marker": {
             "colorbar": {
              "outlinewidth": 0,
              "ticks": ""
             }
            },
            "type": "scattergeo"
           }
          ],
          "scattergl": [
           {
            "marker": {
             "colorbar": {
              "outlinewidth": 0,
              "ticks": ""
             }
            },
            "type": "scattergl"
           }
          ],
          "scattermapbox": [
           {
            "marker": {
             "colorbar": {
              "outlinewidth": 0,
              "ticks": ""
             }
            },
            "type": "scattermapbox"
           }
          ],
          "scatterpolar": [
           {
            "marker": {
             "colorbar": {
              "outlinewidth": 0,
              "ticks": ""
             }
            },
            "type": "scatterpolar"
           }
          ],
          "scatterpolargl": [
           {
            "marker": {
             "colorbar": {
              "outlinewidth": 0,
              "ticks": ""
             }
            },
            "type": "scatterpolargl"
           }
          ],
          "scatterternary": [
           {
            "marker": {
             "colorbar": {
              "outlinewidth": 0,
              "ticks": ""
             }
            },
            "type": "scatterternary"
           }
          ],
          "surface": [
           {
            "colorbar": {
             "outlinewidth": 0,
             "ticks": ""
            },
            "colorscale": [
             [
              0,
              "#0d0887"
             ],
             [
              0.1111111111111111,
              "#46039f"
             ],
             [
              0.2222222222222222,
              "#7201a8"
             ],
             [
              0.3333333333333333,
              "#9c179e"
             ],
             [
              0.4444444444444444,
              "#bd3786"
             ],
             [
              0.5555555555555556,
              "#d8576b"
             ],
             [
              0.6666666666666666,
              "#ed7953"
             ],
             [
              0.7777777777777778,
              "#fb9f3a"
             ],
             [
              0.8888888888888888,
              "#fdca26"
             ],
             [
              1,
              "#f0f921"
             ]
            ],
            "type": "surface"
           }
          ],
          "table": [
           {
            "cells": {
             "fill": {
              "color": "#EBF0F8"
             },
             "line": {
              "color": "white"
             }
            },
            "header": {
             "fill": {
              "color": "#C8D4E3"
             },
             "line": {
              "color": "white"
             }
            },
            "type": "table"
           }
          ]
         },
         "layout": {
          "annotationdefaults": {
           "arrowcolor": "#2a3f5f",
           "arrowhead": 0,
           "arrowwidth": 1
          },
          "autotypenumbers": "strict",
          "coloraxis": {
           "colorbar": {
            "outlinewidth": 0,
            "ticks": ""
           }
          },
          "colorscale": {
           "diverging": [
            [
             0,
             "#8e0152"
            ],
            [
             0.1,
             "#c51b7d"
            ],
            [
             0.2,
             "#de77ae"
            ],
            [
             0.3,
             "#f1b6da"
            ],
            [
             0.4,
             "#fde0ef"
            ],
            [
             0.5,
             "#f7f7f7"
            ],
            [
             0.6,
             "#e6f5d0"
            ],
            [
             0.7,
             "#b8e186"
            ],
            [
             0.8,
             "#7fbc41"
            ],
            [
             0.9,
             "#4d9221"
            ],
            [
             1,
             "#276419"
            ]
           ],
           "sequential": [
            [
             0,
             "#0d0887"
            ],
            [
             0.1111111111111111,
             "#46039f"
            ],
            [
             0.2222222222222222,
             "#7201a8"
            ],
            [
             0.3333333333333333,
             "#9c179e"
            ],
            [
             0.4444444444444444,
             "#bd3786"
            ],
            [
             0.5555555555555556,
             "#d8576b"
            ],
            [
             0.6666666666666666,
             "#ed7953"
            ],
            [
             0.7777777777777778,
             "#fb9f3a"
            ],
            [
             0.8888888888888888,
             "#fdca26"
            ],
            [
             1,
             "#f0f921"
            ]
           ],
           "sequentialminus": [
            [
             0,
             "#0d0887"
            ],
            [
             0.1111111111111111,
             "#46039f"
            ],
            [
             0.2222222222222222,
             "#7201a8"
            ],
            [
             0.3333333333333333,
             "#9c179e"
            ],
            [
             0.4444444444444444,
             "#bd3786"
            ],
            [
             0.5555555555555556,
             "#d8576b"
            ],
            [
             0.6666666666666666,
             "#ed7953"
            ],
            [
             0.7777777777777778,
             "#fb9f3a"
            ],
            [
             0.8888888888888888,
             "#fdca26"
            ],
            [
             1,
             "#f0f921"
            ]
           ]
          },
          "colorway": [
           "#636efa",
           "#EF553B",
           "#00cc96",
           "#ab63fa",
           "#FFA15A",
           "#19d3f3",
           "#FF6692",
           "#B6E880",
           "#FF97FF",
           "#FECB52"
          ],
          "font": {
           "color": "#2a3f5f"
          },
          "geo": {
           "bgcolor": "white",
           "lakecolor": "white",
           "landcolor": "#E5ECF6",
           "showlakes": true,
           "showland": true,
           "subunitcolor": "white"
          },
          "hoverlabel": {
           "align": "left"
          },
          "hovermode": "closest",
          "mapbox": {
           "style": "light"
          },
          "paper_bgcolor": "white",
          "plot_bgcolor": "#E5ECF6",
          "polar": {
           "angularaxis": {
            "gridcolor": "white",
            "linecolor": "white",
            "ticks": ""
           },
           "bgcolor": "#E5ECF6",
           "radialaxis": {
            "gridcolor": "white",
            "linecolor": "white",
            "ticks": ""
           }
          },
          "scene": {
           "xaxis": {
            "backgroundcolor": "#E5ECF6",
            "gridcolor": "white",
            "gridwidth": 2,
            "linecolor": "white",
            "showbackground": true,
            "ticks": "",
            "zerolinecolor": "white"
           },
           "yaxis": {
            "backgroundcolor": "#E5ECF6",
            "gridcolor": "white",
            "gridwidth": 2,
            "linecolor": "white",
            "showbackground": true,
            "ticks": "",
            "zerolinecolor": "white"
           },
           "zaxis": {
            "backgroundcolor": "#E5ECF6",
            "gridcolor": "white",
            "gridwidth": 2,
            "linecolor": "white",
            "showbackground": true,
            "ticks": "",
            "zerolinecolor": "white"
           }
          },
          "shapedefaults": {
           "line": {
            "color": "#2a3f5f"
           }
          },
          "ternary": {
           "aaxis": {
            "gridcolor": "white",
            "linecolor": "white",
            "ticks": ""
           },
           "baxis": {
            "gridcolor": "white",
            "linecolor": "white",
            "ticks": ""
           },
           "bgcolor": "#E5ECF6",
           "caxis": {
            "gridcolor": "white",
            "linecolor": "white",
            "ticks": ""
           }
          },
          "title": {
           "x": 0.05
          },
          "xaxis": {
           "automargin": true,
           "gridcolor": "white",
           "linecolor": "white",
           "ticks": "",
           "title": {
            "standoff": 15
           },
           "zerolinecolor": "white",
           "zerolinewidth": 2
          },
          "yaxis": {
           "automargin": true,
           "gridcolor": "white",
           "linecolor": "white",
           "ticks": "",
           "title": {
            "standoff": 15
           },
           "zerolinecolor": "white",
           "zerolinewidth": 2
          }
         }
        },
        "xaxis": {
         "anchor": "y",
         "domain": [
          0,
          1
         ],
         "title": {
          "text": "CondoProject"
         }
        },
        "yaxis": {
         "anchor": "x",
         "domain": [
          0,
          1
         ],
         "title": {
          "text": "PropertyID"
         }
        }
       }
      }
     },
     "metadata": {},
     "output_type": "display_data"
    }
   ],
   "source": [
    "px.bar(\n",
    "    df_condo_project.sort_values(by=\"PropertyID\", ascending=False),\n",
    "    y=\"PropertyID\",\n",
    ")"
   ]
  },
  {
   "cell_type": "code",
   "execution_count": 122,
   "metadata": {},
   "outputs": [],
   "source": [
    "df[\"is_condo_project\"] = df[\"CondoProject\"].isna() == False"
   ]
  },
  {
   "cell_type": "code",
   "execution_count": 126,
   "metadata": {},
   "outputs": [
    {
     "data": {
      "text/plain": [
       "Index(['PropertyID', 'PropType', 'taxkey', 'Address', 'CondoProject',\n",
       "       'District', 'nbhd', 'Style', 'Extwall', 'Stories', 'Year_Built',\n",
       "       'Rooms', 'FinishedSqft', 'Units', 'Bdrms', 'Fbath', 'Hbath', 'Lotsize',\n",
       "       'Sale_date', 'Sale_price', 'lat', 'long', 'is_condo_project'],\n",
       "      dtype='object')"
      ]
     },
     "execution_count": 126,
     "metadata": {},
     "output_type": "execute_result"
    }
   ],
   "source": [
    "df.columns"
   ]
  },
  {
   "cell_type": "code",
   "execution_count": 132,
   "metadata": {},
   "outputs": [
    {
     "data": {
      "text/html": [
       "<div>\n",
       "<style scoped>\n",
       "    .dataframe tbody tr th:only-of-type {\n",
       "        vertical-align: middle;\n",
       "    }\n",
       "\n",
       "    .dataframe tbody tr th {\n",
       "        vertical-align: top;\n",
       "    }\n",
       "\n",
       "    .dataframe thead th {\n",
       "        text-align: right;\n",
       "    }\n",
       "</style>\n",
       "<table border=\"1\" class=\"dataframe\">\n",
       "  <thead>\n",
       "    <tr style=\"text-align: right;\">\n",
       "      <th></th>\n",
       "      <th>PropertyID</th>\n",
       "      <th>PropType</th>\n",
       "      <th>taxkey</th>\n",
       "      <th>Address</th>\n",
       "      <th>CondoProject</th>\n",
       "      <th>District</th>\n",
       "      <th>nbhd</th>\n",
       "      <th>Style</th>\n",
       "      <th>Extwall</th>\n",
       "      <th>Stories</th>\n",
       "      <th>...</th>\n",
       "      <th>FinishedSqft</th>\n",
       "      <th>Units</th>\n",
       "      <th>Bdrms</th>\n",
       "      <th>Fbath</th>\n",
       "      <th>Hbath</th>\n",
       "      <th>Lotsize</th>\n",
       "      <th>Sale_date</th>\n",
       "      <th>Sale_price</th>\n",
       "      <th>lat</th>\n",
       "      <th>long</th>\n",
       "    </tr>\n",
       "    <tr>\n",
       "      <th>is_condo_project</th>\n",
       "      <th></th>\n",
       "      <th></th>\n",
       "      <th></th>\n",
       "      <th></th>\n",
       "      <th></th>\n",
       "      <th></th>\n",
       "      <th></th>\n",
       "      <th></th>\n",
       "      <th></th>\n",
       "      <th></th>\n",
       "      <th></th>\n",
       "      <th></th>\n",
       "      <th></th>\n",
       "      <th></th>\n",
       "      <th></th>\n",
       "      <th></th>\n",
       "      <th></th>\n",
       "      <th></th>\n",
       "      <th></th>\n",
       "      <th></th>\n",
       "      <th></th>\n",
       "    </tr>\n",
       "  </thead>\n",
       "  <tbody>\n",
       "    <tr>\n",
       "      <th>False</th>\n",
       "      <td>1247</td>\n",
       "      <td>1247</td>\n",
       "      <td>1247</td>\n",
       "      <td>1247</td>\n",
       "      <td>0</td>\n",
       "      <td>1247</td>\n",
       "      <td>1247</td>\n",
       "      <td>1241</td>\n",
       "      <td>1236</td>\n",
       "      <td>1244</td>\n",
       "      <td>...</td>\n",
       "      <td>1247</td>\n",
       "      <td>1247</td>\n",
       "      <td>1178</td>\n",
       "      <td>1247</td>\n",
       "      <td>1247</td>\n",
       "      <td>1247</td>\n",
       "      <td>1247</td>\n",
       "      <td>1247</td>\n",
       "      <td>1134</td>\n",
       "      <td>1134</td>\n",
       "    </tr>\n",
       "    <tr>\n",
       "      <th>True</th>\n",
       "      <td>170</td>\n",
       "      <td>170</td>\n",
       "      <td>170</td>\n",
       "      <td>170</td>\n",
       "      <td>170</td>\n",
       "      <td>170</td>\n",
       "      <td>170</td>\n",
       "      <td>170</td>\n",
       "      <td>0</td>\n",
       "      <td>168</td>\n",
       "      <td>...</td>\n",
       "      <td>170</td>\n",
       "      <td>170</td>\n",
       "      <td>169</td>\n",
       "      <td>170</td>\n",
       "      <td>170</td>\n",
       "      <td>170</td>\n",
       "      <td>170</td>\n",
       "      <td>170</td>\n",
       "      <td>97</td>\n",
       "      <td>97</td>\n",
       "    </tr>\n",
       "  </tbody>\n",
       "</table>\n",
       "<p>2 rows × 22 columns</p>\n",
       "</div>"
      ],
      "text/plain": [
       "                  PropertyID  PropType  taxkey  Address  CondoProject  \\\n",
       "is_condo_project                                                        \n",
       "False                   1247      1247    1247     1247             0   \n",
       "True                     170       170     170      170           170   \n",
       "\n",
       "                  District  nbhd  Style  Extwall  Stories  ...  FinishedSqft  \\\n",
       "is_condo_project                                           ...                 \n",
       "False                 1247  1247   1241     1236     1244  ...          1247   \n",
       "True                   170   170    170        0      168  ...           170   \n",
       "\n",
       "                  Units  Bdrms  Fbath  Hbath  Lotsize  Sale_date  Sale_price  \\\n",
       "is_condo_project                                                               \n",
       "False              1247   1178   1247   1247     1247       1247        1247   \n",
       "True                170    169    170    170      170        170         170   \n",
       "\n",
       "                   lat  long  \n",
       "is_condo_project              \n",
       "False             1134  1134  \n",
       "True                97    97  \n",
       "\n",
       "[2 rows x 22 columns]"
      ]
     },
     "execution_count": 132,
     "metadata": {},
     "output_type": "execute_result"
    }
   ],
   "source": [
    "df_is_condo_project_grouped"
   ]
  },
  {
   "cell_type": "code",
   "execution_count": 134,
   "metadata": {},
   "outputs": [
    {
     "data": {
      "application/vnd.plotly.v1+json": {
       "config": {
        "plotlyServerURL": "https://plot.ly"
       },
       "data": [
        {
         "domain": {
          "x": [
           0,
           1
          ],
          "y": [
           0,
           1
          ]
         },
         "hovertemplate": "label=%{label}<br>PropertyID=%{value}<extra></extra>",
         "labels": [
          "Kein Condo Projekt",
          "Condo Projekt"
         ],
         "legendgroup": "",
         "name": "",
         "showlegend": true,
         "type": "pie",
         "values": [
          1247,
          170
         ]
        }
       ],
       "layout": {
        "legend": {
         "tracegroupgap": 0
        },
        "margin": {
         "t": 60
        },
        "template": {
         "data": {
          "bar": [
           {
            "error_x": {
             "color": "#2a3f5f"
            },
            "error_y": {
             "color": "#2a3f5f"
            },
            "marker": {
             "line": {
              "color": "#E5ECF6",
              "width": 0.5
             },
             "pattern": {
              "fillmode": "overlay",
              "size": 10,
              "solidity": 0.2
             }
            },
            "type": "bar"
           }
          ],
          "barpolar": [
           {
            "marker": {
             "line": {
              "color": "#E5ECF6",
              "width": 0.5
             },
             "pattern": {
              "fillmode": "overlay",
              "size": 10,
              "solidity": 0.2
             }
            },
            "type": "barpolar"
           }
          ],
          "carpet": [
           {
            "aaxis": {
             "endlinecolor": "#2a3f5f",
             "gridcolor": "white",
             "linecolor": "white",
             "minorgridcolor": "white",
             "startlinecolor": "#2a3f5f"
            },
            "baxis": {
             "endlinecolor": "#2a3f5f",
             "gridcolor": "white",
             "linecolor": "white",
             "minorgridcolor": "white",
             "startlinecolor": "#2a3f5f"
            },
            "type": "carpet"
           }
          ],
          "choropleth": [
           {
            "colorbar": {
             "outlinewidth": 0,
             "ticks": ""
            },
            "type": "choropleth"
           }
          ],
          "contour": [
           {
            "colorbar": {
             "outlinewidth": 0,
             "ticks": ""
            },
            "colorscale": [
             [
              0,
              "#0d0887"
             ],
             [
              0.1111111111111111,
              "#46039f"
             ],
             [
              0.2222222222222222,
              "#7201a8"
             ],
             [
              0.3333333333333333,
              "#9c179e"
             ],
             [
              0.4444444444444444,
              "#bd3786"
             ],
             [
              0.5555555555555556,
              "#d8576b"
             ],
             [
              0.6666666666666666,
              "#ed7953"
             ],
             [
              0.7777777777777778,
              "#fb9f3a"
             ],
             [
              0.8888888888888888,
              "#fdca26"
             ],
             [
              1,
              "#f0f921"
             ]
            ],
            "type": "contour"
           }
          ],
          "contourcarpet": [
           {
            "colorbar": {
             "outlinewidth": 0,
             "ticks": ""
            },
            "type": "contourcarpet"
           }
          ],
          "heatmap": [
           {
            "colorbar": {
             "outlinewidth": 0,
             "ticks": ""
            },
            "colorscale": [
             [
              0,
              "#0d0887"
             ],
             [
              0.1111111111111111,
              "#46039f"
             ],
             [
              0.2222222222222222,
              "#7201a8"
             ],
             [
              0.3333333333333333,
              "#9c179e"
             ],
             [
              0.4444444444444444,
              "#bd3786"
             ],
             [
              0.5555555555555556,
              "#d8576b"
             ],
             [
              0.6666666666666666,
              "#ed7953"
             ],
             [
              0.7777777777777778,
              "#fb9f3a"
             ],
             [
              0.8888888888888888,
              "#fdca26"
             ],
             [
              1,
              "#f0f921"
             ]
            ],
            "type": "heatmap"
           }
          ],
          "heatmapgl": [
           {
            "colorbar": {
             "outlinewidth": 0,
             "ticks": ""
            },
            "colorscale": [
             [
              0,
              "#0d0887"
             ],
             [
              0.1111111111111111,
              "#46039f"
             ],
             [
              0.2222222222222222,
              "#7201a8"
             ],
             [
              0.3333333333333333,
              "#9c179e"
             ],
             [
              0.4444444444444444,
              "#bd3786"
             ],
             [
              0.5555555555555556,
              "#d8576b"
             ],
             [
              0.6666666666666666,
              "#ed7953"
             ],
             [
              0.7777777777777778,
              "#fb9f3a"
             ],
             [
              0.8888888888888888,
              "#fdca26"
             ],
             [
              1,
              "#f0f921"
             ]
            ],
            "type": "heatmapgl"
           }
          ],
          "histogram": [
           {
            "marker": {
             "pattern": {
              "fillmode": "overlay",
              "size": 10,
              "solidity": 0.2
             }
            },
            "type": "histogram"
           }
          ],
          "histogram2d": [
           {
            "colorbar": {
             "outlinewidth": 0,
             "ticks": ""
            },
            "colorscale": [
             [
              0,
              "#0d0887"
             ],
             [
              0.1111111111111111,
              "#46039f"
             ],
             [
              0.2222222222222222,
              "#7201a8"
             ],
             [
              0.3333333333333333,
              "#9c179e"
             ],
             [
              0.4444444444444444,
              "#bd3786"
             ],
             [
              0.5555555555555556,
              "#d8576b"
             ],
             [
              0.6666666666666666,
              "#ed7953"
             ],
             [
              0.7777777777777778,
              "#fb9f3a"
             ],
             [
              0.8888888888888888,
              "#fdca26"
             ],
             [
              1,
              "#f0f921"
             ]
            ],
            "type": "histogram2d"
           }
          ],
          "histogram2dcontour": [
           {
            "colorbar": {
             "outlinewidth": 0,
             "ticks": ""
            },
            "colorscale": [
             [
              0,
              "#0d0887"
             ],
             [
              0.1111111111111111,
              "#46039f"
             ],
             [
              0.2222222222222222,
              "#7201a8"
             ],
             [
              0.3333333333333333,
              "#9c179e"
             ],
             [
              0.4444444444444444,
              "#bd3786"
             ],
             [
              0.5555555555555556,
              "#d8576b"
             ],
             [
              0.6666666666666666,
              "#ed7953"
             ],
             [
              0.7777777777777778,
              "#fb9f3a"
             ],
             [
              0.8888888888888888,
              "#fdca26"
             ],
             [
              1,
              "#f0f921"
             ]
            ],
            "type": "histogram2dcontour"
           }
          ],
          "mesh3d": [
           {
            "colorbar": {
             "outlinewidth": 0,
             "ticks": ""
            },
            "type": "mesh3d"
           }
          ],
          "parcoords": [
           {
            "line": {
             "colorbar": {
              "outlinewidth": 0,
              "ticks": ""
             }
            },
            "type": "parcoords"
           }
          ],
          "pie": [
           {
            "automargin": true,
            "type": "pie"
           }
          ],
          "scatter": [
           {
            "fillpattern": {
             "fillmode": "overlay",
             "size": 10,
             "solidity": 0.2
            },
            "type": "scatter"
           }
          ],
          "scatter3d": [
           {
            "line": {
             "colorbar": {
              "outlinewidth": 0,
              "ticks": ""
             }
            },
            "marker": {
             "colorbar": {
              "outlinewidth": 0,
              "ticks": ""
             }
            },
            "type": "scatter3d"
           }
          ],
          "scattercarpet": [
           {
            "marker": {
             "colorbar": {
              "outlinewidth": 0,
              "ticks": ""
             }
            },
            "type": "scattercarpet"
           }
          ],
          "scattergeo": [
           {
            "marker": {
             "colorbar": {
              "outlinewidth": 0,
              "ticks": ""
             }
            },
            "type": "scattergeo"
           }
          ],
          "scattergl": [
           {
            "marker": {
             "colorbar": {
              "outlinewidth": 0,
              "ticks": ""
             }
            },
            "type": "scattergl"
           }
          ],
          "scattermapbox": [
           {
            "marker": {
             "colorbar": {
              "outlinewidth": 0,
              "ticks": ""
             }
            },
            "type": "scattermapbox"
           }
          ],
          "scatterpolar": [
           {
            "marker": {
             "colorbar": {
              "outlinewidth": 0,
              "ticks": ""
             }
            },
            "type": "scatterpolar"
           }
          ],
          "scatterpolargl": [
           {
            "marker": {
             "colorbar": {
              "outlinewidth": 0,
              "ticks": ""
             }
            },
            "type": "scatterpolargl"
           }
          ],
          "scatterternary": [
           {
            "marker": {
             "colorbar": {
              "outlinewidth": 0,
              "ticks": ""
             }
            },
            "type": "scatterternary"
           }
          ],
          "surface": [
           {
            "colorbar": {
             "outlinewidth": 0,
             "ticks": ""
            },
            "colorscale": [
             [
              0,
              "#0d0887"
             ],
             [
              0.1111111111111111,
              "#46039f"
             ],
             [
              0.2222222222222222,
              "#7201a8"
             ],
             [
              0.3333333333333333,
              "#9c179e"
             ],
             [
              0.4444444444444444,
              "#bd3786"
             ],
             [
              0.5555555555555556,
              "#d8576b"
             ],
             [
              0.6666666666666666,
              "#ed7953"
             ],
             [
              0.7777777777777778,
              "#fb9f3a"
             ],
             [
              0.8888888888888888,
              "#fdca26"
             ],
             [
              1,
              "#f0f921"
             ]
            ],
            "type": "surface"
           }
          ],
          "table": [
           {
            "cells": {
             "fill": {
              "color": "#EBF0F8"
             },
             "line": {
              "color": "white"
             }
            },
            "header": {
             "fill": {
              "color": "#C8D4E3"
             },
             "line": {
              "color": "white"
             }
            },
            "type": "table"
           }
          ]
         },
         "layout": {
          "annotationdefaults": {
           "arrowcolor": "#2a3f5f",
           "arrowhead": 0,
           "arrowwidth": 1
          },
          "autotypenumbers": "strict",
          "coloraxis": {
           "colorbar": {
            "outlinewidth": 0,
            "ticks": ""
           }
          },
          "colorscale": {
           "diverging": [
            [
             0,
             "#8e0152"
            ],
            [
             0.1,
             "#c51b7d"
            ],
            [
             0.2,
             "#de77ae"
            ],
            [
             0.3,
             "#f1b6da"
            ],
            [
             0.4,
             "#fde0ef"
            ],
            [
             0.5,
             "#f7f7f7"
            ],
            [
             0.6,
             "#e6f5d0"
            ],
            [
             0.7,
             "#b8e186"
            ],
            [
             0.8,
             "#7fbc41"
            ],
            [
             0.9,
             "#4d9221"
            ],
            [
             1,
             "#276419"
            ]
           ],
           "sequential": [
            [
             0,
             "#0d0887"
            ],
            [
             0.1111111111111111,
             "#46039f"
            ],
            [
             0.2222222222222222,
             "#7201a8"
            ],
            [
             0.3333333333333333,
             "#9c179e"
            ],
            [
             0.4444444444444444,
             "#bd3786"
            ],
            [
             0.5555555555555556,
             "#d8576b"
            ],
            [
             0.6666666666666666,
             "#ed7953"
            ],
            [
             0.7777777777777778,
             "#fb9f3a"
            ],
            [
             0.8888888888888888,
             "#fdca26"
            ],
            [
             1,
             "#f0f921"
            ]
           ],
           "sequentialminus": [
            [
             0,
             "#0d0887"
            ],
            [
             0.1111111111111111,
             "#46039f"
            ],
            [
             0.2222222222222222,
             "#7201a8"
            ],
            [
             0.3333333333333333,
             "#9c179e"
            ],
            [
             0.4444444444444444,
             "#bd3786"
            ],
            [
             0.5555555555555556,
             "#d8576b"
            ],
            [
             0.6666666666666666,
             "#ed7953"
            ],
            [
             0.7777777777777778,
             "#fb9f3a"
            ],
            [
             0.8888888888888888,
             "#fdca26"
            ],
            [
             1,
             "#f0f921"
            ]
           ]
          },
          "colorway": [
           "#636efa",
           "#EF553B",
           "#00cc96",
           "#ab63fa",
           "#FFA15A",
           "#19d3f3",
           "#FF6692",
           "#B6E880",
           "#FF97FF",
           "#FECB52"
          ],
          "font": {
           "color": "#2a3f5f"
          },
          "geo": {
           "bgcolor": "white",
           "lakecolor": "white",
           "landcolor": "#E5ECF6",
           "showlakes": true,
           "showland": true,
           "subunitcolor": "white"
          },
          "hoverlabel": {
           "align": "left"
          },
          "hovermode": "closest",
          "mapbox": {
           "style": "light"
          },
          "paper_bgcolor": "white",
          "plot_bgcolor": "#E5ECF6",
          "polar": {
           "angularaxis": {
            "gridcolor": "white",
            "linecolor": "white",
            "ticks": ""
           },
           "bgcolor": "#E5ECF6",
           "radialaxis": {
            "gridcolor": "white",
            "linecolor": "white",
            "ticks": ""
           }
          },
          "scene": {
           "xaxis": {
            "backgroundcolor": "#E5ECF6",
            "gridcolor": "white",
            "gridwidth": 2,
            "linecolor": "white",
            "showbackground": true,
            "ticks": "",
            "zerolinecolor": "white"
           },
           "yaxis": {
            "backgroundcolor": "#E5ECF6",
            "gridcolor": "white",
            "gridwidth": 2,
            "linecolor": "white",
            "showbackground": true,
            "ticks": "",
            "zerolinecolor": "white"
           },
           "zaxis": {
            "backgroundcolor": "#E5ECF6",
            "gridcolor": "white",
            "gridwidth": 2,
            "linecolor": "white",
            "showbackground": true,
            "ticks": "",
            "zerolinecolor": "white"
           }
          },
          "shapedefaults": {
           "line": {
            "color": "#2a3f5f"
           }
          },
          "ternary": {
           "aaxis": {
            "gridcolor": "white",
            "linecolor": "white",
            "ticks": ""
           },
           "baxis": {
            "gridcolor": "white",
            "linecolor": "white",
            "ticks": ""
           },
           "bgcolor": "#E5ECF6",
           "caxis": {
            "gridcolor": "white",
            "linecolor": "white",
            "ticks": ""
           }
          },
          "title": {
           "x": 0.05
          },
          "xaxis": {
           "automargin": true,
           "gridcolor": "white",
           "linecolor": "white",
           "ticks": "",
           "title": {
            "standoff": 15
           },
           "zerolinecolor": "white",
           "zerolinewidth": 2
          },
          "yaxis": {
           "automargin": true,
           "gridcolor": "white",
           "linecolor": "white",
           "ticks": "",
           "title": {
            "standoff": 15
           },
           "zerolinecolor": "white",
           "zerolinewidth": 2
          }
         }
        }
       }
      }
     },
     "metadata": {},
     "output_type": "display_data"
    }
   ],
   "source": [
    "df_is_condo_project_grouped = df.groupby(\"is_condo_project\").count()\n",
    "px.pie(\n",
    "    df_is_condo_project_grouped,\n",
    "    values=\"PropertyID\",\n",
    "    names=[\"Kein Condo Projekt\", \"Condo Projekt\"],\n",
    ")"
   ]
  },
  {
   "cell_type": "markdown",
   "metadata": {},
   "source": [
    "## District"
   ]
  },
  {
   "cell_type": "code",
   "execution_count": 135,
   "metadata": {},
   "outputs": [
    {
     "name": "stdout",
     "output_type": "stream",
     "text": [
      "NA values: 0\n",
      "Unique percentage: 0.99\n",
      "Unique absolute: 15\n"
     ]
    }
   ],
   "source": [
    "basis_statistical_values(df, \"District\")"
   ]
  },
  {
   "cell_type": "code",
   "execution_count": 136,
   "metadata": {},
   "outputs": [
    {
     "data": {
      "text/plain": [
       "array([ 9,  1,  5,  2,  7, 10,  6,  3, 15,  4, 12,  8, 14, 11, 13])"
      ]
     },
     "execution_count": 136,
     "metadata": {},
     "output_type": "execute_result"
    }
   ],
   "source": [
    "df[\"District\"].unique()"
   ]
  },
  {
   "cell_type": "code",
   "execution_count": 137,
   "metadata": {},
   "outputs": [],
   "source": [
    "df_district = df.groupby(\"District\").count()"
   ]
  },
  {
   "cell_type": "code",
   "execution_count": 138,
   "metadata": {},
   "outputs": [
    {
     "data": {
      "application/vnd.plotly.v1+json": {
       "config": {
        "plotlyServerURL": "https://plot.ly"
       },
       "data": [
        {
         "domain": {
          "x": [
           0,
           1
          ],
          "y": [
           0,
           1
          ]
         },
         "hovertemplate": "District=%{label}<br>PropertyID=%{value}<extra></extra>",
         "labels": [
          1,
          2,
          3,
          4,
          5,
          6,
          7,
          8,
          9,
          10,
          11,
          12,
          13,
          14,
          15
         ],
         "legendgroup": "",
         "name": "",
         "showlegend": true,
         "type": "pie",
         "values": [
          119,
          92,
          75,
          63,
          165,
          100,
          131,
          60,
          99,
          128,
          79,
          54,
          88,
          82,
          82
         ]
        }
       ],
       "layout": {
        "legend": {
         "tracegroupgap": 0
        },
        "margin": {
         "t": 60
        },
        "template": {
         "data": {
          "bar": [
           {
            "error_x": {
             "color": "#2a3f5f"
            },
            "error_y": {
             "color": "#2a3f5f"
            },
            "marker": {
             "line": {
              "color": "#E5ECF6",
              "width": 0.5
             },
             "pattern": {
              "fillmode": "overlay",
              "size": 10,
              "solidity": 0.2
             }
            },
            "type": "bar"
           }
          ],
          "barpolar": [
           {
            "marker": {
             "line": {
              "color": "#E5ECF6",
              "width": 0.5
             },
             "pattern": {
              "fillmode": "overlay",
              "size": 10,
              "solidity": 0.2
             }
            },
            "type": "barpolar"
           }
          ],
          "carpet": [
           {
            "aaxis": {
             "endlinecolor": "#2a3f5f",
             "gridcolor": "white",
             "linecolor": "white",
             "minorgridcolor": "white",
             "startlinecolor": "#2a3f5f"
            },
            "baxis": {
             "endlinecolor": "#2a3f5f",
             "gridcolor": "white",
             "linecolor": "white",
             "minorgridcolor": "white",
             "startlinecolor": "#2a3f5f"
            },
            "type": "carpet"
           }
          ],
          "choropleth": [
           {
            "colorbar": {
             "outlinewidth": 0,
             "ticks": ""
            },
            "type": "choropleth"
           }
          ],
          "contour": [
           {
            "colorbar": {
             "outlinewidth": 0,
             "ticks": ""
            },
            "colorscale": [
             [
              0,
              "#0d0887"
             ],
             [
              0.1111111111111111,
              "#46039f"
             ],
             [
              0.2222222222222222,
              "#7201a8"
             ],
             [
              0.3333333333333333,
              "#9c179e"
             ],
             [
              0.4444444444444444,
              "#bd3786"
             ],
             [
              0.5555555555555556,
              "#d8576b"
             ],
             [
              0.6666666666666666,
              "#ed7953"
             ],
             [
              0.7777777777777778,
              "#fb9f3a"
             ],
             [
              0.8888888888888888,
              "#fdca26"
             ],
             [
              1,
              "#f0f921"
             ]
            ],
            "type": "contour"
           }
          ],
          "contourcarpet": [
           {
            "colorbar": {
             "outlinewidth": 0,
             "ticks": ""
            },
            "type": "contourcarpet"
           }
          ],
          "heatmap": [
           {
            "colorbar": {
             "outlinewidth": 0,
             "ticks": ""
            },
            "colorscale": [
             [
              0,
              "#0d0887"
             ],
             [
              0.1111111111111111,
              "#46039f"
             ],
             [
              0.2222222222222222,
              "#7201a8"
             ],
             [
              0.3333333333333333,
              "#9c179e"
             ],
             [
              0.4444444444444444,
              "#bd3786"
             ],
             [
              0.5555555555555556,
              "#d8576b"
             ],
             [
              0.6666666666666666,
              "#ed7953"
             ],
             [
              0.7777777777777778,
              "#fb9f3a"
             ],
             [
              0.8888888888888888,
              "#fdca26"
             ],
             [
              1,
              "#f0f921"
             ]
            ],
            "type": "heatmap"
           }
          ],
          "heatmapgl": [
           {
            "colorbar": {
             "outlinewidth": 0,
             "ticks": ""
            },
            "colorscale": [
             [
              0,
              "#0d0887"
             ],
             [
              0.1111111111111111,
              "#46039f"
             ],
             [
              0.2222222222222222,
              "#7201a8"
             ],
             [
              0.3333333333333333,
              "#9c179e"
             ],
             [
              0.4444444444444444,
              "#bd3786"
             ],
             [
              0.5555555555555556,
              "#d8576b"
             ],
             [
              0.6666666666666666,
              "#ed7953"
             ],
             [
              0.7777777777777778,
              "#fb9f3a"
             ],
             [
              0.8888888888888888,
              "#fdca26"
             ],
             [
              1,
              "#f0f921"
             ]
            ],
            "type": "heatmapgl"
           }
          ],
          "histogram": [
           {
            "marker": {
             "pattern": {
              "fillmode": "overlay",
              "size": 10,
              "solidity": 0.2
             }
            },
            "type": "histogram"
           }
          ],
          "histogram2d": [
           {
            "colorbar": {
             "outlinewidth": 0,
             "ticks": ""
            },
            "colorscale": [
             [
              0,
              "#0d0887"
             ],
             [
              0.1111111111111111,
              "#46039f"
             ],
             [
              0.2222222222222222,
              "#7201a8"
             ],
             [
              0.3333333333333333,
              "#9c179e"
             ],
             [
              0.4444444444444444,
              "#bd3786"
             ],
             [
              0.5555555555555556,
              "#d8576b"
             ],
             [
              0.6666666666666666,
              "#ed7953"
             ],
             [
              0.7777777777777778,
              "#fb9f3a"
             ],
             [
              0.8888888888888888,
              "#fdca26"
             ],
             [
              1,
              "#f0f921"
             ]
            ],
            "type": "histogram2d"
           }
          ],
          "histogram2dcontour": [
           {
            "colorbar": {
             "outlinewidth": 0,
             "ticks": ""
            },
            "colorscale": [
             [
              0,
              "#0d0887"
             ],
             [
              0.1111111111111111,
              "#46039f"
             ],
             [
              0.2222222222222222,
              "#7201a8"
             ],
             [
              0.3333333333333333,
              "#9c179e"
             ],
             [
              0.4444444444444444,
              "#bd3786"
             ],
             [
              0.5555555555555556,
              "#d8576b"
             ],
             [
              0.6666666666666666,
              "#ed7953"
             ],
             [
              0.7777777777777778,
              "#fb9f3a"
             ],
             [
              0.8888888888888888,
              "#fdca26"
             ],
             [
              1,
              "#f0f921"
             ]
            ],
            "type": "histogram2dcontour"
           }
          ],
          "mesh3d": [
           {
            "colorbar": {
             "outlinewidth": 0,
             "ticks": ""
            },
            "type": "mesh3d"
           }
          ],
          "parcoords": [
           {
            "line": {
             "colorbar": {
              "outlinewidth": 0,
              "ticks": ""
             }
            },
            "type": "parcoords"
           }
          ],
          "pie": [
           {
            "automargin": true,
            "type": "pie"
           }
          ],
          "scatter": [
           {
            "fillpattern": {
             "fillmode": "overlay",
             "size": 10,
             "solidity": 0.2
            },
            "type": "scatter"
           }
          ],
          "scatter3d": [
           {
            "line": {
             "colorbar": {
              "outlinewidth": 0,
              "ticks": ""
             }
            },
            "marker": {
             "colorbar": {
              "outlinewidth": 0,
              "ticks": ""
             }
            },
            "type": "scatter3d"
           }
          ],
          "scattercarpet": [
           {
            "marker": {
             "colorbar": {
              "outlinewidth": 0,
              "ticks": ""
             }
            },
            "type": "scattercarpet"
           }
          ],
          "scattergeo": [
           {
            "marker": {
             "colorbar": {
              "outlinewidth": 0,
              "ticks": ""
             }
            },
            "type": "scattergeo"
           }
          ],
          "scattergl": [
           {
            "marker": {
             "colorbar": {
              "outlinewidth": 0,
              "ticks": ""
             }
            },
            "type": "scattergl"
           }
          ],
          "scattermapbox": [
           {
            "marker": {
             "colorbar": {
              "outlinewidth": 0,
              "ticks": ""
             }
            },
            "type": "scattermapbox"
           }
          ],
          "scatterpolar": [
           {
            "marker": {
             "colorbar": {
              "outlinewidth": 0,
              "ticks": ""
             }
            },
            "type": "scatterpolar"
           }
          ],
          "scatterpolargl": [
           {
            "marker": {
             "colorbar": {
              "outlinewidth": 0,
              "ticks": ""
             }
            },
            "type": "scatterpolargl"
           }
          ],
          "scatterternary": [
           {
            "marker": {
             "colorbar": {
              "outlinewidth": 0,
              "ticks": ""
             }
            },
            "type": "scatterternary"
           }
          ],
          "surface": [
           {
            "colorbar": {
             "outlinewidth": 0,
             "ticks": ""
            },
            "colorscale": [
             [
              0,
              "#0d0887"
             ],
             [
              0.1111111111111111,
              "#46039f"
             ],
             [
              0.2222222222222222,
              "#7201a8"
             ],
             [
              0.3333333333333333,
              "#9c179e"
             ],
             [
              0.4444444444444444,
              "#bd3786"
             ],
             [
              0.5555555555555556,
              "#d8576b"
             ],
             [
              0.6666666666666666,
              "#ed7953"
             ],
             [
              0.7777777777777778,
              "#fb9f3a"
             ],
             [
              0.8888888888888888,
              "#fdca26"
             ],
             [
              1,
              "#f0f921"
             ]
            ],
            "type": "surface"
           }
          ],
          "table": [
           {
            "cells": {
             "fill": {
              "color": "#EBF0F8"
             },
             "line": {
              "color": "white"
             }
            },
            "header": {
             "fill": {
              "color": "#C8D4E3"
             },
             "line": {
              "color": "white"
             }
            },
            "type": "table"
           }
          ]
         },
         "layout": {
          "annotationdefaults": {
           "arrowcolor": "#2a3f5f",
           "arrowhead": 0,
           "arrowwidth": 1
          },
          "autotypenumbers": "strict",
          "coloraxis": {
           "colorbar": {
            "outlinewidth": 0,
            "ticks": ""
           }
          },
          "colorscale": {
           "diverging": [
            [
             0,
             "#8e0152"
            ],
            [
             0.1,
             "#c51b7d"
            ],
            [
             0.2,
             "#de77ae"
            ],
            [
             0.3,
             "#f1b6da"
            ],
            [
             0.4,
             "#fde0ef"
            ],
            [
             0.5,
             "#f7f7f7"
            ],
            [
             0.6,
             "#e6f5d0"
            ],
            [
             0.7,
             "#b8e186"
            ],
            [
             0.8,
             "#7fbc41"
            ],
            [
             0.9,
             "#4d9221"
            ],
            [
             1,
             "#276419"
            ]
           ],
           "sequential": [
            [
             0,
             "#0d0887"
            ],
            [
             0.1111111111111111,
             "#46039f"
            ],
            [
             0.2222222222222222,
             "#7201a8"
            ],
            [
             0.3333333333333333,
             "#9c179e"
            ],
            [
             0.4444444444444444,
             "#bd3786"
            ],
            [
             0.5555555555555556,
             "#d8576b"
            ],
            [
             0.6666666666666666,
             "#ed7953"
            ],
            [
             0.7777777777777778,
             "#fb9f3a"
            ],
            [
             0.8888888888888888,
             "#fdca26"
            ],
            [
             1,
             "#f0f921"
            ]
           ],
           "sequentialminus": [
            [
             0,
             "#0d0887"
            ],
            [
             0.1111111111111111,
             "#46039f"
            ],
            [
             0.2222222222222222,
             "#7201a8"
            ],
            [
             0.3333333333333333,
             "#9c179e"
            ],
            [
             0.4444444444444444,
             "#bd3786"
            ],
            [
             0.5555555555555556,
             "#d8576b"
            ],
            [
             0.6666666666666666,
             "#ed7953"
            ],
            [
             0.7777777777777778,
             "#fb9f3a"
            ],
            [
             0.8888888888888888,
             "#fdca26"
            ],
            [
             1,
             "#f0f921"
            ]
           ]
          },
          "colorway": [
           "#636efa",
           "#EF553B",
           "#00cc96",
           "#ab63fa",
           "#FFA15A",
           "#19d3f3",
           "#FF6692",
           "#B6E880",
           "#FF97FF",
           "#FECB52"
          ],
          "font": {
           "color": "#2a3f5f"
          },
          "geo": {
           "bgcolor": "white",
           "lakecolor": "white",
           "landcolor": "#E5ECF6",
           "showlakes": true,
           "showland": true,
           "subunitcolor": "white"
          },
          "hoverlabel": {
           "align": "left"
          },
          "hovermode": "closest",
          "mapbox": {
           "style": "light"
          },
          "paper_bgcolor": "white",
          "plot_bgcolor": "#E5ECF6",
          "polar": {
           "angularaxis": {
            "gridcolor": "white",
            "linecolor": "white",
            "ticks": ""
           },
           "bgcolor": "#E5ECF6",
           "radialaxis": {
            "gridcolor": "white",
            "linecolor": "white",
            "ticks": ""
           }
          },
          "scene": {
           "xaxis": {
            "backgroundcolor": "#E5ECF6",
            "gridcolor": "white",
            "gridwidth": 2,
            "linecolor": "white",
            "showbackground": true,
            "ticks": "",
            "zerolinecolor": "white"
           },
           "yaxis": {
            "backgroundcolor": "#E5ECF6",
            "gridcolor": "white",
            "gridwidth": 2,
            "linecolor": "white",
            "showbackground": true,
            "ticks": "",
            "zerolinecolor": "white"
           },
           "zaxis": {
            "backgroundcolor": "#E5ECF6",
            "gridcolor": "white",
            "gridwidth": 2,
            "linecolor": "white",
            "showbackground": true,
            "ticks": "",
            "zerolinecolor": "white"
           }
          },
          "shapedefaults": {
           "line": {
            "color": "#2a3f5f"
           }
          },
          "ternary": {
           "aaxis": {
            "gridcolor": "white",
            "linecolor": "white",
            "ticks": ""
           },
           "baxis": {
            "gridcolor": "white",
            "linecolor": "white",
            "ticks": ""
           },
           "bgcolor": "#E5ECF6",
           "caxis": {
            "gridcolor": "white",
            "linecolor": "white",
            "ticks": ""
           }
          },
          "title": {
           "x": 0.05
          },
          "xaxis": {
           "automargin": true,
           "gridcolor": "white",
           "linecolor": "white",
           "ticks": "",
           "title": {
            "standoff": 15
           },
           "zerolinecolor": "white",
           "zerolinewidth": 2
          },
          "yaxis": {
           "automargin": true,
           "gridcolor": "white",
           "linecolor": "white",
           "ticks": "",
           "title": {
            "standoff": 15
           },
           "zerolinecolor": "white",
           "zerolinewidth": 2
          }
         }
        }
       }
      }
     },
     "metadata": {},
     "output_type": "display_data"
    }
   ],
   "source": [
    "px.pie(df_district, names=df_district.index, values=\"PropertyID\")"
   ]
  },
  {
   "cell_type": "markdown",
   "metadata": {},
   "source": [
    "## Neighbourhood"
   ]
  },
  {
   "cell_type": "code",
   "execution_count": 139,
   "metadata": {},
   "outputs": [
    {
     "name": "stdout",
     "output_type": "stream",
     "text": [
      "NA values: 0\n",
      "Unique percentage: 0.99\n",
      "Unique absolute: 264\n"
     ]
    }
   ],
   "source": [
    "basis_statistical_values(df, \"nbhd\")"
   ]
  },
  {
   "cell_type": "code",
   "execution_count": 140,
   "metadata": {},
   "outputs": [
    {
     "data": {
      "text/plain": [
       "array([ 6202,    40,  5010,  5020,  5049,  5060,   240,  5065,  5070,\n",
       "        5069,  5081,  5090,  5091,   440,  5103,  5120,  5110,  5111,\n",
       "        5125,  5124,   360,   380,  6216,   820,   480,   520,   600,\n",
       "         560,   660,  5140,  5170,   780,    50,   700,   900,   960,\n",
       "         980,  1020,  6432,  6475,  5180,  1040,  1400,  5200,  1380,\n",
       "        6218,  1140,  1160,  1200,  1220,  1340,  1440,  1150,  1480,\n",
       "       21230,  6226,  6611,  1460,  1470,  6418,  1490,  1560,  6230,\n",
       "        1500,  1620,  6234,  1680,  6650,  5210,  2100,  2040,  5220,\n",
       "        1940,  6673,  1830,  1820,  1840,  1740,  2840,  2960,  2860,\n",
       "        6240,  2820,  3160,  3060,  3320,  3150,  5445,  2880,  2900,\n",
       "        5720,  2850,  6701,  2950,  1780,  6671,  6242,  2500,  1850,\n",
       "        6670,  2120,  2140,  2080,  1870,  1980,  1860,  2510,  2870,\n",
       "        2930,  2890,  6770,  5405,  3170,  5572,  5611,  3190,  3330,\n",
       "        6760,  2920,  2940,  2420,  2400,  2380,  2520,  6250,  1890,\n",
       "       32906,  6663,  2540,  2600,  6254,  3000,  2910,  2970,  5945,\n",
       "        5936,  5933,  5971,  5982,  5958,  5969,  5964,  5925,  5984,\n",
       "        5826,  5825,  3240,  6264,  5800,  5855,  5924,  5409,  5890,\n",
       "        5913,  5930,  5920,  5942,  5951,  5853,  5921,  5750,  5811,\n",
       "        5975,  5960,  3040,  6741,  6740,  2300,  2660,  6272,  2610,\n",
       "        2180,  6270,  6876,  6976,  5999,  6460,  5998,  5399,  5901,\n",
       "        5990,  5985,  5989,  5987,  5994,  5906,  5390,  5389,  5395,\n",
       "        5382,  6276,  2160,  2680,  2700,  2720,  2710,  2760,  4020,\n",
       "        5394,  5388,  5393,  6279,  4040,  4050,  6978,  4060,  4000,\n",
       "        6274,  4100,  4120,  6780,  6878,  5886,  4510,  6278,  4240,\n",
       "        4280,  5282,  4160,  4910,  5290,  5293,  5292,  4540,  4560,\n",
       "        4500,  4180,  4320,  4350,  5298,  5297,  4340,  4310,  4380,\n",
       "        4420,  5304,  4410,  4400,  4360,  6284,  4520,  4580,  4600,\n",
       "        4610,  4620,  6861,  6417,  5311,  5317,  4330,  4430,  4660,\n",
       "        5324,  4700,  4720,  4740,  4800,  6850,  4780,  5340,  4840,\n",
       "        4860,  5350,  4920])"
      ]
     },
     "execution_count": 140,
     "metadata": {},
     "output_type": "execute_result"
    }
   ],
   "source": [
    "df[\"nbhd\"].unique()"
   ]
  },
  {
   "cell_type": "markdown",
   "metadata": {},
   "source": [
    "## Style"
   ]
  },
  {
   "cell_type": "code",
   "execution_count": 141,
   "metadata": {},
   "outputs": [
    {
     "name": "stdout",
     "output_type": "stream",
     "text": [
      "NA values: 6\n",
      "Unique percentage: 0.99\n",
      "Unique absolute: 54\n"
     ]
    }
   ],
   "source": [
    "basis_statistical_values(df, \"Style\")"
   ]
  },
  {
   "cell_type": "code",
   "execution_count": 142,
   "metadata": {},
   "outputs": [
    {
     "data": {
      "text/plain": [
       "array(['Warehouse Building - 1 Story', 'Split Level', 'Condo Townhouse',\n",
       "       'Ranch', 'Low Rise 1-3 Stories', 'Townhouse', None, 'Colonial',\n",
       "       'Auto Repair', 'Milwaukee Bungalow', 'Cape Cod', 'Duplex O/S',\n",
       "       'Duplex N/S', 'Day Care Center', 'Res O/S A & 1/2',\n",
       "       'Res O/S 2sty +', 'Cottage', 'Triplex', 'Bi-Level', 'Car Wash',\n",
       "       'Hotel - Limited Service', 'Super Market', 'Dplx Bungalow',\n",
       "       'Religious Institution', 'Office Building - 1 Story',\n",
       "       'AP1 (Conventional Apt with 4-6 Units)', 'Service Building',\n",
       "       'Svc Station w Conv and Restaurant', 'Laundromat', 'Tavern',\n",
       "       'School', 'Store Building - Single tenant, 1 story',\n",
       "       'Store Building - Multiple Tenants, 1 story', 'Mansion',\n",
       "       'Mid Rise 4-12 Stories',\n",
       "       'R/M (Res. Multiple) or Rooming House - commercial',\n",
       "       'Store Bldg - Multi Story (Store & Apt, Store & Ofc', 'Tudor',\n",
       "       'Res O/S 1 Story', 'Condo Duplex', 'Duplex-Cottage',\n",
       "       'High Rise > 12 Stories', 'Townhouse Apartment', 'Medical Clinic',\n",
       "       'AP3 (Conventional Apt with 12-20 Units)',\n",
       "       'Subsidized/Affordable Housing', 'Residence With Commercial Usage',\n",
       "       'Trucking Terminal', 'Office Building - Multi Story ( Ofc & Apt)',\n",
       "       'Mansions With Commercial Usage',\n",
       "       'AP4 (Conv Apt with 21 or more Units)', 'Contemporary',\n",
       "       'Bank, Savings & Loan', 'Condo Ranch'], dtype=object)"
      ]
     },
     "execution_count": 142,
     "metadata": {},
     "output_type": "execute_result"
    }
   ],
   "source": [
    "df[\"Style\"].unique()"
   ]
  },
  {
   "cell_type": "code",
   "execution_count": 143,
   "metadata": {},
   "outputs": [
    {
     "data": {
      "text/plain": [
       "np.int64(6)"
      ]
     },
     "execution_count": 143,
     "metadata": {},
     "output_type": "execute_result"
    }
   ],
   "source": [
    "df[\"Style\"].isna().sum()"
   ]
  },
  {
   "cell_type": "code",
   "execution_count": 144,
   "metadata": {},
   "outputs": [],
   "source": [
    "df_style = df.copy()\n",
    "style_counts = df_style[\"Style\"].value_counts()\n",
    "df_style[\"Style\"] = df_style[\"Style\"].apply(\n",
    "    lambda style: \"RARE\" if style and style_counts[style] < 20 else style\n",
    ")\n",
    "df_style = df_style.groupby(\"Style\").count()"
   ]
  },
  {
   "cell_type": "code",
   "execution_count": 89,
   "metadata": {},
   "outputs": [
    {
     "data": {
      "application/vnd.plotly.v1+json": {
       "config": {
        "plotlyServerURL": "https://plot.ly"
       },
       "data": [
        {
         "domain": {
          "x": [
           0,
           1
          ],
          "y": [
           0,
           1
          ]
         },
         "hovertemplate": "label=%{label}<br>value=%{value}<extra></extra>",
         "labels": [
          "Cape Cod",
          "Colonial",
          "Condo Townhouse",
          "Cottage",
          "Dplx Bungalow",
          "Duplex N/S",
          "Duplex O/S",
          "Low Rise 1-3 Stories",
          "Mid Rise 4-12 Stories",
          "Milwaukee Bungalow",
          "RARE",
          "Ranch",
          "Res O/S 2sty +",
          "Res O/S A & 1/2"
         ],
         "legendgroup": "",
         "name": "",
         "showlegend": true,
         "type": "pie",
         "values": [
          189,
          37,
          28,
          36,
          106,
          71,
          137,
          61,
          59,
          107,
          156,
          291,
          42,
          91
         ]
        }
       ],
       "layout": {
        "legend": {
         "tracegroupgap": 0
        },
        "margin": {
         "t": 60
        },
        "template": {
         "data": {
          "bar": [
           {
            "error_x": {
             "color": "#2a3f5f"
            },
            "error_y": {
             "color": "#2a3f5f"
            },
            "marker": {
             "line": {
              "color": "#E5ECF6",
              "width": 0.5
             },
             "pattern": {
              "fillmode": "overlay",
              "size": 10,
              "solidity": 0.2
             }
            },
            "type": "bar"
           }
          ],
          "barpolar": [
           {
            "marker": {
             "line": {
              "color": "#E5ECF6",
              "width": 0.5
             },
             "pattern": {
              "fillmode": "overlay",
              "size": 10,
              "solidity": 0.2
             }
            },
            "type": "barpolar"
           }
          ],
          "carpet": [
           {
            "aaxis": {
             "endlinecolor": "#2a3f5f",
             "gridcolor": "white",
             "linecolor": "white",
             "minorgridcolor": "white",
             "startlinecolor": "#2a3f5f"
            },
            "baxis": {
             "endlinecolor": "#2a3f5f",
             "gridcolor": "white",
             "linecolor": "white",
             "minorgridcolor": "white",
             "startlinecolor": "#2a3f5f"
            },
            "type": "carpet"
           }
          ],
          "choropleth": [
           {
            "colorbar": {
             "outlinewidth": 0,
             "ticks": ""
            },
            "type": "choropleth"
           }
          ],
          "contour": [
           {
            "colorbar": {
             "outlinewidth": 0,
             "ticks": ""
            },
            "colorscale": [
             [
              0,
              "#0d0887"
             ],
             [
              0.1111111111111111,
              "#46039f"
             ],
             [
              0.2222222222222222,
              "#7201a8"
             ],
             [
              0.3333333333333333,
              "#9c179e"
             ],
             [
              0.4444444444444444,
              "#bd3786"
             ],
             [
              0.5555555555555556,
              "#d8576b"
             ],
             [
              0.6666666666666666,
              "#ed7953"
             ],
             [
              0.7777777777777778,
              "#fb9f3a"
             ],
             [
              0.8888888888888888,
              "#fdca26"
             ],
             [
              1,
              "#f0f921"
             ]
            ],
            "type": "contour"
           }
          ],
          "contourcarpet": [
           {
            "colorbar": {
             "outlinewidth": 0,
             "ticks": ""
            },
            "type": "contourcarpet"
           }
          ],
          "heatmap": [
           {
            "colorbar": {
             "outlinewidth": 0,
             "ticks": ""
            },
            "colorscale": [
             [
              0,
              "#0d0887"
             ],
             [
              0.1111111111111111,
              "#46039f"
             ],
             [
              0.2222222222222222,
              "#7201a8"
             ],
             [
              0.3333333333333333,
              "#9c179e"
             ],
             [
              0.4444444444444444,
              "#bd3786"
             ],
             [
              0.5555555555555556,
              "#d8576b"
             ],
             [
              0.6666666666666666,
              "#ed7953"
             ],
             [
              0.7777777777777778,
              "#fb9f3a"
             ],
             [
              0.8888888888888888,
              "#fdca26"
             ],
             [
              1,
              "#f0f921"
             ]
            ],
            "type": "heatmap"
           }
          ],
          "heatmapgl": [
           {
            "colorbar": {
             "outlinewidth": 0,
             "ticks": ""
            },
            "colorscale": [
             [
              0,
              "#0d0887"
             ],
             [
              0.1111111111111111,
              "#46039f"
             ],
             [
              0.2222222222222222,
              "#7201a8"
             ],
             [
              0.3333333333333333,
              "#9c179e"
             ],
             [
              0.4444444444444444,
              "#bd3786"
             ],
             [
              0.5555555555555556,
              "#d8576b"
             ],
             [
              0.6666666666666666,
              "#ed7953"
             ],
             [
              0.7777777777777778,
              "#fb9f3a"
             ],
             [
              0.8888888888888888,
              "#fdca26"
             ],
             [
              1,
              "#f0f921"
             ]
            ],
            "type": "heatmapgl"
           }
          ],
          "histogram": [
           {
            "marker": {
             "pattern": {
              "fillmode": "overlay",
              "size": 10,
              "solidity": 0.2
             }
            },
            "type": "histogram"
           }
          ],
          "histogram2d": [
           {
            "colorbar": {
             "outlinewidth": 0,
             "ticks": ""
            },
            "colorscale": [
             [
              0,
              "#0d0887"
             ],
             [
              0.1111111111111111,
              "#46039f"
             ],
             [
              0.2222222222222222,
              "#7201a8"
             ],
             [
              0.3333333333333333,
              "#9c179e"
             ],
             [
              0.4444444444444444,
              "#bd3786"
             ],
             [
              0.5555555555555556,
              "#d8576b"
             ],
             [
              0.6666666666666666,
              "#ed7953"
             ],
             [
              0.7777777777777778,
              "#fb9f3a"
             ],
             [
              0.8888888888888888,
              "#fdca26"
             ],
             [
              1,
              "#f0f921"
             ]
            ],
            "type": "histogram2d"
           }
          ],
          "histogram2dcontour": [
           {
            "colorbar": {
             "outlinewidth": 0,
             "ticks": ""
            },
            "colorscale": [
             [
              0,
              "#0d0887"
             ],
             [
              0.1111111111111111,
              "#46039f"
             ],
             [
              0.2222222222222222,
              "#7201a8"
             ],
             [
              0.3333333333333333,
              "#9c179e"
             ],
             [
              0.4444444444444444,
              "#bd3786"
             ],
             [
              0.5555555555555556,
              "#d8576b"
             ],
             [
              0.6666666666666666,
              "#ed7953"
             ],
             [
              0.7777777777777778,
              "#fb9f3a"
             ],
             [
              0.8888888888888888,
              "#fdca26"
             ],
             [
              1,
              "#f0f921"
             ]
            ],
            "type": "histogram2dcontour"
           }
          ],
          "mesh3d": [
           {
            "colorbar": {
             "outlinewidth": 0,
             "ticks": ""
            },
            "type": "mesh3d"
           }
          ],
          "parcoords": [
           {
            "line": {
             "colorbar": {
              "outlinewidth": 0,
              "ticks": ""
             }
            },
            "type": "parcoords"
           }
          ],
          "pie": [
           {
            "automargin": true,
            "type": "pie"
           }
          ],
          "scatter": [
           {
            "fillpattern": {
             "fillmode": "overlay",
             "size": 10,
             "solidity": 0.2
            },
            "type": "scatter"
           }
          ],
          "scatter3d": [
           {
            "line": {
             "colorbar": {
              "outlinewidth": 0,
              "ticks": ""
             }
            },
            "marker": {
             "colorbar": {
              "outlinewidth": 0,
              "ticks": ""
             }
            },
            "type": "scatter3d"
           }
          ],
          "scattercarpet": [
           {
            "marker": {
             "colorbar": {
              "outlinewidth": 0,
              "ticks": ""
             }
            },
            "type": "scattercarpet"
           }
          ],
          "scattergeo": [
           {
            "marker": {
             "colorbar": {
              "outlinewidth": 0,
              "ticks": ""
             }
            },
            "type": "scattergeo"
           }
          ],
          "scattergl": [
           {
            "marker": {
             "colorbar": {
              "outlinewidth": 0,
              "ticks": ""
             }
            },
            "type": "scattergl"
           }
          ],
          "scattermapbox": [
           {
            "marker": {
             "colorbar": {
              "outlinewidth": 0,
              "ticks": ""
             }
            },
            "type": "scattermapbox"
           }
          ],
          "scatterpolar": [
           {
            "marker": {
             "colorbar": {
              "outlinewidth": 0,
              "ticks": ""
             }
            },
            "type": "scatterpolar"
           }
          ],
          "scatterpolargl": [
           {
            "marker": {
             "colorbar": {
              "outlinewidth": 0,
              "ticks": ""
             }
            },
            "type": "scatterpolargl"
           }
          ],
          "scatterternary": [
           {
            "marker": {
             "colorbar": {
              "outlinewidth": 0,
              "ticks": ""
             }
            },
            "type": "scatterternary"
           }
          ],
          "surface": [
           {
            "colorbar": {
             "outlinewidth": 0,
             "ticks": ""
            },
            "colorscale": [
             [
              0,
              "#0d0887"
             ],
             [
              0.1111111111111111,
              "#46039f"
             ],
             [
              0.2222222222222222,
              "#7201a8"
             ],
             [
              0.3333333333333333,
              "#9c179e"
             ],
             [
              0.4444444444444444,
              "#bd3786"
             ],
             [
              0.5555555555555556,
              "#d8576b"
             ],
             [
              0.6666666666666666,
              "#ed7953"
             ],
             [
              0.7777777777777778,
              "#fb9f3a"
             ],
             [
              0.8888888888888888,
              "#fdca26"
             ],
             [
              1,
              "#f0f921"
             ]
            ],
            "type": "surface"
           }
          ],
          "table": [
           {
            "cells": {
             "fill": {
              "color": "#EBF0F8"
             },
             "line": {
              "color": "white"
             }
            },
            "header": {
             "fill": {
              "color": "#C8D4E3"
             },
             "line": {
              "color": "white"
             }
            },
            "type": "table"
           }
          ]
         },
         "layout": {
          "annotationdefaults": {
           "arrowcolor": "#2a3f5f",
           "arrowhead": 0,
           "arrowwidth": 1
          },
          "autotypenumbers": "strict",
          "coloraxis": {
           "colorbar": {
            "outlinewidth": 0,
            "ticks": ""
           }
          },
          "colorscale": {
           "diverging": [
            [
             0,
             "#8e0152"
            ],
            [
             0.1,
             "#c51b7d"
            ],
            [
             0.2,
             "#de77ae"
            ],
            [
             0.3,
             "#f1b6da"
            ],
            [
             0.4,
             "#fde0ef"
            ],
            [
             0.5,
             "#f7f7f7"
            ],
            [
             0.6,
             "#e6f5d0"
            ],
            [
             0.7,
             "#b8e186"
            ],
            [
             0.8,
             "#7fbc41"
            ],
            [
             0.9,
             "#4d9221"
            ],
            [
             1,
             "#276419"
            ]
           ],
           "sequential": [
            [
             0,
             "#0d0887"
            ],
            [
             0.1111111111111111,
             "#46039f"
            ],
            [
             0.2222222222222222,
             "#7201a8"
            ],
            [
             0.3333333333333333,
             "#9c179e"
            ],
            [
             0.4444444444444444,
             "#bd3786"
            ],
            [
             0.5555555555555556,
             "#d8576b"
            ],
            [
             0.6666666666666666,
             "#ed7953"
            ],
            [
             0.7777777777777778,
             "#fb9f3a"
            ],
            [
             0.8888888888888888,
             "#fdca26"
            ],
            [
             1,
             "#f0f921"
            ]
           ],
           "sequentialminus": [
            [
             0,
             "#0d0887"
            ],
            [
             0.1111111111111111,
             "#46039f"
            ],
            [
             0.2222222222222222,
             "#7201a8"
            ],
            [
             0.3333333333333333,
             "#9c179e"
            ],
            [
             0.4444444444444444,
             "#bd3786"
            ],
            [
             0.5555555555555556,
             "#d8576b"
            ],
            [
             0.6666666666666666,
             "#ed7953"
            ],
            [
             0.7777777777777778,
             "#fb9f3a"
            ],
            [
             0.8888888888888888,
             "#fdca26"
            ],
            [
             1,
             "#f0f921"
            ]
           ]
          },
          "colorway": [
           "#636efa",
           "#EF553B",
           "#00cc96",
           "#ab63fa",
           "#FFA15A",
           "#19d3f3",
           "#FF6692",
           "#B6E880",
           "#FF97FF",
           "#FECB52"
          ],
          "font": {
           "color": "#2a3f5f"
          },
          "geo": {
           "bgcolor": "white",
           "lakecolor": "white",
           "landcolor": "#E5ECF6",
           "showlakes": true,
           "showland": true,
           "subunitcolor": "white"
          },
          "hoverlabel": {
           "align": "left"
          },
          "hovermode": "closest",
          "mapbox": {
           "style": "light"
          },
          "paper_bgcolor": "white",
          "plot_bgcolor": "#E5ECF6",
          "polar": {
           "angularaxis": {
            "gridcolor": "white",
            "linecolor": "white",
            "ticks": ""
           },
           "bgcolor": "#E5ECF6",
           "radialaxis": {
            "gridcolor": "white",
            "linecolor": "white",
            "ticks": ""
           }
          },
          "scene": {
           "xaxis": {
            "backgroundcolor": "#E5ECF6",
            "gridcolor": "white",
            "gridwidth": 2,
            "linecolor": "white",
            "showbackground": true,
            "ticks": "",
            "zerolinecolor": "white"
           },
           "yaxis": {
            "backgroundcolor": "#E5ECF6",
            "gridcolor": "white",
            "gridwidth": 2,
            "linecolor": "white",
            "showbackground": true,
            "ticks": "",
            "zerolinecolor": "white"
           },
           "zaxis": {
            "backgroundcolor": "#E5ECF6",
            "gridcolor": "white",
            "gridwidth": 2,
            "linecolor": "white",
            "showbackground": true,
            "ticks": "",
            "zerolinecolor": "white"
           }
          },
          "shapedefaults": {
           "line": {
            "color": "#2a3f5f"
           }
          },
          "ternary": {
           "aaxis": {
            "gridcolor": "white",
            "linecolor": "white",
            "ticks": ""
           },
           "baxis": {
            "gridcolor": "white",
            "linecolor": "white",
            "ticks": ""
           },
           "bgcolor": "#E5ECF6",
           "caxis": {
            "gridcolor": "white",
            "linecolor": "white",
            "ticks": ""
           }
          },
          "title": {
           "x": 0.05
          },
          "xaxis": {
           "automargin": true,
           "gridcolor": "white",
           "linecolor": "white",
           "ticks": "",
           "title": {
            "standoff": 15
           },
           "zerolinecolor": "white",
           "zerolinewidth": 2
          },
          "yaxis": {
           "automargin": true,
           "gridcolor": "white",
           "linecolor": "white",
           "ticks": "",
           "title": {
            "standoff": 15
           },
           "zerolinecolor": "white",
           "zerolinewidth": 2
          }
         }
        }
       }
      }
     },
     "metadata": {},
     "output_type": "display_data"
    }
   ],
   "source": [
    "px.pie(names=df_style.index, values=df_style[\"PropertyID\"])"
   ]
  },
  {
   "cell_type": "markdown",
   "metadata": {},
   "source": [
    "## Extwall"
   ]
  },
  {
   "cell_type": "code",
   "execution_count": 92,
   "metadata": {},
   "outputs": [
    {
     "name": "stdout",
     "output_type": "stream",
     "text": [
      "NA values: 181\n",
      "Unique percentage: 0.99\n",
      "Unique absolute: 16\n"
     ]
    }
   ],
   "source": [
    "basis_statistical_values(df, \"Extwall\")"
   ]
  },
  {
   "cell_type": "code",
   "execution_count": 109,
   "metadata": {},
   "outputs": [],
   "source": [
    "df_extwall = groupby_threshold(df, \"Extwall\", 20).count()"
   ]
  },
  {
   "cell_type": "code",
   "execution_count": 110,
   "metadata": {},
   "outputs": [
    {
     "data": {
      "application/vnd.plotly.v1+json": {
       "config": {
        "plotlyServerURL": "https://plot.ly"
       },
       "data": [
        {
         "domain": {
          "x": [
           0,
           1
          ],
          "y": [
           0,
           1
          ]
         },
         "hovertemplate": "label=%{label}<br>value=%{value}<extra></extra>",
         "labels": [
          "Aluminum/Vinyl",
          "Asphalt/Other",
          "Brick",
          "Concrete Block",
          "Masonry/Frame",
          "RARE",
          "Stone",
          "Stucco",
          "Wood"
         ],
         "legendgroup": "",
         "name": "",
         "showlegend": true,
         "type": "pie",
         "values": [
          708,
          75,
          247,
          21,
          28,
          34,
          46,
          25,
          52
         ]
        }
       ],
       "layout": {
        "legend": {
         "tracegroupgap": 0
        },
        "margin": {
         "t": 60
        },
        "template": {
         "data": {
          "bar": [
           {
            "error_x": {
             "color": "#2a3f5f"
            },
            "error_y": {
             "color": "#2a3f5f"
            },
            "marker": {
             "line": {
              "color": "#E5ECF6",
              "width": 0.5
             },
             "pattern": {
              "fillmode": "overlay",
              "size": 10,
              "solidity": 0.2
             }
            },
            "type": "bar"
           }
          ],
          "barpolar": [
           {
            "marker": {
             "line": {
              "color": "#E5ECF6",
              "width": 0.5
             },
             "pattern": {
              "fillmode": "overlay",
              "size": 10,
              "solidity": 0.2
             }
            },
            "type": "barpolar"
           }
          ],
          "carpet": [
           {
            "aaxis": {
             "endlinecolor": "#2a3f5f",
             "gridcolor": "white",
             "linecolor": "white",
             "minorgridcolor": "white",
             "startlinecolor": "#2a3f5f"
            },
            "baxis": {
             "endlinecolor": "#2a3f5f",
             "gridcolor": "white",
             "linecolor": "white",
             "minorgridcolor": "white",
             "startlinecolor": "#2a3f5f"
            },
            "type": "carpet"
           }
          ],
          "choropleth": [
           {
            "colorbar": {
             "outlinewidth": 0,
             "ticks": ""
            },
            "type": "choropleth"
           }
          ],
          "contour": [
           {
            "colorbar": {
             "outlinewidth": 0,
             "ticks": ""
            },
            "colorscale": [
             [
              0,
              "#0d0887"
             ],
             [
              0.1111111111111111,
              "#46039f"
             ],
             [
              0.2222222222222222,
              "#7201a8"
             ],
             [
              0.3333333333333333,
              "#9c179e"
             ],
             [
              0.4444444444444444,
              "#bd3786"
             ],
             [
              0.5555555555555556,
              "#d8576b"
             ],
             [
              0.6666666666666666,
              "#ed7953"
             ],
             [
              0.7777777777777778,
              "#fb9f3a"
             ],
             [
              0.8888888888888888,
              "#fdca26"
             ],
             [
              1,
              "#f0f921"
             ]
            ],
            "type": "contour"
           }
          ],
          "contourcarpet": [
           {
            "colorbar": {
             "outlinewidth": 0,
             "ticks": ""
            },
            "type": "contourcarpet"
           }
          ],
          "heatmap": [
           {
            "colorbar": {
             "outlinewidth": 0,
             "ticks": ""
            },
            "colorscale": [
             [
              0,
              "#0d0887"
             ],
             [
              0.1111111111111111,
              "#46039f"
             ],
             [
              0.2222222222222222,
              "#7201a8"
             ],
             [
              0.3333333333333333,
              "#9c179e"
             ],
             [
              0.4444444444444444,
              "#bd3786"
             ],
             [
              0.5555555555555556,
              "#d8576b"
             ],
             [
              0.6666666666666666,
              "#ed7953"
             ],
             [
              0.7777777777777778,
              "#fb9f3a"
             ],
             [
              0.8888888888888888,
              "#fdca26"
             ],
             [
              1,
              "#f0f921"
             ]
            ],
            "type": "heatmap"
           }
          ],
          "heatmapgl": [
           {
            "colorbar": {
             "outlinewidth": 0,
             "ticks": ""
            },
            "colorscale": [
             [
              0,
              "#0d0887"
             ],
             [
              0.1111111111111111,
              "#46039f"
             ],
             [
              0.2222222222222222,
              "#7201a8"
             ],
             [
              0.3333333333333333,
              "#9c179e"
             ],
             [
              0.4444444444444444,
              "#bd3786"
             ],
             [
              0.5555555555555556,
              "#d8576b"
             ],
             [
              0.6666666666666666,
              "#ed7953"
             ],
             [
              0.7777777777777778,
              "#fb9f3a"
             ],
             [
              0.8888888888888888,
              "#fdca26"
             ],
             [
              1,
              "#f0f921"
             ]
            ],
            "type": "heatmapgl"
           }
          ],
          "histogram": [
           {
            "marker": {
             "pattern": {
              "fillmode": "overlay",
              "size": 10,
              "solidity": 0.2
             }
            },
            "type": "histogram"
           }
          ],
          "histogram2d": [
           {
            "colorbar": {
             "outlinewidth": 0,
             "ticks": ""
            },
            "colorscale": [
             [
              0,
              "#0d0887"
             ],
             [
              0.1111111111111111,
              "#46039f"
             ],
             [
              0.2222222222222222,
              "#7201a8"
             ],
             [
              0.3333333333333333,
              "#9c179e"
             ],
             [
              0.4444444444444444,
              "#bd3786"
             ],
             [
              0.5555555555555556,
              "#d8576b"
             ],
             [
              0.6666666666666666,
              "#ed7953"
             ],
             [
              0.7777777777777778,
              "#fb9f3a"
             ],
             [
              0.8888888888888888,
              "#fdca26"
             ],
             [
              1,
              "#f0f921"
             ]
            ],
            "type": "histogram2d"
           }
          ],
          "histogram2dcontour": [
           {
            "colorbar": {
             "outlinewidth": 0,
             "ticks": ""
            },
            "colorscale": [
             [
              0,
              "#0d0887"
             ],
             [
              0.1111111111111111,
              "#46039f"
             ],
             [
              0.2222222222222222,
              "#7201a8"
             ],
             [
              0.3333333333333333,
              "#9c179e"
             ],
             [
              0.4444444444444444,
              "#bd3786"
             ],
             [
              0.5555555555555556,
              "#d8576b"
             ],
             [
              0.6666666666666666,
              "#ed7953"
             ],
             [
              0.7777777777777778,
              "#fb9f3a"
             ],
             [
              0.8888888888888888,
              "#fdca26"
             ],
             [
              1,
              "#f0f921"
             ]
            ],
            "type": "histogram2dcontour"
           }
          ],
          "mesh3d": [
           {
            "colorbar": {
             "outlinewidth": 0,
             "ticks": ""
            },
            "type": "mesh3d"
           }
          ],
          "parcoords": [
           {
            "line": {
             "colorbar": {
              "outlinewidth": 0,
              "ticks": ""
             }
            },
            "type": "parcoords"
           }
          ],
          "pie": [
           {
            "automargin": true,
            "type": "pie"
           }
          ],
          "scatter": [
           {
            "fillpattern": {
             "fillmode": "overlay",
             "size": 10,
             "solidity": 0.2
            },
            "type": "scatter"
           }
          ],
          "scatter3d": [
           {
            "line": {
             "colorbar": {
              "outlinewidth": 0,
              "ticks": ""
             }
            },
            "marker": {
             "colorbar": {
              "outlinewidth": 0,
              "ticks": ""
             }
            },
            "type": "scatter3d"
           }
          ],
          "scattercarpet": [
           {
            "marker": {
             "colorbar": {
              "outlinewidth": 0,
              "ticks": ""
             }
            },
            "type": "scattercarpet"
           }
          ],
          "scattergeo": [
           {
            "marker": {
             "colorbar": {
              "outlinewidth": 0,
              "ticks": ""
             }
            },
            "type": "scattergeo"
           }
          ],
          "scattergl": [
           {
            "marker": {
             "colorbar": {
              "outlinewidth": 0,
              "ticks": ""
             }
            },
            "type": "scattergl"
           }
          ],
          "scattermapbox": [
           {
            "marker": {
             "colorbar": {
              "outlinewidth": 0,
              "ticks": ""
             }
            },
            "type": "scattermapbox"
           }
          ],
          "scatterpolar": [
           {
            "marker": {
             "colorbar": {
              "outlinewidth": 0,
              "ticks": ""
             }
            },
            "type": "scatterpolar"
           }
          ],
          "scatterpolargl": [
           {
            "marker": {
             "colorbar": {
              "outlinewidth": 0,
              "ticks": ""
             }
            },
            "type": "scatterpolargl"
           }
          ],
          "scatterternary": [
           {
            "marker": {
             "colorbar": {
              "outlinewidth": 0,
              "ticks": ""
             }
            },
            "type": "scatterternary"
           }
          ],
          "surface": [
           {
            "colorbar": {
             "outlinewidth": 0,
             "ticks": ""
            },
            "colorscale": [
             [
              0,
              "#0d0887"
             ],
             [
              0.1111111111111111,
              "#46039f"
             ],
             [
              0.2222222222222222,
              "#7201a8"
             ],
             [
              0.3333333333333333,
              "#9c179e"
             ],
             [
              0.4444444444444444,
              "#bd3786"
             ],
             [
              0.5555555555555556,
              "#d8576b"
             ],
             [
              0.6666666666666666,
              "#ed7953"
             ],
             [
              0.7777777777777778,
              "#fb9f3a"
             ],
             [
              0.8888888888888888,
              "#fdca26"
             ],
             [
              1,
              "#f0f921"
             ]
            ],
            "type": "surface"
           }
          ],
          "table": [
           {
            "cells": {
             "fill": {
              "color": "#EBF0F8"
             },
             "line": {
              "color": "white"
             }
            },
            "header": {
             "fill": {
              "color": "#C8D4E3"
             },
             "line": {
              "color": "white"
             }
            },
            "type": "table"
           }
          ]
         },
         "layout": {
          "annotationdefaults": {
           "arrowcolor": "#2a3f5f",
           "arrowhead": 0,
           "arrowwidth": 1
          },
          "autotypenumbers": "strict",
          "coloraxis": {
           "colorbar": {
            "outlinewidth": 0,
            "ticks": ""
           }
          },
          "colorscale": {
           "diverging": [
            [
             0,
             "#8e0152"
            ],
            [
             0.1,
             "#c51b7d"
            ],
            [
             0.2,
             "#de77ae"
            ],
            [
             0.3,
             "#f1b6da"
            ],
            [
             0.4,
             "#fde0ef"
            ],
            [
             0.5,
             "#f7f7f7"
            ],
            [
             0.6,
             "#e6f5d0"
            ],
            [
             0.7,
             "#b8e186"
            ],
            [
             0.8,
             "#7fbc41"
            ],
            [
             0.9,
             "#4d9221"
            ],
            [
             1,
             "#276419"
            ]
           ],
           "sequential": [
            [
             0,
             "#0d0887"
            ],
            [
             0.1111111111111111,
             "#46039f"
            ],
            [
             0.2222222222222222,
             "#7201a8"
            ],
            [
             0.3333333333333333,
             "#9c179e"
            ],
            [
             0.4444444444444444,
             "#bd3786"
            ],
            [
             0.5555555555555556,
             "#d8576b"
            ],
            [
             0.6666666666666666,
             "#ed7953"
            ],
            [
             0.7777777777777778,
             "#fb9f3a"
            ],
            [
             0.8888888888888888,
             "#fdca26"
            ],
            [
             1,
             "#f0f921"
            ]
           ],
           "sequentialminus": [
            [
             0,
             "#0d0887"
            ],
            [
             0.1111111111111111,
             "#46039f"
            ],
            [
             0.2222222222222222,
             "#7201a8"
            ],
            [
             0.3333333333333333,
             "#9c179e"
            ],
            [
             0.4444444444444444,
             "#bd3786"
            ],
            [
             0.5555555555555556,
             "#d8576b"
            ],
            [
             0.6666666666666666,
             "#ed7953"
            ],
            [
             0.7777777777777778,
             "#fb9f3a"
            ],
            [
             0.8888888888888888,
             "#fdca26"
            ],
            [
             1,
             "#f0f921"
            ]
           ]
          },
          "colorway": [
           "#636efa",
           "#EF553B",
           "#00cc96",
           "#ab63fa",
           "#FFA15A",
           "#19d3f3",
           "#FF6692",
           "#B6E880",
           "#FF97FF",
           "#FECB52"
          ],
          "font": {
           "color": "#2a3f5f"
          },
          "geo": {
           "bgcolor": "white",
           "lakecolor": "white",
           "landcolor": "#E5ECF6",
           "showlakes": true,
           "showland": true,
           "subunitcolor": "white"
          },
          "hoverlabel": {
           "align": "left"
          },
          "hovermode": "closest",
          "mapbox": {
           "style": "light"
          },
          "paper_bgcolor": "white",
          "plot_bgcolor": "#E5ECF6",
          "polar": {
           "angularaxis": {
            "gridcolor": "white",
            "linecolor": "white",
            "ticks": ""
           },
           "bgcolor": "#E5ECF6",
           "radialaxis": {
            "gridcolor": "white",
            "linecolor": "white",
            "ticks": ""
           }
          },
          "scene": {
           "xaxis": {
            "backgroundcolor": "#E5ECF6",
            "gridcolor": "white",
            "gridwidth": 2,
            "linecolor": "white",
            "showbackground": true,
            "ticks": "",
            "zerolinecolor": "white"
           },
           "yaxis": {
            "backgroundcolor": "#E5ECF6",
            "gridcolor": "white",
            "gridwidth": 2,
            "linecolor": "white",
            "showbackground": true,
            "ticks": "",
            "zerolinecolor": "white"
           },
           "zaxis": {
            "backgroundcolor": "#E5ECF6",
            "gridcolor": "white",
            "gridwidth": 2,
            "linecolor": "white",
            "showbackground": true,
            "ticks": "",
            "zerolinecolor": "white"
           }
          },
          "shapedefaults": {
           "line": {
            "color": "#2a3f5f"
           }
          },
          "ternary": {
           "aaxis": {
            "gridcolor": "white",
            "linecolor": "white",
            "ticks": ""
           },
           "baxis": {
            "gridcolor": "white",
            "linecolor": "white",
            "ticks": ""
           },
           "bgcolor": "#E5ECF6",
           "caxis": {
            "gridcolor": "white",
            "linecolor": "white",
            "ticks": ""
           }
          },
          "title": {
           "x": 0.05
          },
          "xaxis": {
           "automargin": true,
           "gridcolor": "white",
           "linecolor": "white",
           "ticks": "",
           "title": {
            "standoff": 15
           },
           "zerolinecolor": "white",
           "zerolinewidth": 2
          },
          "yaxis": {
           "automargin": true,
           "gridcolor": "white",
           "linecolor": "white",
           "ticks": "",
           "title": {
            "standoff": 15
           },
           "zerolinecolor": "white",
           "zerolinewidth": 2
          }
         }
        }
       }
      }
     },
     "metadata": {},
     "output_type": "display_data"
    }
   ],
   "source": [
    "px.pie(names=df_extwall.index, values=df_extwall[\"PropertyID\"])"
   ]
  },
  {
   "cell_type": "code",
   "execution_count": 113,
   "metadata": {},
   "outputs": [
    {
     "data": {
      "text/html": [
       "<div>\n",
       "<style scoped>\n",
       "    .dataframe tbody tr th:only-of-type {\n",
       "        vertical-align: middle;\n",
       "    }\n",
       "\n",
       "    .dataframe tbody tr th {\n",
       "        vertical-align: top;\n",
       "    }\n",
       "\n",
       "    .dataframe thead th {\n",
       "        text-align: right;\n",
       "    }\n",
       "</style>\n",
       "<table border=\"1\" class=\"dataframe\">\n",
       "  <thead>\n",
       "    <tr style=\"text-align: right;\">\n",
       "      <th></th>\n",
       "      <th>Style</th>\n",
       "      <th>Count</th>\n",
       "    </tr>\n",
       "  </thead>\n",
       "  <tbody>\n",
       "    <tr>\n",
       "      <th>0</th>\n",
       "      <td>Cape Cod</td>\n",
       "      <td>189</td>\n",
       "    </tr>\n",
       "    <tr>\n",
       "      <th>1</th>\n",
       "      <td>Colonial</td>\n",
       "      <td>37</td>\n",
       "    </tr>\n",
       "    <tr>\n",
       "      <th>2</th>\n",
       "      <td>Condo Townhouse</td>\n",
       "      <td>28</td>\n",
       "    </tr>\n",
       "    <tr>\n",
       "      <th>3</th>\n",
       "      <td>Cottage</td>\n",
       "      <td>36</td>\n",
       "    </tr>\n",
       "    <tr>\n",
       "      <th>4</th>\n",
       "      <td>Dplx Bungalow</td>\n",
       "      <td>106</td>\n",
       "    </tr>\n",
       "    <tr>\n",
       "      <th>5</th>\n",
       "      <td>Duplex N/S</td>\n",
       "      <td>71</td>\n",
       "    </tr>\n",
       "    <tr>\n",
       "      <th>6</th>\n",
       "      <td>Duplex O/S</td>\n",
       "      <td>137</td>\n",
       "    </tr>\n",
       "    <tr>\n",
       "      <th>7</th>\n",
       "      <td>Low Rise 1-3 Stories</td>\n",
       "      <td>61</td>\n",
       "    </tr>\n",
       "    <tr>\n",
       "      <th>8</th>\n",
       "      <td>Mid Rise 4-12 Stories</td>\n",
       "      <td>59</td>\n",
       "    </tr>\n",
       "    <tr>\n",
       "      <th>9</th>\n",
       "      <td>Milwaukee Bungalow</td>\n",
       "      <td>107</td>\n",
       "    </tr>\n",
       "    <tr>\n",
       "      <th>10</th>\n",
       "      <td>RARE</td>\n",
       "      <td>156</td>\n",
       "    </tr>\n",
       "    <tr>\n",
       "      <th>11</th>\n",
       "      <td>Ranch</td>\n",
       "      <td>291</td>\n",
       "    </tr>\n",
       "    <tr>\n",
       "      <th>12</th>\n",
       "      <td>Res O/S 2sty +</td>\n",
       "      <td>42</td>\n",
       "    </tr>\n",
       "    <tr>\n",
       "      <th>13</th>\n",
       "      <td>Res O/S A &amp; 1/2</td>\n",
       "      <td>91</td>\n",
       "    </tr>\n",
       "  </tbody>\n",
       "</table>\n",
       "</div>"
      ],
      "text/plain": [
       "                    Style  Count\n",
       "0                Cape Cod    189\n",
       "1                Colonial     37\n",
       "2         Condo Townhouse     28\n",
       "3                 Cottage     36\n",
       "4           Dplx Bungalow    106\n",
       "5              Duplex N/S     71\n",
       "6              Duplex O/S    137\n",
       "7    Low Rise 1-3 Stories     61\n",
       "8   Mid Rise 4-12 Stories     59\n",
       "9      Milwaukee Bungalow    107\n",
       "10                   RARE    156\n",
       "11                  Ranch    291\n",
       "12         Res O/S 2sty +     42\n",
       "13        Res O/S A & 1/2     91"
      ]
     },
     "execution_count": 113,
     "metadata": {},
     "output_type": "execute_result"
    }
   ],
   "source": [
    "# Kopie des DataFrames\n",
    "df_style = df.copy()\n",
    "\n",
    "# Zähle die Vorkommen jeder Kategorie in der Spalte 'Style'\n",
    "style_counts = df_style[\"Style\"].value_counts()\n",
    "\n",
    "# Setze seltene Werte auf 'RARE'\n",
    "df_style.loc[\n",
    "    df_style[\"Style\"].isin(style_counts[style_counts < 20].index), \"Style\"\n",
    "] = \"RARE\"\n",
    "\n",
    "# Gruppiere nach 'Style' und zähle die Einträge\n",
    "grouped_df = df_style.groupby(\"Style\").size().reset_index(name=\"Count\")\n",
    "grouped_df"
   ]
  },
  {
   "cell_type": "code",
   "execution_count": 115,
   "metadata": {},
   "outputs": [
    {
     "data": {
      "application/vnd.plotly.v1+json": {
       "config": {
        "plotlyServerURL": "https://plot.ly"
       },
       "data": [
        {
         "domain": {
          "x": [
           0,
           1
          ],
          "y": [
           0,
           1
          ]
         },
         "hovertemplate": "Style=%{label}<br>Count=%{value}<extra></extra>",
         "labels": [
          "Cape Cod",
          "Colonial",
          "Condo Townhouse",
          "Cottage",
          "Dplx Bungalow",
          "Duplex N/S",
          "Duplex O/S",
          "Low Rise 1-3 Stories",
          "Mid Rise 4-12 Stories",
          "Milwaukee Bungalow",
          "RARE",
          "Ranch",
          "Res O/S 2sty +",
          "Res O/S A & 1/2"
         ],
         "legendgroup": "",
         "name": "",
         "showlegend": true,
         "type": "pie",
         "values": [
          189,
          37,
          28,
          36,
          106,
          71,
          137,
          61,
          59,
          107,
          156,
          291,
          42,
          91
         ]
        }
       ],
       "layout": {
        "legend": {
         "tracegroupgap": 0
        },
        "margin": {
         "t": 60
        },
        "template": {
         "data": {
          "bar": [
           {
            "error_x": {
             "color": "#2a3f5f"
            },
            "error_y": {
             "color": "#2a3f5f"
            },
            "marker": {
             "line": {
              "color": "#E5ECF6",
              "width": 0.5
             },
             "pattern": {
              "fillmode": "overlay",
              "size": 10,
              "solidity": 0.2
             }
            },
            "type": "bar"
           }
          ],
          "barpolar": [
           {
            "marker": {
             "line": {
              "color": "#E5ECF6",
              "width": 0.5
             },
             "pattern": {
              "fillmode": "overlay",
              "size": 10,
              "solidity": 0.2
             }
            },
            "type": "barpolar"
           }
          ],
          "carpet": [
           {
            "aaxis": {
             "endlinecolor": "#2a3f5f",
             "gridcolor": "white",
             "linecolor": "white",
             "minorgridcolor": "white",
             "startlinecolor": "#2a3f5f"
            },
            "baxis": {
             "endlinecolor": "#2a3f5f",
             "gridcolor": "white",
             "linecolor": "white",
             "minorgridcolor": "white",
             "startlinecolor": "#2a3f5f"
            },
            "type": "carpet"
           }
          ],
          "choropleth": [
           {
            "colorbar": {
             "outlinewidth": 0,
             "ticks": ""
            },
            "type": "choropleth"
           }
          ],
          "contour": [
           {
            "colorbar": {
             "outlinewidth": 0,
             "ticks": ""
            },
            "colorscale": [
             [
              0,
              "#0d0887"
             ],
             [
              0.1111111111111111,
              "#46039f"
             ],
             [
              0.2222222222222222,
              "#7201a8"
             ],
             [
              0.3333333333333333,
              "#9c179e"
             ],
             [
              0.4444444444444444,
              "#bd3786"
             ],
             [
              0.5555555555555556,
              "#d8576b"
             ],
             [
              0.6666666666666666,
              "#ed7953"
             ],
             [
              0.7777777777777778,
              "#fb9f3a"
             ],
             [
              0.8888888888888888,
              "#fdca26"
             ],
             [
              1,
              "#f0f921"
             ]
            ],
            "type": "contour"
           }
          ],
          "contourcarpet": [
           {
            "colorbar": {
             "outlinewidth": 0,
             "ticks": ""
            },
            "type": "contourcarpet"
           }
          ],
          "heatmap": [
           {
            "colorbar": {
             "outlinewidth": 0,
             "ticks": ""
            },
            "colorscale": [
             [
              0,
              "#0d0887"
             ],
             [
              0.1111111111111111,
              "#46039f"
             ],
             [
              0.2222222222222222,
              "#7201a8"
             ],
             [
              0.3333333333333333,
              "#9c179e"
             ],
             [
              0.4444444444444444,
              "#bd3786"
             ],
             [
              0.5555555555555556,
              "#d8576b"
             ],
             [
              0.6666666666666666,
              "#ed7953"
             ],
             [
              0.7777777777777778,
              "#fb9f3a"
             ],
             [
              0.8888888888888888,
              "#fdca26"
             ],
             [
              1,
              "#f0f921"
             ]
            ],
            "type": "heatmap"
           }
          ],
          "heatmapgl": [
           {
            "colorbar": {
             "outlinewidth": 0,
             "ticks": ""
            },
            "colorscale": [
             [
              0,
              "#0d0887"
             ],
             [
              0.1111111111111111,
              "#46039f"
             ],
             [
              0.2222222222222222,
              "#7201a8"
             ],
             [
              0.3333333333333333,
              "#9c179e"
             ],
             [
              0.4444444444444444,
              "#bd3786"
             ],
             [
              0.5555555555555556,
              "#d8576b"
             ],
             [
              0.6666666666666666,
              "#ed7953"
             ],
             [
              0.7777777777777778,
              "#fb9f3a"
             ],
             [
              0.8888888888888888,
              "#fdca26"
             ],
             [
              1,
              "#f0f921"
             ]
            ],
            "type": "heatmapgl"
           }
          ],
          "histogram": [
           {
            "marker": {
             "pattern": {
              "fillmode": "overlay",
              "size": 10,
              "solidity": 0.2
             }
            },
            "type": "histogram"
           }
          ],
          "histogram2d": [
           {
            "colorbar": {
             "outlinewidth": 0,
             "ticks": ""
            },
            "colorscale": [
             [
              0,
              "#0d0887"
             ],
             [
              0.1111111111111111,
              "#46039f"
             ],
             [
              0.2222222222222222,
              "#7201a8"
             ],
             [
              0.3333333333333333,
              "#9c179e"
             ],
             [
              0.4444444444444444,
              "#bd3786"
             ],
             [
              0.5555555555555556,
              "#d8576b"
             ],
             [
              0.6666666666666666,
              "#ed7953"
             ],
             [
              0.7777777777777778,
              "#fb9f3a"
             ],
             [
              0.8888888888888888,
              "#fdca26"
             ],
             [
              1,
              "#f0f921"
             ]
            ],
            "type": "histogram2d"
           }
          ],
          "histogram2dcontour": [
           {
            "colorbar": {
             "outlinewidth": 0,
             "ticks": ""
            },
            "colorscale": [
             [
              0,
              "#0d0887"
             ],
             [
              0.1111111111111111,
              "#46039f"
             ],
             [
              0.2222222222222222,
              "#7201a8"
             ],
             [
              0.3333333333333333,
              "#9c179e"
             ],
             [
              0.4444444444444444,
              "#bd3786"
             ],
             [
              0.5555555555555556,
              "#d8576b"
             ],
             [
              0.6666666666666666,
              "#ed7953"
             ],
             [
              0.7777777777777778,
              "#fb9f3a"
             ],
             [
              0.8888888888888888,
              "#fdca26"
             ],
             [
              1,
              "#f0f921"
             ]
            ],
            "type": "histogram2dcontour"
           }
          ],
          "mesh3d": [
           {
            "colorbar": {
             "outlinewidth": 0,
             "ticks": ""
            },
            "type": "mesh3d"
           }
          ],
          "parcoords": [
           {
            "line": {
             "colorbar": {
              "outlinewidth": 0,
              "ticks": ""
             }
            },
            "type": "parcoords"
           }
          ],
          "pie": [
           {
            "automargin": true,
            "type": "pie"
           }
          ],
          "scatter": [
           {
            "fillpattern": {
             "fillmode": "overlay",
             "size": 10,
             "solidity": 0.2
            },
            "type": "scatter"
           }
          ],
          "scatter3d": [
           {
            "line": {
             "colorbar": {
              "outlinewidth": 0,
              "ticks": ""
             }
            },
            "marker": {
             "colorbar": {
              "outlinewidth": 0,
              "ticks": ""
             }
            },
            "type": "scatter3d"
           }
          ],
          "scattercarpet": [
           {
            "marker": {
             "colorbar": {
              "outlinewidth": 0,
              "ticks": ""
             }
            },
            "type": "scattercarpet"
           }
          ],
          "scattergeo": [
           {
            "marker": {
             "colorbar": {
              "outlinewidth": 0,
              "ticks": ""
             }
            },
            "type": "scattergeo"
           }
          ],
          "scattergl": [
           {
            "marker": {
             "colorbar": {
              "outlinewidth": 0,
              "ticks": ""
             }
            },
            "type": "scattergl"
           }
          ],
          "scattermapbox": [
           {
            "marker": {
             "colorbar": {
              "outlinewidth": 0,
              "ticks": ""
             }
            },
            "type": "scattermapbox"
           }
          ],
          "scatterpolar": [
           {
            "marker": {
             "colorbar": {
              "outlinewidth": 0,
              "ticks": ""
             }
            },
            "type": "scatterpolar"
           }
          ],
          "scatterpolargl": [
           {
            "marker": {
             "colorbar": {
              "outlinewidth": 0,
              "ticks": ""
             }
            },
            "type": "scatterpolargl"
           }
          ],
          "scatterternary": [
           {
            "marker": {
             "colorbar": {
              "outlinewidth": 0,
              "ticks": ""
             }
            },
            "type": "scatterternary"
           }
          ],
          "surface": [
           {
            "colorbar": {
             "outlinewidth": 0,
             "ticks": ""
            },
            "colorscale": [
             [
              0,
              "#0d0887"
             ],
             [
              0.1111111111111111,
              "#46039f"
             ],
             [
              0.2222222222222222,
              "#7201a8"
             ],
             [
              0.3333333333333333,
              "#9c179e"
             ],
             [
              0.4444444444444444,
              "#bd3786"
             ],
             [
              0.5555555555555556,
              "#d8576b"
             ],
             [
              0.6666666666666666,
              "#ed7953"
             ],
             [
              0.7777777777777778,
              "#fb9f3a"
             ],
             [
              0.8888888888888888,
              "#fdca26"
             ],
             [
              1,
              "#f0f921"
             ]
            ],
            "type": "surface"
           }
          ],
          "table": [
           {
            "cells": {
             "fill": {
              "color": "#EBF0F8"
             },
             "line": {
              "color": "white"
             }
            },
            "header": {
             "fill": {
              "color": "#C8D4E3"
             },
             "line": {
              "color": "white"
             }
            },
            "type": "table"
           }
          ]
         },
         "layout": {
          "annotationdefaults": {
           "arrowcolor": "#2a3f5f",
           "arrowhead": 0,
           "arrowwidth": 1
          },
          "autotypenumbers": "strict",
          "coloraxis": {
           "colorbar": {
            "outlinewidth": 0,
            "ticks": ""
           }
          },
          "colorscale": {
           "diverging": [
            [
             0,
             "#8e0152"
            ],
            [
             0.1,
             "#c51b7d"
            ],
            [
             0.2,
             "#de77ae"
            ],
            [
             0.3,
             "#f1b6da"
            ],
            [
             0.4,
             "#fde0ef"
            ],
            [
             0.5,
             "#f7f7f7"
            ],
            [
             0.6,
             "#e6f5d0"
            ],
            [
             0.7,
             "#b8e186"
            ],
            [
             0.8,
             "#7fbc41"
            ],
            [
             0.9,
             "#4d9221"
            ],
            [
             1,
             "#276419"
            ]
           ],
           "sequential": [
            [
             0,
             "#0d0887"
            ],
            [
             0.1111111111111111,
             "#46039f"
            ],
            [
             0.2222222222222222,
             "#7201a8"
            ],
            [
             0.3333333333333333,
             "#9c179e"
            ],
            [
             0.4444444444444444,
             "#bd3786"
            ],
            [
             0.5555555555555556,
             "#d8576b"
            ],
            [
             0.6666666666666666,
             "#ed7953"
            ],
            [
             0.7777777777777778,
             "#fb9f3a"
            ],
            [
             0.8888888888888888,
             "#fdca26"
            ],
            [
             1,
             "#f0f921"
            ]
           ],
           "sequentialminus": [
            [
             0,
             "#0d0887"
            ],
            [
             0.1111111111111111,
             "#46039f"
            ],
            [
             0.2222222222222222,
             "#7201a8"
            ],
            [
             0.3333333333333333,
             "#9c179e"
            ],
            [
             0.4444444444444444,
             "#bd3786"
            ],
            [
             0.5555555555555556,
             "#d8576b"
            ],
            [
             0.6666666666666666,
             "#ed7953"
            ],
            [
             0.7777777777777778,
             "#fb9f3a"
            ],
            [
             0.8888888888888888,
             "#fdca26"
            ],
            [
             1,
             "#f0f921"
            ]
           ]
          },
          "colorway": [
           "#636efa",
           "#EF553B",
           "#00cc96",
           "#ab63fa",
           "#FFA15A",
           "#19d3f3",
           "#FF6692",
           "#B6E880",
           "#FF97FF",
           "#FECB52"
          ],
          "font": {
           "color": "#2a3f5f"
          },
          "geo": {
           "bgcolor": "white",
           "lakecolor": "white",
           "landcolor": "#E5ECF6",
           "showlakes": true,
           "showland": true,
           "subunitcolor": "white"
          },
          "hoverlabel": {
           "align": "left"
          },
          "hovermode": "closest",
          "mapbox": {
           "style": "light"
          },
          "paper_bgcolor": "white",
          "plot_bgcolor": "#E5ECF6",
          "polar": {
           "angularaxis": {
            "gridcolor": "white",
            "linecolor": "white",
            "ticks": ""
           },
           "bgcolor": "#E5ECF6",
           "radialaxis": {
            "gridcolor": "white",
            "linecolor": "white",
            "ticks": ""
           }
          },
          "scene": {
           "xaxis": {
            "backgroundcolor": "#E5ECF6",
            "gridcolor": "white",
            "gridwidth": 2,
            "linecolor": "white",
            "showbackground": true,
            "ticks": "",
            "zerolinecolor": "white"
           },
           "yaxis": {
            "backgroundcolor": "#E5ECF6",
            "gridcolor": "white",
            "gridwidth": 2,
            "linecolor": "white",
            "showbackground": true,
            "ticks": "",
            "zerolinecolor": "white"
           },
           "zaxis": {
            "backgroundcolor": "#E5ECF6",
            "gridcolor": "white",
            "gridwidth": 2,
            "linecolor": "white",
            "showbackground": true,
            "ticks": "",
            "zerolinecolor": "white"
           }
          },
          "shapedefaults": {
           "line": {
            "color": "#2a3f5f"
           }
          },
          "ternary": {
           "aaxis": {
            "gridcolor": "white",
            "linecolor": "white",
            "ticks": ""
           },
           "baxis": {
            "gridcolor": "white",
            "linecolor": "white",
            "ticks": ""
           },
           "bgcolor": "#E5ECF6",
           "caxis": {
            "gridcolor": "white",
            "linecolor": "white",
            "ticks": ""
           }
          },
          "title": {
           "x": 0.05
          },
          "xaxis": {
           "automargin": true,
           "gridcolor": "white",
           "linecolor": "white",
           "ticks": "",
           "title": {
            "standoff": 15
           },
           "zerolinecolor": "white",
           "zerolinewidth": 2
          },
          "yaxis": {
           "automargin": true,
           "gridcolor": "white",
           "linecolor": "white",
           "ticks": "",
           "title": {
            "standoff": 15
           },
           "zerolinecolor": "white",
           "zerolinewidth": 2
          }
         }
        }
       }
      }
     },
     "metadata": {},
     "output_type": "display_data"
    }
   ],
   "source": [
    "px.pie(data_frame=grouped_df, names=\"Style\", values=\"Count\")"
   ]
  },
  {
   "cell_type": "markdown",
   "metadata": {},
   "source": [
    "## Stories"
   ]
  },
  {
   "cell_type": "code",
   "execution_count": 117,
   "metadata": {},
   "outputs": [
    {
     "name": "stdout",
     "output_type": "stream",
     "text": [
      "NA values: 5\n",
      "Unique percentage: 0.99\n",
      "Unique absolute: 8\n"
     ]
    }
   ],
   "source": [
    "basis_statistical_values(df, \"Stories\")"
   ]
  },
  {
   "cell_type": "code",
   "execution_count": 119,
   "metadata": {},
   "outputs": [],
   "source": [
    "df_stories = df.copy()\n",
    "df_stories = df_stories.groupby(\"Stories\").count()"
   ]
  },
  {
   "cell_type": "code",
   "execution_count": 120,
   "metadata": {},
   "outputs": [
    {
     "data": {
      "application/vnd.plotly.v1+json": {
       "config": {
        "plotlyServerURL": "https://plot.ly"
       },
       "data": [
        {
         "domain": {
          "x": [
           0,
           1
          ],
          "y": [
           0,
           1
          ]
         },
         "hovertemplate": "label=%{label}<br>value=%{value}<extra></extra>",
         "labels": [
          0,
          1,
          1.5,
          2,
          2.5,
          3,
          4
         ],
         "legendgroup": "",
         "name": "",
         "showlegend": true,
         "type": "pie",
         "values": [
          5,
          683,
          331,
          376,
          10,
          5,
          2
         ]
        }
       ],
       "layout": {
        "legend": {
         "tracegroupgap": 0
        },
        "margin": {
         "t": 60
        },
        "template": {
         "data": {
          "bar": [
           {
            "error_x": {
             "color": "#2a3f5f"
            },
            "error_y": {
             "color": "#2a3f5f"
            },
            "marker": {
             "line": {
              "color": "#E5ECF6",
              "width": 0.5
             },
             "pattern": {
              "fillmode": "overlay",
              "size": 10,
              "solidity": 0.2
             }
            },
            "type": "bar"
           }
          ],
          "barpolar": [
           {
            "marker": {
             "line": {
              "color": "#E5ECF6",
              "width": 0.5
             },
             "pattern": {
              "fillmode": "overlay",
              "size": 10,
              "solidity": 0.2
             }
            },
            "type": "barpolar"
           }
          ],
          "carpet": [
           {
            "aaxis": {
             "endlinecolor": "#2a3f5f",
             "gridcolor": "white",
             "linecolor": "white",
             "minorgridcolor": "white",
             "startlinecolor": "#2a3f5f"
            },
            "baxis": {
             "endlinecolor": "#2a3f5f",
             "gridcolor": "white",
             "linecolor": "white",
             "minorgridcolor": "white",
             "startlinecolor": "#2a3f5f"
            },
            "type": "carpet"
           }
          ],
          "choropleth": [
           {
            "colorbar": {
             "outlinewidth": 0,
             "ticks": ""
            },
            "type": "choropleth"
           }
          ],
          "contour": [
           {
            "colorbar": {
             "outlinewidth": 0,
             "ticks": ""
            },
            "colorscale": [
             [
              0,
              "#0d0887"
             ],
             [
              0.1111111111111111,
              "#46039f"
             ],
             [
              0.2222222222222222,
              "#7201a8"
             ],
             [
              0.3333333333333333,
              "#9c179e"
             ],
             [
              0.4444444444444444,
              "#bd3786"
             ],
             [
              0.5555555555555556,
              "#d8576b"
             ],
             [
              0.6666666666666666,
              "#ed7953"
             ],
             [
              0.7777777777777778,
              "#fb9f3a"
             ],
             [
              0.8888888888888888,
              "#fdca26"
             ],
             [
              1,
              "#f0f921"
             ]
            ],
            "type": "contour"
           }
          ],
          "contourcarpet": [
           {
            "colorbar": {
             "outlinewidth": 0,
             "ticks": ""
            },
            "type": "contourcarpet"
           }
          ],
          "heatmap": [
           {
            "colorbar": {
             "outlinewidth": 0,
             "ticks": ""
            },
            "colorscale": [
             [
              0,
              "#0d0887"
             ],
             [
              0.1111111111111111,
              "#46039f"
             ],
             [
              0.2222222222222222,
              "#7201a8"
             ],
             [
              0.3333333333333333,
              "#9c179e"
             ],
             [
              0.4444444444444444,
              "#bd3786"
             ],
             [
              0.5555555555555556,
              "#d8576b"
             ],
             [
              0.6666666666666666,
              "#ed7953"
             ],
             [
              0.7777777777777778,
              "#fb9f3a"
             ],
             [
              0.8888888888888888,
              "#fdca26"
             ],
             [
              1,
              "#f0f921"
             ]
            ],
            "type": "heatmap"
           }
          ],
          "heatmapgl": [
           {
            "colorbar": {
             "outlinewidth": 0,
             "ticks": ""
            },
            "colorscale": [
             [
              0,
              "#0d0887"
             ],
             [
              0.1111111111111111,
              "#46039f"
             ],
             [
              0.2222222222222222,
              "#7201a8"
             ],
             [
              0.3333333333333333,
              "#9c179e"
             ],
             [
              0.4444444444444444,
              "#bd3786"
             ],
             [
              0.5555555555555556,
              "#d8576b"
             ],
             [
              0.6666666666666666,
              "#ed7953"
             ],
             [
              0.7777777777777778,
              "#fb9f3a"
             ],
             [
              0.8888888888888888,
              "#fdca26"
             ],
             [
              1,
              "#f0f921"
             ]
            ],
            "type": "heatmapgl"
           }
          ],
          "histogram": [
           {
            "marker": {
             "pattern": {
              "fillmode": "overlay",
              "size": 10,
              "solidity": 0.2
             }
            },
            "type": "histogram"
           }
          ],
          "histogram2d": [
           {
            "colorbar": {
             "outlinewidth": 0,
             "ticks": ""
            },
            "colorscale": [
             [
              0,
              "#0d0887"
             ],
             [
              0.1111111111111111,
              "#46039f"
             ],
             [
              0.2222222222222222,
              "#7201a8"
             ],
             [
              0.3333333333333333,
              "#9c179e"
             ],
             [
              0.4444444444444444,
              "#bd3786"
             ],
             [
              0.5555555555555556,
              "#d8576b"
             ],
             [
              0.6666666666666666,
              "#ed7953"
             ],
             [
              0.7777777777777778,
              "#fb9f3a"
             ],
             [
              0.8888888888888888,
              "#fdca26"
             ],
             [
              1,
              "#f0f921"
             ]
            ],
            "type": "histogram2d"
           }
          ],
          "histogram2dcontour": [
           {
            "colorbar": {
             "outlinewidth": 0,
             "ticks": ""
            },
            "colorscale": [
             [
              0,
              "#0d0887"
             ],
             [
              0.1111111111111111,
              "#46039f"
             ],
             [
              0.2222222222222222,
              "#7201a8"
             ],
             [
              0.3333333333333333,
              "#9c179e"
             ],
             [
              0.4444444444444444,
              "#bd3786"
             ],
             [
              0.5555555555555556,
              "#d8576b"
             ],
             [
              0.6666666666666666,
              "#ed7953"
             ],
             [
              0.7777777777777778,
              "#fb9f3a"
             ],
             [
              0.8888888888888888,
              "#fdca26"
             ],
             [
              1,
              "#f0f921"
             ]
            ],
            "type": "histogram2dcontour"
           }
          ],
          "mesh3d": [
           {
            "colorbar": {
             "outlinewidth": 0,
             "ticks": ""
            },
            "type": "mesh3d"
           }
          ],
          "parcoords": [
           {
            "line": {
             "colorbar": {
              "outlinewidth": 0,
              "ticks": ""
             }
            },
            "type": "parcoords"
           }
          ],
          "pie": [
           {
            "automargin": true,
            "type": "pie"
           }
          ],
          "scatter": [
           {
            "fillpattern": {
             "fillmode": "overlay",
             "size": 10,
             "solidity": 0.2
            },
            "type": "scatter"
           }
          ],
          "scatter3d": [
           {
            "line": {
             "colorbar": {
              "outlinewidth": 0,
              "ticks": ""
             }
            },
            "marker": {
             "colorbar": {
              "outlinewidth": 0,
              "ticks": ""
             }
            },
            "type": "scatter3d"
           }
          ],
          "scattercarpet": [
           {
            "marker": {
             "colorbar": {
              "outlinewidth": 0,
              "ticks": ""
             }
            },
            "type": "scattercarpet"
           }
          ],
          "scattergeo": [
           {
            "marker": {
             "colorbar": {
              "outlinewidth": 0,
              "ticks": ""
             }
            },
            "type": "scattergeo"
           }
          ],
          "scattergl": [
           {
            "marker": {
             "colorbar": {
              "outlinewidth": 0,
              "ticks": ""
             }
            },
            "type": "scattergl"
           }
          ],
          "scattermapbox": [
           {
            "marker": {
             "colorbar": {
              "outlinewidth": 0,
              "ticks": ""
             }
            },
            "type": "scattermapbox"
           }
          ],
          "scatterpolar": [
           {
            "marker": {
             "colorbar": {
              "outlinewidth": 0,
              "ticks": ""
             }
            },
            "type": "scatterpolar"
           }
          ],
          "scatterpolargl": [
           {
            "marker": {
             "colorbar": {
              "outlinewidth": 0,
              "ticks": ""
             }
            },
            "type": "scatterpolargl"
           }
          ],
          "scatterternary": [
           {
            "marker": {
             "colorbar": {
              "outlinewidth": 0,
              "ticks": ""
             }
            },
            "type": "scatterternary"
           }
          ],
          "surface": [
           {
            "colorbar": {
             "outlinewidth": 0,
             "ticks": ""
            },
            "colorscale": [
             [
              0,
              "#0d0887"
             ],
             [
              0.1111111111111111,
              "#46039f"
             ],
             [
              0.2222222222222222,
              "#7201a8"
             ],
             [
              0.3333333333333333,
              "#9c179e"
             ],
             [
              0.4444444444444444,
              "#bd3786"
             ],
             [
              0.5555555555555556,
              "#d8576b"
             ],
             [
              0.6666666666666666,
              "#ed7953"
             ],
             [
              0.7777777777777778,
              "#fb9f3a"
             ],
             [
              0.8888888888888888,
              "#fdca26"
             ],
             [
              1,
              "#f0f921"
             ]
            ],
            "type": "surface"
           }
          ],
          "table": [
           {
            "cells": {
             "fill": {
              "color": "#EBF0F8"
             },
             "line": {
              "color": "white"
             }
            },
            "header": {
             "fill": {
              "color": "#C8D4E3"
             },
             "line": {
              "color": "white"
             }
            },
            "type": "table"
           }
          ]
         },
         "layout": {
          "annotationdefaults": {
           "arrowcolor": "#2a3f5f",
           "arrowhead": 0,
           "arrowwidth": 1
          },
          "autotypenumbers": "strict",
          "coloraxis": {
           "colorbar": {
            "outlinewidth": 0,
            "ticks": ""
           }
          },
          "colorscale": {
           "diverging": [
            [
             0,
             "#8e0152"
            ],
            [
             0.1,
             "#c51b7d"
            ],
            [
             0.2,
             "#de77ae"
            ],
            [
             0.3,
             "#f1b6da"
            ],
            [
             0.4,
             "#fde0ef"
            ],
            [
             0.5,
             "#f7f7f7"
            ],
            [
             0.6,
             "#e6f5d0"
            ],
            [
             0.7,
             "#b8e186"
            ],
            [
             0.8,
             "#7fbc41"
            ],
            [
             0.9,
             "#4d9221"
            ],
            [
             1,
             "#276419"
            ]
           ],
           "sequential": [
            [
             0,
             "#0d0887"
            ],
            [
             0.1111111111111111,
             "#46039f"
            ],
            [
             0.2222222222222222,
             "#7201a8"
            ],
            [
             0.3333333333333333,
             "#9c179e"
            ],
            [
             0.4444444444444444,
             "#bd3786"
            ],
            [
             0.5555555555555556,
             "#d8576b"
            ],
            [
             0.6666666666666666,
             "#ed7953"
            ],
            [
             0.7777777777777778,
             "#fb9f3a"
            ],
            [
             0.8888888888888888,
             "#fdca26"
            ],
            [
             1,
             "#f0f921"
            ]
           ],
           "sequentialminus": [
            [
             0,
             "#0d0887"
            ],
            [
             0.1111111111111111,
             "#46039f"
            ],
            [
             0.2222222222222222,
             "#7201a8"
            ],
            [
             0.3333333333333333,
             "#9c179e"
            ],
            [
             0.4444444444444444,
             "#bd3786"
            ],
            [
             0.5555555555555556,
             "#d8576b"
            ],
            [
             0.6666666666666666,
             "#ed7953"
            ],
            [
             0.7777777777777778,
             "#fb9f3a"
            ],
            [
             0.8888888888888888,
             "#fdca26"
            ],
            [
             1,
             "#f0f921"
            ]
           ]
          },
          "colorway": [
           "#636efa",
           "#EF553B",
           "#00cc96",
           "#ab63fa",
           "#FFA15A",
           "#19d3f3",
           "#FF6692",
           "#B6E880",
           "#FF97FF",
           "#FECB52"
          ],
          "font": {
           "color": "#2a3f5f"
          },
          "geo": {
           "bgcolor": "white",
           "lakecolor": "white",
           "landcolor": "#E5ECF6",
           "showlakes": true,
           "showland": true,
           "subunitcolor": "white"
          },
          "hoverlabel": {
           "align": "left"
          },
          "hovermode": "closest",
          "mapbox": {
           "style": "light"
          },
          "paper_bgcolor": "white",
          "plot_bgcolor": "#E5ECF6",
          "polar": {
           "angularaxis": {
            "gridcolor": "white",
            "linecolor": "white",
            "ticks": ""
           },
           "bgcolor": "#E5ECF6",
           "radialaxis": {
            "gridcolor": "white",
            "linecolor": "white",
            "ticks": ""
           }
          },
          "scene": {
           "xaxis": {
            "backgroundcolor": "#E5ECF6",
            "gridcolor": "white",
            "gridwidth": 2,
            "linecolor": "white",
            "showbackground": true,
            "ticks": "",
            "zerolinecolor": "white"
           },
           "yaxis": {
            "backgroundcolor": "#E5ECF6",
            "gridcolor": "white",
            "gridwidth": 2,
            "linecolor": "white",
            "showbackground": true,
            "ticks": "",
            "zerolinecolor": "white"
           },
           "zaxis": {
            "backgroundcolor": "#E5ECF6",
            "gridcolor": "white",
            "gridwidth": 2,
            "linecolor": "white",
            "showbackground": true,
            "ticks": "",
            "zerolinecolor": "white"
           }
          },
          "shapedefaults": {
           "line": {
            "color": "#2a3f5f"
           }
          },
          "ternary": {
           "aaxis": {
            "gridcolor": "white",
            "linecolor": "white",
            "ticks": ""
           },
           "baxis": {
            "gridcolor": "white",
            "linecolor": "white",
            "ticks": ""
           },
           "bgcolor": "#E5ECF6",
           "caxis": {
            "gridcolor": "white",
            "linecolor": "white",
            "ticks": ""
           }
          },
          "title": {
           "x": 0.05
          },
          "xaxis": {
           "automargin": true,
           "gridcolor": "white",
           "linecolor": "white",
           "ticks": "",
           "title": {
            "standoff": 15
           },
           "zerolinecolor": "white",
           "zerolinewidth": 2
          },
          "yaxis": {
           "automargin": true,
           "gridcolor": "white",
           "linecolor": "white",
           "ticks": "",
           "title": {
            "standoff": 15
           },
           "zerolinecolor": "white",
           "zerolinewidth": 2
          }
         }
        }
       }
      }
     },
     "metadata": {},
     "output_type": "display_data"
    }
   ],
   "source": [
    "px.pie(names=df_stories.index, values=df_stories[\"PropertyID\"])"
   ]
  },
  {
   "cell_type": "markdown",
   "metadata": {},
   "source": [
    "## Year_Built"
   ]
  },
  {
   "cell_type": "code",
   "execution_count": 124,
   "metadata": {},
   "outputs": [
    {
     "name": "stdout",
     "output_type": "stream",
     "text": [
      "NA values: 0\n",
      "Unique percentage: 0.99\n",
      "Unique absolute: 133\n"
     ]
    }
   ],
   "source": [
    "basis_statistical_values(df, \"Year_Built\")"
   ]
  },
  {
   "cell_type": "code",
   "execution_count": 1,
   "metadata": {},
   "outputs": [
    {
     "ename": "NameError",
     "evalue": "name 'sns' is not defined",
     "output_type": "error",
     "traceback": [
      "\u001b[1;31m---------------------------------------------------------------------------\u001b[0m",
      "\u001b[1;31mNameError\u001b[0m                                 Traceback (most recent call last)",
      "Cell \u001b[1;32mIn[1], line 1\u001b[0m\n\u001b[1;32m----> 1\u001b[0m \u001b[43msns\u001b[49m\u001b[38;5;241m.\u001b[39mkdeplot(df, x\u001b[38;5;241m=\u001b[39m\u001b[38;5;124m\"\u001b[39m\u001b[38;5;124mYear_Built\u001b[39m\u001b[38;5;124m\"\u001b[39m)\n",
      "\u001b[1;31mNameError\u001b[0m: name 'sns' is not defined"
     ]
    }
   ],
   "source": [
    "sns.kdeplot(df, x=\"Year_Built\")"
   ]
  }
 ],
 "metadata": {
  "kernelspec": {
   "display_name": "dev13",
   "language": "python",
   "name": "python3"
  },
  "language_info": {
   "codemirror_mode": {
    "name": "ipython",
    "version": 3
   },
   "file_extension": ".py",
   "mimetype": "text/x-python",
   "name": "python",
   "nbconvert_exporter": "python",
   "pygments_lexer": "ipython3",
   "version": "3.13.0"
  }
 },
 "nbformat": 4,
 "nbformat_minor": 2
}
